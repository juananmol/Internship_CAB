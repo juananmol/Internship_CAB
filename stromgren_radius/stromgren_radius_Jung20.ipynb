{
 "cells": [
  {
   "cell_type": "markdown",
   "id": "04a4e9f5-903e-447b-a7ca-8016152ef51f",
   "metadata": {},
   "source": [
    "# Prácticas ESAC: Strömgren Radius Jung20\n",
    "\n",
    "1. Extracted data from Jung20\n",
    "2. Filter in redshift\n",
    "3. Strömgen Radius\n",
    "\n",
    "   Appendix A: Saving data"
   ]
  },
  {
   "cell_type": "code",
   "execution_count": 9,
   "id": "f72847b6-98d6-456a-a3cc-d7c5baa11f4d",
   "metadata": {},
   "outputs": [],
   "source": [
    "# Paquetes\n",
    "from astropy.table import Table, QTable, unique\n",
    "from astropy.io import ascii\n",
    "import astropy.units as u\n",
    "import matplotlib.pyplot as plt\n",
    "import numpy as np\n",
    "import smplotlib\n",
    "from uncertainties import ufloat, unumpy\n",
    "import uncertainties.unumpy as unp\n",
    "from scipy.optimize import curve_fit\n",
    "from sklearn.metrics import r2_score\n",
    "import sys\n",
    "\n",
    "# Definimos Mpc en unidades propias comóviles\n",
    "pMpc = u.def_unit('pMpc')\n",
    "cMpc = u.def_unit('cMpc')"
   ]
  },
  {
   "cell_type": "markdown",
   "id": "0406f253-828b-4c2b-b536-ebe913a48c60",
   "metadata": {},
   "source": [
    "## 1. Extracted data from Jung20\n",
    "\n",
    "A continuación, importamos la _Table 1_ del paper 11 (Intae Jung et al. (2020)). Es posible que si busca esta tabla en internet no la encuentre puesto que aparece sólo en la versión 2 (v2) del paper (última versión a fecha en la que se escribe esto). "
   ]
  },
  {
   "cell_type": "code",
   "execution_count": 2,
   "id": "a4988b55-a0ef-4a4c-a07d-8bf1a39d451f",
   "metadata": {},
   "outputs": [
    {
     "data": {
      "text/html": [
       "<div><i>Table length=15</i>\n",
       "<table id=\"table132151489733552\" class=\"table-striped table-bordered table-condensed\">\n",
       "<thead><tr><th>ID</th><th>logFLya</th><th>e_logFLya</th><th>S/N</th><th>EW_Lya</th><th>E_EW_Lya</th><th>e_EW_Lya</th><th>z_Lya</th><th>e_z_Lya</th><th>logLLya</th><th>e_logLLya</th><th>HII_Radii</th><th>M_UV</th></tr></thead>\n",
       "<thead><tr><th></th><th>dex(erg / s)</th><th>dex(erg / s)</th><th></th><th>Angstrom</th><th>Angstrom</th><th>Angstrom</th><th></th><th></th><th>dex(erg / s)</th><th>dex(erg / s)</th><th>pMpc</th><th>mag</th></tr></thead>\n",
       "<thead><tr><th>str12</th><th>float64</th><th>float64</th><th>float64</th><th>float64</th><th>float64</th><th>float64</th><th>float64</th><th>float64</th><th>float64</th><th>float64</th><th>float64</th><th>float64</th></tr></thead>\n",
       "<tr><td>z7_GND_44088</td><td>-16.896</td><td>0.197</td><td>5.2</td><td>87.6</td><td>23.8</td><td>21.2</td><td>7.1335</td><td>0.0028</td><td>42.898</td><td>0.203</td><td>0.88</td><td>-19.9</td></tr>\n",
       "<tr><td>z8_GND_22233</td><td>-16.866</td><td>0.14</td><td>7.1</td><td>54.5</td><td>15.0</td><td>12.1</td><td>7.3444</td><td>0.002</td><td>42.959</td><td>0.16</td><td>0.92</td><td>-20.7</td></tr>\n",
       "<tr><td>z7_GND_18626</td><td>-17.585</td><td>0.231</td><td>4.6</td><td>26.8</td><td>14.9</td><td>9.8</td><td>7.4249</td><td>0.0013</td><td>42.255</td><td>0.222</td><td>0.52</td><td>-19.8</td></tr>\n",
       "<tr><td>z7_GND_42912</td><td>-16.836</td><td>0.089</td><td>10.8</td><td>33.2</td><td>4.3</td><td>4.0</td><td>7.5056</td><td>0.0007</td><td>43.009</td><td>0.088</td><td>0.96</td><td>-21.6</td></tr>\n",
       "<tr><td>z7_GND_6330</td><td>-17.387</td><td>0.171</td><td>6.1</td><td>15.9</td><td>4.4</td><td>3.7</td><td>7.546</td><td>0.0006</td><td>42.462</td><td>0.172</td><td>0.62</td><td>-20.7</td></tr>\n",
       "<tr><td>z7_GND_16863</td><td>-16.724</td><td>0.095</td><td>10.8</td><td>61.3</td><td>14.4</td><td>11.4</td><td>7.5989</td><td>0.0011</td><td>43.134</td><td>0.096</td><td>1.07</td><td>-21.2</td></tr>\n",
       "<tr><td>...</td><td>...</td><td>...</td><td>...</td><td>...</td><td>...</td><td>...</td><td>...</td><td>...</td><td>...</td><td>...</td><td>...</td><td>...</td></tr>\n",
       "<tr><td>z7_GND_10402</td><td>-17.495</td><td>0.25</td><td>4.0</td><td>6.7</td><td>2.7</td><td>2.2</td><td>7.9395</td><td>0.0023</td><td>42.415</td><td>0.231</td><td>0.59</td><td>-21.7</td></tr>\n",
       "<tr><td>z7_GND_6451</td><td>-17.167</td><td>0.309</td><td>3.2</td><td>43.2</td><td>17.2</td><td>15.1</td><td>7.2462</td><td>0.0045</td><td>42.643</td><td>0.318</td><td>0.72</td><td>-20.0</td></tr>\n",
       "<tr><td>z7_GND_45190</td><td>-17.509</td><td>0.29</td><td>3.4</td><td>22.9</td><td>13.7</td><td>9.3</td><td>7.265</td><td>0.0019</td><td>42.301</td><td>0.3</td><td>0.55</td><td>-20.4</td></tr>\n",
       "<tr><td>z8_GND_41470</td><td>-17.032</td><td>0.28</td><td>3.5</td><td>25.9</td><td>9.5</td><td>8.4</td><td>7.3115</td><td>0.0028</td><td>42.785</td><td>0.279</td><td>0.81</td><td>-21.2</td></tr>\n",
       "<tr><td>z8_GND_41247</td><td>-16.77</td><td>0.259</td><td>3.9</td><td>164.2</td><td>85.8</td><td>60.5</td><td>8.0356</td><td>0.0015</td><td>43.143</td><td>0.259</td><td>1.07</td><td>-20.2</td></tr>\n",
       "<tr><td>z7_GND_7157</td><td>-17.585</td><td>0.308</td><td>3.4</td><td>21.2</td><td>9.9</td><td>8.0</td><td>8.128</td><td>0.0016</td><td>42.342</td><td>0.318</td><td>0.56</td><td>-20.5</td></tr>\n",
       "</table></div>"
      ],
      "text/plain": [
       "<Table length=15>\n",
       "     ID        logFLya     e_logFLya   ...  e_logLLya   HII_Radii   M_UV \n",
       "             dex(erg / s) dex(erg / s) ... dex(erg / s)    pMpc     mag  \n",
       "   str12       float64      float64    ...   float64     float64  float64\n",
       "------------ ------------ ------------ ... ------------ --------- -------\n",
       "z7_GND_44088      -16.896        0.197 ...        0.203      0.88   -19.9\n",
       "z8_GND_22233      -16.866         0.14 ...         0.16      0.92   -20.7\n",
       "z7_GND_18626      -17.585        0.231 ...        0.222      0.52   -19.8\n",
       "z7_GND_42912      -16.836        0.089 ...        0.088      0.96   -21.6\n",
       " z7_GND_6330      -17.387        0.171 ...        0.172      0.62   -20.7\n",
       "z7_GND_16863      -16.724        0.095 ...        0.096      1.07   -21.2\n",
       "         ...          ...          ... ...          ...       ...     ...\n",
       "z7_GND_10402      -17.495         0.25 ...        0.231      0.59   -21.7\n",
       " z7_GND_6451      -17.167        0.309 ...        0.318      0.72   -20.0\n",
       "z7_GND_45190      -17.509         0.29 ...          0.3      0.55   -20.4\n",
       "z8_GND_41470      -17.032         0.28 ...        0.279      0.81   -21.2\n",
       "z8_GND_41247       -16.77        0.259 ...        0.259      1.07   -20.2\n",
       " z7_GND_7157      -17.585        0.308 ...        0.318      0.56   -20.5"
      ]
     },
     "execution_count": 2,
     "metadata": {},
     "output_type": "execute_result"
    }
   ],
   "source": [
    "# Creamos la tabla de datos de Jung20\n",
    "data_Jung20 = {\n",
    "    'ID': ['z7_GND_44088', 'z8_GND_22233', 'z7_GND_18626', 'z7_GND_42912', 'z7_GND_6330', 'z7_GND_16863', 'z7_GND_34204', 'z7_GND_7376', 'z7_GND_39781', 'z7_GND_10402','z7_GND_6451', 'z7_GND_45190', 'z8_GND_41470', 'z8_GND_41247', 'z7_GND_7157'],\n",
    "    'logFLya': np.round(np.log10([1.27*10**(-17), 1.36*10**(-17), 0.26*10**(-17), 1.46*10**(-17), 0.41*10**(-17), 1.89*10**(-17), 4.51*10**(-17), 0.26*10**(-17), 1.60*10**(-17), 0.32*10**(-17), 0.68*10**(-17), 0.31*10**(-17), 0.93*10**(-17), 1.70*10**(-17), 0.26*10**(-17)]),3)*u.dex(u.erg/u.s),\n",
    "    'e_logFLya': np.round([0.25/1.27, 0.19/1.36,0.06/0.26, 0.13/1.46, 0.07/0.41, 0.18/1.89, 0.57/4.51, 0.06/0.26, 0.35/1.60, 0.08/0.32,0.21/0.68, 0.09/0.31, 0.26/0.93, 0.44/1.70, 0.08/0.26],3)*u.dex(u.erg/u.s),\n",
    "    'S/N': [5.2, 7.1, 4.6, 10.8, 6.1, 10.8, 7.9, 4.1, 4.5, 4.0,3.2, 3.4, 3.5, 3.9, 3.4],\n",
    "    'EW_Lya': [87.6, 54.5, 26.8, 33.2, 15.9, 61.3, 279.7, 32.5, 123.9, 6.7,43.2, 22.9, 25.9, 164.2, 21.2]*u.angstrom,\n",
    "    'E_EW_Lya': [23.8, 15.0, 14.9, 4.3, 4.4, 14.4, 80.4, 23.0, 37.4, 2.7,17.2, 13.7, 9.5, 85.8, 9.9]*u.angstrom,\n",
    "    'e_EW_Lya': [21.2, 12.1, 9.8, 4.0, 3.7, 11.4, 62.5, 13.0, 32.9, 2.2,15.1, 9.3, 8.4, 60.5, 8.0]*u.angstrom,\n",
    "    'z_Lya': [7.1335, 7.3444, 7.4249, 7.5056, 7.5460, 7.5989, 7.6082, 7.7681, 7.8809, 7.9395,7.2462, 7.2650, 7.3115, 8.0356, 8.1280],\n",
    "    'e_z_Lya': [0.0028, 0.0020, 0.0013, 0.0007, 0.0006, 0.0011, 0.0030, 0.0024, 0.0018, 0.0023,0.0045, 0.0019, 0.0028, 0.0015, 0.0016],\n",
    "    'logLLya': np.round(np.log10([0.79*10**(43), 0.91*10**(43), 0.18*10**(43), 1.02*10**(43), 0.29*10**(43), 1.36*10**(43), 3.26*10**(43), 0.20*10**(43), 1.25*10**(43), 0.26*10**(43),0.44*10**(43), 0.20*10**(43), 0.61*10**(43), 1.39*10**(43), 0.22*10**(43)]),3)*u.dex(u.erg/u.s),\n",
    "    'e_logLLya': np.round([0.16/0.79, 0.13/0.81, 0.04/0.18, 0.09/1.02, 0.05/0.29, 0.13/1.36, 0.41/3.26, 0.05/0.20, 0.27/1.25, 0.06/0.26,0.14/0.44, 0.06/0.20, 0.17/0.61, 0.36/1.39, 0.07/0.22],3)*u.dex(u.erg/u.s),\n",
    "    'HII_Radii': [0.88, 0.92, 0.52, 0.96, 0.62, 1.07, 1.44, 0.54, 1.04, 0.59,0.72, 0.55, 0.81, 1.07, 0.56]*pMpc,\n",
    "    'M_UV': [-19.9, -20.7, -19.8, -21.6, -20.7, -21.2, -20.4, -19.5, -20.2, -21.7,-20.0, -20.4, -21.2, -20.2, -20.5]*u.mag,\n",
    "}\n",
    "\n",
    "Jung20 = Table(data_Jung20)\n",
    "Jung20"
   ]
  },
  {
   "cell_type": "markdown",
   "id": "6ec40f35-b0af-4719-adba-30f859dc4996",
   "metadata": {},
   "source": [
    "## 2. Filter in redshift\n",
    "\n",
    "Utilzaremos los datos de Hu18 para la realización de este cuaderno escogiendo únicamente aquellas galaxias con z > 6, puesto que estas son las únicas para las cuales el Universo todavía no estaba completamente reionizado y por tanto, estas esferas tenían un tamaño finito (no ocupaban todo el universo). "
   ]
  },
  {
   "cell_type": "code",
   "execution_count": 3,
   "id": "124a9ae5-bf49-4761-839b-dc270b8b6aa0",
   "metadata": {},
   "outputs": [
    {
     "data": {
      "text/html": [
       "<div><i>Table length=15</i>\n",
       "<table id=\"table132151489727648\" class=\"table-striped table-bordered table-condensed\">\n",
       "<thead><tr><th>ID</th><th>logFLya</th><th>e_logFLya</th><th>S/N</th><th>EW_Lya</th><th>E_EW_Lya</th><th>e_EW_Lya</th><th>z_Lya</th><th>e_z_Lya</th><th>logLLya</th><th>e_logLLya</th><th>HII_Radii</th><th>M_UV</th></tr></thead>\n",
       "<thead><tr><th></th><th>dex(erg / s)</th><th>dex(erg / s)</th><th></th><th>Angstrom</th><th>Angstrom</th><th>Angstrom</th><th></th><th></th><th>dex(erg / s)</th><th>dex(erg / s)</th><th>pMpc</th><th>mag</th></tr></thead>\n",
       "<thead><tr><th>str12</th><th>float64</th><th>float64</th><th>float64</th><th>float64</th><th>float64</th><th>float64</th><th>float64</th><th>float64</th><th>float64</th><th>float64</th><th>float64</th><th>float64</th></tr></thead>\n",
       "<tr><td>z7_GND_44088</td><td>-16.896</td><td>0.197</td><td>5.2</td><td>87.6</td><td>23.8</td><td>21.2</td><td>7.1335</td><td>0.0028</td><td>42.898</td><td>0.203</td><td>0.88</td><td>-19.9</td></tr>\n",
       "<tr><td>z8_GND_22233</td><td>-16.866</td><td>0.14</td><td>7.1</td><td>54.5</td><td>15.0</td><td>12.1</td><td>7.3444</td><td>0.002</td><td>42.959</td><td>0.16</td><td>0.92</td><td>-20.7</td></tr>\n",
       "<tr><td>z7_GND_18626</td><td>-17.585</td><td>0.231</td><td>4.6</td><td>26.8</td><td>14.9</td><td>9.8</td><td>7.4249</td><td>0.0013</td><td>42.255</td><td>0.222</td><td>0.52</td><td>-19.8</td></tr>\n",
       "<tr><td>z7_GND_42912</td><td>-16.836</td><td>0.089</td><td>10.8</td><td>33.2</td><td>4.3</td><td>4.0</td><td>7.5056</td><td>0.0007</td><td>43.009</td><td>0.088</td><td>0.96</td><td>-21.6</td></tr>\n",
       "<tr><td>z7_GND_6330</td><td>-17.387</td><td>0.171</td><td>6.1</td><td>15.9</td><td>4.4</td><td>3.7</td><td>7.546</td><td>0.0006</td><td>42.462</td><td>0.172</td><td>0.62</td><td>-20.7</td></tr>\n",
       "<tr><td>z7_GND_16863</td><td>-16.724</td><td>0.095</td><td>10.8</td><td>61.3</td><td>14.4</td><td>11.4</td><td>7.5989</td><td>0.0011</td><td>43.134</td><td>0.096</td><td>1.07</td><td>-21.2</td></tr>\n",
       "<tr><td>...</td><td>...</td><td>...</td><td>...</td><td>...</td><td>...</td><td>...</td><td>...</td><td>...</td><td>...</td><td>...</td><td>...</td><td>...</td></tr>\n",
       "<tr><td>z7_GND_10402</td><td>-17.495</td><td>0.25</td><td>4.0</td><td>6.7</td><td>2.7</td><td>2.2</td><td>7.9395</td><td>0.0023</td><td>42.415</td><td>0.231</td><td>0.59</td><td>-21.7</td></tr>\n",
       "<tr><td>z7_GND_6451</td><td>-17.167</td><td>0.309</td><td>3.2</td><td>43.2</td><td>17.2</td><td>15.1</td><td>7.2462</td><td>0.0045</td><td>42.643</td><td>0.318</td><td>0.72</td><td>-20.0</td></tr>\n",
       "<tr><td>z7_GND_45190</td><td>-17.509</td><td>0.29</td><td>3.4</td><td>22.9</td><td>13.7</td><td>9.3</td><td>7.265</td><td>0.0019</td><td>42.301</td><td>0.3</td><td>0.55</td><td>-20.4</td></tr>\n",
       "<tr><td>z8_GND_41470</td><td>-17.032</td><td>0.28</td><td>3.5</td><td>25.9</td><td>9.5</td><td>8.4</td><td>7.3115</td><td>0.0028</td><td>42.785</td><td>0.279</td><td>0.81</td><td>-21.2</td></tr>\n",
       "<tr><td>z8_GND_41247</td><td>-16.77</td><td>0.259</td><td>3.9</td><td>164.2</td><td>85.8</td><td>60.5</td><td>8.0356</td><td>0.0015</td><td>43.143</td><td>0.259</td><td>1.07</td><td>-20.2</td></tr>\n",
       "<tr><td>z7_GND_7157</td><td>-17.585</td><td>0.308</td><td>3.4</td><td>21.2</td><td>9.9</td><td>8.0</td><td>8.128</td><td>0.0016</td><td>42.342</td><td>0.318</td><td>0.56</td><td>-20.5</td></tr>\n",
       "</table></div>"
      ],
      "text/plain": [
       "<Table length=15>\n",
       "     ID        logFLya     e_logFLya   ...  e_logLLya   HII_Radii   M_UV \n",
       "             dex(erg / s) dex(erg / s) ... dex(erg / s)    pMpc     mag  \n",
       "   str12       float64      float64    ...   float64     float64  float64\n",
       "------------ ------------ ------------ ... ------------ --------- -------\n",
       "z7_GND_44088      -16.896        0.197 ...        0.203      0.88   -19.9\n",
       "z8_GND_22233      -16.866         0.14 ...         0.16      0.92   -20.7\n",
       "z7_GND_18626      -17.585        0.231 ...        0.222      0.52   -19.8\n",
       "z7_GND_42912      -16.836        0.089 ...        0.088      0.96   -21.6\n",
       " z7_GND_6330      -17.387        0.171 ...        0.172      0.62   -20.7\n",
       "z7_GND_16863      -16.724        0.095 ...        0.096      1.07   -21.2\n",
       "         ...          ...          ... ...          ...       ...     ...\n",
       "z7_GND_10402      -17.495         0.25 ...        0.231      0.59   -21.7\n",
       " z7_GND_6451      -17.167        0.309 ...        0.318      0.72   -20.0\n",
       "z7_GND_45190      -17.509         0.29 ...          0.3      0.55   -20.4\n",
       "z8_GND_41470      -17.032         0.28 ...        0.279      0.81   -21.2\n",
       "z8_GND_41247       -16.77        0.259 ...        0.259      1.07   -20.2\n",
       " z7_GND_7157      -17.585        0.308 ...        0.318      0.56   -20.5"
      ]
     },
     "execution_count": 3,
     "metadata": {},
     "output_type": "execute_result"
    }
   ],
   "source": [
    "Jung20_filter = Jung20[Jung20['z_Lya'] > 6]\n",
    "Jung20_filter"
   ]
  },
  {
   "cell_type": "markdown",
   "id": "9e0bc557-1d15-48ed-9a74-d603c3e4b5e0",
   "metadata": {},
   "source": [
    "## 3. Strömgen Radius\n",
    "\n",
    "Ya es el momento de estimar el radio de Strömgen, o mejor dicho, el límite superior al tamaño de estas burbujas para cada galaxia a z > 6. Este radio se define como:\n",
    "\n",
    "$$\n",
    "\\begin{equation}\n",
    "    R_s = \\left(\\frac{3 \\dot{N}_{ion}}{4\\pi C_H \\langle n_H \\rangle ^ 2 \\alpha_B}\\right)^{1/3}\n",
    "\\end{equation}\n",
    "$$\n",
    "\n",
    "donde $\\dot{N}_{ion}$ se corresponde con el número de fotones del continuo ionizante, según las definciones en [Reionized-Bubble-published](https://watermark.silverchair.com/mnrasl_495_1_l17.pdf?token=AQECAHi208BE49Ooan9kkhW_Ercy7Dm3ZL_9Cf3qfKAc485ysgAAA3UwggNxBgkqhkiG9w0BBwagggNiMIIDXgIBADCCA1cGCSqGSIb3DQEHATAeBglghkgBZQMEAS4wEQQMesIRyAw1IMhjJgxLAgEQgIIDKNLnPEZWRv4H07eC47gxYs3YVUGv5PmSrfVEViCuE9OGjq7ro9MHhMyPmAakzFX36UUoujJ_iE9CnliM-I7rMh4z7mOeffZzdY6hfOyq00dea8-Lq1pWKHV4W24VMD60GNXdkNjd2aavHQncseS1xETCLGjWV75goKbuh_yg9nXTHI6v6S2MA0fKTlzk56zTvu3069rRq-WpUdLuyv0U6NSQNNtqfWMR468NbLLTfIHve9wfcSxGB-iHQiIJD0nQVAkDzO-LT1nxBzsiES0EvVeGqMNtyfLWRrMX8NxIJaaGEljDw5QQtk3ogx7j5QCeYpUBYY7__mlZBc8-pdDzOQ5ALXsasW69Qkf1sSmFzIvTPaMEK9YUN8axtA9iJViI5U33clBDs8xa0nJi5GA1IsnB9Elr1WP06eTj6v-HQeNqO5w4vP9vKIYTsDRvFzuu6U-Ok0Kw0aH2ybnJAVYQ8qfFRo29CcuPwsu8UVwCpISBnRl-269GGOHYzPoEzJrp_dWBnvXTYh6TTl0178RJhmDySOlH5Ie4tMfe-dp4cdQnhl0z-x4MQRIG_SDb3Xo-crH844EffwRQ5EnsktfdoMwXXvndvakMYFzSCSYEnJU1ZhMCUPH3IeyMQS1IXNM05Qm8QGW1OlUrqIvLDMjlCZeWptQ6X7mX5lX9jph4M9eKAelJw-dZjqlhm6NHjGS7FjhfsczkoehMAi87W5bm6FPbQlTpzEdDoNfMcc3GPH1SEbdltmN8j6TrfTA5pk2JFqntSzJJC99DHJzDeSWGumc1zg4FrP7vkUC4yAGgoMsSac6IL_SpwXEKc9sKB9ezu5PVy4NrWL7sc-xSmau0sVn8g_wP25TePV25N4Z8GxAE1cV_PPHKOFJU21pomgFaZdxyPxENLoyx9v64JuoXhi48PWuV9V1JPAXatkS2q3VTz5hRGiUD9nxqy7DbU6jVmZwqErVDNamfyN_0H7VxMEOm5sa65jZyHaGtyknwQq6fktLmskgK_kmotgnM2rZWexXFBGzK5USVEwHe-iA7Ri0pKvudfX8MtFVjs8HZGOqBvO118nGdD3Q). Esto es,\n",
    "\n",
    "$$\n",
    "\\begin{equation}\n",
    "    \\dot{N}_{ion} = \\frac{Q_{ion}}{1-f_{esc,LyC}} \\cdot f_{esc,LyC}\n",
    "\\end{equation}\n",
    "$$\n",
    "\n",
    "donde $Q_{ion}$ se corresponde con los valores de $10^{logN_{ion}}$ de la tabla de Kerutt22 $\\textbf{(cuidado con la notación)}$. Se asume $f_{esc,LyC} = 0.2$, valor estimador por diversos autores. \n",
    "\n",
    "Para realizar este cálculo, vamos a crear una función que lo calcule directamente a partir de la anchura equivalente (en angstroms), el logaritmo en base 10 de la luminosidad observada de la línea de lymann alpha (en dex(erg/s) y el redsfhit (adimensional). "
   ]
  },
  {
   "cell_type": "code",
   "execution_count": 4,
   "id": "51bac9ad-272b-47c5-8c67-259892d7832b",
   "metadata": {},
   "outputs": [],
   "source": [
    "# Strömgen radius calculation using equivalent width (EW), log10(observed luminosity of Lymann alpha) and redshift\n",
    "# Units: EW in angstroms; logLLya in dex(erg/s); z (adimensional)\n",
    "def R_s(EW, E_EW, e_EW, logLLya, e_logLLya, redshift):\n",
    "\n",
    "    # recombination coefficinet for T_e = 10⁴K\n",
    "    alphaB = 8.8 * 10**(-87)\n",
    "\n",
    "    # C_H(z) parameter\n",
    "    def C_H(redshift):\n",
    "        z_values = [6 ,7 , 8]\n",
    "        C_H_values = [2.37, 2.28, 2.19]\n",
    "        C_H = np.interp(redshift, z_values,C_H_values) \n",
    "        return C_H\n",
    "\n",
    "    # Hydrogen density\n",
    "    def n_H (redshift):\n",
    "        n_H = 5.878 * 10**66 * (1+redshift)**3\n",
    "        return n_H\n",
    "\n",
    "    # Escape fraction of Lymann alpha\n",
    "    f_esc_Lya = []\n",
    "\n",
    "    for i in range(len(EW)):\n",
    "        if 0 <= EW[i] <= 200:\n",
    "            f_esc_Lya.append(0.0048*EW[i])\n",
    "        else:\n",
    "            f_esc_Lya.append(1)\n",
    "\n",
    "    e_f_esc_Lya = 0.0048 * e_EW\n",
    "    E_f_esc_Lya = 0.0048 * E_EW\n",
    "\n",
    "    # log10(intrisic luminosity of Lymann alpha)\n",
    "    logLLya_int = np.log10(10**logLLya/f_esc_Lya)\n",
    "    e_logLLya_int = np.sqrt( ((e_logLLya*np.log(10)*10**logLLya)/f_esc_Lya)**2 + (e_f_esc_Lya/(10**logLLya))** 2); e_logLLya_int = e_logLLya_int / (10**logLLya * np.log(10))\n",
    "    E_logLLya_int = np.sqrt( ((e_logLLya*np.log(10)*10**logLLya)/f_esc_Lya)**2 + (E_f_esc_Lya/(10**logLLya))** 2); E_logLLya_int = E_logLLya_int / (10**logLLya * np.log(10))\n",
    "    \n",
    "    # Effective number of ionizinz continuum photones per second\n",
    "    logQ_ion = np.log10(10**logLLya_int / (1.19*10**(-11)))\n",
    "    e_logQ_ion = (1/np.log(10)) * (1/10**logQ_ion) * ((e_logLLya_int*np.log(10)*10**logLLya_int)/(1.19*10**(-11)))\n",
    "    E_logQ_ion = (1/np.log(10)) * (1/10**logQ_ion) * ((E_logLLya_int*np.log(10)*10**logLLya_int)/(1.19*10**(-11)))\n",
    "\n",
    "    # Nuber of ionizing continuum photones that participate in reionizing the IGM\n",
    "    f_esc_LyC = 0.2 # assumed f_esc_LyC\n",
    "    N_ion = (10**logQ_ion) / (1 - f_esc_LyC) * f_esc_LyC\n",
    "    e_logN_ion = (1/np.log(10)) * (1/N_ion) * (e_logQ_ion*np.log(10)*10**logQ_ion) * f_esc_LyC / (1 - f_esc_LyC)\n",
    "    E_logN_ion = (1/np.log(10)) * (1/N_ion) * (E_logQ_ion*np.log(10)*10**logQ_ion) * f_esc_LyC / (1 - f_esc_LyC)\n",
    "\n",
    "    # Strömgen radius (proper)\n",
    "    R_s = (3 * N_ion / (4 * np.pi * C_H(redshift) * n_H(redshift)**2 * alphaB))**(1/3)\n",
    "    e_R_s = 1/3 * (3 * (e_logN_ion * np.log(10) * N_ion) / (4 * np.pi * C_H(redshift) * n_H(redshift)**2 * alphaB)) * (3 * (N_ion) / (4 * np.pi * C_H(redshift) * n_H(redshift)**2 * alphaB))**(-2/3)\n",
    "    E_R_s = 1/3 * (3 * (E_logN_ion * np.log(10) * N_ion) / (4 * np.pi * C_H(redshift) * n_H(redshift)**2 * alphaB)) * (3 * (N_ion) / (4 * np.pi * C_H(redshift) * n_H(redshift)**2 * alphaB))**(-2/3)\n",
    "\n",
    "    # Strömgen radius (comovil)\n",
    "    R_s_com = (1 + redshift) * R_s\n",
    "    e_R_s_com = (1 + redshift) * e_R_s\n",
    "    E_R_s_com = (1 + redshift) * E_R_s\n",
    "    \n",
    "    return np.round(R_s,3) * pMpc, np.round(R_s_com,3) * cMpc, np.round(f_esc_Lya,3), np.round(logLLya_int,3) * u.dex(u.erg / u.s), np.round(logQ_ion,3)  * u.dex(1 / u.s), np.round(EW,2)  * u.angstrom, np.round(np.log10(N_ion),3) * u.dex(1 / u.s), np.round(e_f_esc_Lya,3), np.round(E_f_esc_Lya,3), np.round(e_logLLya_int,33) * u.dex(u.erg / u.s), np.round(E_logLLya_int,33) * u.dex(u.erg / u.s), np.round(e_logN_ion,3) * u.dex(1 / u.s), np.round(E_logN_ion,3) * u.dex(1 / u.s), np.round(e_R_s,3) * pMpc, np.round(E_R_s,3) * pMpc, np.round(e_R_s_com,3) * cMpc, np.round(E_R_s_com,3) * cMpc"
   ]
  },
  {
   "cell_type": "code",
   "execution_count": 5,
   "id": "18405c30-10b1-4215-8e62-a9ab749fe671",
   "metadata": {},
   "outputs": [
    {
     "data": {
      "text/html": [
       "<div><i>Table length=15</i>\n",
       "<table id=\"table132151489727648\" class=\"table-striped table-bordered table-condensed\">\n",
       "<thead><tr><th>ID</th><th>logFLya</th><th>e_logFLya</th><th>S/N</th><th>EW_Lya</th><th>E_EW_Lya</th><th>e_EW_Lya</th><th>z_Lya</th><th>e_z_Lya</th><th>logLLya</th><th>e_logLLya</th><th>HII_Radii</th><th>M_UV</th><th>R_s</th><th>e_R_s</th><th>E_R_s</th><th>R_s_com</th><th>e_R_s_com</th><th>E_R_s_com</th><th>f_esc_Lya</th><th>e_f_esc_Lya</th><th>E_f_esc_Lya</th><th>logLLya_int</th><th>e_logLLya_int</th><th>E_logLLya_int</th><th>logN_ion</th><th>e_logN_ion</th><th>E_logN_ion</th></tr></thead>\n",
       "<thead><tr><th></th><th>dex(erg / s)</th><th>dex(erg / s)</th><th></th><th>Angstrom</th><th>Angstrom</th><th>Angstrom</th><th></th><th></th><th>dex(erg / s)</th><th>dex(erg / s)</th><th>pMpc</th><th>mag</th><th>pMpc</th><th>pMpc</th><th>pMpc</th><th>cMpc</th><th>cMpc</th><th>cMpc</th><th></th><th></th><th></th><th>dex(erg / s)</th><th>dex(erg / s)</th><th>dex(erg / s)</th><th>dex(1 / s)</th><th>dex(1 / s)</th><th>dex(1 / s)</th></tr></thead>\n",
       "<thead><tr><th>str12</th><th>float64</th><th>float64</th><th>float64</th><th>float64</th><th>float64</th><th>float64</th><th>float64</th><th>float64</th><th>float64</th><th>float64</th><th>float64</th><th>float64</th><th>float64</th><th>float64</th><th>float64</th><th>float64</th><th>float64</th><th>float64</th><th>float64</th><th>float64</th><th>float64</th><th>float64</th><th>float64</th><th>float64</th><th>float64</th><th>float64</th><th>float64</th></tr></thead>\n",
       "<tr><td>z7_GND_44088</td><td>-16.896</td><td>0.197</td><td>5.2</td><td>87.6</td><td>23.8</td><td>21.2</td><td>7.1335</td><td>0.0028</td><td>42.898</td><td>0.203</td><td>0.88</td><td>-19.9</td><td>0.779</td><td>0.289</td><td>0.289</td><td>6.335</td><td>2.347</td><td>2.347</td><td>0.42</td><td>0.102</td><td>0.114</td><td>43.274</td><td>0.4827815829528159</td><td>0.4827815829528159</td><td>53.597</td><td>0.483</td><td>0.483</td></tr>\n",
       "<tr><td>z8_GND_22233</td><td>-16.866</td><td>0.14</td><td>7.1</td><td>54.5</td><td>15.0</td><td>12.1</td><td>7.3444</td><td>0.002</td><td>42.959</td><td>0.16</td><td>0.92</td><td>-20.7</td><td>0.911</td><td>0.428</td><td>0.428</td><td>7.601</td><td>3.568</td><td>3.568</td><td>0.262</td><td>0.058</td><td>0.072</td><td>43.541</td><td>0.6116207951070336</td><td>0.6116207951070336</td><td>53.864</td><td>0.612</td><td>0.612</td></tr>\n",
       "<tr><td>z7_GND_18626</td><td>-17.585</td><td>0.231</td><td>4.6</td><td>26.8</td><td>14.9</td><td>9.8</td><td>7.4249</td><td>0.0013</td><td>42.255</td><td>0.222</td><td>0.52</td><td>-19.8</td><td>0.66</td><td>0.874</td><td>0.874</td><td>5.562</td><td>7.367</td><td>7.367</td><td>0.129</td><td>0.047</td><td>0.072</td><td>43.146</td><td>1.7257462686567162</td><td>1.7257462686567162</td><td>53.468</td><td>1.726</td><td>1.726</td></tr>\n",
       "<tr><td>z7_GND_42912</td><td>-16.836</td><td>0.089</td><td>10.8</td><td>33.2</td><td>4.3</td><td>4.0</td><td>7.5056</td><td>0.0007</td><td>43.009</td><td>0.088</td><td>0.96</td><td>-21.6</td><td>1.077</td><td>0.456</td><td>0.456</td><td>9.16</td><td>3.882</td><td>3.882</td><td>0.159</td><td>0.019</td><td>0.021</td><td>43.807</td><td>0.5522088353413656</td><td>0.5522088353413656</td><td>54.129</td><td>0.552</td><td>0.552</td></tr>\n",
       "<tr><td>z7_GND_6330</td><td>-17.387</td><td>0.171</td><td>6.1</td><td>15.9</td><td>4.4</td><td>3.7</td><td>7.546</td><td>0.0006</td><td>42.462</td><td>0.172</td><td>0.62</td><td>-20.7</td><td>0.897</td><td>1.551</td><td>1.551</td><td>7.662</td><td>13.253</td><td>13.253</td><td>0.076</td><td>0.018</td><td>0.021</td><td>43.579</td><td>2.2536687631027252</td><td>2.2536687631027252</td><td>53.902</td><td>2.254</td><td>2.254</td></tr>\n",
       "<tr><td>z7_GND_16863</td><td>-16.724</td><td>0.095</td><td>10.8</td><td>61.3</td><td>14.4</td><td>11.4</td><td>7.5989</td><td>0.0011</td><td>43.134</td><td>0.096</td><td>1.07</td><td>-21.2</td><td>0.947</td><td>0.237</td><td>0.237</td><td>8.139</td><td>2.038</td><td>2.038</td><td>0.294</td><td>0.055</td><td>0.069</td><td>43.665</td><td>0.32626427406199027</td><td>0.32626427406199027</td><td>53.988</td><td>0.326</td><td>0.326</td></tr>\n",
       "<tr><td>...</td><td>...</td><td>...</td><td>...</td><td>...</td><td>...</td><td>...</td><td>...</td><td>...</td><td>...</td><td>...</td><td>...</td><td>...</td><td>...</td><td>...</td><td>...</td><td>...</td><td>...</td><td>...</td><td>...</td><td>...</td><td>...</td><td>...</td><td>...</td><td>...</td><td>...</td><td>...</td><td>...</td></tr>\n",
       "<tr><td>z7_GND_10402</td><td>-17.495</td><td>0.25</td><td>4.0</td><td>6.7</td><td>2.7</td><td>2.2</td><td>7.9395</td><td>0.0023</td><td>42.415</td><td>0.231</td><td>0.59</td><td>-21.7</td><td>1.06</td><td>5.843</td><td>5.843</td><td>9.474</td><td>52.23</td><td>52.23</td><td>0.032</td><td>0.011</td><td>0.013</td><td>43.908</td><td>7.182835820895523</td><td>7.182835820895523</td><td>54.23</td><td>7.183</td><td>7.183</td></tr>\n",
       "<tr><td>z7_GND_6451</td><td>-17.167</td><td>0.309</td><td>3.2</td><td>43.2</td><td>17.2</td><td>15.1</td><td>7.2462</td><td>0.0045</td><td>42.643</td><td>0.318</td><td>0.72</td><td>-20.0</td><td>0.79</td><td>0.93</td><td>0.93</td><td>6.512</td><td>7.665</td><td>7.665</td><td>0.207</td><td>0.072</td><td>0.083</td><td>43.326</td><td>1.533564814814815</td><td>1.533564814814815</td><td>53.649</td><td>1.534</td><td>1.534</td></tr>\n",
       "<tr><td>z7_GND_45190</td><td>-17.509</td><td>0.29</td><td>3.4</td><td>22.9</td><td>13.7</td><td>9.3</td><td>7.265</td><td>0.0019</td><td>42.301</td><td>0.3</td><td>0.55</td><td>-20.4</td><td>0.747</td><td>1.565</td><td>1.565</td><td>6.176</td><td>12.938</td><td>12.938</td><td>0.11</td><td>0.045</td><td>0.066</td><td>43.26</td><td>2.729257641921398</td><td>2.729257641921398</td><td>53.582</td><td>2.729</td><td>2.729</td></tr>\n",
       "<tr><td>z8_GND_41470</td><td>-17.032</td><td>0.28</td><td>3.5</td><td>25.9</td><td>9.5</td><td>8.4</td><td>7.3115</td><td>0.0028</td><td>42.785</td><td>0.279</td><td>0.81</td><td>-21.2</td><td>1.029</td><td>1.772</td><td>1.772</td><td>8.552</td><td>14.731</td><td>14.731</td><td>0.124</td><td>0.04</td><td>0.046</td><td>43.69</td><td>2.244208494208494</td><td>2.244208494208494</td><td>54.013</td><td>2.244</td><td>2.244</td></tr>\n",
       "<tr><td>z8_GND_41247</td><td>-16.77</td><td>0.259</td><td>3.9</td><td>164.2</td><td>85.8</td><td>60.5</td><td>8.0356</td><td>0.0015</td><td>43.143</td><td>0.259</td><td>1.07</td><td>-20.2</td><td>0.625</td><td>0.158</td><td>0.158</td><td>5.647</td><td>1.424</td><td>1.424</td><td>0.788</td><td>0.29</td><td>0.412</td><td>43.246</td><td>0.32861347949654895</td><td>0.32861347949654895</td><td>53.569</td><td>0.329</td><td>0.329</td></tr>\n",
       "<tr><td>z7_GND_7157</td><td>-17.585</td><td>0.308</td><td>3.4</td><td>21.2</td><td>9.9</td><td>8.0</td><td>8.128</td><td>0.0016</td><td>42.342</td><td>0.318</td><td>0.56</td><td>-20.5</td><td>0.655</td><td>1.571</td><td>1.571</td><td>5.981</td><td>14.344</td><td>14.344</td><td>0.102</td><td>0.038</td><td>0.048</td><td>43.334</td><td>3.125</td><td>3.125</td><td>53.657</td><td>3.125</td><td>3.125</td></tr>\n",
       "</table></div>"
      ],
      "text/plain": [
       "<Table length=15>\n",
       "     ID        logFLya     e_logFLya   ...  logN_ion  e_logN_ion E_logN_ion\n",
       "             dex(erg / s) dex(erg / s) ... dex(1 / s) dex(1 / s) dex(1 / s)\n",
       "   str12       float64      float64    ...  float64    float64    float64  \n",
       "------------ ------------ ------------ ... ---------- ---------- ----------\n",
       "z7_GND_44088      -16.896        0.197 ...     53.597      0.483      0.483\n",
       "z8_GND_22233      -16.866         0.14 ...     53.864      0.612      0.612\n",
       "z7_GND_18626      -17.585        0.231 ...     53.468      1.726      1.726\n",
       "z7_GND_42912      -16.836        0.089 ...     54.129      0.552      0.552\n",
       " z7_GND_6330      -17.387        0.171 ...     53.902      2.254      2.254\n",
       "z7_GND_16863      -16.724        0.095 ...     53.988      0.326      0.326\n",
       "         ...          ...          ... ...        ...        ...        ...\n",
       "z7_GND_10402      -17.495         0.25 ...      54.23      7.183      7.183\n",
       " z7_GND_6451      -17.167        0.309 ...     53.649      1.534      1.534\n",
       "z7_GND_45190      -17.509         0.29 ...     53.582      2.729      2.729\n",
       "z8_GND_41470      -17.032         0.28 ...     54.013      2.244      2.244\n",
       "z8_GND_41247       -16.77        0.259 ...     53.569      0.329      0.329\n",
       " z7_GND_7157      -17.585        0.308 ...     53.657      3.125      3.125"
      ]
     },
     "execution_count": 5,
     "metadata": {},
     "output_type": "execute_result"
    }
   ],
   "source": [
    "Jung20_filter['R_s'] = R_s(Jung20_filter['EW_Lya'],Jung20_filter['E_EW_Lya'],Jung20_filter['e_EW_Lya'],Jung20_filter['logLLya'],Jung20_filter['e_logLLya'],Jung20_filter['z_Lya'])[0]\n",
    "Jung20_filter['e_R_s'] = R_s(Jung20_filter['EW_Lya'],Jung20_filter['E_EW_Lya'],Jung20_filter['e_EW_Lya'],Jung20_filter['logLLya'],Jung20_filter['e_logLLya'],Jung20_filter['z_Lya'])[13]\n",
    "Jung20_filter['E_R_s'] = R_s(Jung20_filter['EW_Lya'],Jung20_filter['E_EW_Lya'],Jung20_filter['e_EW_Lya'],Jung20_filter['logLLya'],Jung20_filter['e_logLLya'],Jung20_filter['z_Lya'])[14]\n",
    "Jung20_filter['R_s_com'] = R_s(Jung20_filter['EW_Lya'],Jung20_filter['E_EW_Lya'],Jung20_filter['e_EW_Lya'],Jung20_filter['logLLya'],Jung20_filter['e_logLLya'],Jung20_filter['z_Lya'])[1]\n",
    "Jung20_filter['e_R_s_com'] = R_s(Jung20_filter['EW_Lya'],Jung20_filter['E_EW_Lya'],Jung20_filter['e_EW_Lya'],Jung20_filter['logLLya'],Jung20_filter['e_logLLya'],Jung20_filter['z_Lya'])[15]\n",
    "Jung20_filter['E_R_s_com'] = R_s(Jung20_filter['EW_Lya'],Jung20_filter['E_EW_Lya'],Jung20_filter['e_EW_Lya'],Jung20_filter['logLLya'],Jung20_filter['e_logLLya'],Jung20_filter['z_Lya'])[16]\n",
    "Jung20_filter['f_esc_Lya'] = R_s(Jung20_filter['EW_Lya'],Jung20_filter['E_EW_Lya'],Jung20_filter['e_EW_Lya'],Jung20_filter['logLLya'],Jung20_filter['e_logLLya'],Jung20_filter['z_Lya'])[2]\n",
    "Jung20_filter['e_f_esc_Lya'] = R_s(Jung20_filter['EW_Lya'],Jung20_filter['E_EW_Lya'],Jung20_filter['e_EW_Lya'],Jung20_filter['logLLya'],Jung20_filter['e_logLLya'],Jung20_filter['z_Lya'])[7]\n",
    "Jung20_filter['E_f_esc_Lya'] = R_s(Jung20_filter['EW_Lya'],Jung20_filter['E_EW_Lya'],Jung20_filter['e_EW_Lya'],Jung20_filter['logLLya'],Jung20_filter['e_logLLya'],Jung20_filter['z_Lya'])[8]\n",
    "Jung20_filter['logLLya_int'] = R_s(Jung20_filter['EW_Lya'],Jung20_filter['E_EW_Lya'],Jung20_filter['e_EW_Lya'],Jung20_filter['logLLya'],Jung20_filter['e_logLLya'],Jung20_filter['z_Lya'])[3]\n",
    "Jung20_filter['e_logLLya_int'] = R_s(Jung20_filter['EW_Lya'],Jung20_filter['E_EW_Lya'],Jung20_filter['e_EW_Lya'],Jung20_filter['logLLya'],Jung20_filter['e_logLLya'],Jung20_filter['z_Lya'])[9]\n",
    "Jung20_filter['E_logLLya_int'] = R_s(Jung20_filter['EW_Lya'],Jung20_filter['E_EW_Lya'],Jung20_filter['e_EW_Lya'],Jung20_filter['logLLya'],Jung20_filter['e_logLLya'],Jung20_filter['z_Lya'])[10]\n",
    "#Jung20_filter['logQ_ion'] = R_s(Jung20_filter['EW_Lya'],Jung20_filter['E_EW_Lya'],Jung20_filter['e_EW_Lya'],Jung20_filter['logLLya'],Jung20_filter['e_logLLya'],Jung20_filter['z_Lya'])[4]\n",
    "Jung20_filter['logN_ion'] = R_s(Jung20_filter['EW_Lya'],Jung20_filter['E_EW_Lya'],Jung20_filter['e_EW_Lya'],Jung20_filter['logLLya'],Jung20_filter['e_logLLya'],Jung20_filter['z_Lya'])[6]\n",
    "Jung20_filter['e_logN_ion'] = R_s(Jung20_filter['EW_Lya'],Jung20_filter['E_EW_Lya'],Jung20_filter['e_EW_Lya'],Jung20_filter['logLLya'],Jung20_filter['e_logLLya'],Jung20_filter['z_Lya'])[11]\n",
    "Jung20_filter['E_logN_ion'] = R_s(Jung20_filter['EW_Lya'],Jung20_filter['E_EW_Lya'],Jung20_filter['e_EW_Lya'],Jung20_filter['logLLya'],Jung20_filter['e_logLLya'],Jung20_filter['z_Lya'])[12]\n",
    "Jung20_filter"
   ]
  },
  {
   "cell_type": "markdown",
   "id": "328d999f-4c84-4298-a038-56418ef41c67",
   "metadata": {},
   "source": [
    "Los radios de Strömghen calculados a partir de Sobral (Jung20_filter[R_s]) son parecidos a las estimaciones realizadas a partir de la relación de Yajima (Jung20_filter[HII_Radii]). No obstante, debemos de estimar los errores antes para corroborar esta relación. \n",
    "\n",
    "Nótese que la notación de R_s y R_s_com se refieren a los radios de Strömgren calculados a partir de al relación de Sobral mientras que el denominado como HII_Radii es el radio de Strömgren calculado a partir de la relación de Yajima.\n",
    "\n",
    "### 4.1. Errors in Strömgren Radius\n",
    "\n",
    "Es cierto que hemos calculado los errores del radio de Strömgren para los datos pero no obstante, vamos a hacerlo usando el apquete de `uncertainties` para corroborar que nos sale lo mismo. "
   ]
  },
  {
   "cell_type": "code",
   "execution_count": 19,
   "id": "3f528ee9-9c17-4391-a3d7-1b2fbae1034a",
   "metadata": {},
   "outputs": [
    {
     "data": {
      "text/html": [
       "<div><i>Table length=7</i>\n",
       "<table id=\"table132151487865920\" class=\"table-striped table-bordered table-condensed\">\n",
       "<thead><tr><th>ID</th><th>logFLya</th><th>e_logFLya</th><th>S/N</th><th>EW_Lya</th><th>E_EW_Lya</th><th>e_EW_Lya</th><th>z_Lya</th><th>e_z_Lya</th><th>logLLya</th><th>e_logLLya</th><th>HII_Radii</th><th>M_UV</th><th>R_s</th><th>e_R_s</th><th>E_R_s</th><th>R_s_com</th><th>e_R_s_com</th><th>E_R_s_com</th><th>f_esc_Lya</th><th>e_f_esc_Lya</th><th>E_f_esc_Lya</th><th>logLLya_int</th><th>e_logLLya_int</th><th>E_logLLya_int</th><th>logN_ion</th><th>e_logN_ion</th><th>E_logN_ion</th></tr></thead>\n",
       "<thead><tr><th></th><th>dex(erg / s)</th><th>dex(erg / s)</th><th></th><th>Angstrom</th><th>Angstrom</th><th>Angstrom</th><th></th><th></th><th>dex(erg / s)</th><th>dex(erg / s)</th><th>pMpc</th><th>mag</th><th>pMpc</th><th>pMpc</th><th>pMpc</th><th>cMpc</th><th>cMpc</th><th>cMpc</th><th></th><th></th><th></th><th>dex(erg / s)</th><th>dex(erg / s)</th><th>dex(erg / s)</th><th>dex(1 / s)</th><th>dex(1 / s)</th><th>dex(1 / s)</th></tr></thead>\n",
       "<thead><tr><th>str12</th><th>float64</th><th>float64</th><th>float64</th><th>float64</th><th>float64</th><th>float64</th><th>float64</th><th>float64</th><th>float64</th><th>float64</th><th>float64</th><th>float64</th><th>float64</th><th>float64</th><th>float64</th><th>float64</th><th>float64</th><th>float64</th><th>float64</th><th>float64</th><th>float64</th><th>float64</th><th>float64</th><th>float64</th><th>float64</th><th>float64</th><th>float64</th></tr></thead>\n",
       "<tr><td>z7_GND_44088</td><td>-16.896</td><td>0.197</td><td>5.2</td><td>87.6</td><td>23.8</td><td>21.2</td><td>7.1335</td><td>0.0028</td><td>42.898</td><td>0.203</td><td>0.88</td><td>-19.9</td><td>0.779</td><td>0.031</td><td>0.031</td><td>6.335</td><td>0.255</td><td>0.255</td><td>0.42</td><td>0.102</td><td>0.114</td><td>43.274</td><td>0.4827815829528159</td><td>0.4827815829528159</td><td>53.597</td><td>0.483</td><td>0.483</td></tr>\n",
       "<tr><td>z8_GND_22233</td><td>-16.866</td><td>0.14</td><td>7.1</td><td>54.5</td><td>15.0</td><td>12.1</td><td>7.3444</td><td>0.002</td><td>42.959</td><td>0.16</td><td>0.92</td><td>-20.7</td><td>0.911</td><td>0.046</td><td>0.046</td><td>7.601</td><td>0.388</td><td>0.388</td><td>0.262</td><td>0.058</td><td>0.072</td><td>43.541</td><td>0.6116207951070336</td><td>0.6116207951070336</td><td>53.864</td><td>0.612</td><td>0.612</td></tr>\n",
       "<tr><td>z7_GND_18626</td><td>-17.585</td><td>0.231</td><td>4.6</td><td>26.8</td><td>14.9</td><td>9.8</td><td>7.4249</td><td>0.0013</td><td>42.255</td><td>0.222</td><td>0.52</td><td>-19.8</td><td>0.66</td><td>0.095</td><td>0.095</td><td>5.562</td><td>0.8</td><td>0.8</td><td>0.129</td><td>0.047</td><td>0.072</td><td>43.146</td><td>1.7257462686567162</td><td>1.7257462686567162</td><td>53.468</td><td>1.726</td><td>1.726</td></tr>\n",
       "<tr><td>z7_GND_42912</td><td>-16.836</td><td>0.089</td><td>10.8</td><td>33.2</td><td>4.3</td><td>4.0</td><td>7.5056</td><td>0.0007</td><td>43.009</td><td>0.088</td><td>0.96</td><td>-21.6</td><td>1.077</td><td>0.05</td><td>0.05</td><td>9.16</td><td>0.421</td><td>0.421</td><td>0.159</td><td>0.019</td><td>0.021</td><td>43.807</td><td>0.5522088353413656</td><td>0.5522088353413656</td><td>54.129</td><td>0.552</td><td>0.552</td></tr>\n",
       "<tr><td>z7_GND_6330</td><td>-17.387</td><td>0.171</td><td>6.1</td><td>15.9</td><td>4.4</td><td>3.7</td><td>7.546</td><td>0.0006</td><td>42.462</td><td>0.172</td><td>0.62</td><td>-20.7</td><td>0.897</td><td>0.168</td><td>0.168</td><td>7.662</td><td>1.439</td><td>1.439</td><td>0.076</td><td>0.018</td><td>0.021</td><td>43.579</td><td>2.2536687631027252</td><td>2.2536687631027252</td><td>53.902</td><td>2.254</td><td>2.254</td></tr>\n",
       "<tr><td>z7_GND_16863</td><td>-16.724</td><td>0.095</td><td>10.8</td><td>61.3</td><td>14.4</td><td>11.4</td><td>7.5989</td><td>0.0011</td><td>43.134</td><td>0.096</td><td>1.07</td><td>-21.2</td><td>0.947</td><td>0.026</td><td>0.026</td><td>8.139</td><td>0.221</td><td>0.221</td><td>0.294</td><td>0.055</td><td>0.069</td><td>43.665</td><td>0.32626427406199027</td><td>0.32626427406199027</td><td>53.988</td><td>0.326</td><td>0.326</td></tr>\n",
       "<tr><td>z7_GND_34204</td><td>-16.346</td><td>0.126</td><td>7.9</td><td>279.7</td><td>80.4</td><td>62.5</td><td>7.6082</td><td>0.003</td><td>43.513</td><td>0.126</td><td>1.44</td><td>-20.4</td><td>0.84</td><td>0.009</td><td>0.009</td><td>7.235</td><td>0.076</td><td>0.076</td><td>1.0</td><td>0.3</td><td>0.386</td><td>43.513</td><td>0.126</td><td>0.126</td><td>53.835</td><td>0.126</td><td>0.126</td></tr>\n",
       "</table></div>"
      ],
      "text/plain": [
       "<Table length=7>\n",
       "     ID        logFLya     e_logFLya   ...  logN_ion  e_logN_ion E_logN_ion\n",
       "             dex(erg / s) dex(erg / s) ... dex(1 / s) dex(1 / s) dex(1 / s)\n",
       "   str12       float64      float64    ...  float64    float64    float64  \n",
       "------------ ------------ ------------ ... ---------- ---------- ----------\n",
       "z7_GND_44088      -16.896        0.197 ...     53.597      0.483      0.483\n",
       "z8_GND_22233      -16.866         0.14 ...     53.864      0.612      0.612\n",
       "z7_GND_18626      -17.585        0.231 ...     53.468      1.726      1.726\n",
       "z7_GND_42912      -16.836        0.089 ...     54.129      0.552      0.552\n",
       " z7_GND_6330      -17.387        0.171 ...     53.902      2.254      2.254\n",
       "z7_GND_16863      -16.724        0.095 ...     53.988      0.326      0.326\n",
       "z7_GND_34204      -16.346        0.126 ...     53.835      0.126      0.126"
      ]
     },
     "execution_count": 19,
     "metadata": {},
     "output_type": "execute_result"
    }
   ],
   "source": [
    "# Recombination coefficinet for T_e = 10⁴K\n",
    "alphaB = 8.8 * 10**(-87)\n",
    "\n",
    "# C_H(z) parameter\n",
    "def C_H(redshift):\n",
    "    z_values = [6 ,7 , 8]\n",
    "    C_H_values = [2.37, 2.28, 2.19]\n",
    "    C_H = np.interp(redshift, z_values,C_H_values) \n",
    "    return C_H\n",
    "\n",
    "# Hydrogen density\n",
    "def n_H (redshift):\n",
    "    n_H = 5.878 * 10**66 * (1+redshift)**3\n",
    "    return n_H\n",
    "\n",
    "# Escape fraction\n",
    "f_esc_LyC = 0.2\n",
    "\n",
    "# Errors in Strömgen Radius\n",
    "N_unc_e = unumpy.uarray(10**Jung20_filter['logN_ion'].value, (10**Jung20_filter['logN_ion'].value*Jung20_filter['e_logN_ion'].value) / (1 - f_esc_LyC) * f_esc_LyC)\n",
    "N_unc_E = unumpy.uarray(10**Jung20_filter['logN_ion'].value, (10**Jung20_filter['logN_ion'].value*Jung20_filter['E_logN_ion'].value) / (1 - f_esc_LyC) * f_esc_LyC)\n",
    "C_H_unc = unumpy.uarray(C_H(Jung20_filter['z_Lya']),0)\n",
    "n_H_unc = unumpy.uarray(n_H(Jung20_filter['z_Lya']),0)\n",
    "\n",
    "e_R_s_values =  (3 * N_unc_e / (4 * np.pi * C_H_unc * n_H_unc**2 * alphaB))**(1/3)\n",
    "E_R_s_values =  (3 * N_unc_E / (4 * np.pi * C_H_unc * n_H_unc**2 * alphaB))**(1/3)\n",
    "\n",
    "e_R_s = []\n",
    "E_R_s = []\n",
    "for i in range(len(e_R_s_values)):\n",
    "    e_R_s.append(e_R_s_values[i].std_dev)\n",
    "    E_R_s.append(E_R_s_values[i].std_dev)\n",
    "\n",
    "Jung20_filter['e_R_s'] = np.round(e_R_s,3) * pMpc\n",
    "Jung20_filter['E_R_s'] = np.round(E_R_s,3) * pMpc\n",
    "Jung20_filter['e_R_s_com'] = np.round(e_R_s*(1+Jung20_filter['z_Lya']),3) * cMpc\n",
    "Jung20_filter['E_R_s_com'] = np.round(E_R_s*(1+Jung20_filter['z_Lya']),3) * cMpc\n",
    "Jung20_filter[:7]"
   ]
  },
  {
   "cell_type": "markdown",
   "id": "26239402-e136-4845-906b-cebd625bef1e",
   "metadata": {},
   "source": [
    "## Appendix A: Saving data\n",
    "\n",
    "Si se ejecuta el siguiente código, guardaremos y sobreescribiremo los datos. Nótese que lo guardamos en formato ecsv (formato profesional para astrofísica)"
   ]
  },
  {
   "cell_type": "code",
   "execution_count": 7,
   "id": "c5c78711-2133-42cf-a265-7f497581f651",
   "metadata": {},
   "outputs": [],
   "source": [
    "ascii.write(Jung20_filter, 'Jung20_filter_v1.dat', format='ecsv', overwrite=True)  "
   ]
  },
  {
   "cell_type": "code",
   "execution_count": 18,
   "id": "846e89f3-ef0f-440d-b2c6-316b42408296",
   "metadata": {},
   "outputs": [],
   "source": [
    "# To LaTeX\n",
    "data_table = ascii.read('Jung20_filter_v1.dat', format='ecsv')\n",
    "df = data_table.to_pandas()[:7]\n",
    "path = '/home/juanan/Escritorio/Juanan/Estudios/Master_en_Astrofisica/Practicas_ESAC/MyJob/latex_tables/Jung20.tex'\n",
    "cols = ['ID', 'z_Lya', 'EW_Lya', 'logLLya', 'f_esc_Lya', 'R_s', 'HII_Radii']\n",
    "df.to_latex(buf=path ,columns= cols, float_format='%.2f',header=True, index=False, position= 'H', label = 'Jung20', caption = 'Jung20')"
   ]
  }
 ],
 "metadata": {
  "kernelspec": {
   "display_name": "Python 3 (ipykernel)",
   "language": "python",
   "name": "python3"
  },
  "language_info": {
   "codemirror_mode": {
    "name": "ipython",
    "version": 3
   },
   "file_extension": ".py",
   "mimetype": "text/x-python",
   "name": "python",
   "nbconvert_exporter": "python",
   "pygments_lexer": "ipython3",
   "version": "3.10.12"
  }
 },
 "nbformat": 4,
 "nbformat_minor": 5
}
