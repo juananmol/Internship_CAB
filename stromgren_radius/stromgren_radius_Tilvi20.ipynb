{
 "cells": [
  {
   "cell_type": "markdown",
   "id": "04a4e9f5-903e-447b-a7ca-8016152ef51f",
   "metadata": {},
   "source": [
    "# Prácticas ESAC: Strömgren Radius Tilvi20\n",
    "\n",
    "1. Extracted data from Tilvi20\n",
    "2. Filter in redshift\n",
    "3. Strömgen Radius\n",
    "\n",
    "   Appendix A: Saving data"
   ]
  },
  {
   "cell_type": "code",
   "execution_count": 8,
   "id": "f72847b6-98d6-456a-a3cc-d7c5baa11f4d",
   "metadata": {},
   "outputs": [],
   "source": [
    "# Paquetes\n",
    "from astropy.table import Table, QTable, unique\n",
    "from astropy.io import ascii\n",
    "import astropy.units as u\n",
    "import matplotlib.pyplot as plt\n",
    "import numpy as np\n",
    "import smplotlib\n",
    "from uncertainties import ufloat, unumpy\n",
    "import uncertainties.unumpy as unp\n",
    "from scipy.optimize import curve_fit\n",
    "from sklearn.metrics import r2_score\n",
    "import sys\n",
    "\n",
    "# Definimos Mpc en unidades propias comóviles\n",
    "pMpc = u.def_unit('pMpc')\n",
    "cMpc = u.def_unit('cMpc')"
   ]
  },
  {
   "cell_type": "markdown",
   "id": "2907147f-6465-4727-8558-0aa5a2be38a1",
   "metadata": {},
   "source": [
    "## 1. Extracted data from Tilvi20\n",
    "\n",
    "A continuación, importamos la _Table 1_ del paper 11 (V. Tilvi et al. (2020))."
   ]
  },
  {
   "cell_type": "code",
   "execution_count": 2,
   "id": "4ee5041e-74e7-4745-a0be-913e296d8a3f",
   "metadata": {},
   "outputs": [
    {
     "data": {
      "text/html": [
       "<div><i>Table length=3</i>\n",
       "<table id=\"table133288426198864\" class=\"table-striped table-bordered table-condensed\">\n",
       "<thead><tr><th>ID</th><th>RA_J2000</th><th>DEC_J2000</th><th>NB</th><th>e_NB</th><th>F125W</th><th>e_F125W</th><th>F160W</th><th>e_F160W</th><th>z_spec</th><th>logfLya</th><th>e_logfLya</th><th>EW_rest</th><th>e_EW_rest</th><th>logLLya</th><th>e_logLLya</th><th>HII_radii</th><th>SNR</th></tr></thead>\n",
       "<thead><tr><th></th><th></th><th></th><th>mag</th><th>mag</th><th>mag</th><th>mag</th><th>mag</th><th>mag</th><th></th><th>dex(erg / s)</th><th>dex(erg / s)</th><th>Angstrom</th><th>Angstrom</th><th>dex(erg / s)</th><th>dex(erg / s)</th><th>pMpc</th><th></th></tr></thead>\n",
       "<thead><tr><th>str5</th><th>str12</th><th>str13</th><th>float64</th><th>float64</th><th>float64</th><th>float64</th><th>float64</th><th>float64</th><th>float64</th><th>float64</th><th>float64</th><th>float64</th><th>float64</th><th>float64</th><th>float64</th><th>float64</th><th>float64</th></tr></thead>\n",
       "<tr><td>z8_SM</td><td>14:20:35.694</td><td>+53:00:09.318</td><td>24.76</td><td>0.35</td><td>26.76</td><td>0.13</td><td>26.66</td><td>0.11</td><td>7.767</td><td>-17.538</td><td>0.207</td><td>23.0</td><td>6.0</td><td>42.301</td><td>0.5</td><td>0.55</td><td>4.9</td></tr>\n",
       "<tr><td>z8_4</td><td>14:20:35.169</td><td>+52:59:40.613</td><td>23.85</td><td>0.15</td><td>27.25</td><td>0.21</td><td>27.1</td><td>0.16</td><td>7.748</td><td>-17.252</td><td>0.161</td><td>71.0</td><td>18.0</td><td>42.602</td><td>0.25</td><td>0.69</td><td>6.0</td></tr>\n",
       "<tr><td>z8_5</td><td>14:20:34.872</td><td>+53:00:15.242</td><td>23.6</td><td>0.12</td><td>25.29</td><td>0.03</td><td>25.08</td><td>0.03</td><td>7.728</td><td>-16.77</td><td>0.082</td><td>37.0</td><td>3.0</td><td>43.079</td><td>0.083</td><td>1.02</td><td>12.1</td></tr>\n",
       "</table></div>"
      ],
      "text/plain": [
       "<Table length=3>\n",
       "  ID    RA_J2000     DEC_J2000      NB   ...  e_logLLya   HII_radii   SNR  \n",
       "                                   mag   ... dex(erg / s)    pMpc          \n",
       " str5    str12         str13     float64 ...   float64     float64  float64\n",
       "----- ------------ ------------- ------- ... ------------ --------- -------\n",
       "z8_SM 14:20:35.694 +53:00:09.318   24.76 ...          0.5      0.55     4.9\n",
       " z8_4 14:20:35.169 +52:59:40.613   23.85 ...         0.25      0.69     6.0\n",
       " z8_5 14:20:34.872 +53:00:15.242    23.6 ...        0.083      1.02    12.1"
      ]
     },
     "execution_count": 2,
     "metadata": {},
     "output_type": "execute_result"
    }
   ],
   "source": [
    "# Creamos la tabla de datos de Tilvi20\n",
    "data_Tilvi20 = {\n",
    "    'ID': ['z8_SM', 'z8_4', 'z8_5'],\n",
    "    'RA_J2000': ['14:20:35.694', '14:20:35.169', '14:20:34.872'],\n",
    "    'DEC_J2000': ['+53:00:09.318', '+52:59:40.613', '+53:00:15.242'],\n",
    "    'NB': [24.76, 23.85, 23.60]*u.mag,\n",
    "    'e_NB': [0.35, 0.15, 0.12]*u.mag,\n",
    "    'F125W': [26.76, 27.25, 25.29]*u.mag,\n",
    "    'e_F125W': [0.13, 0.21, 0.03]*u.mag,\n",
    "    'F160W': [26.66, 27.10, 25.08]*u.mag,\n",
    "    'e_F160W': [0.11, 0.16, 0.03]*u.mag,\n",
    "    'z_spec': [7.767, 7.748, 7.728],\n",
    "    'logfLya': np.round(np.log10([0.29*10**(-17), 0.56*10**(-17), 1.7*10**(-17)]),3)*u.dex(u.erg/u.s),\n",
    "    'e_logfLya': np.round([0.06/0.29, 0.09/0.56, 0.14/1.7],3)*u.dex(u.erg/u.s),\n",
    "    'EW_rest': [23, 71, 37]*u.angstrom,\n",
    "    'e_EW_rest': [6, 18, 3]*u.angstrom,\n",
    "    'logLLya': np.round(np.log10([0.2*10**(43), 0.4*10**(43), 1.2*10**(43)]),3)*u.dex(u.erg/u.s),\n",
    "    'e_logLLya': np.round([0.1/0.2, 0.1/0.4, 0.1/1.2],3)*u.dex(u.erg/u.s),\n",
    "    'HII_radii': [0.55, 0.69, 1.02]*pMpc,\n",
    "    'SNR': [4.9, 6.0, 12.1],\n",
    "}\n",
    "\n",
    "Tilvi20 = Table(data_Tilvi20)\n",
    "Tilvi20"
   ]
  },
  {
   "cell_type": "markdown",
   "id": "24bd86b4-bba5-427e-9da0-d3e8c45f8073",
   "metadata": {},
   "source": [
    "## 2. Filter in redshift\n",
    "\n",
    "Utilzaremos los datos de Tilvi20 para la realización de este cuaderno escogiendo únicamente aquellas galaxias con z > 6, puesto que estas son las únicas para las cuales el Universo todavía no estaba completamente reionizado y por tanto, estas esferas tenían un tamaño finito (no ocupaban todo el universo). "
   ]
  },
  {
   "cell_type": "code",
   "execution_count": 3,
   "id": "c422a7be-312f-48f0-85bd-b019f637cb95",
   "metadata": {},
   "outputs": [
    {
     "data": {
      "text/html": [
       "<div><i>Table length=3</i>\n",
       "<table id=\"table133288426208032\" class=\"table-striped table-bordered table-condensed\">\n",
       "<thead><tr><th>ID</th><th>RA_J2000</th><th>DEC_J2000</th><th>NB</th><th>e_NB</th><th>F125W</th><th>e_F125W</th><th>F160W</th><th>e_F160W</th><th>z_spec</th><th>logfLya</th><th>e_logfLya</th><th>EW_rest</th><th>e_EW_rest</th><th>logLLya</th><th>e_logLLya</th><th>HII_radii</th><th>SNR</th></tr></thead>\n",
       "<thead><tr><th></th><th></th><th></th><th>mag</th><th>mag</th><th>mag</th><th>mag</th><th>mag</th><th>mag</th><th></th><th>dex(erg / s)</th><th>dex(erg / s)</th><th>Angstrom</th><th>Angstrom</th><th>dex(erg / s)</th><th>dex(erg / s)</th><th>pMpc</th><th></th></tr></thead>\n",
       "<thead><tr><th>str5</th><th>str12</th><th>str13</th><th>float64</th><th>float64</th><th>float64</th><th>float64</th><th>float64</th><th>float64</th><th>float64</th><th>float64</th><th>float64</th><th>float64</th><th>float64</th><th>float64</th><th>float64</th><th>float64</th><th>float64</th></tr></thead>\n",
       "<tr><td>z8_SM</td><td>14:20:35.694</td><td>+53:00:09.318</td><td>24.76</td><td>0.35</td><td>26.76</td><td>0.13</td><td>26.66</td><td>0.11</td><td>7.767</td><td>-17.538</td><td>0.207</td><td>23.0</td><td>6.0</td><td>42.301</td><td>0.5</td><td>0.55</td><td>4.9</td></tr>\n",
       "<tr><td>z8_4</td><td>14:20:35.169</td><td>+52:59:40.613</td><td>23.85</td><td>0.15</td><td>27.25</td><td>0.21</td><td>27.1</td><td>0.16</td><td>7.748</td><td>-17.252</td><td>0.161</td><td>71.0</td><td>18.0</td><td>42.602</td><td>0.25</td><td>0.69</td><td>6.0</td></tr>\n",
       "<tr><td>z8_5</td><td>14:20:34.872</td><td>+53:00:15.242</td><td>23.6</td><td>0.12</td><td>25.29</td><td>0.03</td><td>25.08</td><td>0.03</td><td>7.728</td><td>-16.77</td><td>0.082</td><td>37.0</td><td>3.0</td><td>43.079</td><td>0.083</td><td>1.02</td><td>12.1</td></tr>\n",
       "</table></div>"
      ],
      "text/plain": [
       "<Table length=3>\n",
       "  ID    RA_J2000     DEC_J2000      NB   ...  e_logLLya   HII_radii   SNR  \n",
       "                                   mag   ... dex(erg / s)    pMpc          \n",
       " str5    str12         str13     float64 ...   float64     float64  float64\n",
       "----- ------------ ------------- ------- ... ------------ --------- -------\n",
       "z8_SM 14:20:35.694 +53:00:09.318   24.76 ...          0.5      0.55     4.9\n",
       " z8_4 14:20:35.169 +52:59:40.613   23.85 ...         0.25      0.69     6.0\n",
       " z8_5 14:20:34.872 +53:00:15.242    23.6 ...        0.083      1.02    12.1"
      ]
     },
     "execution_count": 3,
     "metadata": {},
     "output_type": "execute_result"
    }
   ],
   "source": [
    "Tilvi20_filter = Tilvi20[Tilvi20['z_spec'] > 6]\n",
    "Tilvi20_filter"
   ]
  },
  {
   "cell_type": "markdown",
   "id": "00c7de85-da14-4641-bed3-13737ef2b31e",
   "metadata": {},
   "source": [
    "## 3. Strömgren Radius\n",
    "\n",
    "Ya es el momento de estimar el radio de Strömgen, o mejor dicho, el límite superior al tamaño de estas burbujas para cada galaxia a z > 6. Este radio se define como:\n",
    "\n",
    "$$\n",
    "\\begin{equation}\n",
    "    R_s = \\left(\\frac{3 \\dot{N}_{ion}}{4\\pi C_H \\langle n_H \\rangle ^ 2 \\alpha_B}\\right)^{1/3}\n",
    "\\end{equation}\n",
    "$$\n",
    "\n",
    "donde $\\dot{N}_{ion}$ se corresponde con el número de fotones del continuo ionizante, según las definciones en [Reionized-Bubble-published](https://watermark.silverchair.com/mnrasl_495_1_l17.pdf?token=AQECAHi208BE49Ooan9kkhW_Ercy7Dm3ZL_9Cf3qfKAc485ysgAAA3UwggNxBgkqhkiG9w0BBwagggNiMIIDXgIBADCCA1cGCSqGSIb3DQEHATAeBglghkgBZQMEAS4wEQQMesIRyAw1IMhjJgxLAgEQgIIDKNLnPEZWRv4H07eC47gxYs3YVUGv5PmSrfVEViCuE9OGjq7ro9MHhMyPmAakzFX36UUoujJ_iE9CnliM-I7rMh4z7mOeffZzdY6hfOyq00dea8-Lq1pWKHV4W24VMD60GNXdkNjd2aavHQncseS1xETCLGjWV75goKbuh_yg9nXTHI6v6S2MA0fKTlzk56zTvu3069rRq-WpUdLuyv0U6NSQNNtqfWMR468NbLLTfIHve9wfcSxGB-iHQiIJD0nQVAkDzO-LT1nxBzsiES0EvVeGqMNtyfLWRrMX8NxIJaaGEljDw5QQtk3ogx7j5QCeYpUBYY7__mlZBc8-pdDzOQ5ALXsasW69Qkf1sSmFzIvTPaMEK9YUN8axtA9iJViI5U33clBDs8xa0nJi5GA1IsnB9Elr1WP06eTj6v-HQeNqO5w4vP9vKIYTsDRvFzuu6U-Ok0Kw0aH2ybnJAVYQ8qfFRo29CcuPwsu8UVwCpISBnRl-269GGOHYzPoEzJrp_dWBnvXTYh6TTl0178RJhmDySOlH5Ie4tMfe-dp4cdQnhl0z-x4MQRIG_SDb3Xo-crH844EffwRQ5EnsktfdoMwXXvndvakMYFzSCSYEnJU1ZhMCUPH3IeyMQS1IXNM05Qm8QGW1OlUrqIvLDMjlCZeWptQ6X7mX5lX9jph4M9eKAelJw-dZjqlhm6NHjGS7FjhfsczkoehMAi87W5bm6FPbQlTpzEdDoNfMcc3GPH1SEbdltmN8j6TrfTA5pk2JFqntSzJJC99DHJzDeSWGumc1zg4FrP7vkUC4yAGgoMsSac6IL_SpwXEKc9sKB9ezu5PVy4NrWL7sc-xSmau0sVn8g_wP25TePV25N4Z8GxAE1cV_PPHKOFJU21pomgFaZdxyPxENLoyx9v64JuoXhi48PWuV9V1JPAXatkS2q3VTz5hRGiUD9nxqy7DbU6jVmZwqErVDNamfyN_0H7VxMEOm5sa65jZyHaGtyknwQq6fktLmskgK_kmotgnM2rZWexXFBGzK5USVEwHe-iA7Ri0pKvudfX8MtFVjs8HZGOqBvO118nGdD3Q). Esto es,\n",
    "\n",
    "$$\n",
    "\\begin{equation}\n",
    "    \\dot{N}_{ion} = \\frac{Q_{ion}}{1-f_{esc,LyC}} \\cdot f_{esc,LyC}\n",
    "\\end{equation}\n",
    "$$\n",
    "\n",
    "donde $Q_{ion}$ se corresponde con los valores de $10^{logN_{ion}}$ de la tabla de Kerutt22 $\\textbf{(cuidado con la notación)}$. Se asume $f_{esc,LyC} = 0.2$, valor estimador por diversos autores. \n",
    "\n",
    "Para realizar este cálculo, vamos a crear una función que lo calcule directamente a partir de la anchura equivalente (en angstroms), el logaritmo en base 10 de la luminosidad observada de la línea de lymann alpha (en dex(erg/s) y el redsfhit (adimensional). "
   ]
  },
  {
   "cell_type": "code",
   "execution_count": 4,
   "id": "ebeec8b6-03c1-4d22-ae86-8f03c4d448a8",
   "metadata": {},
   "outputs": [],
   "source": [
    "# Strömgen radius calculation using equivalent width (EW), log10(observed luminosity of Lymann alpha) and redshift\n",
    "# Units: EW in angstroms; logLLya in dex(erg/s); z (adimensional)\n",
    "def R_s(EW, e_EW, logLLya, e_logLLya, redshift):\n",
    "\n",
    "    # recombination coefficinet for T_e = 10⁴K\n",
    "    alphaB = 8.8 * 10**(-87)\n",
    "    \n",
    "    # C_H(z) parameter\n",
    "    def C_H(redshift):\n",
    "        z_values = [6 ,7 , 8]\n",
    "        C_H_values = [2.37, 2.28, 2.19]\n",
    "        C_H = np.interp(redshift, z_values,C_H_values) \n",
    "        return C_H\n",
    "\n",
    "    # Hydrogen density\n",
    "    def n_H (redshift):\n",
    "        n_H = 5.878 * 10**66 * (1+redshift)**3\n",
    "        return n_H\n",
    "\n",
    "    # Escape fraction of Lymann alpha\n",
    "    f_esc_Lya = []\n",
    "\n",
    "    for i in range(len(EW)):\n",
    "        if 0 <= EW[i] <= 200:\n",
    "            f_esc_Lya.append(0.0048*EW[i])\n",
    "        else:\n",
    "            f_esc_Lya.append(1)\n",
    "\n",
    "    e_f_esc_Lya = 0.0048 * e_EW\n",
    "\n",
    "    # log10(intrisic luminosity of Lymann alpha)\n",
    "    logLLya_int = np.log10(10**logLLya/f_esc_Lya)\n",
    "    e_logLLya_int = np.sqrt( ((e_logLLya*np.log(10)*10**logLLya)/f_esc_Lya)**2 + (e_f_esc_Lya/(10**logLLya))** 2); e_logLLya_int = e_logLLya_int / (10**logLLya * np.log(10))\n",
    "\n",
    "    # Effective number of ionizinz continuum photones per second\n",
    "    logQ_ion = np.log10(10**logLLya_int / (1.19*10**(-11)))\n",
    "    e_logQ_ion = (1/np.log(10)) * (1/10**logQ_ion) * ((e_logLLya_int*np.log(10)*10**logLLya_int)/(1.19*10**(-11)))\n",
    "\n",
    "    # Nuber of ionizing continuum photones that participate in reionizing the IGM\n",
    "    f_esc_LyC = 0.2 # assumed f_esc_LyC\n",
    "    N_ion = (10**logQ_ion) / (1 - f_esc_LyC) * f_esc_LyC\n",
    "    e_logN_ion = (1/np.log(10)) * (1/N_ion) * (e_logQ_ion*np.log(10)*10**logQ_ion) * f_esc_LyC / (1 - f_esc_LyC)\n",
    "\n",
    "    # Strömgen radius (proper)\n",
    "    R_s = (3 * N_ion / (4 * np.pi * C_H(redshift) * n_H(redshift)**2 * alphaB))**(1/3)\n",
    "    e_R_s = 1/3 * (3 * (e_logN_ion * np.log(10) * N_ion) / (4 * np.pi * C_H(redshift) * n_H(redshift)**2 * alphaB)) * (3 * (N_ion) / (4 * np.pi * C_H(redshift) * n_H(redshift)**2 * alphaB))**(-2/3)\n",
    "\n",
    "    # Strömgen radius (comovil)\n",
    "    R_s_com = (1 + redshift) * R_s\n",
    "    e_R_s_com = (1 + redshift) * e_R_s\n",
    "    \n",
    "    return np.round(R_s,3) * pMpc, np.round(R_s_com,3) * cMpc, np.round(f_esc_Lya,3), np.round(logLLya_int,3) * u.dex(u.erg / u.s), np.round(logQ_ion,3)  * u.dex(1 / u.s), np.round(EW,2)  * u.angstrom, np.round(np.log10(N_ion),3) * u.dex(1 / u.s),  np.round(e_f_esc_Lya,3), np.round(e_logLLya_int,3) * u.dex(u.erg / u.s), np.round(e_logN_ion,3) * u.dex(1 / u.s), np.round(e_R_s,3) * pMpc, np.round(e_R_s_com,3) * cMpc"
   ]
  },
  {
   "cell_type": "code",
   "execution_count": 5,
   "id": "701b98a1-c7fd-494a-be83-a0d6d92e0af0",
   "metadata": {},
   "outputs": [
    {
     "data": {
      "text/html": [
       "<div><i>Table length=3</i>\n",
       "<table id=\"table133288426208032\" class=\"table-striped table-bordered table-condensed\">\n",
       "<thead><tr><th>ID</th><th>RA_J2000</th><th>DEC_J2000</th><th>NB</th><th>e_NB</th><th>F125W</th><th>e_F125W</th><th>F160W</th><th>e_F160W</th><th>z_spec</th><th>logfLya</th><th>e_logfLya</th><th>EW_rest</th><th>e_EW_rest</th><th>logLLya</th><th>e_logLLya</th><th>HII_radii</th><th>SNR</th><th>R_s</th><th>e_R_s</th><th>R_s_com</th><th>e_R_s_com</th><th>f_esc_Lya</th><th>e_f_esc_Lya</th><th>logLLya_int</th><th>e_logLLya_int</th><th>logN_ion</th><th>e_logN_ion</th></tr></thead>\n",
       "<thead><tr><th></th><th></th><th></th><th>mag</th><th>mag</th><th>mag</th><th>mag</th><th>mag</th><th>mag</th><th></th><th>dex(erg / s)</th><th>dex(erg / s)</th><th>Angstrom</th><th>Angstrom</th><th>dex(erg / s)</th><th>dex(erg / s)</th><th>pMpc</th><th></th><th>pMpc</th><th>pMpc</th><th>cMpc</th><th>cMpc</th><th></th><th></th><th>dex(erg / s)</th><th>dex(erg / s)</th><th>dex(1 / s)</th><th>dex(1 / s)</th></tr></thead>\n",
       "<thead><tr><th>str5</th><th>str12</th><th>str13</th><th>float64</th><th>float64</th><th>float64</th><th>float64</th><th>float64</th><th>float64</th><th>float64</th><th>float64</th><th>float64</th><th>float64</th><th>float64</th><th>float64</th><th>float64</th><th>float64</th><th>float64</th><th>float64</th><th>float64</th><th>float64</th><th>float64</th><th>float64</th><th>float64</th><th>float64</th><th>float64</th><th>float64</th><th>float64</th></tr></thead>\n",
       "<tr><td>z8_SM</td><td>14:20:35.694</td><td>+53:00:09.318</td><td>24.76</td><td>0.35</td><td>26.76</td><td>0.13</td><td>26.66</td><td>0.11</td><td>7.767</td><td>-17.538</td><td>0.207</td><td>23.0</td><td>6.0</td><td>42.301</td><td>0.5</td><td>0.55</td><td>4.9</td><td>0.668</td><td>2.321</td><td>5.854</td><td>20.348</td><td>0.11</td><td>0.029</td><td>43.258</td><td>4.529</td><td>53.58</td><td>4.529</td></tr>\n",
       "<tr><td>z8_4</td><td>14:20:35.169</td><td>+52:59:40.613</td><td>23.85</td><td>0.15</td><td>27.25</td><td>0.21</td><td>27.1</td><td>0.16</td><td>7.748</td><td>-17.252</td><td>0.161</td><td>71.0</td><td>18.0</td><td>42.602</td><td>0.25</td><td>0.69</td><td>6.0</td><td>0.58</td><td>0.327</td><td>5.075</td><td>2.857</td><td>0.341</td><td>0.086</td><td>43.07</td><td>0.734</td><td>53.392</td><td>0.734</td></tr>\n",
       "<tr><td>z8_5</td><td>14:20:34.872</td><td>+53:00:15.242</td><td>23.6</td><td>0.12</td><td>25.29</td><td>0.03</td><td>25.08</td><td>0.03</td><td>7.728</td><td>-16.77</td><td>0.082</td><td>37.0</td><td>3.0</td><td>43.079</td><td>0.083</td><td>1.02</td><td>12.1</td><td>1.044</td><td>0.374</td><td>9.112</td><td>3.269</td><td>0.178</td><td>0.014</td><td>43.83</td><td>0.467</td><td>54.152</td><td>0.467</td></tr>\n",
       "</table></div>"
      ],
      "text/plain": [
       "<Table length=3>\n",
       "  ID    RA_J2000     DEC_J2000   ... e_logLLya_int  logN_ion  e_logN_ion\n",
       "                                 ...  dex(erg / s) dex(1 / s) dex(1 / s)\n",
       " str5    str12         str13     ...    float64     float64    float64  \n",
       "----- ------------ ------------- ... ------------- ---------- ----------\n",
       "z8_SM 14:20:35.694 +53:00:09.318 ...         4.529      53.58      4.529\n",
       " z8_4 14:20:35.169 +52:59:40.613 ...         0.734     53.392      0.734\n",
       " z8_5 14:20:34.872 +53:00:15.242 ...         0.467     54.152      0.467"
      ]
     },
     "execution_count": 5,
     "metadata": {},
     "output_type": "execute_result"
    }
   ],
   "source": [
    "Tilvi20_filter['R_s'] = R_s(Tilvi20_filter['EW_rest'],Tilvi20_filter['e_EW_rest'],Tilvi20_filter['logLLya'],Tilvi20_filter['e_logLLya'],Tilvi20_filter['z_spec'])[0]\n",
    "Tilvi20_filter['e_R_s'] = R_s(Tilvi20_filter['EW_rest'],Tilvi20_filter['e_EW_rest'],Tilvi20_filter['logLLya'],Tilvi20_filter['e_logLLya'],Tilvi20_filter['z_spec'])[10]\n",
    "Tilvi20_filter['R_s_com'] = R_s(Tilvi20_filter['EW_rest'],Tilvi20_filter['e_EW_rest'],Tilvi20_filter['logLLya'],Tilvi20_filter['e_logLLya'],Tilvi20_filter['z_spec'])[1]\n",
    "Tilvi20_filter['e_R_s_com'] = R_s(Tilvi20_filter['EW_rest'],Tilvi20_filter['e_EW_rest'],Tilvi20_filter['logLLya'],Tilvi20_filter['e_logLLya'],Tilvi20_filter['z_spec'])[11]\n",
    "Tilvi20_filter['f_esc_Lya'] = R_s(Tilvi20_filter['EW_rest'],Tilvi20_filter['e_EW_rest'],Tilvi20_filter['logLLya'],Tilvi20_filter['e_logLLya'],Tilvi20_filter['z_spec'])[2]\n",
    "Tilvi20_filter['e_f_esc_Lya'] = R_s(Tilvi20_filter['EW_rest'],Tilvi20_filter['e_EW_rest'],Tilvi20_filter['logLLya'],Tilvi20_filter['e_logLLya'],Tilvi20_filter['z_spec'])[7]\n",
    "Tilvi20_filter['logLLya_int'] = R_s(Tilvi20_filter['EW_rest'],Tilvi20_filter['e_EW_rest'],Tilvi20_filter['logLLya'],Tilvi20_filter['e_logLLya'],Tilvi20_filter['z_spec'])[3]\n",
    "Tilvi20_filter['e_logLLya_int'] = R_s(Tilvi20_filter['EW_rest'],Tilvi20_filter['e_EW_rest'],Tilvi20_filter['logLLya'],Tilvi20_filter['e_logLLya'],Tilvi20_filter['z_spec'])[8]\n",
    "#Tilvi20_filter['logQ_ion'] = R_s(Tilvi20_filter['EW_rest'],Tilvi20_filter['e_EW_rest'],Tilvi20_filter['logLLya'],Tilvi20_filter['z_spec'])[4]\n",
    "Tilvi20_filter['logN_ion'] = R_s(Tilvi20_filter['EW_rest'],Tilvi20_filter['e_EW_rest'],Tilvi20_filter['logLLya'],Tilvi20_filter['e_logLLya'],Tilvi20_filter['z_spec'])[6]\n",
    "Tilvi20_filter['e_logN_ion'] = R_s(Tilvi20_filter['EW_rest'],Tilvi20_filter['e_EW_rest'],Tilvi20_filter['logLLya'],Tilvi20_filter['e_logLLya'],Tilvi20_filter['z_spec'])[9]\n",
    "Tilvi20_filter"
   ]
  },
  {
   "cell_type": "markdown",
   "id": "28036736-b6e1-4916-8ad0-22836e71ee07",
   "metadata": {},
   "source": [
    "Los radios de Strömghen calculados a partir de Sobral (Tilvi20_filter[R_s]) son parecidos a las estimaciones realizadas a partir de la relación de Yajima (Tilvi20_filter[HII_Radii]). No obstante, debemos de estimar los errores antes para corroborar esta relación. \n",
    "\n",
    "Nótese que la notación de R_s y R_s_com se refieren a los radios de Strömgren calculados a partir de al relación de Sobral mientras que el denominado como HII_Radii es el radio de Strömgren calculado a partir de la relación de Yajima.\n",
    "\n",
    "\n",
    "### 4.1. Errors in Strömgren Radius\n",
    "\n",
    "Es cierto que hemos calculado los errores del radio de Strömgren para los datos pero no obstante, vamos a hacerlo usando el apquete de `uncertainties` para corroborar que nos sale lo mismo. "
   ]
  },
  {
   "cell_type": "code",
   "execution_count": 6,
   "id": "8a773be3-9a49-40cc-baf8-01617c675887",
   "metadata": {},
   "outputs": [
    {
     "data": {
      "text/html": [
       "<div><i>Table length=3</i>\n",
       "<table id=\"table133288426208032\" class=\"table-striped table-bordered table-condensed\">\n",
       "<thead><tr><th>ID</th><th>RA_J2000</th><th>DEC_J2000</th><th>NB</th><th>e_NB</th><th>F125W</th><th>e_F125W</th><th>F160W</th><th>e_F160W</th><th>z_spec</th><th>logfLya</th><th>e_logfLya</th><th>EW_rest</th><th>e_EW_rest</th><th>logLLya</th><th>e_logLLya</th><th>HII_radii</th><th>SNR</th><th>R_s</th><th>e_R_s</th><th>R_s_com</th><th>e_R_s_com</th><th>f_esc_Lya</th><th>e_f_esc_Lya</th><th>logLLya_int</th><th>e_logLLya_int</th><th>logN_ion</th><th>e_logN_ion</th></tr></thead>\n",
       "<thead><tr><th></th><th></th><th></th><th>mag</th><th>mag</th><th>mag</th><th>mag</th><th>mag</th><th>mag</th><th></th><th>dex(erg / s)</th><th>dex(erg / s)</th><th>Angstrom</th><th>Angstrom</th><th>dex(erg / s)</th><th>dex(erg / s)</th><th>pMpc</th><th></th><th>pMpc</th><th>pMpc</th><th>cMpc</th><th>cMpc</th><th></th><th></th><th>dex(erg / s)</th><th>dex(erg / s)</th><th>dex(1 / s)</th><th>dex(1 / s)</th></tr></thead>\n",
       "<thead><tr><th>str5</th><th>str12</th><th>str13</th><th>float64</th><th>float64</th><th>float64</th><th>float64</th><th>float64</th><th>float64</th><th>float64</th><th>float64</th><th>float64</th><th>float64</th><th>float64</th><th>float64</th><th>float64</th><th>float64</th><th>float64</th><th>float64</th><th>float64</th><th>float64</th><th>float64</th><th>float64</th><th>float64</th><th>float64</th><th>float64</th><th>float64</th><th>float64</th></tr></thead>\n",
       "<tr><td>z8_SM</td><td>14:20:35.694</td><td>+53:00:09.318</td><td>24.76</td><td>0.35</td><td>26.76</td><td>0.13</td><td>26.66</td><td>0.11</td><td>7.767</td><td>-17.538</td><td>0.207</td><td>23.0</td><td>6.0</td><td>42.301</td><td>0.5</td><td>0.55</td><td>4.9</td><td>0.668</td><td>0.252</td><td>5.854</td><td>2.209</td><td>0.11</td><td>0.029</td><td>43.258</td><td>4.529</td><td>53.58</td><td>4.529</td></tr>\n",
       "<tr><td>z8_4</td><td>14:20:35.169</td><td>+52:59:40.613</td><td>23.85</td><td>0.15</td><td>27.25</td><td>0.21</td><td>27.1</td><td>0.16</td><td>7.748</td><td>-17.252</td><td>0.161</td><td>71.0</td><td>18.0</td><td>42.602</td><td>0.25</td><td>0.69</td><td>6.0</td><td>0.58</td><td>0.035</td><td>5.075</td><td>0.31</td><td>0.341</td><td>0.086</td><td>43.07</td><td>0.734</td><td>53.392</td><td>0.734</td></tr>\n",
       "<tr><td>z8_5</td><td>14:20:34.872</td><td>+53:00:15.242</td><td>23.6</td><td>0.12</td><td>25.29</td><td>0.03</td><td>25.08</td><td>0.03</td><td>7.728</td><td>-16.77</td><td>0.082</td><td>37.0</td><td>3.0</td><td>43.079</td><td>0.083</td><td>1.02</td><td>12.1</td><td>1.044</td><td>0.041</td><td>9.112</td><td>0.355</td><td>0.178</td><td>0.014</td><td>43.83</td><td>0.467</td><td>54.152</td><td>0.467</td></tr>\n",
       "</table></div>"
      ],
      "text/plain": [
       "<Table length=3>\n",
       "  ID    RA_J2000     DEC_J2000   ... e_logLLya_int  logN_ion  e_logN_ion\n",
       "                                 ...  dex(erg / s) dex(1 / s) dex(1 / s)\n",
       " str5    str12         str13     ...    float64     float64    float64  \n",
       "----- ------------ ------------- ... ------------- ---------- ----------\n",
       "z8_SM 14:20:35.694 +53:00:09.318 ...         4.529      53.58      4.529\n",
       " z8_4 14:20:35.169 +52:59:40.613 ...         0.734     53.392      0.734\n",
       " z8_5 14:20:34.872 +53:00:15.242 ...         0.467     54.152      0.467"
      ]
     },
     "execution_count": 6,
     "metadata": {},
     "output_type": "execute_result"
    }
   ],
   "source": [
    "# Recombination coefficinet for T_e = 10⁴K\n",
    "alphaB = 8.8 * 10**(-87)\n",
    "\n",
    "# C_H(z) parameter\n",
    "def C_H(redshift):\n",
    "    z_values = [6 ,7 , 8]\n",
    "    C_H_values = [2.37, 2.28, 2.19]\n",
    "    C_H = np.interp(redshift, z_values,C_H_values) \n",
    "    return C_H\n",
    "\n",
    "# Hydrogen density\n",
    "def n_H (redshift):\n",
    "    n_H = 5.878 * 10**66 * (1+redshift)**3\n",
    "    return n_H\n",
    "\n",
    "# Escape fraction\n",
    "f_esc_LyC = 0.2\n",
    "\n",
    "# Errors in Strömgen Radius\n",
    "N_unc_e = unumpy.uarray(10**Tilvi20_filter['logN_ion'].value, (10**Tilvi20_filter['logN_ion'].value*Tilvi20_filter['e_logN_ion'].value) / (1 - f_esc_LyC) * f_esc_LyC)\n",
    "C_H_unc = unumpy.uarray(C_H(Tilvi20_filter['z_spec']),0)\n",
    "n_H_unc = unumpy.uarray(n_H(Tilvi20_filter['z_spec']),0)\n",
    "\n",
    "e_R_s_values =  (3 * N_unc_e / (4 * np.pi * C_H_unc * n_H_unc**2 * alphaB))**(1/3)\n",
    "e_R_s = []\n",
    "\n",
    "for i in range(len(e_R_s_values)):\n",
    "    e_R_s.append(e_R_s_values[i].std_dev)\n",
    "\n",
    "Tilvi20_filter['e_R_s'] = np.round(e_R_s,3) * pMpc\n",
    "Tilvi20_filter['e_R_s_com'] = np.round(e_R_s*(1+Tilvi20_filter['z_spec']),3) * cMpc\n",
    "Tilvi20_filter"
   ]
  },
  {
   "cell_type": "markdown",
   "id": "645ddfd3-cbaf-41eb-a422-d6a637d8e980",
   "metadata": {},
   "source": [
    "## Appendix A: Saving data\n",
    "\n",
    "Si se ejecuta el siguiente código, guardaremos y sobreescribiremo los datos. Nótese que lo guardamos en formato ecsv (formato profesional para astrofísica)"
   ]
  },
  {
   "cell_type": "code",
   "execution_count": 7,
   "id": "6325f134-88d6-4d6b-8aa1-0c7d6b52e9db",
   "metadata": {},
   "outputs": [],
   "source": [
    "ascii.write(Tilvi20_filter, 'Tilvi20_filter_v1.dat', format='ecsv', overwrite=True)  \n"
   ]
  },
  {
   "cell_type": "code",
   "execution_count": 10,
   "id": "63d0bdf3-df8d-4571-8645-9205a5b1caf2",
   "metadata": {},
   "outputs": [],
   "source": [
    "# To LaTeX\n",
    "data_table = ascii.read('Tilvi20_filter_v1.dat', format='ecsv')\n",
    "df = data_table.to_pandas()\n",
    "path = '/home/juanan/Escritorio/Juanan/Estudios/Master_en_Astrofisica/Practicas_ESAC/MyJob/latex_tables/Tilvi20.tex'\n",
    "cols = ['ID', 'z_spec', 'EW_rest', 'logLLya', 'f_esc_Lya', 'R_s', 'HII_radii']\n",
    "df.to_latex(buf=path ,columns= cols, float_format='%.2f',header=True, index=False, position= 'H', label = 'Tilvi20', caption = 'Tilvi20')"
   ]
  }
 ],
 "metadata": {
  "kernelspec": {
   "display_name": "Python 3 (ipykernel)",
   "language": "python",
   "name": "python3"
  },
  "language_info": {
   "codemirror_mode": {
    "name": "ipython",
    "version": 3
   },
   "file_extension": ".py",
   "mimetype": "text/x-python",
   "name": "python",
   "nbconvert_exporter": "python",
   "pygments_lexer": "ipython3",
   "version": "3.10.12"
  }
 },
 "nbformat": 4,
 "nbformat_minor": 5
}
