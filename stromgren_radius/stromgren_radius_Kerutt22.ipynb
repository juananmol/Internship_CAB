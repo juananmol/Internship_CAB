{
 "cells": [
  {
   "cell_type": "markdown",
   "id": "46ad2287-9864-4829-9b54-8687db2cd277",
   "metadata": {},
   "source": [
    "# Prácticas ESAC: Strömgren Radius Kerutt22\n",
    "\n",
    "1. Filter in redshift\n",
    "2. $C_H$ interpolation\n",
    "3. Strömgren Radius\n",
    "4. Strömgren comovil radius\n",
    "5. Strömgren radius with Yajima Relation\n",
    "\n",
    "   Appendix A: Saving data\n",
    "\n",
    "$\\textit{Juan A. Molina-Calzada}$\n",
    "\n",
    "En este cuaderno, se van a calcular los radios de Strömgren con el objetivo de estimar el tamaño de las burbujas ionizadas durante el fin de la época de la reionizazión, entorno a z = 6-7. Como acabamos de decir, estos cálculos se tratan de una mera estimación puesto que calcularemos un límite superior al radio de estas burbujas."
   ]
  },
  {
   "cell_type": "code",
   "execution_count": 1,
   "id": "43bbbf15-44d3-4846-82da-7df20f927016",
   "metadata": {},
   "outputs": [],
   "source": [
    "# Paquetes\n",
    "from astropy.table import Table, QTable, unique\n",
    "from astropy.io import ascii\n",
    "import astropy.units as u\n",
    "import matplotlib.pyplot as plt\n",
    "import numpy as np\n",
    "import smplotlib\n",
    "from uncertainties import ufloat, unumpy\n",
    "import sys\n",
    "\n",
    "# Definimos Mpc en unidades propias comóviles\n",
    "pMpc = u.def_unit('pMpc')\n",
    "cMpc = u.def_unit('cMpc')"
   ]
  },
  {
   "cell_type": "markdown",
   "id": "fc9a475c-e4a4-4386-8b48-b8fa06708990",
   "metadata": {},
   "source": [
    "## 1. Filter in redshift\n",
    "\n",
    "Utilzaremos los datos de Kerutt22 para la realización de este cuaderno escogiendo únicamente aquellas galaxias con z > 6, puesto que estas son las únicas para las cuales el Universo todavía no estaba completamente reionizado y por tanto, estas esferas tenían un tamaño finito (no ocupaban todo el universo). "
   ]
  },
  {
   "cell_type": "code",
   "execution_count": 5,
   "id": "19639833-f7f5-48bb-b8a6-a683c5520329",
   "metadata": {},
   "outputs": [
    {
     "data": {
      "text/html": [
       "<div><i>QTable length=36</i>\n",
       "<table id=\"table134824570911088\" class=\"table-striped table-bordered table-condensed\">\n",
       "<thead><tr><th>ID</th><th>I17ID</th><th>RAdeg</th><th>DEdeg</th><th>z</th><th>e_z</th><th>Conf</th><th>EW0</th><th>e_EW0</th><th>MUV</th><th>e_MUV</th><th>logLLya</th><th>e_logLLya</th><th>Peaksep</th><th>e_Peaksep</th><th>FWHM</th><th>e_FWHM</th><th>Asym</th><th>e_Asym</th><th>Re</th><th>e_Re</th><th>axisratio</th><th>e_axisratio</th><th>f_esc_Lya</th><th>e_f_esc_Lya</th><th>logLLya_int</th><th>e_logLLya_int</th><th>logN_ion</th><th>e_logN_ion</th><th>logL1200</th><th>e_logL1200</th><th>f_esc_Lya_model</th><th>e_f_esc_Lya_model</th></tr></thead>\n",
       "<thead><tr><th></th><th></th><th>deg</th><th>deg</th><th></th><th></th><th></th><th>Angstrom</th><th>Angstrom</th><th>mag</th><th>mag</th><th>dex(erg / s)</th><th>dex(erg / s)</th><th>km / s</th><th>km / s</th><th>km / s</th><th>km / s</th><th></th><th></th><th>kpc</th><th>kpc</th><th></th><th></th><th></th><th></th><th>dex(erg / s)</th><th>dex(erg / s)</th><th>dex(1 / s)</th><th>dex(1 / s)</th><th>dex(erg / (Angstrom s))</th><th>dex(erg / (Angstrom s))</th><th></th><th></th></tr></thead>\n",
       "<thead><tr><th>int64</th><th>int64</th><th>float64</th><th>float64</th><th>float64</th><th>float64</th><th>int64</th><th>float64</th><th>float64</th><th>float64</th><th>float64</th><th>float64</th><th>float64</th><th>float64</th><th>float64</th><th>float64</th><th>float64</th><th>float64</th><th>float64</th><th>float64</th><th>float64</th><th>float64</th><th>float64</th><th>float64</th><th>float64</th><th>float64</th><th>float64</th><th>float64</th><th>float64</th><th>float64</th><th>float64</th><th>float64</th><th>float64</th></tr></thead>\n",
       "<tr><td>13444244</td><td>6102</td><td>53.17014</td><td>-27.80877</td><td>6.0438</td><td>0.002</td><td>2</td><td>553.37</td><td>0.0</td><td>-16.621</td><td>0.0</td><td>42.33</td><td>0.41</td><td>109.97</td><td>141.55</td><td>108.91</td><td>70.16</td><td>0.27</td><td>0.08</td><td>1.6</td><td>0.75</td><td>1.0</td><td>0.0</td><td>1.0</td><td>0.0</td><td>42.33</td><td>0.178</td><td>53.254</td><td>0.077</td><td>39.587</td><td>0.178</td><td>1.0</td><td>0.0</td></tr>\n",
       "<tr><td>13464246</td><td>0</td><td>53.13985</td><td>-27.7814</td><td>6.0503</td><td>0.0148</td><td>1</td><td>150.5</td><td>0.0</td><td>-16.741</td><td>0.0</td><td>41.82</td><td>1.31</td><td>0.0</td><td>0.0</td><td>370.23</td><td>103.53</td><td>0.19</td><td>0.11</td><td>1.0</td><td>0.0</td><td>1.0</td><td>0.0</td><td>0.722</td><td>0.0</td><td>41.961</td><td>0.569</td><td>52.885</td><td>0.248</td><td>39.642</td><td>0.569</td><td>1.0</td><td>0.0</td></tr>\n",
       "<tr><td>13694272</td><td>0</td><td>53.16439</td><td>-27.76205</td><td>6.0972</td><td>0.0064</td><td>2</td><td>88.09</td><td>26.45</td><td>-19.172</td><td>0.122</td><td>42.56</td><td>0.64</td><td>0.0</td><td>0.0</td><td>239.46</td><td>66.31</td><td>0.19</td><td>0.09</td><td>1.0</td><td>0.0</td><td>1.0</td><td>0.0</td><td>0.423</td><td>0.127</td><td>42.934</td><td>0.307</td><td>53.858</td><td>0.133</td><td>40.615</td><td>0.307</td><td>0.815</td><td>0.578</td></tr>\n",
       "<tr><td>13754278</td><td>0</td><td>53.17925</td><td>-27.77322</td><td>6.1024</td><td>0.0011</td><td>2</td><td>45.39</td><td>16.66</td><td>-19.303</td><td>0.117</td><td>42.32</td><td>0.81</td><td>341.43</td><td>38.11</td><td>141.28</td><td>61.41</td><td>0.23</td><td>0.09</td><td>2.41</td><td>1.28</td><td>1.0</td><td>0.0</td><td>0.218</td><td>0.08</td><td>42.982</td><td>0.386</td><td>53.906</td><td>0.168</td><td>40.663</td><td>0.386</td><td>0.42</td><td>0.377</td></tr>\n",
       "<tr><td>13774280</td><td>6283</td><td>53.18745</td><td>-27.77795</td><td>6.1118</td><td>0.006</td><td>2</td><td>864.36</td><td>0.0</td><td>-16.629</td><td>0.0</td><td>42.53</td><td>0.71</td><td>0.0</td><td>0.0</td><td>241.63</td><td>56.93</td><td>0.24</td><td>0.07</td><td>1.0</td><td>0.0</td><td>1.0</td><td>0.0</td><td>1.0</td><td>0.0</td><td>42.53</td><td>0.308</td><td>53.454</td><td>0.134</td><td>39.593</td><td>0.308</td><td>1.0</td><td>0.0</td></tr>\n",
       "<tr><td>13974303</td><td>6524</td><td>53.15823</td><td>-27.76767</td><td>6.2446</td><td>0.0102</td><td>2</td><td>105.99</td><td>0.0</td><td>-17.152</td><td>0.0</td><td>41.83</td><td>1.35</td><td>0.0</td><td>0.0</td><td>40.98</td><td>55.64</td><td>0.03</td><td>0.11</td><td>1.0</td><td>0.0</td><td>1.0</td><td>0.0</td><td>0.509</td><td>0.0</td><td>42.123</td><td>0.587</td><td>53.047</td><td>0.255</td><td>39.805</td><td>0.586</td><td>0.98</td><td>1.442</td></tr>\n",
       "<tr><td>...</td><td>...</td><td>...</td><td>...</td><td>...</td><td>...</td><td>...</td><td>...</td><td>...</td><td>...</td><td>...</td><td>...</td><td>...</td><td>...</td><td>...</td><td>...</td><td>...</td><td>...</td><td>...</td><td>...</td><td>...</td><td>...</td><td>...</td><td>...</td><td>...</td><td>...</td><td>...</td><td>...</td><td>...</td><td>...</td><td>...</td><td>...</td><td>...</td></tr>\n",
       "<tr><td>201073224</td><td>0</td><td>150.09508</td><td>2.19818</td><td>6.5277</td><td>0.0019</td><td>2</td><td>16.89</td><td>0.0</td><td>-22.904</td><td>0.023</td><td>43.33</td><td>0.46</td><td>0.0</td><td>0.0</td><td>144.19</td><td>56.93</td><td>0.39</td><td>0.09</td><td>11.76</td><td>0.0</td><td>0.78</td><td>0.0</td><td>0.081</td><td>0.0</td><td>44.422</td><td>0.199</td><td>55.346</td><td>0.086</td><td>42.102</td><td>0.2</td><td>0.156</td><td>0.078</td></tr>\n",
       "<tr><td>207034183</td><td>0</td><td>150.19034</td><td>2.20866</td><td>6.5044</td><td>0.0026</td><td>1</td><td>397.47</td><td>0.0</td><td>-17.841</td><td>0.0</td><td>42.68</td><td>0.9</td><td>0.0</td><td>0.0</td><td>195.37</td><td>131.71</td><td>0.23</td><td>0.2</td><td>1.0</td><td>0.0</td><td>1.0</td><td>0.0</td><td>1.0</td><td>0.0</td><td>42.68</td><td>0.391</td><td>53.604</td><td>0.17</td><td>40.081</td><td>0.39</td><td>1.0</td><td>0.0</td></tr>\n",
       "<tr><td>209072251</td><td>0</td><td>150.10641</td><td>2.22162</td><td>6.3027</td><td>0.0017</td><td>2</td><td>31.23</td><td>9.53</td><td>-21.698</td><td>0.038</td><td>43.12</td><td>0.7</td><td>0.0</td><td>0.0</td><td>157.96</td><td>68.85</td><td>0.14</td><td>0.15</td><td>8.89</td><td>0.0</td><td>0.21</td><td>0.0</td><td>0.15</td><td>0.046</td><td>43.944</td><td>0.332</td><td>54.868</td><td>0.144</td><td>41.625</td><td>0.332</td><td>0.289</td><td>0.224</td></tr>\n",
       "<tr><td>216062290</td><td>0</td><td>150.10674</td><td>2.22526</td><td>6.0968</td><td>0.004</td><td>1</td><td>773.88</td><td>0.0</td><td>-17.679</td><td>0.0</td><td>42.9</td><td>0.93</td><td>0.0</td><td>0.0</td><td>397.04</td><td>223.5</td><td>-0.33</td><td>0.22</td><td>1.0</td><td>0.0</td><td>1.0</td><td>0.0</td><td>1.0</td><td>0.0</td><td>42.9</td><td>0.404</td><td>53.824</td><td>0.175</td><td>40.011</td><td>0.404</td><td>1.0</td><td>0.0</td></tr>\n",
       "<tr><td>217037068</td><td>0</td><td>150.11993</td><td>2.22839</td><td>6.011</td><td>0.1146</td><td>1</td><td>223.43</td><td>0.0</td><td>-17.902</td><td>0.0</td><td>42.45</td><td>1.06</td><td>0.0</td><td>0.0</td><td>148.27</td><td>777.62</td><td>0.1</td><td>1.11</td><td>1.0</td><td>0.0</td><td>1.0</td><td>0.0</td><td>1.0</td><td>0.0</td><td>42.45</td><td>0.46</td><td>53.374</td><td>0.2</td><td>40.101</td><td>0.46</td><td>1.0</td><td>0.0</td></tr>\n",
       "<tr><td>302054157</td><td>0</td><td>53.25783</td><td>-27.68352</td><td>6.2449</td><td>922.4065</td><td>1</td><td>606.4</td><td>0.0</td><td>-16.923</td><td>0.0</td><td>42.49</td><td>1.05</td><td>0.0</td><td>0.0</td><td>138.21</td><td>24293.37</td><td>0.1</td><td>10.0</td><td>1.0</td><td>0.0</td><td>1.0</td><td>0.0</td><td>1.0</td><td>0.0</td><td>42.49</td><td>0.456</td><td>53.414</td><td>0.198</td><td>39.707</td><td>0.456</td><td>1.0</td><td>0.0</td></tr>\n",
       "</table></div>"
      ],
      "text/plain": [
       "<QTable length=36>\n",
       "    ID    I17ID   RAdeg   ... f_esc_Lya_model e_f_esc_Lya_model\n",
       "                   deg    ...                                  \n",
       "  int64   int64  float64  ...     float64          float64     \n",
       "--------- ----- --------- ... --------------- -----------------\n",
       " 13444244  6102  53.17014 ...             1.0               0.0\n",
       " 13464246     0  53.13985 ...             1.0               0.0\n",
       " 13694272     0  53.16439 ...           0.815             0.578\n",
       " 13754278     0  53.17925 ...            0.42             0.377\n",
       " 13774280  6283  53.18745 ...             1.0               0.0\n",
       " 13974303  6524  53.15823 ...            0.98             1.442\n",
       "      ...   ...       ... ...             ...               ...\n",
       "201073224     0 150.09508 ...           0.156             0.078\n",
       "207034183     0 150.19034 ...             1.0               0.0\n",
       "209072251     0 150.10641 ...           0.289             0.224\n",
       "216062290     0 150.10674 ...             1.0               0.0\n",
       "217037068     0 150.11993 ...             1.0               0.0\n",
       "302054157     0  53.25783 ...             1.0               0.0"
      ]
     },
     "execution_count": 5,
     "metadata": {},
     "output_type": "execute_result"
    }
   ],
   "source": [
    "# Leemos datos\n",
    "Kerutt22 = QTable.read('/home/juanan/Escritorio/Juanan/Estudios/Master_en_Astrofisica/Practicas_ESAC/MyJob/models/tableb1_Kerutt22_model_v1.dat', format = 'ascii', delimiter = ' ')\n",
    "Kerutt22_filter = Kerutt22[Kerutt22['z'] > 6]\n",
    "Kerutt22_filter"
   ]
  },
  {
   "cell_type": "markdown",
   "id": "4e8b94ab-bd87-4d6f-a1b7-7c913530d65d",
   "metadata": {},
   "source": [
    "## 2. $C_H$ interpolation\n",
    "\n",
    "En esta sección, definimos el coeficiente de recombinación $\\alpha_B$, la densidad de hidrógeno $n_H$ y la constante $C_H$. \n",
    "\n",
    "El primero, asumiendo una $T_e = 10^4\\,K$ tiene un valor de $\\alpha_B = 8.8 \\cdot 10^{.87} pMpc^{3}/s$ donde $pMpc$ son las unidades, en distancia propia, de $Mpc$. Por otro lado, tendremos $cMpc$, las cuales se referirán a unidades comóviles en $Mpc$. En segundo lugar, $n_H$ es el parámetro de densidad de hidrógeno, el cual depende del redshift como\n",
    "\n",
    "$$\n",
    "\\begin{equation}\n",
    "    n_H(z) = 5.878 \\cdot 10^{66} (1+z)^{3} Mpc^{-3}.\n",
    "\\end{equation}\n",
    "$$\n",
    "\n",
    "Por último, el parámetro C_H depende del reshift y sus valores son C_H(z = 8) = 2.19, C_H(z = 7) = 2.28, C_H(z = 6) = 2.37. Para valores intermedios, interpolaremos. "
   ]
  },
  {
   "cell_type": "code",
   "execution_count": 3,
   "id": "11a27887-51ed-4808-88ed-a3696c963067",
   "metadata": {},
   "outputs": [],
   "source": [
    "# C_H \n",
    "def C_H(z):\n",
    "    z_values = [6 ,7 , 8]\n",
    "    C_H_values = [2.37, 2.28, 2.19]\n",
    "    C_H = np.interp(z, z_values,C_H_values) \n",
    "    return C_H\n",
    "\n",
    "# alphaB (coeficiente de recombinación para T_e = 10⁴K)\n",
    "alphaB = 8.8 * 10**(-87)\n",
    "\n",
    "# n_H (densidad de hidrógeno)\n",
    "def n_H (z):\n",
    "    n_H = 5.878 * 10**66 * (1+z)**3\n",
    "    return n_H"
   ]
  },
  {
   "cell_type": "markdown",
   "id": "db63dae2-ba87-4cf9-94db-b792e2cdd783",
   "metadata": {},
   "source": [
    "## 3. Strömgen Radius\n",
    "\n",
    "Ya es el momento de estimar el radio de Strömgen, o mejor dicho, el límite superior al tamaño de estas burbujas para cada galaxia a z > 6. Este radio se define como:\n",
    "\n",
    "$$\n",
    "\\begin{equation}\n",
    "    R_s^{1/3} = \\frac{3 \\dot{N}_{ion}}{4\\pi C_H \\langle n_H \\rangle ^ 2 \\alpha_B}\n",
    "\\end{equation}\n",
    "$$\n",
    "\n",
    "donde $\\dot{N}_{ion}$ se corresponde con el número de fotones del continuo ionizante, según las definciones en [Reionized-Bubble-published](https://watermark.silverchair.com/mnrasl_495_1_l17.pdf?token=AQECAHi208BE49Ooan9kkhW_Ercy7Dm3ZL_9Cf3qfKAc485ysgAAA3UwggNxBgkqhkiG9w0BBwagggNiMIIDXgIBADCCA1cGCSqGSIb3DQEHATAeBglghkgBZQMEAS4wEQQMesIRyAw1IMhjJgxLAgEQgIIDKNLnPEZWRv4H07eC47gxYs3YVUGv5PmSrfVEViCuE9OGjq7ro9MHhMyPmAakzFX36UUoujJ_iE9CnliM-I7rMh4z7mOeffZzdY6hfOyq00dea8-Lq1pWKHV4W24VMD60GNXdkNjd2aavHQncseS1xETCLGjWV75goKbuh_yg9nXTHI6v6S2MA0fKTlzk56zTvu3069rRq-WpUdLuyv0U6NSQNNtqfWMR468NbLLTfIHve9wfcSxGB-iHQiIJD0nQVAkDzO-LT1nxBzsiES0EvVeGqMNtyfLWRrMX8NxIJaaGEljDw5QQtk3ogx7j5QCeYpUBYY7__mlZBc8-pdDzOQ5ALXsasW69Qkf1sSmFzIvTPaMEK9YUN8axtA9iJViI5U33clBDs8xa0nJi5GA1IsnB9Elr1WP06eTj6v-HQeNqO5w4vP9vKIYTsDRvFzuu6U-Ok0Kw0aH2ybnJAVYQ8qfFRo29CcuPwsu8UVwCpISBnRl-269GGOHYzPoEzJrp_dWBnvXTYh6TTl0178RJhmDySOlH5Ie4tMfe-dp4cdQnhl0z-x4MQRIG_SDb3Xo-crH844EffwRQ5EnsktfdoMwXXvndvakMYFzSCSYEnJU1ZhMCUPH3IeyMQS1IXNM05Qm8QGW1OlUrqIvLDMjlCZeWptQ6X7mX5lX9jph4M9eKAelJw-dZjqlhm6NHjGS7FjhfsczkoehMAi87W5bm6FPbQlTpzEdDoNfMcc3GPH1SEbdltmN8j6TrfTA5pk2JFqntSzJJC99DHJzDeSWGumc1zg4FrP7vkUC4yAGgoMsSac6IL_SpwXEKc9sKB9ezu5PVy4NrWL7sc-xSmau0sVn8g_wP25TePV25N4Z8GxAE1cV_PPHKOFJU21pomgFaZdxyPxENLoyx9v64JuoXhi48PWuV9V1JPAXatkS2q3VTz5hRGiUD9nxqy7DbU6jVmZwqErVDNamfyN_0H7VxMEOm5sa65jZyHaGtyknwQq6fktLmskgK_kmotgnM2rZWexXFBGzK5USVEwHe-iA7Ri0pKvudfX8MtFVjs8HZGOqBvO118nGdD3Q). Esto es,\n",
    "\n",
    "$$\n",
    "\\begin{equation}\n",
    "    \\dot{N}_{ion} = \\frac{Q_{ion}}{1-f_{esc,LyC}} \\cdot f_{esc,LyC}\n",
    "\\end{equation}\n",
    "$$\n",
    "\n",
    "donde $Q_{ion}$ se corresponde con los valores de $10^{logN_{ion}}$ de la tabla de Kerutt22 $\\textbf{(cuidado con la notación)}$. Se asume $f_{esc,LyC} = 0.2$, valor estimador por diversos autores. "
   ]
  },
  {
   "cell_type": "code",
   "execution_count": 4,
   "id": "1714f7a1-37d4-4d97-b24a-09ebdc382ffb",
   "metadata": {},
   "outputs": [
    {
     "data": {
      "text/html": [
       "<div><i>QTable length=36</i>\n",
       "<table id=\"table128846508347200\" class=\"table-striped table-bordered table-condensed\">\n",
       "<thead><tr><th>ID</th><th>I17ID</th><th>RAdeg</th><th>DEdeg</th><th>z</th><th>e_z</th><th>Conf</th><th>EW0</th><th>e_EW0</th><th>MUV</th><th>e_MUV</th><th>logLLya</th><th>e_logLLya</th><th>Peaksep</th><th>e_Peaksep</th><th>FWHM</th><th>e_FWHM</th><th>Asym</th><th>e_Asym</th><th>Re</th><th>e_Re</th><th>axisratio</th><th>e_axisratio</th><th>f_esc_Lya</th><th>e_f_esc_Lya</th><th>logLLya_int</th><th>e_logLLya_int</th><th>logN_ion</th><th>e_logN_ion</th><th>logL1200</th><th>e_logL1200</th><th>f_esc_Lya_model</th><th>e_f_esc_Lya_model</th><th>R_s</th></tr></thead>\n",
       "<thead><tr><th></th><th></th><th>deg</th><th>deg</th><th></th><th></th><th></th><th>Angstrom</th><th>Angstrom</th><th>mag</th><th>mag</th><th>dex(erg / s)</th><th>dex(erg / s)</th><th>km / s</th><th>km / s</th><th>km / s</th><th>km / s</th><th></th><th></th><th>kpc</th><th>kpc</th><th></th><th></th><th></th><th></th><th>dex(erg / s)</th><th>dex(erg / s)</th><th>dex(1 / s)</th><th>dex(1 / s)</th><th>dex(erg / (Angstrom s))</th><th>dex(erg / (Angstrom s))</th><th></th><th></th><th>pMpc</th></tr></thead>\n",
       "<thead><tr><th>int64</th><th>int64</th><th>float64</th><th>float64</th><th>float64</th><th>float64</th><th>int64</th><th>float64</th><th>float64</th><th>float64</th><th>float64</th><th>float64</th><th>float64</th><th>float64</th><th>float64</th><th>float64</th><th>float64</th><th>float64</th><th>float64</th><th>float64</th><th>float64</th><th>float64</th><th>float64</th><th>float64</th><th>float64</th><th>float64</th><th>float64</th><th>float64</th><th>float64</th><th>float64</th><th>float64</th><th>float64</th><th>float64</th><th>float64</th></tr></thead>\n",
       "<tr><td>13444244</td><td>6102</td><td>53.17014</td><td>-27.80877</td><td>6.0438</td><td>0.002</td><td>2</td><td>553.37</td><td>0.0</td><td>-16.621</td><td>0.0</td><td>42.33</td><td>0.41</td><td>109.97</td><td>141.55</td><td>108.91</td><td>70.16</td><td>0.27</td><td>0.08</td><td>1.6</td><td>0.75</td><td>1.0</td><td>0.0</td><td>1.0</td><td>0.0</td><td>42.33</td><td>0.178</td><td>53.254</td><td>0.077</td><td>39.587</td><td>0.178</td><td>1.0</td><td>0.0</td><td>0.496</td></tr>\n",
       "<tr><td>13464246</td><td>0</td><td>53.13985</td><td>-27.7814</td><td>6.0503</td><td>0.0148</td><td>1</td><td>150.5</td><td>0.0</td><td>-16.741</td><td>0.0</td><td>41.82</td><td>1.31</td><td>0.0</td><td>0.0</td><td>370.23</td><td>103.53</td><td>0.19</td><td>0.11</td><td>1.0</td><td>0.0</td><td>1.0</td><td>0.0</td><td>0.722</td><td>0.0</td><td>41.961</td><td>0.569</td><td>52.885</td><td>0.248</td><td>39.642</td><td>0.569</td><td>1.0</td><td>0.0</td><td>0.373</td></tr>\n",
       "<tr><td>13694272</td><td>0</td><td>53.16439</td><td>-27.76205</td><td>6.0972</td><td>0.0064</td><td>2</td><td>88.09</td><td>26.45</td><td>-19.172</td><td>0.122</td><td>42.56</td><td>0.64</td><td>0.0</td><td>0.0</td><td>239.46</td><td>66.31</td><td>0.19</td><td>0.09</td><td>1.0</td><td>0.0</td><td>1.0</td><td>0.0</td><td>0.423</td><td>0.127</td><td>42.934</td><td>0.307</td><td>53.858</td><td>0.133</td><td>40.615</td><td>0.307</td><td>0.815</td><td>0.578</td><td>0.777</td></tr>\n",
       "<tr><td>13754278</td><td>0</td><td>53.17925</td><td>-27.77322</td><td>6.1024</td><td>0.0011</td><td>2</td><td>45.39</td><td>16.66</td><td>-19.303</td><td>0.117</td><td>42.32</td><td>0.81</td><td>341.43</td><td>38.11</td><td>141.28</td><td>61.41</td><td>0.23</td><td>0.09</td><td>2.41</td><td>1.28</td><td>1.0</td><td>0.0</td><td>0.218</td><td>0.08</td><td>42.982</td><td>0.386</td><td>53.906</td><td>0.168</td><td>40.663</td><td>0.386</td><td>0.42</td><td>0.377</td><td>0.805</td></tr>\n",
       "<tr><td>13774280</td><td>6283</td><td>53.18745</td><td>-27.77795</td><td>6.1118</td><td>0.006</td><td>2</td><td>864.36</td><td>0.0</td><td>-16.629</td><td>0.0</td><td>42.53</td><td>0.71</td><td>0.0</td><td>0.0</td><td>241.63</td><td>56.93</td><td>0.24</td><td>0.07</td><td>1.0</td><td>0.0</td><td>1.0</td><td>0.0</td><td>1.0</td><td>0.0</td><td>42.53</td><td>0.308</td><td>53.454</td><td>0.134</td><td>39.593</td><td>0.308</td><td>1.0</td><td>0.0</td><td>0.568</td></tr>\n",
       "<tr><td>13974303</td><td>6524</td><td>53.15823</td><td>-27.76767</td><td>6.2446</td><td>0.0102</td><td>2</td><td>105.99</td><td>0.0</td><td>-17.152</td><td>0.0</td><td>41.83</td><td>1.35</td><td>0.0</td><td>0.0</td><td>40.98</td><td>55.64</td><td>0.03</td><td>0.11</td><td>1.0</td><td>0.0</td><td>1.0</td><td>0.0</td><td>0.509</td><td>0.0</td><td>42.123</td><td>0.587</td><td>53.047</td><td>0.255</td><td>39.805</td><td>0.586</td><td>0.98</td><td>1.442</td><td>0.401</td></tr>\n",
       "<tr><td>...</td><td>...</td><td>...</td><td>...</td><td>...</td><td>...</td><td>...</td><td>...</td><td>...</td><td>...</td><td>...</td><td>...</td><td>...</td><td>...</td><td>...</td><td>...</td><td>...</td><td>...</td><td>...</td><td>...</td><td>...</td><td>...</td><td>...</td><td>...</td><td>...</td><td>...</td><td>...</td><td>...</td><td>...</td><td>...</td><td>...</td><td>...</td><td>...</td><td>...</td></tr>\n",
       "<tr><td>201073224</td><td>0</td><td>150.09508</td><td>2.19818</td><td>6.5277</td><td>0.0019</td><td>2</td><td>16.89</td><td>0.0</td><td>-22.904</td><td>0.023</td><td>43.33</td><td>0.46</td><td>0.0</td><td>0.0</td><td>144.19</td><td>56.93</td><td>0.39</td><td>0.09</td><td>11.76</td><td>0.0</td><td>0.78</td><td>0.0</td><td>0.081</td><td>0.0</td><td>44.422</td><td>0.199</td><td>55.346</td><td>0.086</td><td>42.102</td><td>0.2</td><td>0.156</td><td>0.078</td><td>2.176</td></tr>\n",
       "<tr><td>207034183</td><td>0</td><td>150.19034</td><td>2.20866</td><td>6.5044</td><td>0.0026</td><td>1</td><td>397.47</td><td>0.0</td><td>-17.841</td><td>0.0</td><td>42.68</td><td>0.9</td><td>0.0</td><td>0.0</td><td>195.37</td><td>131.71</td><td>0.23</td><td>0.2</td><td>1.0</td><td>0.0</td><td>1.0</td><td>0.0</td><td>1.0</td><td>0.0</td><td>42.68</td><td>0.391</td><td>53.604</td><td>0.17</td><td>40.081</td><td>0.39</td><td>1.0</td><td>0.0</td><td>0.575</td></tr>\n",
       "<tr><td>209072251</td><td>0</td><td>150.10641</td><td>2.22162</td><td>6.3027</td><td>0.0017</td><td>2</td><td>31.23</td><td>9.53</td><td>-21.698</td><td>0.038</td><td>43.12</td><td>0.7</td><td>0.0</td><td>0.0</td><td>157.96</td><td>68.85</td><td>0.14</td><td>0.15</td><td>8.89</td><td>0.0</td><td>0.21</td><td>0.0</td><td>0.15</td><td>0.046</td><td>43.944</td><td>0.332</td><td>54.868</td><td>0.144</td><td>41.625</td><td>0.332</td><td>0.289</td><td>0.224</td><td>1.597</td></tr>\n",
       "<tr><td>216062290</td><td>0</td><td>150.10674</td><td>2.22526</td><td>6.0968</td><td>0.004</td><td>1</td><td>773.88</td><td>0.0</td><td>-17.679</td><td>0.0</td><td>42.9</td><td>0.93</td><td>0.0</td><td>0.0</td><td>397.04</td><td>223.5</td><td>-0.33</td><td>0.22</td><td>1.0</td><td>0.0</td><td>1.0</td><td>0.0</td><td>1.0</td><td>0.0</td><td>42.9</td><td>0.404</td><td>53.824</td><td>0.175</td><td>40.011</td><td>0.404</td><td>1.0</td><td>0.0</td><td>0.757</td></tr>\n",
       "<tr><td>217037068</td><td>0</td><td>150.11993</td><td>2.22839</td><td>6.011</td><td>0.1146</td><td>1</td><td>223.43</td><td>0.0</td><td>-17.902</td><td>0.0</td><td>42.45</td><td>1.06</td><td>0.0</td><td>0.0</td><td>148.27</td><td>777.62</td><td>0.1</td><td>1.11</td><td>1.0</td><td>0.0</td><td>1.0</td><td>0.0</td><td>1.0</td><td>0.0</td><td>42.45</td><td>0.46</td><td>53.374</td><td>0.2</td><td>40.101</td><td>0.46</td><td>1.0</td><td>0.0</td><td>0.549</td></tr>\n",
       "<tr><td>302054157</td><td>0</td><td>53.25783</td><td>-27.68352</td><td>6.2449</td><td>922.4065</td><td>1</td><td>606.4</td><td>0.0</td><td>-16.923</td><td>0.0</td><td>42.49</td><td>1.05</td><td>0.0</td><td>0.0</td><td>138.21</td><td>24293.37</td><td>0.1</td><td>10.0</td><td>1.0</td><td>0.0</td><td>1.0</td><td>0.0</td><td>1.0</td><td>0.0</td><td>42.49</td><td>0.456</td><td>53.414</td><td>0.198</td><td>39.707</td><td>0.456</td><td>1.0</td><td>0.0</td><td>0.531</td></tr>\n",
       "</table></div>"
      ],
      "text/plain": [
       "<QTable length=36>\n",
       "    ID    I17ID   RAdeg   ... f_esc_Lya_model e_f_esc_Lya_model   R_s  \n",
       "                   deg    ...                                     pMpc \n",
       "  int64   int64  float64  ...     float64          float64      float64\n",
       "--------- ----- --------- ... --------------- ----------------- -------\n",
       " 13444244  6102  53.17014 ...             1.0               0.0   0.496\n",
       " 13464246     0  53.13985 ...             1.0               0.0   0.373\n",
       " 13694272     0  53.16439 ...           0.815             0.578   0.777\n",
       " 13754278     0  53.17925 ...            0.42             0.377   0.805\n",
       " 13774280  6283  53.18745 ...             1.0               0.0   0.568\n",
       " 13974303  6524  53.15823 ...            0.98             1.442   0.401\n",
       "      ...   ...       ... ...             ...               ...     ...\n",
       "201073224     0 150.09508 ...           0.156             0.078   2.176\n",
       "207034183     0 150.19034 ...             1.0               0.0   0.575\n",
       "209072251     0 150.10641 ...           0.289             0.224   1.597\n",
       "216062290     0 150.10674 ...             1.0               0.0   0.757\n",
       "217037068     0 150.11993 ...             1.0               0.0   0.549\n",
       "302054157     0  53.25783 ...             1.0               0.0   0.531"
      ]
     },
     "execution_count": 4,
     "metadata": {},
     "output_type": "execute_result"
    }
   ],
   "source": [
    "# Strömgen radius\n",
    "f_esc_LyC = 0.2\n",
    "N_ion = (10**Kerutt22_filter['logN_ion'].value) / (1 - f_esc_LyC) * f_esc_LyC\n",
    "\n",
    "R_s = (3 * N_ion / (4 * np.pi * C_H(Kerutt22_filter['z']) * n_H(Kerutt22_filter['z'])**2 * alphaB))**(1/3)\n",
    "Kerutt22_filter['R_s'] = np.round(R_s,3) * pMpc\n",
    "Kerutt22_filter"
   ]
  },
  {
   "cell_type": "markdown",
   "id": "f29a8401-e88b-46e2-a1f0-02e6493da3b1",
   "metadata": {},
   "source": [
    "### 3.1. Strömgren Radius errors\n",
    "\n",
    "El error en el radio de Strömgen se calcula directamente con la función de uncertainties de Python."
   ]
  },
  {
   "cell_type": "code",
   "execution_count": 5,
   "id": "ed213c9a-84a2-489f-8e8a-93e35f2a84a9",
   "metadata": {},
   "outputs": [
    {
     "data": {
      "text/html": [
       "<div><i>QTable length=36</i>\n",
       "<table id=\"table128846508347200\" class=\"table-striped table-bordered table-condensed\">\n",
       "<thead><tr><th>ID</th><th>I17ID</th><th>RAdeg</th><th>DEdeg</th><th>z</th><th>e_z</th><th>Conf</th><th>EW0</th><th>e_EW0</th><th>MUV</th><th>e_MUV</th><th>logLLya</th><th>e_logLLya</th><th>Peaksep</th><th>e_Peaksep</th><th>FWHM</th><th>e_FWHM</th><th>Asym</th><th>e_Asym</th><th>Re</th><th>e_Re</th><th>axisratio</th><th>e_axisratio</th><th>f_esc_Lya</th><th>e_f_esc_Lya</th><th>logLLya_int</th><th>e_logLLya_int</th><th>logN_ion</th><th>e_logN_ion</th><th>logL1200</th><th>e_logL1200</th><th>f_esc_Lya_model</th><th>e_f_esc_Lya_model</th><th>R_s</th><th>e_R_s</th></tr></thead>\n",
       "<thead><tr><th></th><th></th><th>deg</th><th>deg</th><th></th><th></th><th></th><th>Angstrom</th><th>Angstrom</th><th>mag</th><th>mag</th><th>dex(erg / s)</th><th>dex(erg / s)</th><th>km / s</th><th>km / s</th><th>km / s</th><th>km / s</th><th></th><th></th><th>kpc</th><th>kpc</th><th></th><th></th><th></th><th></th><th>dex(erg / s)</th><th>dex(erg / s)</th><th>dex(1 / s)</th><th>dex(1 / s)</th><th>dex(erg / (Angstrom s))</th><th>dex(erg / (Angstrom s))</th><th></th><th></th><th>pMpc</th><th>pMpc</th></tr></thead>\n",
       "<thead><tr><th>int64</th><th>int64</th><th>float64</th><th>float64</th><th>float64</th><th>float64</th><th>int64</th><th>float64</th><th>float64</th><th>float64</th><th>float64</th><th>float64</th><th>float64</th><th>float64</th><th>float64</th><th>float64</th><th>float64</th><th>float64</th><th>float64</th><th>float64</th><th>float64</th><th>float64</th><th>float64</th><th>float64</th><th>float64</th><th>float64</th><th>float64</th><th>float64</th><th>float64</th><th>float64</th><th>float64</th><th>float64</th><th>float64</th><th>float64</th><th>float64</th></tr></thead>\n",
       "<tr><td>13444244</td><td>6102</td><td>53.17014</td><td>-27.80877</td><td>6.0438</td><td>0.002</td><td>2</td><td>553.37</td><td>0.0</td><td>-16.621</td><td>0.0</td><td>42.33</td><td>0.41</td><td>109.97</td><td>141.55</td><td>108.91</td><td>70.16</td><td>0.27</td><td>0.08</td><td>1.6</td><td>0.75</td><td>1.0</td><td>0.0</td><td>1.0</td><td>0.0</td><td>42.33</td><td>0.178</td><td>53.254</td><td>0.077</td><td>39.587</td><td>0.178</td><td>1.0</td><td>0.0</td><td>0.496</td><td>0.013</td></tr>\n",
       "<tr><td>13464246</td><td>0</td><td>53.13985</td><td>-27.7814</td><td>6.0503</td><td>0.0148</td><td>1</td><td>150.5</td><td>0.0</td><td>-16.741</td><td>0.0</td><td>41.82</td><td>1.31</td><td>0.0</td><td>0.0</td><td>370.23</td><td>103.53</td><td>0.19</td><td>0.11</td><td>1.0</td><td>0.0</td><td>1.0</td><td>0.0</td><td>0.722</td><td>0.0</td><td>41.961</td><td>0.569</td><td>52.885</td><td>0.248</td><td>39.642</td><td>0.569</td><td>1.0</td><td>0.0</td><td>0.373</td><td>0.031</td></tr>\n",
       "<tr><td>13694272</td><td>0</td><td>53.16439</td><td>-27.76205</td><td>6.0972</td><td>0.0064</td><td>2</td><td>88.09</td><td>26.45</td><td>-19.172</td><td>0.122</td><td>42.56</td><td>0.64</td><td>0.0</td><td>0.0</td><td>239.46</td><td>66.31</td><td>0.19</td><td>0.09</td><td>1.0</td><td>0.0</td><td>1.0</td><td>0.0</td><td>0.423</td><td>0.127</td><td>42.934</td><td>0.307</td><td>53.858</td><td>0.133</td><td>40.615</td><td>0.307</td><td>0.815</td><td>0.578</td><td>0.777</td><td>0.034</td></tr>\n",
       "<tr><td>13754278</td><td>0</td><td>53.17925</td><td>-27.77322</td><td>6.1024</td><td>0.0011</td><td>2</td><td>45.39</td><td>16.66</td><td>-19.303</td><td>0.117</td><td>42.32</td><td>0.81</td><td>341.43</td><td>38.11</td><td>141.28</td><td>61.41</td><td>0.23</td><td>0.09</td><td>2.41</td><td>1.28</td><td>1.0</td><td>0.0</td><td>0.218</td><td>0.08</td><td>42.982</td><td>0.386</td><td>53.906</td><td>0.168</td><td>40.663</td><td>0.386</td><td>0.42</td><td>0.377</td><td>0.805</td><td>0.045</td></tr>\n",
       "<tr><td>13774280</td><td>6283</td><td>53.18745</td><td>-27.77795</td><td>6.1118</td><td>0.006</td><td>2</td><td>864.36</td><td>0.0</td><td>-16.629</td><td>0.0</td><td>42.53</td><td>0.71</td><td>0.0</td><td>0.0</td><td>241.63</td><td>56.93</td><td>0.24</td><td>0.07</td><td>1.0</td><td>0.0</td><td>1.0</td><td>0.0</td><td>1.0</td><td>0.0</td><td>42.53</td><td>0.308</td><td>53.454</td><td>0.134</td><td>39.593</td><td>0.308</td><td>1.0</td><td>0.0</td><td>0.568</td><td>0.025</td></tr>\n",
       "<tr><td>13974303</td><td>6524</td><td>53.15823</td><td>-27.76767</td><td>6.2446</td><td>0.0102</td><td>2</td><td>105.99</td><td>0.0</td><td>-17.152</td><td>0.0</td><td>41.83</td><td>1.35</td><td>0.0</td><td>0.0</td><td>40.98</td><td>55.64</td><td>0.03</td><td>0.11</td><td>1.0</td><td>0.0</td><td>1.0</td><td>0.0</td><td>0.509</td><td>0.0</td><td>42.123</td><td>0.587</td><td>53.047</td><td>0.255</td><td>39.805</td><td>0.586</td><td>0.98</td><td>1.442</td><td>0.401</td><td>0.034</td></tr>\n",
       "<tr><td>...</td><td>...</td><td>...</td><td>...</td><td>...</td><td>...</td><td>...</td><td>...</td><td>...</td><td>...</td><td>...</td><td>...</td><td>...</td><td>...</td><td>...</td><td>...</td><td>...</td><td>...</td><td>...</td><td>...</td><td>...</td><td>...</td><td>...</td><td>...</td><td>...</td><td>...</td><td>...</td><td>...</td><td>...</td><td>...</td><td>...</td><td>...</td><td>...</td><td>...</td><td>...</td></tr>\n",
       "<tr><td>201073224</td><td>0</td><td>150.09508</td><td>2.19818</td><td>6.5277</td><td>0.0019</td><td>2</td><td>16.89</td><td>0.0</td><td>-22.904</td><td>0.023</td><td>43.33</td><td>0.46</td><td>0.0</td><td>0.0</td><td>144.19</td><td>56.93</td><td>0.39</td><td>0.09</td><td>11.76</td><td>0.0</td><td>0.78</td><td>0.0</td><td>0.081</td><td>0.0</td><td>44.422</td><td>0.199</td><td>55.346</td><td>0.086</td><td>42.102</td><td>0.2</td><td>0.156</td><td>0.078</td><td>2.176</td><td>0.062</td></tr>\n",
       "<tr><td>207034183</td><td>0</td><td>150.19034</td><td>2.20866</td><td>6.5044</td><td>0.0026</td><td>1</td><td>397.47</td><td>0.0</td><td>-17.841</td><td>0.0</td><td>42.68</td><td>0.9</td><td>0.0</td><td>0.0</td><td>195.37</td><td>131.71</td><td>0.23</td><td>0.2</td><td>1.0</td><td>0.0</td><td>1.0</td><td>0.0</td><td>1.0</td><td>0.0</td><td>42.68</td><td>0.391</td><td>53.604</td><td>0.17</td><td>40.081</td><td>0.39</td><td>1.0</td><td>0.0</td><td>0.575</td><td>0.033</td></tr>\n",
       "<tr><td>209072251</td><td>0</td><td>150.10641</td><td>2.22162</td><td>6.3027</td><td>0.0017</td><td>2</td><td>31.23</td><td>9.53</td><td>-21.698</td><td>0.038</td><td>43.12</td><td>0.7</td><td>0.0</td><td>0.0</td><td>157.96</td><td>68.85</td><td>0.14</td><td>0.15</td><td>8.89</td><td>0.0</td><td>0.21</td><td>0.0</td><td>0.15</td><td>0.046</td><td>43.944</td><td>0.332</td><td>54.868</td><td>0.144</td><td>41.625</td><td>0.332</td><td>0.289</td><td>0.224</td><td>1.597</td><td>0.077</td></tr>\n",
       "<tr><td>216062290</td><td>0</td><td>150.10674</td><td>2.22526</td><td>6.0968</td><td>0.004</td><td>1</td><td>773.88</td><td>0.0</td><td>-17.679</td><td>0.0</td><td>42.9</td><td>0.93</td><td>0.0</td><td>0.0</td><td>397.04</td><td>223.5</td><td>-0.33</td><td>0.22</td><td>1.0</td><td>0.0</td><td>1.0</td><td>0.0</td><td>1.0</td><td>0.0</td><td>42.9</td><td>0.404</td><td>53.824</td><td>0.175</td><td>40.011</td><td>0.404</td><td>1.0</td><td>0.0</td><td>0.757</td><td>0.044</td></tr>\n",
       "<tr><td>217037068</td><td>0</td><td>150.11993</td><td>2.22839</td><td>6.011</td><td>0.1146</td><td>1</td><td>223.43</td><td>0.0</td><td>-17.902</td><td>0.0</td><td>42.45</td><td>1.06</td><td>0.0</td><td>0.0</td><td>148.27</td><td>777.62</td><td>0.1</td><td>1.11</td><td>1.0</td><td>0.0</td><td>1.0</td><td>0.0</td><td>1.0</td><td>0.0</td><td>42.45</td><td>0.46</td><td>53.374</td><td>0.2</td><td>40.101</td><td>0.46</td><td>1.0</td><td>0.0</td><td>0.549</td><td>0.037</td></tr>\n",
       "<tr><td>302054157</td><td>0</td><td>53.25783</td><td>-27.68352</td><td>6.2449</td><td>922.4065</td><td>1</td><td>606.4</td><td>0.0</td><td>-16.923</td><td>0.0</td><td>42.49</td><td>1.05</td><td>0.0</td><td>0.0</td><td>138.21</td><td>24293.37</td><td>0.1</td><td>10.0</td><td>1.0</td><td>0.0</td><td>1.0</td><td>0.0</td><td>1.0</td><td>0.0</td><td>42.49</td><td>0.456</td><td>53.414</td><td>0.198</td><td>39.707</td><td>0.456</td><td>1.0</td><td>0.0</td><td>0.531</td><td>0.035</td></tr>\n",
       "</table></div>"
      ],
      "text/plain": [
       "<QTable length=36>\n",
       "    ID    I17ID   RAdeg     DEdeg   ... e_f_esc_Lya_model   R_s    e_R_s \n",
       "                   deg       deg    ...                     pMpc    pMpc \n",
       "  int64   int64  float64   float64  ...      float64      float64 float64\n",
       "--------- ----- --------- --------- ... ----------------- ------- -------\n",
       " 13444244  6102  53.17014 -27.80877 ...               0.0   0.496   0.013\n",
       " 13464246     0  53.13985  -27.7814 ...               0.0   0.373   0.031\n",
       " 13694272     0  53.16439 -27.76205 ...             0.578   0.777   0.034\n",
       " 13754278     0  53.17925 -27.77322 ...             0.377   0.805   0.045\n",
       " 13774280  6283  53.18745 -27.77795 ...               0.0   0.568   0.025\n",
       " 13974303  6524  53.15823 -27.76767 ...             1.442   0.401   0.034\n",
       "      ...   ...       ...       ... ...               ...     ...     ...\n",
       "201073224     0 150.09508   2.19818 ...             0.078   2.176   0.062\n",
       "207034183     0 150.19034   2.20866 ...               0.0   0.575   0.033\n",
       "209072251     0 150.10641   2.22162 ...             0.224   1.597   0.077\n",
       "216062290     0 150.10674   2.22526 ...               0.0   0.757   0.044\n",
       "217037068     0 150.11993   2.22839 ...               0.0   0.549   0.037\n",
       "302054157     0  53.25783 -27.68352 ...               0.0   0.531   0.035"
      ]
     },
     "execution_count": 5,
     "metadata": {},
     "output_type": "execute_result"
    }
   ],
   "source": [
    "# Errors in Strömgen Radius\n",
    "N_unc = unumpy.uarray(N_ion, (10**Kerutt22_filter['logN_ion'].value*Kerutt22_filter['e_logN_ion'].value) / (1 - f_esc_LyC) * f_esc_LyC)\n",
    "C_H_unc = unumpy.uarray(C_H(Kerutt22_filter['z']),0)\n",
    "n_H_unc = unumpy.uarray(n_H(Kerutt22_filter['z']),0)\n",
    "\n",
    "e_R_s_values =  (3 * N_unc / (4 * np.pi * C_H_unc * n_H_unc**2 * alphaB))**(1/3)\n",
    "\n",
    "e_R_s = []\n",
    "for i in range(len(e_R_s_values)):\n",
    "    e_R_s.append(e_R_s_values[i].std_dev)\n",
    "\n",
    "Kerutt22_filter['e_R_s'] = np.round(e_R_s,3) * pMpc\n",
    "Kerutt22_filter"
   ]
  },
  {
   "cell_type": "markdown",
   "id": "8bc716c2-d0c1-4fb8-b298-85029dd373d8",
   "metadata": {},
   "source": [
    "## 4. Strömgren comovil raidus\n",
    "\n",
    "Por último, reescalamos este radio calculado a distancia cómovil. Nótese que $pMC$ y $cMpc$ son unidades de longitud en $Mpc$ para distancias propias y comóviles respectivamente. Añadiremos estas unidades en la QTable."
   ]
  },
  {
   "cell_type": "code",
   "execution_count": 6,
   "id": "254092ec-fa0e-4c0e-ba17-d60f3d0ebb06",
   "metadata": {},
   "outputs": [
    {
     "data": {
      "text/html": [
       "<div><i>QTable length=36</i>\n",
       "<table id=\"table128846508347200\" class=\"table-striped table-bordered table-condensed\">\n",
       "<thead><tr><th>ID</th><th>I17ID</th><th>RAdeg</th><th>DEdeg</th><th>z</th><th>e_z</th><th>Conf</th><th>EW0</th><th>e_EW0</th><th>MUV</th><th>e_MUV</th><th>logLLya</th><th>e_logLLya</th><th>Peaksep</th><th>e_Peaksep</th><th>FWHM</th><th>e_FWHM</th><th>Asym</th><th>e_Asym</th><th>Re</th><th>e_Re</th><th>axisratio</th><th>e_axisratio</th><th>f_esc_Lya</th><th>e_f_esc_Lya</th><th>logLLya_int</th><th>e_logLLya_int</th><th>logN_ion</th><th>e_logN_ion</th><th>logL1200</th><th>e_logL1200</th><th>f_esc_Lya_model</th><th>e_f_esc_Lya_model</th><th>R_s</th><th>e_R_s</th><th>R_s_com</th><th>e_R_s_com</th></tr></thead>\n",
       "<thead><tr><th></th><th></th><th>deg</th><th>deg</th><th></th><th></th><th></th><th>Angstrom</th><th>Angstrom</th><th>mag</th><th>mag</th><th>dex(erg / s)</th><th>dex(erg / s)</th><th>km / s</th><th>km / s</th><th>km / s</th><th>km / s</th><th></th><th></th><th>kpc</th><th>kpc</th><th></th><th></th><th></th><th></th><th>dex(erg / s)</th><th>dex(erg / s)</th><th>dex(1 / s)</th><th>dex(1 / s)</th><th>dex(erg / (Angstrom s))</th><th>dex(erg / (Angstrom s))</th><th></th><th></th><th>pMpc</th><th>pMpc</th><th>cMpc</th><th>cMpc</th></tr></thead>\n",
       "<thead><tr><th>int64</th><th>int64</th><th>float64</th><th>float64</th><th>float64</th><th>float64</th><th>int64</th><th>float64</th><th>float64</th><th>float64</th><th>float64</th><th>float64</th><th>float64</th><th>float64</th><th>float64</th><th>float64</th><th>float64</th><th>float64</th><th>float64</th><th>float64</th><th>float64</th><th>float64</th><th>float64</th><th>float64</th><th>float64</th><th>float64</th><th>float64</th><th>float64</th><th>float64</th><th>float64</th><th>float64</th><th>float64</th><th>float64</th><th>float64</th><th>float64</th><th>float64</th><th>float64</th></tr></thead>\n",
       "<tr><td>13444244</td><td>6102</td><td>53.17014</td><td>-27.80877</td><td>6.0438</td><td>0.002</td><td>2</td><td>553.37</td><td>0.0</td><td>-16.621</td><td>0.0</td><td>42.33</td><td>0.41</td><td>109.97</td><td>141.55</td><td>108.91</td><td>70.16</td><td>0.27</td><td>0.08</td><td>1.6</td><td>0.75</td><td>1.0</td><td>0.0</td><td>1.0</td><td>0.0</td><td>42.33</td><td>0.178</td><td>53.254</td><td>0.077</td><td>39.587</td><td>0.178</td><td>1.0</td><td>0.0</td><td>0.496</td><td>0.013</td><td>3.494</td><td>0.092</td></tr>\n",
       "<tr><td>13464246</td><td>0</td><td>53.13985</td><td>-27.7814</td><td>6.0503</td><td>0.0148</td><td>1</td><td>150.5</td><td>0.0</td><td>-16.741</td><td>0.0</td><td>41.82</td><td>1.31</td><td>0.0</td><td>0.0</td><td>370.23</td><td>103.53</td><td>0.19</td><td>0.11</td><td>1.0</td><td>0.0</td><td>1.0</td><td>0.0</td><td>0.722</td><td>0.0</td><td>41.961</td><td>0.569</td><td>52.885</td><td>0.248</td><td>39.642</td><td>0.569</td><td>1.0</td><td>0.0</td><td>0.373</td><td>0.031</td><td>2.63</td><td>0.219</td></tr>\n",
       "<tr><td>13694272</td><td>0</td><td>53.16439</td><td>-27.76205</td><td>6.0972</td><td>0.0064</td><td>2</td><td>88.09</td><td>26.45</td><td>-19.172</td><td>0.122</td><td>42.56</td><td>0.64</td><td>0.0</td><td>0.0</td><td>239.46</td><td>66.31</td><td>0.19</td><td>0.09</td><td>1.0</td><td>0.0</td><td>1.0</td><td>0.0</td><td>0.423</td><td>0.127</td><td>42.934</td><td>0.307</td><td>53.858</td><td>0.133</td><td>40.615</td><td>0.307</td><td>0.815</td><td>0.578</td><td>0.777</td><td>0.034</td><td>5.515</td><td>0.241</td></tr>\n",
       "<tr><td>13754278</td><td>0</td><td>53.17925</td><td>-27.77322</td><td>6.1024</td><td>0.0011</td><td>2</td><td>45.39</td><td>16.66</td><td>-19.303</td><td>0.117</td><td>42.32</td><td>0.81</td><td>341.43</td><td>38.11</td><td>141.28</td><td>61.41</td><td>0.23</td><td>0.09</td><td>2.41</td><td>1.28</td><td>1.0</td><td>0.0</td><td>0.218</td><td>0.08</td><td>42.982</td><td>0.386</td><td>53.906</td><td>0.168</td><td>40.663</td><td>0.386</td><td>0.42</td><td>0.377</td><td>0.805</td><td>0.045</td><td>5.717</td><td>0.32</td></tr>\n",
       "<tr><td>13774280</td><td>6283</td><td>53.18745</td><td>-27.77795</td><td>6.1118</td><td>0.006</td><td>2</td><td>864.36</td><td>0.0</td><td>-16.629</td><td>0.0</td><td>42.53</td><td>0.71</td><td>0.0</td><td>0.0</td><td>241.63</td><td>56.93</td><td>0.24</td><td>0.07</td><td>1.0</td><td>0.0</td><td>1.0</td><td>0.0</td><td>1.0</td><td>0.0</td><td>42.53</td><td>0.308</td><td>53.454</td><td>0.134</td><td>39.593</td><td>0.308</td><td>1.0</td><td>0.0</td><td>0.568</td><td>0.025</td><td>4.04</td><td>0.178</td></tr>\n",
       "<tr><td>13974303</td><td>6524</td><td>53.15823</td><td>-27.76767</td><td>6.2446</td><td>0.0102</td><td>2</td><td>105.99</td><td>0.0</td><td>-17.152</td><td>0.0</td><td>41.83</td><td>1.35</td><td>0.0</td><td>0.0</td><td>40.98</td><td>55.64</td><td>0.03</td><td>0.11</td><td>1.0</td><td>0.0</td><td>1.0</td><td>0.0</td><td>0.509</td><td>0.0</td><td>42.123</td><td>0.587</td><td>53.047</td><td>0.255</td><td>39.805</td><td>0.586</td><td>0.98</td><td>1.442</td><td>0.401</td><td>0.034</td><td>2.905</td><td>0.246</td></tr>\n",
       "<tr><td>...</td><td>...</td><td>...</td><td>...</td><td>...</td><td>...</td><td>...</td><td>...</td><td>...</td><td>...</td><td>...</td><td>...</td><td>...</td><td>...</td><td>...</td><td>...</td><td>...</td><td>...</td><td>...</td><td>...</td><td>...</td><td>...</td><td>...</td><td>...</td><td>...</td><td>...</td><td>...</td><td>...</td><td>...</td><td>...</td><td>...</td><td>...</td><td>...</td><td>...</td><td>...</td><td>...</td><td>...</td></tr>\n",
       "<tr><td>201073224</td><td>0</td><td>150.09508</td><td>2.19818</td><td>6.5277</td><td>0.0019</td><td>2</td><td>16.89</td><td>0.0</td><td>-22.904</td><td>0.023</td><td>43.33</td><td>0.46</td><td>0.0</td><td>0.0</td><td>144.19</td><td>56.93</td><td>0.39</td><td>0.09</td><td>11.76</td><td>0.0</td><td>0.78</td><td>0.0</td><td>0.081</td><td>0.0</td><td>44.422</td><td>0.199</td><td>55.346</td><td>0.086</td><td>42.102</td><td>0.2</td><td>0.156</td><td>0.078</td><td>2.176</td><td>0.062</td><td>16.38</td><td>0.467</td></tr>\n",
       "<tr><td>207034183</td><td>0</td><td>150.19034</td><td>2.20866</td><td>6.5044</td><td>0.0026</td><td>1</td><td>397.47</td><td>0.0</td><td>-17.841</td><td>0.0</td><td>42.68</td><td>0.9</td><td>0.0</td><td>0.0</td><td>195.37</td><td>131.71</td><td>0.23</td><td>0.2</td><td>1.0</td><td>0.0</td><td>1.0</td><td>0.0</td><td>1.0</td><td>0.0</td><td>42.68</td><td>0.391</td><td>53.604</td><td>0.17</td><td>40.081</td><td>0.39</td><td>1.0</td><td>0.0</td><td>0.575</td><td>0.033</td><td>4.315</td><td>0.248</td></tr>\n",
       "<tr><td>209072251</td><td>0</td><td>150.10641</td><td>2.22162</td><td>6.3027</td><td>0.0017</td><td>2</td><td>31.23</td><td>9.53</td><td>-21.698</td><td>0.038</td><td>43.12</td><td>0.7</td><td>0.0</td><td>0.0</td><td>157.96</td><td>68.85</td><td>0.14</td><td>0.15</td><td>8.89</td><td>0.0</td><td>0.21</td><td>0.0</td><td>0.15</td><td>0.046</td><td>43.944</td><td>0.332</td><td>54.868</td><td>0.144</td><td>41.625</td><td>0.332</td><td>0.289</td><td>0.224</td><td>1.597</td><td>0.077</td><td>11.662</td><td>0.562</td></tr>\n",
       "<tr><td>216062290</td><td>0</td><td>150.10674</td><td>2.22526</td><td>6.0968</td><td>0.004</td><td>1</td><td>773.88</td><td>0.0</td><td>-17.679</td><td>0.0</td><td>42.9</td><td>0.93</td><td>0.0</td><td>0.0</td><td>397.04</td><td>223.5</td><td>-0.33</td><td>0.22</td><td>1.0</td><td>0.0</td><td>1.0</td><td>0.0</td><td>1.0</td><td>0.0</td><td>42.9</td><td>0.404</td><td>53.824</td><td>0.175</td><td>40.011</td><td>0.404</td><td>1.0</td><td>0.0</td><td>0.757</td><td>0.044</td><td>5.372</td><td>0.312</td></tr>\n",
       "<tr><td>217037068</td><td>0</td><td>150.11993</td><td>2.22839</td><td>6.011</td><td>0.1146</td><td>1</td><td>223.43</td><td>0.0</td><td>-17.902</td><td>0.0</td><td>42.45</td><td>1.06</td><td>0.0</td><td>0.0</td><td>148.27</td><td>777.62</td><td>0.1</td><td>1.11</td><td>1.0</td><td>0.0</td><td>1.0</td><td>0.0</td><td>1.0</td><td>0.0</td><td>42.45</td><td>0.46</td><td>53.374</td><td>0.2</td><td>40.101</td><td>0.46</td><td>1.0</td><td>0.0</td><td>0.549</td><td>0.037</td><td>3.849</td><td>0.259</td></tr>\n",
       "<tr><td>302054157</td><td>0</td><td>53.25783</td><td>-27.68352</td><td>6.2449</td><td>922.4065</td><td>1</td><td>606.4</td><td>0.0</td><td>-16.923</td><td>0.0</td><td>42.49</td><td>1.05</td><td>0.0</td><td>0.0</td><td>138.21</td><td>24293.37</td><td>0.1</td><td>10.0</td><td>1.0</td><td>0.0</td><td>1.0</td><td>0.0</td><td>1.0</td><td>0.0</td><td>42.49</td><td>0.456</td><td>53.414</td><td>0.198</td><td>39.707</td><td>0.456</td><td>1.0</td><td>0.0</td><td>0.531</td><td>0.035</td><td>3.847</td><td>0.254</td></tr>\n",
       "</table></div>"
      ],
      "text/plain": [
       "<QTable length=36>\n",
       "    ID    I17ID   RAdeg     DEdeg   ...   R_s    e_R_s  R_s_com e_R_s_com\n",
       "                   deg       deg    ...   pMpc    pMpc    cMpc     cMpc  \n",
       "  int64   int64  float64   float64  ... float64 float64 float64  float64 \n",
       "--------- ----- --------- --------- ... ------- ------- ------- ---------\n",
       " 13444244  6102  53.17014 -27.80877 ...   0.496   0.013   3.494     0.092\n",
       " 13464246     0  53.13985  -27.7814 ...   0.373   0.031    2.63     0.219\n",
       " 13694272     0  53.16439 -27.76205 ...   0.777   0.034   5.515     0.241\n",
       " 13754278     0  53.17925 -27.77322 ...   0.805   0.045   5.717      0.32\n",
       " 13774280  6283  53.18745 -27.77795 ...   0.568   0.025    4.04     0.178\n",
       " 13974303  6524  53.15823 -27.76767 ...   0.401   0.034   2.905     0.246\n",
       "      ...   ...       ...       ... ...     ...     ...     ...       ...\n",
       "201073224     0 150.09508   2.19818 ...   2.176   0.062   16.38     0.467\n",
       "207034183     0 150.19034   2.20866 ...   0.575   0.033   4.315     0.248\n",
       "209072251     0 150.10641   2.22162 ...   1.597   0.077  11.662     0.562\n",
       "216062290     0 150.10674   2.22526 ...   0.757   0.044   5.372     0.312\n",
       "217037068     0 150.11993   2.22839 ...   0.549   0.037   3.849     0.259\n",
       "302054157     0  53.25783 -27.68352 ...   0.531   0.035   3.847     0.254"
      ]
     },
     "execution_count": 6,
     "metadata": {},
     "output_type": "execute_result"
    }
   ],
   "source": [
    "# Strömgen proper radius to comovil\n",
    "Kerutt22_filter['R_s_com'] = np.round(Kerutt22_filter['R_s'].value * (1 + Kerutt22_filter['z']),3) * cMpc\n",
    "Kerutt22_filter['e_R_s_com'] = np.round(Kerutt22_filter['e_R_s'].value * (1 + Kerutt22_filter['z']),3) * cMpc\n",
    "Kerutt22_filter"
   ]
  },
  {
   "cell_type": "markdown",
   "id": "522b2f18-ba23-412c-8277-76a2b9c3007f",
   "metadata": {},
   "source": [
    "## 5. Strömgren Radius with Yajima Relation\n",
    "\n",
    "En esta sección, vamos a estimar nuevamente el radio de Strömghen utilizando la relación de la _Figura 13 de Yajima (Hidenobu Yajima, et al. (2008)_."
   ]
  },
  {
   "cell_type": "code",
   "execution_count": 7,
   "id": "a557f52d-fcbd-41a1-a7bd-addec9157f94",
   "metadata": {},
   "outputs": [
    {
     "data": {
      "image/png": "[encoded data removed]",
      "text/plain": [
       "<Figure size 720x720 with 1 Axes>"
      ]
     },
     "metadata": {},
     "output_type": "display_data"
    },
    {
     "data": {
      "text/html": [
       "<div><i>QTable length=36</i>\n",
       "<table id=\"table128846508347200\" class=\"table-striped table-bordered table-condensed\">\n",
       "<thead><tr><th>ID</th><th>I17ID</th><th>RAdeg</th><th>DEdeg</th><th>z</th><th>e_z</th><th>Conf</th><th>EW0</th><th>e_EW0</th><th>MUV</th><th>e_MUV</th><th>logLLya</th><th>e_logLLya</th><th>Peaksep</th><th>e_Peaksep</th><th>FWHM</th><th>e_FWHM</th><th>Asym</th><th>e_Asym</th><th>Re</th><th>e_Re</th><th>axisratio</th><th>e_axisratio</th><th>f_esc_Lya</th><th>e_f_esc_Lya</th><th>logLLya_int</th><th>e_logLLya_int</th><th>logN_ion</th><th>e_logN_ion</th><th>logL1200</th><th>e_logL1200</th><th>f_esc_Lya_model</th><th>e_f_esc_Lya_model</th><th>R_s</th><th>e_R_s</th><th>R_s_com</th><th>e_R_s_com</th><th>R_HII</th></tr></thead>\n",
       "<thead><tr><th></th><th></th><th>deg</th><th>deg</th><th></th><th></th><th></th><th>Angstrom</th><th>Angstrom</th><th>mag</th><th>mag</th><th>dex(erg / s)</th><th>dex(erg / s)</th><th>km / s</th><th>km / s</th><th>km / s</th><th>km / s</th><th></th><th></th><th>kpc</th><th>kpc</th><th></th><th></th><th></th><th></th><th>dex(erg / s)</th><th>dex(erg / s)</th><th>dex(1 / s)</th><th>dex(1 / s)</th><th>dex(erg / (Angstrom s))</th><th>dex(erg / (Angstrom s))</th><th></th><th></th><th>pMpc</th><th>pMpc</th><th>cMpc</th><th>cMpc</th><th>pMpc</th></tr></thead>\n",
       "<thead><tr><th>int64</th><th>int64</th><th>float64</th><th>float64</th><th>float64</th><th>float64</th><th>int64</th><th>float64</th><th>float64</th><th>float64</th><th>float64</th><th>float64</th><th>float64</th><th>float64</th><th>float64</th><th>float64</th><th>float64</th><th>float64</th><th>float64</th><th>float64</th><th>float64</th><th>float64</th><th>float64</th><th>float64</th><th>float64</th><th>float64</th><th>float64</th><th>float64</th><th>float64</th><th>float64</th><th>float64</th><th>float64</th><th>float64</th><th>float64</th><th>float64</th><th>float64</th><th>float64</th><th>float64</th></tr></thead>\n",
       "<tr><td>13444244</td><td>6102</td><td>53.17014</td><td>-27.80877</td><td>6.0438</td><td>0.002</td><td>2</td><td>553.37</td><td>0.0</td><td>-16.621</td><td>0.0</td><td>42.33</td><td>0.41</td><td>109.97</td><td>141.55</td><td>108.91</td><td>70.16</td><td>0.27</td><td>0.08</td><td>1.6</td><td>0.75</td><td>1.0</td><td>0.0</td><td>1.0</td><td>0.0</td><td>42.33</td><td>0.178</td><td>53.254</td><td>0.077</td><td>39.587</td><td>0.178</td><td>1.0</td><td>0.0</td><td>0.496</td><td>0.013</td><td>3.494</td><td>0.092</td><td>0.6</td></tr>\n",
       "<tr><td>13464246</td><td>0</td><td>53.13985</td><td>-27.7814</td><td>6.0503</td><td>0.0148</td><td>1</td><td>150.5</td><td>0.0</td><td>-16.741</td><td>0.0</td><td>41.82</td><td>1.31</td><td>0.0</td><td>0.0</td><td>370.23</td><td>103.53</td><td>0.19</td><td>0.11</td><td>1.0</td><td>0.0</td><td>1.0</td><td>0.0</td><td>0.722</td><td>0.0</td><td>41.961</td><td>0.569</td><td>52.885</td><td>0.248</td><td>39.642</td><td>0.569</td><td>1.0</td><td>0.0</td><td>0.373</td><td>0.031</td><td>2.63</td><td>0.219</td><td>0.427</td></tr>\n",
       "<tr><td>13694272</td><td>0</td><td>53.16439</td><td>-27.76205</td><td>6.0972</td><td>0.0064</td><td>2</td><td>88.09</td><td>26.45</td><td>-19.172</td><td>0.122</td><td>42.56</td><td>0.64</td><td>0.0</td><td>0.0</td><td>239.46</td><td>66.31</td><td>0.19</td><td>0.09</td><td>1.0</td><td>0.0</td><td>1.0</td><td>0.0</td><td>0.423</td><td>0.127</td><td>42.934</td><td>0.307</td><td>53.858</td><td>0.133</td><td>40.615</td><td>0.307</td><td>0.815</td><td>0.578</td><td>0.777</td><td>0.034</td><td>5.515</td><td>0.241</td><td>0.706</td></tr>\n",
       "<tr><td>13754278</td><td>0</td><td>53.17925</td><td>-27.77322</td><td>6.1024</td><td>0.0011</td><td>2</td><td>45.39</td><td>16.66</td><td>-19.303</td><td>0.117</td><td>42.32</td><td>0.81</td><td>341.43</td><td>38.11</td><td>141.28</td><td>61.41</td><td>0.23</td><td>0.09</td><td>2.41</td><td>1.28</td><td>1.0</td><td>0.0</td><td>0.218</td><td>0.08</td><td>42.982</td><td>0.386</td><td>53.906</td><td>0.168</td><td>40.663</td><td>0.386</td><td>0.42</td><td>0.377</td><td>0.805</td><td>0.045</td><td>5.717</td><td>0.32</td><td>0.596</td></tr>\n",
       "<tr><td>13774280</td><td>6283</td><td>53.18745</td><td>-27.77795</td><td>6.1118</td><td>0.006</td><td>2</td><td>864.36</td><td>0.0</td><td>-16.629</td><td>0.0</td><td>42.53</td><td>0.71</td><td>0.0</td><td>0.0</td><td>241.63</td><td>56.93</td><td>0.24</td><td>0.07</td><td>1.0</td><td>0.0</td><td>1.0</td><td>0.0</td><td>1.0</td><td>0.0</td><td>42.53</td><td>0.308</td><td>53.454</td><td>0.134</td><td>39.593</td><td>0.308</td><td>1.0</td><td>0.0</td><td>0.568</td><td>0.025</td><td>4.04</td><td>0.178</td><td>0.69</td></tr>\n",
       "<tr><td>13974303</td><td>6524</td><td>53.15823</td><td>-27.76767</td><td>6.2446</td><td>0.0102</td><td>2</td><td>105.99</td><td>0.0</td><td>-17.152</td><td>0.0</td><td>41.83</td><td>1.35</td><td>0.0</td><td>0.0</td><td>40.98</td><td>55.64</td><td>0.03</td><td>0.11</td><td>1.0</td><td>0.0</td><td>1.0</td><td>0.0</td><td>0.509</td><td>0.0</td><td>42.123</td><td>0.587</td><td>53.047</td><td>0.255</td><td>39.805</td><td>0.586</td><td>0.98</td><td>1.442</td><td>0.401</td><td>0.034</td><td>2.905</td><td>0.246</td><td>0.43</td></tr>\n",
       "<tr><td>...</td><td>...</td><td>...</td><td>...</td><td>...</td><td>...</td><td>...</td><td>...</td><td>...</td><td>...</td><td>...</td><td>...</td><td>...</td><td>...</td><td>...</td><td>...</td><td>...</td><td>...</td><td>...</td><td>...</td><td>...</td><td>...</td><td>...</td><td>...</td><td>...</td><td>...</td><td>...</td><td>...</td><td>...</td><td>...</td><td>...</td><td>...</td><td>...</td><td>...</td><td>...</td><td>...</td><td>...</td><td>...</td></tr>\n",
       "<tr><td>201073224</td><td>0</td><td>150.09508</td><td>2.19818</td><td>6.5277</td><td>0.0019</td><td>2</td><td>16.89</td><td>0.0</td><td>-22.904</td><td>0.023</td><td>43.33</td><td>0.46</td><td>0.0</td><td>0.0</td><td>144.19</td><td>56.93</td><td>0.39</td><td>0.09</td><td>11.76</td><td>0.0</td><td>0.78</td><td>0.0</td><td>0.081</td><td>0.0</td><td>44.422</td><td>0.199</td><td>55.346</td><td>0.086</td><td>42.102</td><td>0.2</td><td>0.156</td><td>0.078</td><td>2.176</td><td>0.062</td><td>16.38</td><td>0.467</td><td>1.387</td></tr>\n",
       "<tr><td>207034183</td><td>0</td><td>150.19034</td><td>2.20866</td><td>6.5044</td><td>0.0026</td><td>1</td><td>397.47</td><td>0.0</td><td>-17.841</td><td>0.0</td><td>42.68</td><td>0.9</td><td>0.0</td><td>0.0</td><td>195.37</td><td>131.71</td><td>0.23</td><td>0.2</td><td>1.0</td><td>0.0</td><td>1.0</td><td>0.0</td><td>1.0</td><td>0.0</td><td>42.68</td><td>0.391</td><td>53.604</td><td>0.17</td><td>40.081</td><td>0.39</td><td>1.0</td><td>0.0</td><td>0.575</td><td>0.033</td><td>4.315</td><td>0.248</td><td>0.771</td></tr>\n",
       "<tr><td>209072251</td><td>0</td><td>150.10641</td><td>2.22162</td><td>6.3027</td><td>0.0017</td><td>2</td><td>31.23</td><td>9.53</td><td>-21.698</td><td>0.038</td><td>43.12</td><td>0.7</td><td>0.0</td><td>0.0</td><td>157.96</td><td>68.85</td><td>0.14</td><td>0.15</td><td>8.89</td><td>0.0</td><td>0.21</td><td>0.0</td><td>0.15</td><td>0.046</td><td>43.944</td><td>0.332</td><td>54.868</td><td>0.144</td><td>41.625</td><td>0.332</td><td>0.289</td><td>0.224</td><td>1.597</td><td>0.077</td><td>11.662</td><td>0.562</td><td>1.117</td></tr>\n",
       "<tr><td>216062290</td><td>0</td><td>150.10674</td><td>2.22526</td><td>6.0968</td><td>0.004</td><td>1</td><td>773.88</td><td>0.0</td><td>-17.679</td><td>0.0</td><td>42.9</td><td>0.93</td><td>0.0</td><td>0.0</td><td>397.04</td><td>223.5</td><td>-0.33</td><td>0.22</td><td>1.0</td><td>0.0</td><td>1.0</td><td>0.0</td><td>1.0</td><td>0.0</td><td>42.9</td><td>0.404</td><td>53.824</td><td>0.175</td><td>40.011</td><td>0.404</td><td>1.0</td><td>0.0</td><td>0.757</td><td>0.044</td><td>5.372</td><td>0.312</td><td>0.918</td></tr>\n",
       "<tr><td>217037068</td><td>0</td><td>150.11993</td><td>2.22839</td><td>6.011</td><td>0.1146</td><td>1</td><td>223.43</td><td>0.0</td><td>-17.902</td><td>0.0</td><td>42.45</td><td>1.06</td><td>0.0</td><td>0.0</td><td>148.27</td><td>777.62</td><td>0.1</td><td>1.11</td><td>1.0</td><td>0.0</td><td>1.0</td><td>0.0</td><td>1.0</td><td>0.0</td><td>42.45</td><td>0.46</td><td>53.374</td><td>0.2</td><td>40.101</td><td>0.46</td><td>1.0</td><td>0.0</td><td>0.549</td><td>0.037</td><td>3.849</td><td>0.259</td><td>0.653</td></tr>\n",
       "<tr><td>302054157</td><td>0</td><td>53.25783</td><td>-27.68352</td><td>6.2449</td><td>922.4065</td><td>1</td><td>606.4</td><td>0.0</td><td>-16.923</td><td>0.0</td><td>42.49</td><td>1.05</td><td>0.0</td><td>0.0</td><td>138.21</td><td>24293.37</td><td>0.1</td><td>10.0</td><td>1.0</td><td>0.0</td><td>1.0</td><td>0.0</td><td>1.0</td><td>0.0</td><td>42.49</td><td>0.456</td><td>53.414</td><td>0.198</td><td>39.707</td><td>0.456</td><td>1.0</td><td>0.0</td><td>0.531</td><td>0.035</td><td>3.847</td><td>0.254</td><td>0.671</td></tr>\n",
       "</table></div>"
      ],
      "text/plain": [
       "<QTable length=36>\n",
       "    ID    I17ID   RAdeg     DEdeg   ...  e_R_s  R_s_com e_R_s_com  R_HII \n",
       "                   deg       deg    ...   pMpc    cMpc     cMpc     pMpc \n",
       "  int64   int64  float64   float64  ... float64 float64  float64  float64\n",
       "--------- ----- --------- --------- ... ------- ------- --------- -------\n",
       " 13444244  6102  53.17014 -27.80877 ...   0.013   3.494     0.092     0.6\n",
       " 13464246     0  53.13985  -27.7814 ...   0.031    2.63     0.219   0.427\n",
       " 13694272     0  53.16439 -27.76205 ...   0.034   5.515     0.241   0.706\n",
       " 13754278     0  53.17925 -27.77322 ...   0.045   5.717      0.32   0.596\n",
       " 13774280  6283  53.18745 -27.77795 ...   0.025    4.04     0.178    0.69\n",
       " 13974303  6524  53.15823 -27.76767 ...   0.034   2.905     0.246    0.43\n",
       "      ...   ...       ...       ... ...     ...     ...       ...     ...\n",
       "201073224     0 150.09508   2.19818 ...   0.062   16.38     0.467   1.387\n",
       "207034183     0 150.19034   2.20866 ...   0.033   4.315     0.248   0.771\n",
       "209072251     0 150.10641   2.22162 ...   0.077  11.662     0.562   1.117\n",
       "216062290     0 150.10674   2.22526 ...   0.044   5.372     0.312   0.918\n",
       "217037068     0 150.11993   2.22839 ...   0.037   3.849     0.259   0.653\n",
       "302054157     0  53.25783 -27.68352 ...   0.035   3.847     0.254   0.671"
      ]
     },
     "execution_count": 7,
     "metadata": {},
     "output_type": "execute_result"
    }
   ],
   "source": [
    "# Fig. 13 Yajima\n",
    "logRHII = [1.25, 1.55, 1.87, 2.18, 2.46, 2.78, 3.08]\n",
    "logLLya = [37.4, 37.8, 38.9, 40.1, 41.3, 42.3, 43.2]\n",
    "\n",
    "plt.plot(logRHII, logLLya, marker = '^', color = 'lightgreen')\n",
    "plt.xlabel(r'$\\log_{10}R_{HII} [kpc]$')\n",
    "plt.ylabel(r'$\\log_{10}L_{Ly \\alpha} [erg/s]$')\n",
    "\n",
    "# Ajuste polinómico de n orden\n",
    "n = 5\n",
    "coefficients = np.polyfit(logLLya, logRHII, n)\n",
    "poly_fit = np.poly1d(coefficients)\n",
    "\n",
    "# Visualización del ajuste y puntos encontrados\n",
    "logLLya_fit = np.linspace(min(logLLya), max(logLLya), 100)\n",
    "logRHII_fit = poly_fit(logLLya_fit)\n",
    "\n",
    "#plt.plot(logRHII_fit, logLLya_fit, '--',label = 'fit',color='green')\n",
    "#plt.legend(fontsize = 12, frameon = True)\n",
    "plt.show()\n",
    "\n",
    "# Función que calcula EW a partir de HSC-y - Hu18DECam-NB964\n",
    "def calculate_RHII(logLLya_value):\n",
    "    return poly_fit(logLLya_value)\n",
    "\n",
    "logRHII = np.round(calculate_RHII(Kerutt22_filter['logLLya'].value),3)\n",
    "Kerutt22_filter['R_HII'] = ((np.round((10**logRHII * u.kpc).to(u.Mpc),3)).value) * pMpc\n",
    "Kerutt22_filter"
   ]
  },
  {
   "cell_type": "markdown",
   "id": "152c7087-36eb-4846-abac-f2b1c2059eb9",
   "metadata": {},
   "source": [
    "### 5.1. Errors in Strömghen Radius with Yajima Relation "
   ]
  },
  {
   "cell_type": "code",
   "execution_count": 45,
   "id": "5545c2a5-8352-40ec-855a-162ba5df6e6d",
   "metadata": {},
   "outputs": [
    {
     "data": {
      "text/html": [
       "<div><i>QTable length=36</i>\n",
       "<table id=\"table128846508347200\" class=\"table-striped table-bordered table-condensed\">\n",
       "<thead><tr><th>ID</th><th>I17ID</th><th>RAdeg</th><th>DEdeg</th><th>z</th><th>e_z</th><th>Conf</th><th>EW0</th><th>e_EW0</th><th>MUV</th><th>e_MUV</th><th>logLLya</th><th>e_logLLya</th><th>Peaksep</th><th>e_Peaksep</th><th>FWHM</th><th>e_FWHM</th><th>Asym</th><th>e_Asym</th><th>Re</th><th>e_Re</th><th>axisratio</th><th>e_axisratio</th><th>f_esc_Lya</th><th>e_f_esc_Lya</th><th>logLLya_int</th><th>e_logLLya_int</th><th>logN_ion</th><th>e_logN_ion</th><th>logL1200</th><th>e_logL1200</th><th>f_esc_Lya_model</th><th>e_f_esc_Lya_model</th><th>R_s</th><th>e_R_s</th><th>R_s_com</th><th>e_R_s_com</th><th>R_HII</th><th>e_R_HII</th></tr></thead>\n",
       "<thead><tr><th></th><th></th><th>deg</th><th>deg</th><th></th><th></th><th></th><th>Angstrom</th><th>Angstrom</th><th>mag</th><th>mag</th><th>dex(erg / s)</th><th>dex(erg / s)</th><th>km / s</th><th>km / s</th><th>km / s</th><th>km / s</th><th></th><th></th><th>kpc</th><th>kpc</th><th></th><th></th><th></th><th></th><th>dex(erg / s)</th><th>dex(erg / s)</th><th>dex(1 / s)</th><th>dex(1 / s)</th><th>dex(erg / (Angstrom s))</th><th>dex(erg / (Angstrom s))</th><th></th><th></th><th>pMpc</th><th>pMpc</th><th>cMpc</th><th>cMpc</th><th>pMpc</th><th>pMpc</th></tr></thead>\n",
       "<thead><tr><th>int64</th><th>int64</th><th>float64</th><th>float64</th><th>float64</th><th>float64</th><th>int64</th><th>float64</th><th>float64</th><th>float64</th><th>float64</th><th>float64</th><th>float64</th><th>float64</th><th>float64</th><th>float64</th><th>float64</th><th>float64</th><th>float64</th><th>float64</th><th>float64</th><th>float64</th><th>float64</th><th>float64</th><th>float64</th><th>float64</th><th>float64</th><th>float64</th><th>float64</th><th>float64</th><th>float64</th><th>float64</th><th>float64</th><th>float64</th><th>float64</th><th>float64</th><th>float64</th><th>float64</th><th>float64</th></tr></thead>\n",
       "<tr><td>13444244</td><td>6102</td><td>53.17014</td><td>-27.80877</td><td>6.0438</td><td>0.002</td><td>2</td><td>553.37</td><td>0.0</td><td>-16.621</td><td>0.0</td><td>42.33</td><td>0.41</td><td>109.97</td><td>141.55</td><td>108.91</td><td>70.16</td><td>0.27</td><td>0.08</td><td>1.6</td><td>0.75</td><td>1.0</td><td>0.0</td><td>1.0</td><td>0.0</td><td>42.33</td><td>0.178</td><td>53.254</td><td>0.077</td><td>39.587</td><td>0.178</td><td>1.0</td><td>0.0</td><td>0.496</td><td>0.013</td><td>3.494</td><td>0.092</td><td>0.6</td><td>0.12</td></tr>\n",
       "<tr><td>13464246</td><td>0</td><td>53.13985</td><td>-27.7814</td><td>6.0503</td><td>0.0148</td><td>1</td><td>150.5</td><td>0.0</td><td>-16.741</td><td>0.0</td><td>41.82</td><td>1.31</td><td>0.0</td><td>0.0</td><td>370.23</td><td>103.53</td><td>0.19</td><td>0.11</td><td>1.0</td><td>0.0</td><td>1.0</td><td>0.0</td><td>0.722</td><td>0.0</td><td>41.961</td><td>0.569</td><td>52.885</td><td>0.248</td><td>39.642</td><td>0.569</td><td>1.0</td><td>0.0</td><td>0.373</td><td>0.031</td><td>2.63</td><td>0.219</td><td>0.427</td><td>0.085</td></tr>\n",
       "<tr><td>13694272</td><td>0</td><td>53.16439</td><td>-27.76205</td><td>6.0972</td><td>0.0064</td><td>2</td><td>88.09</td><td>26.45</td><td>-19.172</td><td>0.122</td><td>42.56</td><td>0.64</td><td>0.0</td><td>0.0</td><td>239.46</td><td>66.31</td><td>0.19</td><td>0.09</td><td>1.0</td><td>0.0</td><td>1.0</td><td>0.0</td><td>0.423</td><td>0.127</td><td>42.934</td><td>0.307</td><td>53.858</td><td>0.133</td><td>40.615</td><td>0.307</td><td>0.815</td><td>0.578</td><td>0.777</td><td>0.034</td><td>5.515</td><td>0.241</td><td>0.706</td><td>0.141</td></tr>\n",
       "<tr><td>13754278</td><td>0</td><td>53.17925</td><td>-27.77322</td><td>6.1024</td><td>0.0011</td><td>2</td><td>45.39</td><td>16.66</td><td>-19.303</td><td>0.117</td><td>42.32</td><td>0.81</td><td>341.43</td><td>38.11</td><td>141.28</td><td>61.41</td><td>0.23</td><td>0.09</td><td>2.41</td><td>1.28</td><td>1.0</td><td>0.0</td><td>0.218</td><td>0.08</td><td>42.982</td><td>0.386</td><td>53.906</td><td>0.168</td><td>40.663</td><td>0.386</td><td>0.42</td><td>0.377</td><td>0.805</td><td>0.045</td><td>5.717</td><td>0.32</td><td>0.596</td><td>0.119</td></tr>\n",
       "<tr><td>13774280</td><td>6283</td><td>53.18745</td><td>-27.77795</td><td>6.1118</td><td>0.006</td><td>2</td><td>864.36</td><td>0.0</td><td>-16.629</td><td>0.0</td><td>42.53</td><td>0.71</td><td>0.0</td><td>0.0</td><td>241.63</td><td>56.93</td><td>0.24</td><td>0.07</td><td>1.0</td><td>0.0</td><td>1.0</td><td>0.0</td><td>1.0</td><td>0.0</td><td>42.53</td><td>0.308</td><td>53.454</td><td>0.134</td><td>39.593</td><td>0.308</td><td>1.0</td><td>0.0</td><td>0.568</td><td>0.025</td><td>4.04</td><td>0.178</td><td>0.69</td><td>0.138</td></tr>\n",
       "<tr><td>13974303</td><td>6524</td><td>53.15823</td><td>-27.76767</td><td>6.2446</td><td>0.0102</td><td>2</td><td>105.99</td><td>0.0</td><td>-17.152</td><td>0.0</td><td>41.83</td><td>1.35</td><td>0.0</td><td>0.0</td><td>40.98</td><td>55.64</td><td>0.03</td><td>0.11</td><td>1.0</td><td>0.0</td><td>1.0</td><td>0.0</td><td>0.509</td><td>0.0</td><td>42.123</td><td>0.587</td><td>53.047</td><td>0.255</td><td>39.805</td><td>0.586</td><td>0.98</td><td>1.442</td><td>0.401</td><td>0.034</td><td>2.905</td><td>0.246</td><td>0.43</td><td>0.086</td></tr>\n",
       "<tr><td>...</td><td>...</td><td>...</td><td>...</td><td>...</td><td>...</td><td>...</td><td>...</td><td>...</td><td>...</td><td>...</td><td>...</td><td>...</td><td>...</td><td>...</td><td>...</td><td>...</td><td>...</td><td>...</td><td>...</td><td>...</td><td>...</td><td>...</td><td>...</td><td>...</td><td>...</td><td>...</td><td>...</td><td>...</td><td>...</td><td>...</td><td>...</td><td>...</td><td>...</td><td>...</td><td>...</td><td>...</td><td>...</td><td>...</td></tr>\n",
       "<tr><td>201073224</td><td>0</td><td>150.09508</td><td>2.19818</td><td>6.5277</td><td>0.0019</td><td>2</td><td>16.89</td><td>0.0</td><td>-22.904</td><td>0.023</td><td>43.33</td><td>0.46</td><td>0.0</td><td>0.0</td><td>144.19</td><td>56.93</td><td>0.39</td><td>0.09</td><td>11.76</td><td>0.0</td><td>0.78</td><td>0.0</td><td>0.081</td><td>0.0</td><td>44.422</td><td>0.199</td><td>55.346</td><td>0.086</td><td>42.102</td><td>0.2</td><td>0.156</td><td>0.078</td><td>2.176</td><td>0.062</td><td>16.38</td><td>0.467</td><td>1.387</td><td>0.277</td></tr>\n",
       "<tr><td>207034183</td><td>0</td><td>150.19034</td><td>2.20866</td><td>6.5044</td><td>0.0026</td><td>1</td><td>397.47</td><td>0.0</td><td>-17.841</td><td>0.0</td><td>42.68</td><td>0.9</td><td>0.0</td><td>0.0</td><td>195.37</td><td>131.71</td><td>0.23</td><td>0.2</td><td>1.0</td><td>0.0</td><td>1.0</td><td>0.0</td><td>1.0</td><td>0.0</td><td>42.68</td><td>0.391</td><td>53.604</td><td>0.17</td><td>40.081</td><td>0.39</td><td>1.0</td><td>0.0</td><td>0.575</td><td>0.033</td><td>4.315</td><td>0.248</td><td>0.771</td><td>0.154</td></tr>\n",
       "<tr><td>209072251</td><td>0</td><td>150.10641</td><td>2.22162</td><td>6.3027</td><td>0.0017</td><td>2</td><td>31.23</td><td>9.53</td><td>-21.698</td><td>0.038</td><td>43.12</td><td>0.7</td><td>0.0</td><td>0.0</td><td>157.96</td><td>68.85</td><td>0.14</td><td>0.15</td><td>8.89</td><td>0.0</td><td>0.21</td><td>0.0</td><td>0.15</td><td>0.046</td><td>43.944</td><td>0.332</td><td>54.868</td><td>0.144</td><td>41.625</td><td>0.332</td><td>0.289</td><td>0.224</td><td>1.597</td><td>0.077</td><td>11.662</td><td>0.562</td><td>1.117</td><td>0.223</td></tr>\n",
       "<tr><td>216062290</td><td>0</td><td>150.10674</td><td>2.22526</td><td>6.0968</td><td>0.004</td><td>1</td><td>773.88</td><td>0.0</td><td>-17.679</td><td>0.0</td><td>42.9</td><td>0.93</td><td>0.0</td><td>0.0</td><td>397.04</td><td>223.5</td><td>-0.33</td><td>0.22</td><td>1.0</td><td>0.0</td><td>1.0</td><td>0.0</td><td>1.0</td><td>0.0</td><td>42.9</td><td>0.404</td><td>53.824</td><td>0.175</td><td>40.011</td><td>0.404</td><td>1.0</td><td>0.0</td><td>0.757</td><td>0.044</td><td>5.372</td><td>0.312</td><td>0.918</td><td>0.184</td></tr>\n",
       "<tr><td>217037068</td><td>0</td><td>150.11993</td><td>2.22839</td><td>6.011</td><td>0.1146</td><td>1</td><td>223.43</td><td>0.0</td><td>-17.902</td><td>0.0</td><td>42.45</td><td>1.06</td><td>0.0</td><td>0.0</td><td>148.27</td><td>777.62</td><td>0.1</td><td>1.11</td><td>1.0</td><td>0.0</td><td>1.0</td><td>0.0</td><td>1.0</td><td>0.0</td><td>42.45</td><td>0.46</td><td>53.374</td><td>0.2</td><td>40.101</td><td>0.46</td><td>1.0</td><td>0.0</td><td>0.549</td><td>0.037</td><td>3.849</td><td>0.259</td><td>0.653</td><td>0.131</td></tr>\n",
       "<tr><td>302054157</td><td>0</td><td>53.25783</td><td>-27.68352</td><td>6.2449</td><td>922.4065</td><td>1</td><td>606.4</td><td>0.0</td><td>-16.923</td><td>0.0</td><td>42.49</td><td>1.05</td><td>0.0</td><td>0.0</td><td>138.21</td><td>24293.37</td><td>0.1</td><td>10.0</td><td>1.0</td><td>0.0</td><td>1.0</td><td>0.0</td><td>1.0</td><td>0.0</td><td>42.49</td><td>0.456</td><td>53.414</td><td>0.198</td><td>39.707</td><td>0.456</td><td>1.0</td><td>0.0</td><td>0.531</td><td>0.035</td><td>3.847</td><td>0.254</td><td>0.671</td><td>0.134</td></tr>\n",
       "</table></div>"
      ],
      "text/plain": [
       "<QTable length=36>\n",
       "    ID    I17ID   RAdeg     DEdeg   ... R_s_com e_R_s_com  R_HII  e_R_HII\n",
       "                   deg       deg    ...   cMpc     cMpc     pMpc    pMpc \n",
       "  int64   int64  float64   float64  ... float64  float64  float64 float64\n",
       "--------- ----- --------- --------- ... ------- --------- ------- -------\n",
       " 13444244  6102  53.17014 -27.80877 ...   3.494     0.092     0.6    0.12\n",
       " 13464246     0  53.13985  -27.7814 ...    2.63     0.219   0.427   0.085\n",
       " 13694272     0  53.16439 -27.76205 ...   5.515     0.241   0.706   0.141\n",
       " 13754278     0  53.17925 -27.77322 ...   5.717      0.32   0.596   0.119\n",
       " 13774280  6283  53.18745 -27.77795 ...    4.04     0.178    0.69   0.138\n",
       " 13974303  6524  53.15823 -27.76767 ...   2.905     0.246    0.43   0.086\n",
       "      ...   ...       ...       ... ...     ...       ...     ...     ...\n",
       "201073224     0 150.09508   2.19818 ...   16.38     0.467   1.387   0.277\n",
       "207034183     0 150.19034   2.20866 ...   4.315     0.248   0.771   0.154\n",
       "209072251     0 150.10641   2.22162 ...  11.662     0.562   1.117   0.223\n",
       "216062290     0 150.10674   2.22526 ...   5.372     0.312   0.918   0.184\n",
       "217037068     0 150.11993   2.22839 ...   3.849     0.259   0.653   0.131\n",
       "302054157     0  53.25783 -27.68352 ...   3.847     0.254   0.671   0.134"
      ]
     },
     "execution_count": 45,
     "metadata": {},
     "output_type": "execute_result"
    }
   ],
   "source": [
    "# Consideramos un error del 20% en el ajuste\n",
    "Kerutt22_filter['e_R_HII'] = np.round(0.2 * Kerutt22_filter['R_HII'],3)\n",
    "Kerutt22_filter"
   ]
  },
  {
   "cell_type": "markdown",
   "id": "0b0d4286-8195-4d98-a6ca-e5c05d171760",
   "metadata": {},
   "source": [
    "## Appendix A: Saving data\n",
    "\n",
    "Si se ejecuta el siguiente código, guardaremos y sobreescribiremo los datos. Nótese que lo guardamos en formato ecsv (formato profesional para astrofísica)"
   ]
  },
  {
   "cell_type": "code",
   "execution_count": 41,
   "id": "a4e62d9d-d282-455b-bc64-d91bbe6e8522",
   "metadata": {},
   "outputs": [],
   "source": [
    "ascii.write(Kerutt22_filter, 'Kerutt22_filter_v1.dat', format='ecsv', overwrite=True)  "
   ]
  },
  {
   "cell_type": "code",
   "execution_count": 43,
   "id": "27288074-0f1c-49e2-92f4-ec9237a3c3fc",
   "metadata": {},
   "outputs": [],
   "source": [
    "# To LaTeX\n",
    "data_table = ascii.read('Kerutt22_filter_v1.dat', format='ecsv')\n",
    "df = data_table.to_pandas()[:7]\n",
    "path = '/home/juanan/Escritorio/Juanan/Estudios/Master_en_Astrofisica/Practicas_ESAC/MyJob/latex_tables/Kerutt22.tex'\n",
    "cols = ['ID', 'z', 'EW0', 'logLLya', 'f_esc_Lya', 'R_s', 'R_HII']\n",
    "df.to_latex(buf=path ,columns= cols, float_format='%.2f',header=True, index=False, position= 'H', label = 'Kerutt22', caption = 'Kerutt22')"
   ]
  }
 ],
 "metadata": {
  "kernelspec": {
   "display_name": "py310",
   "language": "python",
   "name": "py310"
  },
  "language_info": {
   "codemirror_mode": {
    "name": "ipython",
    "version": 3
   },
   "file_extension": ".py",
   "mimetype": "text/x-python",
   "name": "python",
   "nbconvert_exporter": "python",
   "pygments_lexer": "ipython3",
   "version": "3.10.12"
  }
 },
 "nbformat": 4,
 "nbformat_minor": 5
}
