{
 "cells": [
  {
   "cell_type": "markdown",
   "id": "fd3f91a1-602c-4c5f-946d-14cdc814b3f4",
   "metadata": {},
   "source": [
    "# Prácticas ESAC: Datos del JWST\n",
    "\n",
    "1. Data\n",
    "2. Radios de Strömgren\n",
    "3. Histograms of $R_{HII}$ for all data\n",
    "   \n",
    "   Appendix A: Saving data \\\n",
    "   Appendix B: Función para calcualr $R_{HII}$ a partir de Ly$\\alpha$\n",
    "\n",
    "$\\textit{Juan A. Molina-Calzada}$"
   ]
  },
  {
   "cell_type": "code",
   "execution_count": 13,
   "id": "a178ee67-32da-47b1-9c1e-bace3683f412",
   "metadata": {},
   "outputs": [],
   "source": [
    "# Packages\n",
    "from astropy.table import Table, QTable, unique, vstack\n",
    "from astropy.io import ascii\n",
    "import astropy.units as u\n",
    "import matplotlib.pyplot as plt\n",
    "import numpy as np\n",
    "import smplotlib\n",
    "from uncertainties import ufloat, unumpy\n",
    "import uncertainties.unumpy as unp\n",
    "import sys\n",
    "\n",
    "# Definimos Mpc en unidades propias comóviles\n",
    "pMpc = u.def_unit('pMpc')\n",
    "cMpc = u.def_unit('cMpc')"
   ]
  },
  {
   "cell_type": "markdown",
   "id": "b566018f-fec8-45b0-8b23-6aded6e97cd3",
   "metadata": {},
   "source": [
    "En este cuaderno vamos a trabajar con datos de galaxias a muy alto redshift detectadas recientemente por el JWST. En concreto, trabajaremos con los datos para un artículo del Science `data_science` y del Nature `data_nature`. \n",
    "\n",
    "## 1. Data\n",
    "\n",
    "A continuación, exprotamos los datos. "
   ]
  },
  {
   "cell_type": "code",
   "execution_count": 14,
   "id": "7b084d9d-d90b-41cd-ba40-adba8c473aaf",
   "metadata": {},
   "outputs": [
    {
     "data": {
      "text/html": [
       "<div><i>Table length=1</i>\n",
       "<table id=\"table128804191503792\" class=\"table-striped table-bordered table-condensed\">\n",
       "<thead><tr><th>ID</th><th>z</th><th>e_z</th><th>F_Lya</th><th>EW_0</th><th>log(M/Msun)</th><th>E_log(M/Msun)</th><th>e_log(M/Msun)</th><th>SFR</th><th>E_SFR</th><th>e_SFR</th><th>12+log(0/H)</th><th>E_12+log(0/H)</th><th>e_12+log(0/H)</th></tr></thead>\n",
       "<thead><tr><th></th><th></th><th></th><th>erg / (s cm2)</th><th>Angstrom</th><th></th><th></th><th></th><th>solMass / yr</th><th>solMass / yr</th><th>solMass / yr</th><th></th><th></th><th></th></tr></thead>\n",
       "<thead><tr><th>str2</th><th>float64</th><th>float64</th><th>float64</th><th>float64</th><th>float64</th><th>float64</th><th>float64</th><th>float64</th><th>float64</th><th>float64</th><th>float64</th><th>float64</th><th>float64</th></tr></thead>\n",
       "<tr><td>G2</td><td>9.51</td><td>0.01</td><td>3.9e-18</td><td>31.0</td><td>7.63</td><td>0.22</td><td>0.24</td><td>1.69</td><td>0.51</td><td>0.34</td><td>7.48</td><td>0.07</td><td>0.05</td></tr>\n",
       "</table></div>"
      ],
      "text/plain": [
       "<Table length=1>\n",
       " ID     z      e_z       F_Lya     ... 12+log(0/H) E_12+log(0/H) e_12+log(0/H)\n",
       "                     erg / (s cm2) ...                                        \n",
       "str2 float64 float64    float64    ...   float64      float64       float64   \n",
       "---- ------- ------- ------------- ... ----------- ------------- -------------\n",
       "  G2    9.51    0.01       3.9e-18 ...        7.48          0.07          0.05"
      ]
     },
     "execution_count": 14,
     "metadata": {},
     "output_type": "execute_result"
    }
   ],
   "source": [
    "# Data: data_nature\n",
    "data_science = {\n",
    "    'ID': ['G2'],\n",
    "    'z': [9.51],\n",
    "    'e_z': [0.01],\n",
    "    'F_Lya': [39*10**(-19)]*u.erg/u.s/(u.cm)**2,\n",
    "    'EW_0': [31]*u.angstrom, \n",
    "    'log(M/Msun)': [7.63],\n",
    "    'E_log(M/Msun)': [0.22],\n",
    "    'e_log(M/Msun)': [0.24],\n",
    "    'SFR':[1.69]*u.M_sun/u.yr,\n",
    "    'E_SFR':[0.51]*u.M_sun/u.yr,\n",
    "    'e_SFR':[0.34]*u.M_sun/u.yr,\n",
    "    '12+log(0/H)': [7.48],\n",
    "    'E_12+log(0/H)': [0.07],\n",
    "    'e_12+log(0/H)': [0.05]\n",
    "}\n",
    "\n",
    "science = Table(data_science)\n",
    "science"
   ]
  },
  {
   "cell_type": "code",
   "execution_count": 15,
   "id": "fdab60ea-17e7-4920-972c-b71875dd8862",
   "metadata": {},
   "outputs": [
    {
     "data": {
      "text/html": [
       "<div><i>Table length=8</i>\n",
       "<table id=\"table128804191500704\" class=\"table-striped table-bordered table-condensed\">\n",
       "<thead><tr><th>Source</th><th>z</th><th>SFR_Ha</th><th>e_SFR_Ha</th><th>12+log(0/H)</th><th>e_12+log(0/H)</th><th>log(M/Msun)</th><th>E_log(M/Msun)</th><th>e_log(M/Msun)</th></tr></thead>\n",
       "<thead><tr><th></th><th></th><th>solMass / yr</th><th>solMass / yr</th><th></th><th></th><th></th><th></th><th></th></tr></thead>\n",
       "<thead><tr><th>int64</th><th>float64</th><th>float64</th><th>float64</th><th>float64</th><th>float64</th><th>float64</th><th>float64</th><th>float64</th></tr></thead>\n",
       "<tr><td>18924</td><td>7.7</td><td>0.33</td><td>0.02</td><td>6.95</td><td>0.15</td><td>5.88</td><td>0.13</td><td>0.08</td></tr>\n",
       "<tr><td>16155</td><td>6.87</td><td>0.92</td><td>0.04</td><td>7.01</td><td>0.19</td><td>6.61</td><td>0.07</td><td>0.06</td></tr>\n",
       "<tr><td>23920</td><td>6.0</td><td>1.32</td><td>0.04</td><td>6.84</td><td>0.06</td><td>6.3</td><td>0.03</td><td>0.03</td></tr>\n",
       "<tr><td>12899</td><td>6.88</td><td>0.49</td><td>0.02</td><td>6.7</td><td>0.15</td><td>6.54</td><td>0.14</td><td>0.19</td></tr>\n",
       "<tr><td>8613</td><td>6.38</td><td>0.78</td><td>0.07</td><td>6.97</td><td>0.18</td><td>7.12</td><td>0.07</td><td>0.08</td></tr>\n",
       "<tr><td>23619</td><td>6.72</td><td>0.85</td><td>0.07</td><td>7.19</td><td>0.2</td><td>6.57</td><td>0.1</td><td>0.06</td></tr>\n",
       "<tr><td>38335</td><td>6.23</td><td>1.0</td><td>0.16</td><td>7.46</td><td>0.32</td><td>6.83</td><td>0.25</td><td>0.2</td></tr>\n",
       "<tr><td>27335</td><td>6.76</td><td>0.73</td><td>0.1</td><td>6.99</td><td>0.18</td><td>6.73</td><td>0.15</td><td>0.08</td></tr>\n",
       "</table></div>"
      ],
      "text/plain": [
       "<Table length=8>\n",
       "Source    z       SFR_Ha    ... log(M/Msun) E_log(M/Msun) e_log(M/Msun)\n",
       "               solMass / yr ...                                        \n",
       "int64  float64   float64    ...   float64      float64       float64   \n",
       "------ ------- ------------ ... ----------- ------------- -------------\n",
       " 18924     7.7         0.33 ...        5.88          0.13          0.08\n",
       " 16155    6.87         0.92 ...        6.61          0.07          0.06\n",
       " 23920     6.0         1.32 ...         6.3          0.03          0.03\n",
       " 12899    6.88         0.49 ...        6.54          0.14          0.19\n",
       "  8613    6.38         0.78 ...        7.12          0.07          0.08\n",
       " 23619    6.72         0.85 ...        6.57           0.1          0.06\n",
       " 38335    6.23          1.0 ...        6.83          0.25           0.2\n",
       " 27335    6.76         0.73 ...        6.73          0.15          0.08"
      ]
     },
     "execution_count": 15,
     "metadata": {},
     "output_type": "execute_result"
    }
   ],
   "source": [
    "# Data: data_nature\n",
    "data_nature = {\n",
    "    'Source': [18924, 16155, 23920, 12899, 8613, 23619, 38335, 27335],\n",
    "    'z': [7.70, 6.87, 6.00, 6.88, 6.38, 6.72, 6.23, 6.76],\n",
    "    'SFR_Ha':[0.33, 0.92, 1.32, 0.49, 0.78, 0.85, 1.00, 0.73]*u.M_sun/u.yr,\n",
    "    'e_SFR_Ha':[0.02, 0.04, 0.04, 0.02, 0.07, 0.07, 0.16, 0.10]*u.M_sun/u.yr,\n",
    "    '12+log(0/H)': [6.95, 7.01, 6.84, 6.70, 6.97, 7.19, 7.46, 6.99],\n",
    "    'e_12+log(0/H)': [0.15, 0.19, 0.06, 0.15, 0.18, 0.20, 0.32, 0.18],\n",
    "    'log(M/Msun)': [5.88, 6.61, 6.30, 6.54, 7.12, 6.57, 6.83, 6.73],\n",
    "    'E_log(M/Msun)': [0.13, 0.07, 0.03, 0.14, 0.07, 0.10, 0.25, 0.15],\n",
    "    'e_log(M/Msun)': [0.08, 0.06, 0.03, 0.19, 0.08, 0.06, 0.20, 0.08]\n",
    "}\n",
    "\n",
    "nature = Table(data_nature)\n",
    "nature"
   ]
  },
  {
   "cell_type": "markdown",
   "id": "0d3d2fd1-8d2d-4c80-8838-8d97ce60c650",
   "metadata": {},
   "source": [
    "## 2. Radios de Strömgren\n",
    "\n",
    "En esta sección, vamos a calcular los radios de Strömgren por el método de Sobral y de Yajima nuevamente. Lo novedoso ahora es que estos datos contienen galaxias a redshift mas altos en comparación con los anteriores cuadernos. Sobretodo, nos es de interés aquella galaxia con z = 9.51. \n",
    "\n",
    "### 2.1. Radios de Strömgren using Sobral Relation\n",
    "\n",
    "Para calcular el radio de Strömgren usando la relación de Sobral podemos reutilizar, adapatándola, la función que hemos implementado en cuadernos anteriores. La diferencia con como hemos hecho hasta ahora es que $\\textbf{vamos a calcular el número de fotones ionizantes $\\dot{N}_{ion}$ utilizando la línea de $H\\alpha$ en lugar de}$ $\\textbf{Ly$\\alpha$}$. Esto es posible gracias a que los datos para estas galaxias han sido tomados por el JWST. \n",
    "\n",
    "El procedimiento para estimar el radio de Strömgren a partir de la tasa de formación estelar _SFR_, calculada utilizando como trazador la línea de H$\\alpha$, es el siguiente. Partimos de,\n",
    "\n",
    "$$\n",
    "\\begin{equation}\n",
    "    SFR[M_\\odot/yr] = 5.5 \\cdot 10^{-42} \\cdot L(H\\alpha) [erg/s]\n",
    "\\end{equation}\n",
    "$$\n",
    "\n",
    "donde \n",
    "\n",
    "$$\n",
    "\\begin{equation}\n",
    "    L(H\\alpha) [erg/s] = 1.36 \\cdot (1 - f_{esc,LyC}) \\cdot 10^{-12} \\cdot \\dot{N} [photons/s]\n",
    "\\end{equation}\n",
    "$$\n",
    "\n",
    "donde asumiremos, dado el alto redshift, que la fracción de escape de fotones en el continuo es $f_{esc,LyC}$ = 0. Conocido $\\dot{N} [photons/s]$, ya podemos obtener directamente el radio de Strömgren con la expresión general. "
   ]
  },
  {
   "cell_type": "code",
   "execution_count": 16,
   "id": "1602c617-4ec4-4884-9d57-353f2a1e767d",
   "metadata": {},
   "outputs": [],
   "source": [
    "def R_s_Ha(SFR_Ha, e_SFR_Ha,redshift):\n",
    "\n",
    "    '''\n",
    "    Strömgen radius calculation\n",
    "    \n",
    "    Values: [0]: star foramtion rate (calculated by Ha line)\n",
    "            [1]: redshift\n",
    "    Returns: [0]: Strömgen comovil radius\n",
    "             [1]: Strömgen proper radius\n",
    "             [2]: logN_ion (logaritmo en base 10 del número de fotones ionizantes; definciones de  Reionized-Bubble-published.pdf)\n",
    "    \n",
    "    Units: SFR_Ha in Msun/yr; redshift (adimensional)\n",
    "    '''\n",
    "    \n",
    "    # recombination coefficinet for T_e = 10⁴K\n",
    "    alphaB = 8.8 * 10**(-87)\n",
    "\n",
    "    # C_H(z) parameter\n",
    "    def C_H(redshift):\n",
    "        z_values = [6 ,7 , 8]\n",
    "        C_H_values = [2.37, 2.28, 2.19]\n",
    "        C_H = np.interp(redshift, z_values,C_H_values) \n",
    "        return C_H\n",
    "\n",
    "    # Hydrogen density\n",
    "    def n_H (redshift):\n",
    "        n_H = 5.878 * 10**66 * (1 + redshift)**3\n",
    "        return n_H\n",
    "\n",
    "    # Luminosity of Halpha\n",
    "    L_Ha = SFR_Ha.value / (5.5 * 10**(-42))\n",
    "    e_L_Ha = unumpy.uarray(SFR_Ha.value,e_SFR_Ha.value) / (5.5 * 10**(-42))\n",
    "    e_L_Ha = unp.std_devs(e_L_Ha)\n",
    "\n",
    "    # Number of ionizating photons\n",
    "    f_esc = 0 # assuming 0 (escape fraction of ionizating photons / continuum)\n",
    "    N_ion = L_Ha / (1.36 * (1 - f_esc) * 10**(-12))\n",
    "    log_N_ion = np.log10(N_ion)\n",
    "    e_log_N_ion = (e_L_Ha / (1.36 * 10**(-12))) / (np.log(10) * N_ion)\n",
    "\n",
    "    # Strömgen radius (proper)\n",
    "    R_s = (3 * N_ion / (4 * np.pi * C_H(redshift) * n_H(redshift)**2 * alphaB))**(1/3)\n",
    "    e_R_s = 1/3 * (3 * (e_log_N_ion * np.log(10) * N_ion) / (4 * np.pi * C_H(redshift) * n_H(redshift)**2 * alphaB)) * (3 * (N_ion) / (4 * np.pi * C_H(redshift) * n_H(redshift)**2 * alphaB))**(-2/3)\n",
    "    \n",
    "    # Strömgen radius (comovil)\n",
    "    R_s_com = (1 + redshift) * R_s\n",
    "    e_R_s_com = (1 + redshift) * e_R_s\n",
    "    \n",
    "    return np.round(R_s,3) * pMpc, np.round(R_s_com,3) * cMpc, np.round(log_N_ion,3) * u.dex(1 / u.s), np.round(e_log_N_ion,3) * u.dex(1 / u.s), np.round(e_R_s,3) * pMpc, np.round(e_R_s_com,3) * cMpc "
   ]
  },
  {
   "cell_type": "markdown",
   "id": "6889d206-b357-4e90-acce-b92b021fa5c0",
   "metadata": {},
   "source": [
    "Dada la función anterior, calculamos y ponemos los valores de los radios de Strömgren en las tablas de datos."
   ]
  },
  {
   "cell_type": "code",
   "execution_count": 32,
   "id": "1eda5f99-2e07-4c58-9fab-4647b60c8385",
   "metadata": {},
   "outputs": [
    {
     "data": {
      "text/html": [
       "<div><i>Table length=8</i>\n",
       "<table id=\"table128804191500704\" class=\"table-striped table-bordered table-condensed\">\n",
       "<thead><tr><th>Source</th><th>z</th><th>SFR_Ha</th><th>e_SFR_Ha</th><th>12+log(0/H)</th><th>e_12+log(0/H)</th><th>log(M/Msun)</th><th>E_log(M/Msun)</th><th>e_log(M/Msun)</th><th>R_s</th><th>e_R_s</th><th>R_s_com</th><th>e_R_s_com</th><th>logN_ion</th><th>e_logN_ion</th></tr></thead>\n",
       "<thead><tr><th></th><th></th><th>solMass / yr</th><th>solMass / yr</th><th></th><th></th><th></th><th></th><th></th><th>pMpc</th><th>pMpc</th><th>cMpc</th><th>cMpc</th><th>dex(1 / s)</th><th>dex(1 / s)</th></tr></thead>\n",
       "<thead><tr><th>int64</th><th>float64</th><th>float64</th><th>float64</th><th>float64</th><th>float64</th><th>float64</th><th>float64</th><th>float64</th><th>float64</th><th>float64</th><th>float64</th><th>float64</th><th>float64</th><th>float64</th></tr></thead>\n",
       "<tr><td>18924</td><td>7.7</td><td>0.33</td><td>0.02</td><td>6.95</td><td>0.15</td><td>5.88</td><td>0.13</td><td>0.08</td><td>0.33</td><td>0.007</td><td>2.874</td><td>0.058</td><td>52.645</td><td>0.026</td></tr>\n",
       "<tr><td>16155</td><td>6.87</td><td>0.92</td><td>0.04</td><td>7.01</td><td>0.19</td><td>6.61</td><td>0.07</td><td>0.06</td><td>0.562</td><td>0.008</td><td>4.422</td><td>0.064</td><td>53.09</td><td>0.019</td></tr>\n",
       "<tr><td>23920</td><td>6.0</td><td>1.32</td><td>0.04</td><td>6.84</td><td>0.06</td><td>6.3</td><td>0.03</td><td>0.03</td><td>0.792</td><td>0.008</td><td>5.545</td><td>0.056</td><td>53.247</td><td>0.013</td></tr>\n",
       "<tr><td>12899</td><td>6.88</td><td>0.49</td><td>0.02</td><td>6.7</td><td>0.15</td><td>6.54</td><td>0.14</td><td>0.19</td><td>0.454</td><td>0.006</td><td>3.58</td><td>0.049</td><td>52.816</td><td>0.018</td></tr>\n",
       "<tr><td>8613</td><td>6.38</td><td>0.78</td><td>0.07</td><td>6.97</td><td>0.18</td><td>7.12</td><td>0.07</td><td>0.08</td><td>0.601</td><td>0.018</td><td>4.435</td><td>0.133</td><td>53.018</td><td>0.039</td></tr>\n",
       "<tr><td>23619</td><td>6.72</td><td>0.85</td><td>0.07</td><td>7.19</td><td>0.2</td><td>6.57</td><td>0.1</td><td>0.06</td><td>0.568</td><td>0.016</td><td>4.382</td><td>0.12</td><td>53.056</td><td>0.036</td></tr>\n",
       "<tr><td>38335</td><td>6.23</td><td>1.0</td><td>0.16</td><td>7.46</td><td>0.32</td><td>6.83</td><td>0.25</td><td>0.2</td><td>0.679</td><td>0.036</td><td>4.908</td><td>0.262</td><td>53.126</td><td>0.069</td></tr>\n",
       "<tr><td>27335</td><td>6.76</td><td>0.73</td><td>0.1</td><td>6.99</td><td>0.18</td><td>6.73</td><td>0.15</td><td>0.08</td><td>0.534</td><td>0.024</td><td>4.146</td><td>0.189</td><td>52.989</td><td>0.059</td></tr>\n",
       "</table></div>"
      ],
      "text/plain": [
       "<Table length=8>\n",
       "Source    z       SFR_Ha      e_SFR_Ha   ... e_R_s_com  logN_ion  e_logN_ion\n",
       "               solMass / yr solMass / yr ...    cMpc   dex(1 / s) dex(1 / s)\n",
       "int64  float64   float64      float64    ...  float64   float64    float64  \n",
       "------ ------- ------------ ------------ ... --------- ---------- ----------\n",
       " 18924     7.7         0.33         0.02 ...     0.058     52.645      0.026\n",
       " 16155    6.87         0.92         0.04 ...     0.064      53.09      0.019\n",
       " 23920     6.0         1.32         0.04 ...     0.056     53.247      0.013\n",
       " 12899    6.88         0.49         0.02 ...     0.049     52.816      0.018\n",
       "  8613    6.38         0.78         0.07 ...     0.133     53.018      0.039\n",
       " 23619    6.72         0.85         0.07 ...      0.12     53.056      0.036\n",
       " 38335    6.23          1.0         0.16 ...     0.262     53.126      0.069\n",
       " 27335    6.76         0.73          0.1 ...     0.189     52.989      0.059"
      ]
     },
     "execution_count": 32,
     "metadata": {},
     "output_type": "execute_result"
    }
   ],
   "source": [
    "# Introducing RHII to nature\n",
    "nature['R_s'] = R_s_Ha(nature['SFR_Ha'] ,nature['e_SFR_Ha'] ,nature['z'])[0]\n",
    "nature['e_R_s'] = R_s_Ha(nature['SFR_Ha'] ,nature['e_SFR_Ha'] ,nature['z'])[4]\n",
    "nature['R_s_com'] = R_s_Ha(nature['SFR_Ha'] ,nature['e_SFR_Ha'] ,nature['z'])[1]\n",
    "nature['e_R_s_com'] = R_s_Ha(nature['SFR_Ha'] ,nature['e_SFR_Ha'] ,nature['z'])[5]\n",
    "nature['logN_ion'] = R_s_Ha(nature['SFR_Ha'] ,nature['e_SFR_Ha'] ,nature['z'])[2]\n",
    "nature['e_logN_ion'] = R_s_Ha(nature['SFR_Ha'] ,nature['e_SFR_Ha'] ,nature['z'])[3]\n",
    "nature"
   ]
  },
  {
   "cell_type": "code",
   "execution_count": 23,
   "id": "2ff7abb8-3625-4ba8-a06c-64e3d42ac991",
   "metadata": {},
   "outputs": [
    {
     "data": {
      "text/html": [
       "<div><i>Table length=1</i>\n",
       "<table id=\"table128804191503792\" class=\"table-striped table-bordered table-condensed\">\n",
       "<thead><tr><th>ID</th><th>z</th><th>e_z</th><th>F_Lya</th><th>EW_0</th><th>log(M/Msun)</th><th>E_log(M/Msun)</th><th>e_log(M/Msun)</th><th>SFR</th><th>E_SFR</th><th>e_SFR</th><th>12+log(0/H)</th><th>E_12+log(0/H)</th><th>e_12+log(0/H)</th><th>R_s</th><th>e_R_s</th><th>E_R_s</th><th>R_s_com</th><th>e_R_s_com</th><th>E_R_s_com</th><th>logN_ion</th><th>e_logN_ion</th><th>E_logN_ion</th></tr></thead>\n",
       "<thead><tr><th></th><th></th><th></th><th>erg / (s cm2)</th><th>Angstrom</th><th></th><th></th><th></th><th>solMass / yr</th><th>solMass / yr</th><th>solMass / yr</th><th></th><th></th><th></th><th>pMpc</th><th>pMpc</th><th>pMpc</th><th>cMpc</th><th>cMpc</th><th>cMpc</th><th>dex(1 / s)</th><th>dex(1 / s)</th><th>dex(1 / s)</th></tr></thead>\n",
       "<thead><tr><th>str2</th><th>float64</th><th>float64</th><th>float64</th><th>float64</th><th>float64</th><th>float64</th><th>float64</th><th>float64</th><th>float64</th><th>float64</th><th>float64</th><th>float64</th><th>float64</th><th>float64</th><th>float64</th><th>float64</th><th>float64</th><th>float64</th><th>float64</th><th>float64</th><th>float64</th><th>float64</th></tr></thead>\n",
       "<tr><td>G2</td><td>9.51</td><td>0.01</td><td>3.9e-18</td><td>31.0</td><td>7.63</td><td>0.22</td><td>0.24</td><td>1.69</td><td>0.51</td><td>0.34</td><td>7.48</td><td>0.07</td><td>0.05</td><td>0.392</td><td>0.026</td><td>0.039</td><td>4.117</td><td>0.276</td><td>0.414</td><td>53.354</td><td>0.087</td><td>0.131</td></tr>\n",
       "</table></div>"
      ],
      "text/plain": [
       "<Table length=1>\n",
       " ID     z      e_z       F_Lya     ...  logN_ion  e_logN_ion E_logN_ion\n",
       "                     erg / (s cm2) ... dex(1 / s) dex(1 / s) dex(1 / s)\n",
       "str2 float64 float64    float64    ...  float64    float64    float64  \n",
       "---- ------- ------- ------------- ... ---------- ---------- ----------\n",
       "  G2    9.51    0.01       3.9e-18 ...     53.354      0.087      0.131"
      ]
     },
     "execution_count": 23,
     "metadata": {},
     "output_type": "execute_result"
    }
   ],
   "source": [
    "# Introducing RHII to science\n",
    "science['R_s'] = R_s_Ha(science['SFR'] ,science['e_SFR'] ,science['z'])[0]\n",
    "science['e_R_s'] = R_s_Ha(science['SFR'] ,science['e_SFR'] ,science['z'])[4]\n",
    "science['E_R_s'] = R_s_Ha(science['SFR'] ,science['E_SFR'] ,science['z'])[4]\n",
    "science['R_s_com'] = R_s_Ha(science['SFR'] ,science['e_SFR'] ,science['z'])[1]\n",
    "science['e_R_s_com'] = R_s_Ha(science['SFR'] ,science['e_SFR'] ,science['z'])[5]\n",
    "science['E_R_s_com'] = R_s_Ha(science['SFR'] ,science['E_SFR'] ,science['z'])[5]\n",
    "science['logN_ion'] = R_s_Ha(science['SFR'] ,science['e_SFR'] ,science['z'])[2]\n",
    "science['e_logN_ion'] = R_s_Ha(science['SFR'] ,science['e_SFR'] ,science['z'])[3]\n",
    "science['E_logN_ion'] = R_s_Ha(science['SFR'] ,science['E_SFR'] ,science['z'])[3]\n",
    "science"
   ]
  },
  {
   "cell_type": "markdown",
   "id": "704eb895-2c61-45e3-b583-53fd094ac014",
   "metadata": {},
   "source": [
    "## 3. Histograms of $R_{HII}$ for all data\n",
    "\n",
    "Por último, representamos un histograma de los radios de Strömgren calculados para todos los sets de datos que hemos trabajado en este cuaderno y todos los demas. "
   ]
  },
  {
   "cell_type": "code",
   "execution_count": 7,
   "id": "c7482619-f22b-4906-be4f-c6848b5f4918",
   "metadata": {},
   "outputs": [
    {
     "data": {
      "image/png": "[encoded data removed]",
      "text/plain": [
       "<Figure size 720x720 with 1 Axes>"
      ]
     },
     "metadata": {},
     "output_type": "display_data"
    }
   ],
   "source": [
    "# Data\n",
    "Kerutt22_filter_v1 = QTable.read('/home/juanan/Escritorio/Juanan/Estudios/Master_en_Astrofisica/Practicas_ESAC/MyJob/stromgren_radius/Kerutt22_filter_v1.dat', format = 'ascii', delimiter = ' ')\n",
    "Hu18_filter_v1 = QTable.read('/home/juanan/Escritorio/Juanan/Estudios/Master_en_Astrofisica/Practicas_ESAC/MyJob/stromgren_radius/Hu18_filter_v1.dat', format = 'ascii', delimiter = ' ')\n",
    "Jung20_filter_v1 = QTable.read('/home/juanan/Escritorio/Juanan/Estudios/Master_en_Astrofisica/Practicas_ESAC/MyJob/stromgren_radius/Jung20_filter_v1.dat', format = 'ascii', delimiter = ' ')\n",
    "Tilvi20_filter_v1 = QTable.read('/home/juanan/Escritorio/Juanan/Estudios/Master_en_Astrofisica/Practicas_ESAC/MyJob/stromgren_radius/Tilvi20_filter_v1.dat', format = 'ascii', delimiter = ' ')\n",
    "\n",
    "# Data from JWST\n",
    "JWST_data = list(nature['R_s'].value) + list(science['R_s'].value)\n",
    "\n",
    "# Histogram for all sample\n",
    "all_data = np.concatenate([Kerutt22_filter_v1['R_s'].value,\n",
    "                           Hu18_filter_v1['R_s'].value,\n",
    "                           Jung20_filter_v1['R_s'].value,\n",
    "                           Tilvi20_filter_v1['R_s'].value,\n",
    "                           JWST_data]) # Strömgren radius calcualted by Sobral Relation\n",
    "\n",
    "bins_fd = np.histogram_bin_edges(all_data, bins = 'fd')\n",
    "\n",
    "fig, ax = plt.subplots()\n",
    "ax.hist(all_data, bins = bins_fd, color = 'skyblue', edgecolor = 'black') \n",
    "ax.set_xlabel(r'R$_{HII}$ [pMpc]')\n",
    "ax.set_ylabel('Frecuency')\n",
    "ax.set_title('R$_{HII}$ distribution')\n",
    "\n",
    "plt.show()"
   ]
  },
  {
   "cell_type": "code",
   "execution_count": 8,
   "id": "c3a07e10-0278-40ac-8819-cd1e228ac16a",
   "metadata": {},
   "outputs": [
    {
     "data": {
      "image/png": "[encoded data removed]",
      "text/plain": [
       "<Figure size 720x720 with 1 Axes>"
      ]
     },
     "metadata": {},
     "output_type": "display_data"
    }
   ],
   "source": [
    "# Calcular los bins usando el método de Freedman-Diaconis\n",
    "bins_fd = np.histogram_bin_edges(all_data, bins='fd')\n",
    "\n",
    "# Configurar colores para cada conjunto de datos\n",
    "colors = ['salmon', 'lightgreen', 'skyblue', 'pink','gold']\n",
    "data_names = ['Kerutt', 'Hu', 'Jung', 'Tilvi','JWST']\n",
    "\n",
    "# Crear el histograma\n",
    "fig, ax = plt.subplots()\n",
    "for i, data in enumerate([Kerutt22_filter_v1['R_s'].value,\n",
    "                          Hu18_filter_v1['R_s'].value,\n",
    "                          Jung20_filter_v1['R_s'].value,\n",
    "                          Tilvi20_filter_v1['R_s'].value,\n",
    "                          nature['R_s'].value]):\n",
    "    ax.hist(data, bins=bins_fd, color=colors[i], edgecolor='black', alpha=0.7, label=data_names[i])\n",
    "\n",
    "ax.set_xlabel(r'R$_{HII}$ [pMpc]')\n",
    "ax.set_ylabel('Frecuencia')\n",
    "ax.set_xlim(-0.05, 1.999)\n",
    "ax.set_title('Distribución de R$_{HII}$')\n",
    "ax.legend()\n",
    "\n",
    "plt.show()"
   ]
  },
  {
   "cell_type": "markdown",
   "id": "1203d84f-8338-49dd-92e8-f3ef17d2a11f",
   "metadata": {},
   "source": [
    "## Appendix A: Saving data\n",
    "\n",
    "Si se ejecuta el siguiente código, guardaremos y sobreescribiremo los datos. Nótese que lo guardamos en formato ecsv (formato profesional para astrofísica)"
   ]
  },
  {
   "cell_type": "code",
   "execution_count": 9,
   "id": "34a0dc2a-d6ec-47a6-9aab-b7c5cd6a7327",
   "metadata": {},
   "outputs": [],
   "source": [
    "ascii.write(science, 'science_data_v1.dat', format='ecsv', overwrite=True)  \n",
    "ascii.write(nature, 'nature_data_v1.dat', format='ecsv', overwrite=True)  "
   ]
  },
  {
   "cell_type": "code",
   "execution_count": 30,
   "id": "497e6f03-2e54-459a-804b-1c3ecb4887c6",
   "metadata": {},
   "outputs": [],
   "source": [
    "# To LaTeX\n",
    "data_table = ascii.read('science_data_v1.dat', format='ecsv')\n",
    "df = data_table.to_pandas()\n",
    "path = '/home/juanan/Escritorio/Juanan/Estudios/Master_en_Astrofisica/Practicas_ESAC/MyJob/latex_tables/science.tex'\n",
    "cols = ['ID', 'z', 'SFR', '12+log(0/H)', 'log(M/Msun)', 'R_s']\n",
    "df.to_latex(buf=path ,columns= cols, float_format='%.2f',header=True, index=False, position= 'H', label = 'science', caption = 'science')"
   ]
  },
  {
   "cell_type": "code",
   "execution_count": 29,
   "id": "6c4ed871-1b0e-4572-a42d-b99513a95d7b",
   "metadata": {},
   "outputs": [],
   "source": [
    "# To LaTeX\n",
    "data_table = ascii.read('nature_data_v1.dat', format='ecsv')\n",
    "df = data_table.to_pandas()\n",
    "path = '/home/juanan/Escritorio/Juanan/Estudios/Master_en_Astrofisica/Practicas_ESAC/MyJob/latex_tables/nature.tex'\n",
    "cols = ['Source', 'z', 'SFR_Ha', '12+log(0/H)', 'log(M/Msun)', 'R_s']\n",
    "df.to_latex(buf=path ,columns= cols, float_format='%.2f',header=True, index=False, position= 'H', label = 'nature', caption = 'nature')"
   ]
  },
  {
   "cell_type": "markdown",
   "id": "c3e64bd7-452c-428f-9885-adf77b2b2541",
   "metadata": {},
   "source": [
    "## Appendix B: Función para calcualr $R_{HII}$ a partir de Ly$\\alpha$\n",
    "\n",
    "En la siguiente celda nos guardamos las funciones `R_s_Ly` y `R_s_Ha` para calcular radios de Strömgren a partir de la línea de Ly$\\alpha$ y H$\\alpha$ respectivamente."
   ]
  },
  {
   "cell_type": "code",
   "execution_count": 10,
   "id": "1ca59bc3-9de5-4bd4-8a04-b410e889697c",
   "metadata": {},
   "outputs": [],
   "source": [
    "def R_s_Ly(EW, logLLya, redshift):\n",
    "\n",
    "    '''\n",
    "    Strömgen radius calculation\n",
    "    \n",
    "    Values: [0]: equivalent width (EW), \n",
    "            [1]: log10(observed luminosity of Lymann alpha)\n",
    "            [2]: redshift\n",
    "    Returns: [0]: Strömgen comovil radius\n",
    "             [1]: Strömgen proper radius\n",
    "             [2]: Sacape Lya fraction\n",
    "             [3]: log10(intrisic luminosity of Lymann alpha)\n",
    "             [4]: logQ_ion (según  las definciones de  Reionized-Bubble-published.pdf)\n",
    "             [5]: EW (rest-frame)\n",
    "             [6]: logN_ion (según  las definciones de  Reionized-Bubble-published.pdf)\n",
    "    \n",
    "    Units: EW in angstroms; logLLya in dex(erg/s); z (adimensional)\n",
    "    '''\n",
    "\n",
    "    # recombination coefficinet for T_e = 10⁴K\n",
    "    alphaB = 8.8 * 10**(-87)\n",
    "\n",
    "    # C_H(z) parameter\n",
    "    def C_H(redshift):\n",
    "        z_values = [6 ,7 , 8]\n",
    "        C_H_values = [2.37, 2.28, 2.19]\n",
    "        C_H = np.interp(redshift, z_values,C_H_values) \n",
    "        return C_H\n",
    "\n",
    "    # Hydrogen density\n",
    "    def n_H (redshift):\n",
    "        n_H = 5.878 * 10**66 * (1+redshift)**3\n",
    "        return n_H\n",
    "\n",
    "    # Escape fraction of Lymann alpha (using Sobral Relation)\n",
    "    f_esc_Lya = []\n",
    "\n",
    "    for i in range(len(EW)):\n",
    "        if 0 <= EW[i] <= 200:\n",
    "            f_esc_Lya.append(0.0048*EW[i])\n",
    "        else:\n",
    "            f_esc_Lya.append(1)\n",
    "\n",
    "    # log10(intrisic luminosity of Lymann alpha)\n",
    "    logLLya_int = np.log10(10**logLLya/f_esc_Lya)\n",
    "\n",
    "    # Effective number of ionizinz continuum photones per second\n",
    "    logQ_ion = np.log10(10**logLLya_int / (1.19*10**(-11)))\n",
    "\n",
    "    # Nuber of ionizing continuum photones that participate in reionizing the IGM\n",
    "    f_esc_LyC = 0.2 # assumed f_esc_LyC\n",
    "    N_ion = (10**logQ_ion) / (1 - f_esc_LyC) * f_esc_LyC\n",
    "\n",
    "    # Strömgen radius (proper)\n",
    "    R_s = (3 * N_ion / (4 * np.pi * C_H(redshift) * n_H(redshift)**2 * alphaB))**(1/3)\n",
    "\n",
    "    # Strömgen radius (comovil)\n",
    "    R_s_com = (1 + redshift) * R_s\n",
    "    \n",
    "    return np.round(R_s,3) * pMpc, np.round(R_s_com,3) * cMpc, np.round(f_esc_Lya,3), np.round(logLLya_int,3) * u.dex(u.erg / u.s), np.round(logQ_ion,3)  * u.dex(1 / u.s), np.round(EW,2)  * u.angstrom, np.round(np.log10(N_ion),3) * u.dex(1 / u.s)"
   ]
  },
  {
   "cell_type": "code",
   "execution_count": 11,
   "id": "6e3832fa-7cad-453e-afff-4aedd6e92828",
   "metadata": {},
   "outputs": [],
   "source": [
    "def R_s_Ha(SFR_Ha, redshift):\n",
    "\n",
    "    '''\n",
    "    Strömgen radius calculation\n",
    "    \n",
    "    Values: [0]: star foramtion rate (calculated by Ha line)\n",
    "            [1]: redshift\n",
    "    Returns: [0]: Strömgen comovil radius\n",
    "             [1]: Strömgen proper radius\n",
    "             [2]: logN_ion (logaritmo en base 10 del número de fotones ionizantes; definciones de  Reionized-Bubble-published.pdf)\n",
    "    \n",
    "    Units: SFR_Ha in Msun/yr; redshift (adimensional)\n",
    "    '''\n",
    "    \n",
    "    # recombination coefficinet for T_e = 10⁴K\n",
    "    alphaB = 8.8 * 10**(-87)\n",
    "\n",
    "    # C_H(z) parameter\n",
    "    def C_H(redshift):\n",
    "        z_values = [6 ,7 , 8]\n",
    "        C_H_values = [2.37, 2.28, 2.19]\n",
    "        C_H = np.interp(redshift, z_values,C_H_values) \n",
    "        return C_H\n",
    "\n",
    "    # Hydrogen density\n",
    "    def n_H (redshift):\n",
    "        n_H = 5.878 * 10**66 * (1 + redshift)**3\n",
    "        return n_H\n",
    "\n",
    "    # Luminosity of Halpha\n",
    "    L_Ha = SFR_Ha.value / (5.5 * 10**(-42))\n",
    "\n",
    "    # Number of ionizating photons\n",
    "    f_esc = 0 # assuming 0 (escape fraction of ionizating photons / continuum)\n",
    "    N_ion = L_Ha / (1.36 * (1 - f_esc) * 10**(-12))\n",
    "    log_N_ion = np.log10(N_ion)\n",
    "\n",
    "    # Strömgen radius (proper)\n",
    "    R_s = (3 * N_ion / (4 * np.pi * C_H(redshift) * n_H(redshift)**2 * alphaB))**(1/3)\n",
    "\n",
    "    # Strömgen radius (comovil)\n",
    "    R_s_com = (1 + redshift) * R_s\n",
    "    \n",
    "    return np.round(R_s,3) * pMpc, np.round(R_s_com,3) * cMpc, np.round(log_N_ion,3) * u.dex(1 / u.s)"
   ]
  }
 ],
 "metadata": {
  "kernelspec": {
   "display_name": "Python 3 (ipykernel)",
   "language": "python",
   "name": "python3"
  },
  "language_info": {
   "codemirror_mode": {
    "name": "ipython",
    "version": 3
   },
   "file_extension": ".py",
   "mimetype": "text/x-python",
   "name": "python",
   "nbconvert_exporter": "python",
   "pygments_lexer": "ipython3",
   "version": "3.10.12"
  }
 },
 "nbformat": 4,
 "nbformat_minor": 5
}
