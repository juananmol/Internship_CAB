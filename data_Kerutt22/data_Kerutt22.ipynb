{
 "cells": [
  {
   "cell_type": "markdown",
   "id": "0d452b44-e9ed-4ee7-8313-764f6134b052",
   "metadata": {},
   "source": [
    "# Prácticas ESAC: Kerutt 2022 Data\n",
    "\n",
    "1. LAEs Data: Kerutt 2022\n",
    "2. Escape fraction of Ly$\\alpha$ photons: $f_{esc,Ly\\alpha}$\n",
    "3. Intrinsic Ly$\\alpha$ photons\n",
    "4. Number of ionizing photons $N_{ion}$\n",
    "5. Continuum luminosity $L_{1200}$\n",
    "\n",
    "   Appendix A: Saving data\n",
    "\n",
    "$\\textit{Juan A. Molina-Calzada}$"
   ]
  },
  {
   "cell_type": "code",
   "execution_count": 1,
   "id": "c694ba2a-6b0a-4aad-9b96-3310fc0e5876",
   "metadata": {},
   "outputs": [],
   "source": [
    "# Packages\n",
    "from astropy.table import QTable\n",
    "from astropy.io import ascii\n",
    "import astropy.units as u\n",
    "import matplotlib.pyplot as plt\n",
    "import numpy as np\n",
    "import smplotlib\n"
   ]
  },
  {
   "cell_type": "markdown",
   "id": "75b826e6-2796-48b5-be4b-77a90a5b9505",
   "metadata": {},
   "source": [
    "## 1. LAEs Data: Kertutt 2022\n",
    "\n",
    "Leemos los datos de la tabla B1 de Kerutt et al. (2022). Cada fila se corresponde con una LAE."
   ]
  },
  {
   "cell_type": "code",
   "execution_count": 2,
   "id": "319ee8e6-df60-4da7-9a20-155707bfc762",
   "metadata": {},
   "outputs": [],
   "source": [
    "# Data LAEs\n",
    "tableb1_raw = QTable.read('tableb1_Kerutt22_raw.dat', format = 'ascii', delimiter = ' ')\n"
   ]
  },
  {
   "cell_type": "markdown",
   "id": "e92d9ef2-366b-40cf-852a-416ea26079dd",
   "metadata": {},
   "source": [
    "### 1.1. Correcting format LAEs Data \n",
    "\n",
    "Corregimos el formato de los datos de la tabla (sustituimos str por floats, renombramos las columnas, añadimos unidades, etc)."
   ]
  },
  {
   "cell_type": "code",
   "execution_count": 3,
   "id": "22b7a7bd-316b-431b-9e63-1d5beb1f042c",
   "metadata": {},
   "outputs": [
    {
     "data": {
      "text/html": [
       "<div><i>QTable length=1920</i>\n",
       "<table id=\"table125202794941744\" class=\"table-striped table-bordered table-condensed\">\n",
       "<thead><tr><th>ID</th><th>I17ID</th><th>RAdeg</th><th>DEdeg</th><th>z</th><th>e_z</th><th>Conf</th><th>EW0</th><th>e_EW0</th><th>MUV</th><th>e_MUV</th><th>logLLya</th><th>e_logLLya</th><th>Peaksep</th><th>e_Peaksep</th><th>FWHM</th><th>e_FWHM</th><th>Asym</th><th>e_Asym</th><th>Re</th><th>e_Re</th><th>axisratio</th><th>e_axisratio</th></tr></thead>\n",
       "<thead><tr><th></th><th></th><th>deg</th><th>deg</th><th></th><th></th><th></th><th>Angstrom</th><th>Angstrom</th><th>mag</th><th>mag</th><th>dex(erg / s)</th><th>dex(erg / s)</th><th>km / s</th><th>km / s</th><th>km / s</th><th>km / s</th><th></th><th></th><th>kpc</th><th>kpc</th><th></th><th></th></tr></thead>\n",
       "<thead><tr><th>int64</th><th>int64</th><th>float64</th><th>float64</th><th>float64</th><th>float64</th><th>int64</th><th>float64</th><th>float64</th><th>float64</th><th>float64</th><th>float64</th><th>float64</th><th>float64</th><th>float64</th><th>float64</th><th>float64</th><th>float64</th><th>float64</th><th>float64</th><th>float64</th><th>float64</th><th>float64</th></tr></thead>\n",
       "<tr><td>100628</td><td>1240</td><td>53.13779</td><td>-27.79553</td><td>2.9167</td><td>0.0008</td><td>3</td><td>19.77</td><td>2.98</td><td>-19.29</td><td>0.041</td><td>41.95</td><td>0.34</td><td>472.86</td><td>80.99</td><td>290.54</td><td>52.02</td><td>0.13</td><td>0.05</td><td>10.74</td><td>0.43</td><td>0.28</td><td>0.01</td></tr>\n",
       "<tr><td>150686</td><td>3658</td><td>53.14888</td><td>-27.80989</td><td>2.9271</td><td>0.0112</td><td>2</td><td>82.65</td><td>30.32</td><td>-16.846</td><td>0.298</td><td>41.6</td><td>0.55</td><td>0.0</td><td>0.0</td><td>166.53</td><td>102.32</td><td>-0.05</td><td>0.12</td><td>0.91</td><td>0.48</td><td>1.0</td><td>0.0</td></tr>\n",
       "<tr><td>160687</td><td>2582</td><td>53.15514</td><td>-27.76235</td><td>2.9273</td><td>0.0008</td><td>3</td><td>133.46</td><td>29.23</td><td>-17.297</td><td>0.2</td><td>41.99</td><td>0.27</td><td>442.75</td><td>84.14</td><td>280.66</td><td>57.69</td><td>0.16</td><td>0.05</td><td>1.0</td><td>0.0</td><td>1.0</td><td>0.0</td></tr>\n",
       "<tr><td>180689</td><td>2377</td><td>53.1512</td><td>-27.76754</td><td>2.9266</td><td>0.0008</td><td>2</td><td>66.08</td><td>16.79</td><td>-17.555</td><td>0.147</td><td>41.78</td><td>0.49</td><td>421.1</td><td>72.27</td><td>308.81</td><td>106.24</td><td>0.21</td><td>0.09</td><td>1.7</td><td>0.3</td><td>0.73</td><td>0.17</td></tr>\n",
       "<tr><td>240899</td><td>2178</td><td>53.14876</td><td>-27.77169</td><td>2.944</td><td>0.003</td><td>2</td><td>47.19</td><td>11.05</td><td>-17.827</td><td>0.134</td><td>41.75</td><td>0.46</td><td>0.0</td><td>0.0</td><td>192.34</td><td>60.22</td><td>0.17</td><td>0.06</td><td>0.79</td><td>0.13</td><td>1.0</td><td>0.0</td></tr>\n",
       "<tr><td>250900</td><td>7085</td><td>53.13323</td><td>-27.78672</td><td>2.9419</td><td>0.0013</td><td>3</td><td>78.08</td><td>8.07</td><td>-18.585</td><td>0.077</td><td>42.27</td><td>0.17</td><td>910.89</td><td>140.7</td><td>358.34</td><td>28.36</td><td>0.18</td><td>0.02</td><td>2.51</td><td>0.14</td><td>0.58</td><td>0.05</td></tr>\n",
       "<tr><td>...</td><td>...</td><td>...</td><td>...</td><td>...</td><td>...</td><td>...</td><td>...</td><td>...</td><td>...</td><td>...</td><td>...</td><td>...</td><td>...</td><td>...</td><td>...</td><td>...</td><td>...</td><td>...</td><td>...</td><td>...</td><td>...</td><td>...</td></tr>\n",
       "<tr><td>404028319</td><td>0</td><td>53.28152</td><td>-27.86737</td><td>3.8978</td><td>0.003</td><td>1</td><td>235.49</td><td>0.0</td><td>-16.108</td><td>0.0</td><td>41.76</td><td>1.68</td><td>0.0</td><td>0.0</td><td>78.24</td><td>217.77</td><td>-0.21</td><td>0.21</td><td>1.0</td><td>0.0</td><td>1.0</td><td>0.0</td></tr>\n",
       "<tr><td>404034409</td><td>0</td><td>53.27283</td><td>-27.87812</td><td>4.5501</td><td>0.0009</td><td>2</td><td>47.96</td><td>9.63</td><td>-19.404</td><td>0.041</td><td>42.38</td><td>0.45</td><td>343.6</td><td>49.72</td><td>139.07</td><td>53.26</td><td>0.24</td><td>0.07</td><td>1.56</td><td>0.13</td><td>0.48</td><td>0.06</td></tr>\n",
       "<tr><td>404036412</td><td>0</td><td>53.28065</td><td>-27.867</td><td>4.6546</td><td>0.0043</td><td>3</td><td>188.96</td><td>19.74</td><td>-19.58</td><td>0.037</td><td>43.05</td><td>0.23</td><td>0.0</td><td>0.0</td><td>239.48</td><td>20.57</td><td>0.24</td><td>0.02</td><td>0.57</td><td>0.1</td><td>0.79</td><td>0.2</td></tr>\n",
       "<tr><td>404037413</td><td>0</td><td>53.27796</td><td>-27.87246</td><td>4.6802</td><td>0.0054</td><td>2</td><td>51.39</td><td>11.19</td><td>-19.999</td><td>0.02</td><td>42.65</td><td>0.5</td><td>0.0</td><td>0.0</td><td>292.38</td><td>82.14</td><td>0.27</td><td>0.1</td><td>4.4</td><td>0.18</td><td>0.47</td><td>0.02</td></tr>\n",
       "<tr><td>404038414</td><td>0</td><td>53.26364</td><td>-27.87471</td><td>4.7735</td><td>0.0039</td><td>1</td><td>71.93</td><td>0.0</td><td>-18.228</td><td>0.0</td><td>42.09</td><td>0.89</td><td>0.0</td><td>0.0</td><td>178.26</td><td>71.48</td><td>0.27</td><td>0.1</td><td>1.0</td><td>0.0</td><td>1.0</td><td>0.0</td></tr>\n",
       "<tr><td>404039415</td><td>0</td><td>53.26348</td><td>-27.87292</td><td>4.7842</td><td>0.0028</td><td>1</td><td>170.73</td><td>0.0</td><td>-16.632</td><td>0.0</td><td>41.83</td><td>1.57</td><td>0.0</td><td>0.0</td><td>109.85</td><td>87.32</td><td>0.28</td><td>0.11</td><td>1.8</td><td>0.27</td><td>0.32</td><td>0.16</td></tr>\n",
       "</table></div>"
      ],
      "text/plain": [
       "<QTable length=1920>\n",
       "    ID    I17ID  RAdeg     DEdeg   ...    Re     e_Re  axisratio e_axisratio\n",
       "                  deg       deg    ...   kpc     kpc                        \n",
       "  int64   int64 float64   float64  ... float64 float64  float64    float64  \n",
       "--------- ----- -------- --------- ... ------- ------- --------- -----------\n",
       "   100628  1240 53.13779 -27.79553 ...   10.74    0.43      0.28        0.01\n",
       "   150686  3658 53.14888 -27.80989 ...    0.91    0.48       1.0         0.0\n",
       "   160687  2582 53.15514 -27.76235 ...     1.0     0.0       1.0         0.0\n",
       "   180689  2377  53.1512 -27.76754 ...     1.7     0.3      0.73        0.17\n",
       "   240899  2178 53.14876 -27.77169 ...    0.79    0.13       1.0         0.0\n",
       "   250900  7085 53.13323 -27.78672 ...    2.51    0.14      0.58        0.05\n",
       "      ...   ...      ...       ... ...     ...     ...       ...         ...\n",
       "404028319     0 53.28152 -27.86737 ...     1.0     0.0       1.0         0.0\n",
       "404034409     0 53.27283 -27.87812 ...    1.56    0.13      0.48        0.06\n",
       "404036412     0 53.28065   -27.867 ...    0.57     0.1      0.79         0.2\n",
       "404037413     0 53.27796 -27.87246 ...     4.4    0.18      0.47        0.02\n",
       "404038414     0 53.26364 -27.87471 ...     1.0     0.0       1.0         0.0\n",
       "404039415     0 53.26348 -27.87292 ...     1.8    0.27      0.32        0.16"
      ]
     },
     "execution_count": 3,
     "metadata": {},
     "output_type": "execute_result"
    }
   ],
   "source": [
    "# Rename columns\n",
    "col_names = ['ID', 'I17ID', 'RAdeg', 'DEdeg', 'z', 'e_z', 'Conf', 'EW0', 'e_EW0', 'MUV', 'e_MUV', 'logLLya', 'e_logLLya', 'Peaksep', 'e_Peaksep', 'FWHM', 'e_FWHM', 'Asym', 'e_Asym', 'Re', 'e_Re', 'axisratio', 'e_axisratio']\n",
    "\n",
    "# Change str -> floats\n",
    "try:\n",
    "    for i in range(len(tableb1_raw[:][0])):\n",
    "        for j in range(len(tableb1_raw[f'col{i+1}'])):\n",
    "            \n",
    "            try:\n",
    "                tableb1_raw[f'col{i+1}'][j] = tableb1_raw[f'col{i+1}'][j].replace(',', '.')\n",
    "                \n",
    "            except:\n",
    "                tableb1_raw[f'col{i+1}'][j] = tableb1_raw[f'col{i+1}'][j] \n",
    "                \n",
    "        if tableb1_raw[f'col{i+1}'].dtype != 'int64':\n",
    "            tableb1_raw[f'col{i+1}'] = tableb1_raw[f'col{i+1}'].astype(float)\n",
    "            \n",
    "        else:\n",
    "            tableb1_raw[f'col{i+1}'] = tableb1_raw[f'col{i+1}']\n",
    "            \n",
    "        tableb1_raw.rename_column(f'col{i+1}',col_names[i])\n",
    "\n",
    "except:\n",
    "    pass\n",
    "\n",
    "# Asignamos unidades a las columnas\n",
    "if 'celda_ejecutada' not in globals():\n",
    "\n",
    "    tableb1 = tableb1_raw.copy()\n",
    "    tableb1_raw['RAdeg'] = tableb1_raw['RAdeg']*u.deg\n",
    "    tableb1_raw['DEdeg'] = tableb1_raw['DEdeg']*u.deg\n",
    "    tableb1_raw['EW0'] = tableb1_raw['EW0']*u.angstrom\n",
    "    tableb1_raw['e_EW0'] = tableb1_raw['e_EW0']*u.angstrom\n",
    "    tableb1_raw['MUV'] = tableb1_raw['MUV']*u.mag\n",
    "    tableb1_raw['e_MUV'] = tableb1_raw['e_MUV']*u.mag\n",
    "    tableb1_raw['logLLya'] = tableb1_raw['logLLya']*u.dex(u.erg/u.s)\n",
    "    tableb1_raw['e_logLLya'] = tableb1_raw['e_logLLya']*u.dex(u.erg/u.s)\n",
    "    tableb1_raw['Peaksep'] = tableb1_raw['Peaksep']*u.km/u.s\n",
    "    tableb1_raw['e_Peaksep'] = tableb1_raw['e_Peaksep']*u.km/u.s\n",
    "    tableb1_raw['FWHM'] = tableb1_raw['FWHM']*u.km/u.s\n",
    "    tableb1_raw['e_FWHM'] = tableb1_raw['e_FWHM']*u.km/u.s\n",
    "    tableb1_raw['Re'] = tableb1_raw['Re']*u.kpc\n",
    "    tableb1_raw['e_Re'] = tableb1_raw['e_Re']*u.kpc\n",
    "\n",
    "    globals()['celda_ejecutada'] = True\n",
    "\n",
    "tableb1 = tableb1_raw\n",
    "tableb1"
   ]
  },
  {
   "cell_type": "markdown",
   "id": "c7303748-f28d-46c4-ab7d-7e95f8ff7e34",
   "metadata": {},
   "source": [
    "## 2. Escape fraction of Ly$\\alpha$ photons: $f_{esc,Ly\\alpha}$\n",
    "\n",
    "Calculamos la fracción de escape de fotones Lyman alpha en función de la anchura equivalente (EW) para corroboral la relacion obtenida por Sobral et al. (2019). Nótese que la relación de Sobral sólo se cumple para 0<EW<200A.\n",
    "\n",
    "$$\n",
    "\\begin{equation}\n",
    "    f_{esc,Ly\\alpha} = 0.0048(\\pm 0.0007)EW_0 \\pm 0.05\n",
    "\\end{equation}\n",
    "$$"
   ]
  },
  {
   "cell_type": "markdown",
   "id": "fd1d6931-9285-4274-a71e-7f8dba109422",
   "metadata": {},
   "source": [
    "Asignamos los valores de fracción de escape de fotones Lyman alpha calculados con la relación de Sobral a cada galaxia. Para aquellas con EW > 200A, asumimos que la fracción de escape es total, es decir, igual a 1. Añadimos los nuevos datos como un nueva columna en tableb1."
   ]
  },
  {
   "cell_type": "code",
   "execution_count": 4,
   "id": "a96c3929-3ba3-4483-a421-2d3016dbb068",
   "metadata": {},
   "outputs": [
    {
     "data": {
      "text/html": [
       "<div><i>QTable length=1920</i>\n",
       "<table id=\"table125202794941744\" class=\"table-striped table-bordered table-condensed\">\n",
       "<thead><tr><th>ID</th><th>I17ID</th><th>RAdeg</th><th>DEdeg</th><th>z</th><th>e_z</th><th>Conf</th><th>EW0</th><th>e_EW0</th><th>MUV</th><th>e_MUV</th><th>logLLya</th><th>e_logLLya</th><th>Peaksep</th><th>e_Peaksep</th><th>FWHM</th><th>e_FWHM</th><th>Asym</th><th>e_Asym</th><th>Re</th><th>e_Re</th><th>axisratio</th><th>e_axisratio</th><th>f_esc_Lya</th></tr></thead>\n",
       "<thead><tr><th></th><th></th><th>deg</th><th>deg</th><th></th><th></th><th></th><th>Angstrom</th><th>Angstrom</th><th>mag</th><th>mag</th><th>dex(erg / s)</th><th>dex(erg / s)</th><th>km / s</th><th>km / s</th><th>km / s</th><th>km / s</th><th></th><th></th><th>kpc</th><th>kpc</th><th></th><th></th><th></th></tr></thead>\n",
       "<thead><tr><th>int64</th><th>int64</th><th>float64</th><th>float64</th><th>float64</th><th>float64</th><th>int64</th><th>float64</th><th>float64</th><th>float64</th><th>float64</th><th>float64</th><th>float64</th><th>float64</th><th>float64</th><th>float64</th><th>float64</th><th>float64</th><th>float64</th><th>float64</th><th>float64</th><th>float64</th><th>float64</th><th>float64</th></tr></thead>\n",
       "<tr><td>100628</td><td>1240</td><td>53.13779</td><td>-27.79553</td><td>2.9167</td><td>0.0008</td><td>3</td><td>19.77</td><td>2.98</td><td>-19.29</td><td>0.041</td><td>41.95</td><td>0.34</td><td>472.86</td><td>80.99</td><td>290.54</td><td>52.02</td><td>0.13</td><td>0.05</td><td>10.74</td><td>0.43</td><td>0.28</td><td>0.01</td><td>0.095</td></tr>\n",
       "<tr><td>150686</td><td>3658</td><td>53.14888</td><td>-27.80989</td><td>2.9271</td><td>0.0112</td><td>2</td><td>82.65</td><td>30.32</td><td>-16.846</td><td>0.298</td><td>41.6</td><td>0.55</td><td>0.0</td><td>0.0</td><td>166.53</td><td>102.32</td><td>-0.05</td><td>0.12</td><td>0.91</td><td>0.48</td><td>1.0</td><td>0.0</td><td>0.397</td></tr>\n",
       "<tr><td>160687</td><td>2582</td><td>53.15514</td><td>-27.76235</td><td>2.9273</td><td>0.0008</td><td>3</td><td>133.46</td><td>29.23</td><td>-17.297</td><td>0.2</td><td>41.99</td><td>0.27</td><td>442.75</td><td>84.14</td><td>280.66</td><td>57.69</td><td>0.16</td><td>0.05</td><td>1.0</td><td>0.0</td><td>1.0</td><td>0.0</td><td>0.641</td></tr>\n",
       "<tr><td>180689</td><td>2377</td><td>53.1512</td><td>-27.76754</td><td>2.9266</td><td>0.0008</td><td>2</td><td>66.08</td><td>16.79</td><td>-17.555</td><td>0.147</td><td>41.78</td><td>0.49</td><td>421.1</td><td>72.27</td><td>308.81</td><td>106.24</td><td>0.21</td><td>0.09</td><td>1.7</td><td>0.3</td><td>0.73</td><td>0.17</td><td>0.317</td></tr>\n",
       "<tr><td>240899</td><td>2178</td><td>53.14876</td><td>-27.77169</td><td>2.944</td><td>0.003</td><td>2</td><td>47.19</td><td>11.05</td><td>-17.827</td><td>0.134</td><td>41.75</td><td>0.46</td><td>0.0</td><td>0.0</td><td>192.34</td><td>60.22</td><td>0.17</td><td>0.06</td><td>0.79</td><td>0.13</td><td>1.0</td><td>0.0</td><td>0.227</td></tr>\n",
       "<tr><td>250900</td><td>7085</td><td>53.13323</td><td>-27.78672</td><td>2.9419</td><td>0.0013</td><td>3</td><td>78.08</td><td>8.07</td><td>-18.585</td><td>0.077</td><td>42.27</td><td>0.17</td><td>910.89</td><td>140.7</td><td>358.34</td><td>28.36</td><td>0.18</td><td>0.02</td><td>2.51</td><td>0.14</td><td>0.58</td><td>0.05</td><td>0.375</td></tr>\n",
       "<tr><td>...</td><td>...</td><td>...</td><td>...</td><td>...</td><td>...</td><td>...</td><td>...</td><td>...</td><td>...</td><td>...</td><td>...</td><td>...</td><td>...</td><td>...</td><td>...</td><td>...</td><td>...</td><td>...</td><td>...</td><td>...</td><td>...</td><td>...</td><td>...</td></tr>\n",
       "<tr><td>404028319</td><td>0</td><td>53.28152</td><td>-27.86737</td><td>3.8978</td><td>0.003</td><td>1</td><td>235.49</td><td>0.0</td><td>-16.108</td><td>0.0</td><td>41.76</td><td>1.68</td><td>0.0</td><td>0.0</td><td>78.24</td><td>217.77</td><td>-0.21</td><td>0.21</td><td>1.0</td><td>0.0</td><td>1.0</td><td>0.0</td><td>1.0</td></tr>\n",
       "<tr><td>404034409</td><td>0</td><td>53.27283</td><td>-27.87812</td><td>4.5501</td><td>0.0009</td><td>2</td><td>47.96</td><td>9.63</td><td>-19.404</td><td>0.041</td><td>42.38</td><td>0.45</td><td>343.6</td><td>49.72</td><td>139.07</td><td>53.26</td><td>0.24</td><td>0.07</td><td>1.56</td><td>0.13</td><td>0.48</td><td>0.06</td><td>0.23</td></tr>\n",
       "<tr><td>404036412</td><td>0</td><td>53.28065</td><td>-27.867</td><td>4.6546</td><td>0.0043</td><td>3</td><td>188.96</td><td>19.74</td><td>-19.58</td><td>0.037</td><td>43.05</td><td>0.23</td><td>0.0</td><td>0.0</td><td>239.48</td><td>20.57</td><td>0.24</td><td>0.02</td><td>0.57</td><td>0.1</td><td>0.79</td><td>0.2</td><td>0.907</td></tr>\n",
       "<tr><td>404037413</td><td>0</td><td>53.27796</td><td>-27.87246</td><td>4.6802</td><td>0.0054</td><td>2</td><td>51.39</td><td>11.19</td><td>-19.999</td><td>0.02</td><td>42.65</td><td>0.5</td><td>0.0</td><td>0.0</td><td>292.38</td><td>82.14</td><td>0.27</td><td>0.1</td><td>4.4</td><td>0.18</td><td>0.47</td><td>0.02</td><td>0.247</td></tr>\n",
       "<tr><td>404038414</td><td>0</td><td>53.26364</td><td>-27.87471</td><td>4.7735</td><td>0.0039</td><td>1</td><td>71.93</td><td>0.0</td><td>-18.228</td><td>0.0</td><td>42.09</td><td>0.89</td><td>0.0</td><td>0.0</td><td>178.26</td><td>71.48</td><td>0.27</td><td>0.1</td><td>1.0</td><td>0.0</td><td>1.0</td><td>0.0</td><td>0.345</td></tr>\n",
       "<tr><td>404039415</td><td>0</td><td>53.26348</td><td>-27.87292</td><td>4.7842</td><td>0.0028</td><td>1</td><td>170.73</td><td>0.0</td><td>-16.632</td><td>0.0</td><td>41.83</td><td>1.57</td><td>0.0</td><td>0.0</td><td>109.85</td><td>87.32</td><td>0.28</td><td>0.11</td><td>1.8</td><td>0.27</td><td>0.32</td><td>0.16</td><td>0.82</td></tr>\n",
       "</table></div>"
      ],
      "text/plain": [
       "<QTable length=1920>\n",
       "    ID    I17ID  RAdeg     DEdeg   ...   e_Re  axisratio e_axisratio f_esc_Lya\n",
       "                  deg       deg    ...   kpc                                  \n",
       "  int64   int64 float64   float64  ... float64  float64    float64    float64 \n",
       "--------- ----- -------- --------- ... ------- --------- ----------- ---------\n",
       "   100628  1240 53.13779 -27.79553 ...    0.43      0.28        0.01     0.095\n",
       "   150686  3658 53.14888 -27.80989 ...    0.48       1.0         0.0     0.397\n",
       "   160687  2582 53.15514 -27.76235 ...     0.0       1.0         0.0     0.641\n",
       "   180689  2377  53.1512 -27.76754 ...     0.3      0.73        0.17     0.317\n",
       "   240899  2178 53.14876 -27.77169 ...    0.13       1.0         0.0     0.227\n",
       "   250900  7085 53.13323 -27.78672 ...    0.14      0.58        0.05     0.375\n",
       "      ...   ...      ...       ... ...     ...       ...         ...       ...\n",
       "404028319     0 53.28152 -27.86737 ...     0.0       1.0         0.0       1.0\n",
       "404034409     0 53.27283 -27.87812 ...    0.13      0.48        0.06      0.23\n",
       "404036412     0 53.28065   -27.867 ...     0.1      0.79         0.2     0.907\n",
       "404037413     0 53.27796 -27.87246 ...    0.18      0.47        0.02     0.247\n",
       "404038414     0 53.26364 -27.87471 ...     0.0       1.0         0.0     0.345\n",
       "404039415     0 53.26348 -27.87292 ...    0.27      0.32        0.16      0.82"
      ]
     },
     "execution_count": 4,
     "metadata": {},
     "output_type": "execute_result"
    }
   ],
   "source": [
    "# Calculation of f_esc_Lya for all LAEs\n",
    "f_esc_Lya = []\n",
    "\n",
    "for i in range(len(tableb1['EW0'])):\n",
    "    if 0 <= tableb1['EW0'][i].value <= 200:\n",
    "        f_esc_Lya.append(0.0048*tableb1['EW0'][i].value)\n",
    "    else:\n",
    "        f_esc_Lya.append(1)\n",
    "\n",
    "# Add new columns with f_esc_Lya\n",
    "tableb1['f_esc_Lya'] = np.round(f_esc_Lya,3)\n",
    "tableb1"
   ]
  },
  {
   "cell_type": "markdown",
   "id": "8524d65f-32c1-40ee-8f4e-90beee1b22d7",
   "metadata": {},
   "source": [
    "### 2.1. Errors in fraction of Ly$\\alpha$ photons\n",
    "\n",
    "Calculamos ahora los errores de la función de escape de Lyman alpha acorde a la relación de Sobral et al. (2019).\n",
    "\n",
    "$$\n",
    "\\begin{equation}\n",
    "    \\Delta f_{esc,Ly\\alpha} = 0.0048(\\pm 0.0007)\\Delta EW_0\n",
    "\\end{equation}\n",
    "$$"
   ]
  },
  {
   "cell_type": "code",
   "execution_count": 5,
   "id": "c3cf8b88-e3ed-43fc-809c-911aacb5b30f",
   "metadata": {},
   "outputs": [
    {
     "data": {
      "text/html": [
       "<div><i>QTable length=1920</i>\n",
       "<table id=\"table125202794941744\" class=\"table-striped table-bordered table-condensed\">\n",
       "<thead><tr><th>ID</th><th>I17ID</th><th>RAdeg</th><th>DEdeg</th><th>z</th><th>e_z</th><th>Conf</th><th>EW0</th><th>e_EW0</th><th>MUV</th><th>e_MUV</th><th>logLLya</th><th>e_logLLya</th><th>Peaksep</th><th>e_Peaksep</th><th>FWHM</th><th>e_FWHM</th><th>Asym</th><th>e_Asym</th><th>Re</th><th>e_Re</th><th>axisratio</th><th>e_axisratio</th><th>f_esc_Lya</th><th>e_f_esc_Lya</th></tr></thead>\n",
       "<thead><tr><th></th><th></th><th>deg</th><th>deg</th><th></th><th></th><th></th><th>Angstrom</th><th>Angstrom</th><th>mag</th><th>mag</th><th>dex(erg / s)</th><th>dex(erg / s)</th><th>km / s</th><th>km / s</th><th>km / s</th><th>km / s</th><th></th><th></th><th>kpc</th><th>kpc</th><th></th><th></th><th></th><th></th></tr></thead>\n",
       "<thead><tr><th>int64</th><th>int64</th><th>float64</th><th>float64</th><th>float64</th><th>float64</th><th>int64</th><th>float64</th><th>float64</th><th>float64</th><th>float64</th><th>float64</th><th>float64</th><th>float64</th><th>float64</th><th>float64</th><th>float64</th><th>float64</th><th>float64</th><th>float64</th><th>float64</th><th>float64</th><th>float64</th><th>float64</th><th>float64</th></tr></thead>\n",
       "<tr><td>100628</td><td>1240</td><td>53.13779</td><td>-27.79553</td><td>2.9167</td><td>0.0008</td><td>3</td><td>19.77</td><td>2.98</td><td>-19.29</td><td>0.041</td><td>41.95</td><td>0.34</td><td>472.86</td><td>80.99</td><td>290.54</td><td>52.02</td><td>0.13</td><td>0.05</td><td>10.74</td><td>0.43</td><td>0.28</td><td>0.01</td><td>0.095</td><td>0.014</td></tr>\n",
       "<tr><td>150686</td><td>3658</td><td>53.14888</td><td>-27.80989</td><td>2.9271</td><td>0.0112</td><td>2</td><td>82.65</td><td>30.32</td><td>-16.846</td><td>0.298</td><td>41.6</td><td>0.55</td><td>0.0</td><td>0.0</td><td>166.53</td><td>102.32</td><td>-0.05</td><td>0.12</td><td>0.91</td><td>0.48</td><td>1.0</td><td>0.0</td><td>0.397</td><td>0.146</td></tr>\n",
       "<tr><td>160687</td><td>2582</td><td>53.15514</td><td>-27.76235</td><td>2.9273</td><td>0.0008</td><td>3</td><td>133.46</td><td>29.23</td><td>-17.297</td><td>0.2</td><td>41.99</td><td>0.27</td><td>442.75</td><td>84.14</td><td>280.66</td><td>57.69</td><td>0.16</td><td>0.05</td><td>1.0</td><td>0.0</td><td>1.0</td><td>0.0</td><td>0.641</td><td>0.14</td></tr>\n",
       "<tr><td>180689</td><td>2377</td><td>53.1512</td><td>-27.76754</td><td>2.9266</td><td>0.0008</td><td>2</td><td>66.08</td><td>16.79</td><td>-17.555</td><td>0.147</td><td>41.78</td><td>0.49</td><td>421.1</td><td>72.27</td><td>308.81</td><td>106.24</td><td>0.21</td><td>0.09</td><td>1.7</td><td>0.3</td><td>0.73</td><td>0.17</td><td>0.317</td><td>0.081</td></tr>\n",
       "<tr><td>240899</td><td>2178</td><td>53.14876</td><td>-27.77169</td><td>2.944</td><td>0.003</td><td>2</td><td>47.19</td><td>11.05</td><td>-17.827</td><td>0.134</td><td>41.75</td><td>0.46</td><td>0.0</td><td>0.0</td><td>192.34</td><td>60.22</td><td>0.17</td><td>0.06</td><td>0.79</td><td>0.13</td><td>1.0</td><td>0.0</td><td>0.227</td><td>0.053</td></tr>\n",
       "<tr><td>250900</td><td>7085</td><td>53.13323</td><td>-27.78672</td><td>2.9419</td><td>0.0013</td><td>3</td><td>78.08</td><td>8.07</td><td>-18.585</td><td>0.077</td><td>42.27</td><td>0.17</td><td>910.89</td><td>140.7</td><td>358.34</td><td>28.36</td><td>0.18</td><td>0.02</td><td>2.51</td><td>0.14</td><td>0.58</td><td>0.05</td><td>0.375</td><td>0.039</td></tr>\n",
       "<tr><td>...</td><td>...</td><td>...</td><td>...</td><td>...</td><td>...</td><td>...</td><td>...</td><td>...</td><td>...</td><td>...</td><td>...</td><td>...</td><td>...</td><td>...</td><td>...</td><td>...</td><td>...</td><td>...</td><td>...</td><td>...</td><td>...</td><td>...</td><td>...</td><td>...</td></tr>\n",
       "<tr><td>404028319</td><td>0</td><td>53.28152</td><td>-27.86737</td><td>3.8978</td><td>0.003</td><td>1</td><td>235.49</td><td>0.0</td><td>-16.108</td><td>0.0</td><td>41.76</td><td>1.68</td><td>0.0</td><td>0.0</td><td>78.24</td><td>217.77</td><td>-0.21</td><td>0.21</td><td>1.0</td><td>0.0</td><td>1.0</td><td>0.0</td><td>1.0</td><td>0.0</td></tr>\n",
       "<tr><td>404034409</td><td>0</td><td>53.27283</td><td>-27.87812</td><td>4.5501</td><td>0.0009</td><td>2</td><td>47.96</td><td>9.63</td><td>-19.404</td><td>0.041</td><td>42.38</td><td>0.45</td><td>343.6</td><td>49.72</td><td>139.07</td><td>53.26</td><td>0.24</td><td>0.07</td><td>1.56</td><td>0.13</td><td>0.48</td><td>0.06</td><td>0.23</td><td>0.046</td></tr>\n",
       "<tr><td>404036412</td><td>0</td><td>53.28065</td><td>-27.867</td><td>4.6546</td><td>0.0043</td><td>3</td><td>188.96</td><td>19.74</td><td>-19.58</td><td>0.037</td><td>43.05</td><td>0.23</td><td>0.0</td><td>0.0</td><td>239.48</td><td>20.57</td><td>0.24</td><td>0.02</td><td>0.57</td><td>0.1</td><td>0.79</td><td>0.2</td><td>0.907</td><td>0.095</td></tr>\n",
       "<tr><td>404037413</td><td>0</td><td>53.27796</td><td>-27.87246</td><td>4.6802</td><td>0.0054</td><td>2</td><td>51.39</td><td>11.19</td><td>-19.999</td><td>0.02</td><td>42.65</td><td>0.5</td><td>0.0</td><td>0.0</td><td>292.38</td><td>82.14</td><td>0.27</td><td>0.1</td><td>4.4</td><td>0.18</td><td>0.47</td><td>0.02</td><td>0.247</td><td>0.054</td></tr>\n",
       "<tr><td>404038414</td><td>0</td><td>53.26364</td><td>-27.87471</td><td>4.7735</td><td>0.0039</td><td>1</td><td>71.93</td><td>0.0</td><td>-18.228</td><td>0.0</td><td>42.09</td><td>0.89</td><td>0.0</td><td>0.0</td><td>178.26</td><td>71.48</td><td>0.27</td><td>0.1</td><td>1.0</td><td>0.0</td><td>1.0</td><td>0.0</td><td>0.345</td><td>0.0</td></tr>\n",
       "<tr><td>404039415</td><td>0</td><td>53.26348</td><td>-27.87292</td><td>4.7842</td><td>0.0028</td><td>1</td><td>170.73</td><td>0.0</td><td>-16.632</td><td>0.0</td><td>41.83</td><td>1.57</td><td>0.0</td><td>0.0</td><td>109.85</td><td>87.32</td><td>0.28</td><td>0.11</td><td>1.8</td><td>0.27</td><td>0.32</td><td>0.16</td><td>0.82</td><td>0.0</td></tr>\n",
       "</table></div>"
      ],
      "text/plain": [
       "<QTable length=1920>\n",
       "    ID    I17ID  RAdeg     DEdeg   ... e_axisratio f_esc_Lya e_f_esc_Lya\n",
       "                  deg       deg    ...                                  \n",
       "  int64   int64 float64   float64  ...   float64    float64    float64  \n",
       "--------- ----- -------- --------- ... ----------- --------- -----------\n",
       "   100628  1240 53.13779 -27.79553 ...        0.01     0.095       0.014\n",
       "   150686  3658 53.14888 -27.80989 ...         0.0     0.397       0.146\n",
       "   160687  2582 53.15514 -27.76235 ...         0.0     0.641        0.14\n",
       "   180689  2377  53.1512 -27.76754 ...        0.17     0.317       0.081\n",
       "   240899  2178 53.14876 -27.77169 ...         0.0     0.227       0.053\n",
       "   250900  7085 53.13323 -27.78672 ...        0.05     0.375       0.039\n",
       "      ...   ...      ...       ... ...         ...       ...         ...\n",
       "404028319     0 53.28152 -27.86737 ...         0.0       1.0         0.0\n",
       "404034409     0 53.27283 -27.87812 ...        0.06      0.23       0.046\n",
       "404036412     0 53.28065   -27.867 ...         0.2     0.907       0.095\n",
       "404037413     0 53.27796 -27.87246 ...        0.02     0.247       0.054\n",
       "404038414     0 53.26364 -27.87471 ...         0.0     0.345         0.0\n",
       "404039415     0 53.26348 -27.87292 ...        0.16      0.82         0.0"
      ]
     },
     "execution_count": 5,
     "metadata": {},
     "output_type": "execute_result"
    }
   ],
   "source": [
    "# Calculation of f_esc_Lya for all LAEs\n",
    "e_f_esc_Lya = []\n",
    "\n",
    "for i in range(len(tableb1['EW0'])):\n",
    "    if 0 <= tableb1['EW0'][i].value <= 200:\n",
    "        e_f_esc_Lya.append(0.0048*tableb1['e_EW0'][i].value)\n",
    "    else:\n",
    "        e_f_esc_Lya.append(0)\n",
    "\n",
    "# Add new columns with e_f_esc_Lya\n",
    "tableb1['e_f_esc_Lya'] = np.round(e_f_esc_Lya,3)\n",
    "tableb1"
   ]
  },
  {
   "cell_type": "code",
   "execution_count": 6,
   "id": "9b5ed7fb-7779-4ad4-a595-ac07b63841ad",
   "metadata": {},
   "outputs": [
    {
     "data": {
      "image/png": "[encoded data removed]",
      "text/plain": [
       "<Figure size 720x720 with 1 Axes>"
      ]
     },
     "metadata": {},
     "output_type": "display_data"
    }
   ],
   "source": [
    "# Select range 0 < EW < 200A\n",
    "EW_Sobral = []\n",
    "e_EW_Sobral = []\n",
    "e_f_esc_Lya_Sobral = []\n",
    "\n",
    "for i in range(len(tableb1['EW0'])):\n",
    "    if 0 <= tableb1['EW0'][i].value <= 200:\n",
    "        EW_Sobral.append(tableb1['EW0'][i].value)\n",
    "        e_EW_Sobral.append(tableb1['e_EW0'][i].value)\n",
    "        e_f_esc_Lya_Sobral.append(round(0.0048*tableb1['e_EW0'][i].value,3))\n",
    "        \n",
    "EW_Sobral = np.array(EW_Sobral)\n",
    "e_EW_Sobral = np.array(e_EW_Sobral)\n",
    "e_f_esc_Lya_Sobral = np.array(e_f_esc_Lya_Sobral)\n",
    "\n",
    "# Sobral et al. (2019)\n",
    "f_esc_Lya_Sobral = 0.0048*EW_Sobral\n",
    "\n",
    "plt.plot(EW_Sobral , f_esc_Lya_Sobral, \".\", color = 'black',markersize = 0.7)\n",
    "\n",
    "plt.errorbar(180, 0.05, yerr = np.mean(e_f_esc_Lya_Sobral), xerr = np.mean(e_EW_Sobral), linewidth = 0.7)\n",
    "\n",
    "plt.xlabel('$EW_{0}$')\n",
    "plt.ylabel('$f_{\\mathrm{esc},\\mathrm{Ly\\\\alpha}}$')\n",
    "plt.title('Sobral relation')\n",
    "\n",
    "plt.show()"
   ]
  },
  {
   "cell_type": "markdown",
   "id": "1b22529d-7fe5-4622-b5ae-d8696d686c64",
   "metadata": {},
   "source": [
    "Nótese que $EW_0$ = $EW_{0,L\\alpha,obs}$ al igual que logLLy_a se refiere al logLLy_a_obs."
   ]
  },
  {
   "cell_type": "markdown",
   "id": "292b713a-5583-470d-ac6b-3ab3ff4edf8e",
   "metadata": {},
   "source": [
    "## 3. Intrinsic Ly$\\alpha$ photons\n",
    "\n",
    "A continuación, calculamos la luminosidad de la línea de Lyman alpha a partir de la definición de función de escape:\n",
    "\n",
    "$$\n",
    "\\begin{equation}\n",
    "    f_{esc,Ly\\alpha} = \\frac{L_{Ly\\alpha,obs}}{L_{Ly\\alpha,int}}\n",
    "\\end{equation}\n",
    "$$\n",
    "\n",
    "donde \n",
    "\n",
    "$$\n",
    "\\begin{equation}\n",
    "    L_{Ly\\alpha,i} = 10^{log_{10}({L_{Ly\\alpha,i}})}\n",
    "\\end{equation}\n",
    "$$"
   ]
  },
  {
   "cell_type": "code",
   "execution_count": 7,
   "id": "08be62b7-59a7-49c2-b3f9-6245763b4546",
   "metadata": {},
   "outputs": [
    {
     "data": {
      "text/html": [
       "<div><i>QTable length=1920</i>\n",
       "<table id=\"table125202794941744\" class=\"table-striped table-bordered table-condensed\">\n",
       "<thead><tr><th>ID</th><th>I17ID</th><th>RAdeg</th><th>DEdeg</th><th>z</th><th>e_z</th><th>Conf</th><th>EW0</th><th>e_EW0</th><th>MUV</th><th>e_MUV</th><th>logLLya</th><th>e_logLLya</th><th>Peaksep</th><th>e_Peaksep</th><th>FWHM</th><th>e_FWHM</th><th>Asym</th><th>e_Asym</th><th>Re</th><th>e_Re</th><th>axisratio</th><th>e_axisratio</th><th>f_esc_Lya</th><th>e_f_esc_Lya</th><th>logLLya_int</th></tr></thead>\n",
       "<thead><tr><th></th><th></th><th>deg</th><th>deg</th><th></th><th></th><th></th><th>Angstrom</th><th>Angstrom</th><th>mag</th><th>mag</th><th>dex(erg / s)</th><th>dex(erg / s)</th><th>km / s</th><th>km / s</th><th>km / s</th><th>km / s</th><th></th><th></th><th>kpc</th><th>kpc</th><th></th><th></th><th></th><th></th><th>dex(erg / s)</th></tr></thead>\n",
       "<thead><tr><th>int64</th><th>int64</th><th>float64</th><th>float64</th><th>float64</th><th>float64</th><th>int64</th><th>float64</th><th>float64</th><th>float64</th><th>float64</th><th>float64</th><th>float64</th><th>float64</th><th>float64</th><th>float64</th><th>float64</th><th>float64</th><th>float64</th><th>float64</th><th>float64</th><th>float64</th><th>float64</th><th>float64</th><th>float64</th><th>float64</th></tr></thead>\n",
       "<tr><td>100628</td><td>1240</td><td>53.13779</td><td>-27.79553</td><td>2.9167</td><td>0.0008</td><td>3</td><td>19.77</td><td>2.98</td><td>-19.29</td><td>0.041</td><td>41.95</td><td>0.34</td><td>472.86</td><td>80.99</td><td>290.54</td><td>52.02</td><td>0.13</td><td>0.05</td><td>10.74</td><td>0.43</td><td>0.28</td><td>0.01</td><td>0.095</td><td>0.014</td><td>42.972</td></tr>\n",
       "<tr><td>150686</td><td>3658</td><td>53.14888</td><td>-27.80989</td><td>2.9271</td><td>0.0112</td><td>2</td><td>82.65</td><td>30.32</td><td>-16.846</td><td>0.298</td><td>41.6</td><td>0.55</td><td>0.0</td><td>0.0</td><td>166.53</td><td>102.32</td><td>-0.05</td><td>0.12</td><td>0.91</td><td>0.48</td><td>1.0</td><td>0.0</td><td>0.397</td><td>0.146</td><td>42.001</td></tr>\n",
       "<tr><td>160687</td><td>2582</td><td>53.15514</td><td>-27.76235</td><td>2.9273</td><td>0.0008</td><td>3</td><td>133.46</td><td>29.23</td><td>-17.297</td><td>0.2</td><td>41.99</td><td>0.27</td><td>442.75</td><td>84.14</td><td>280.66</td><td>57.69</td><td>0.16</td><td>0.05</td><td>1.0</td><td>0.0</td><td>1.0</td><td>0.0</td><td>0.641</td><td>0.14</td><td>42.183</td></tr>\n",
       "<tr><td>180689</td><td>2377</td><td>53.1512</td><td>-27.76754</td><td>2.9266</td><td>0.0008</td><td>2</td><td>66.08</td><td>16.79</td><td>-17.555</td><td>0.147</td><td>41.78</td><td>0.49</td><td>421.1</td><td>72.27</td><td>308.81</td><td>106.24</td><td>0.21</td><td>0.09</td><td>1.7</td><td>0.3</td><td>0.73</td><td>0.17</td><td>0.317</td><td>0.081</td><td>42.279</td></tr>\n",
       "<tr><td>240899</td><td>2178</td><td>53.14876</td><td>-27.77169</td><td>2.944</td><td>0.003</td><td>2</td><td>47.19</td><td>11.05</td><td>-17.827</td><td>0.134</td><td>41.75</td><td>0.46</td><td>0.0</td><td>0.0</td><td>192.34</td><td>60.22</td><td>0.17</td><td>0.06</td><td>0.79</td><td>0.13</td><td>1.0</td><td>0.0</td><td>0.227</td><td>0.053</td><td>42.394</td></tr>\n",
       "<tr><td>250900</td><td>7085</td><td>53.13323</td><td>-27.78672</td><td>2.9419</td><td>0.0013</td><td>3</td><td>78.08</td><td>8.07</td><td>-18.585</td><td>0.077</td><td>42.27</td><td>0.17</td><td>910.89</td><td>140.7</td><td>358.34</td><td>28.36</td><td>0.18</td><td>0.02</td><td>2.51</td><td>0.14</td><td>0.58</td><td>0.05</td><td>0.375</td><td>0.039</td><td>42.696</td></tr>\n",
       "<tr><td>...</td><td>...</td><td>...</td><td>...</td><td>...</td><td>...</td><td>...</td><td>...</td><td>...</td><td>...</td><td>...</td><td>...</td><td>...</td><td>...</td><td>...</td><td>...</td><td>...</td><td>...</td><td>...</td><td>...</td><td>...</td><td>...</td><td>...</td><td>...</td><td>...</td><td>...</td></tr>\n",
       "<tr><td>404028319</td><td>0</td><td>53.28152</td><td>-27.86737</td><td>3.8978</td><td>0.003</td><td>1</td><td>235.49</td><td>0.0</td><td>-16.108</td><td>0.0</td><td>41.76</td><td>1.68</td><td>0.0</td><td>0.0</td><td>78.24</td><td>217.77</td><td>-0.21</td><td>0.21</td><td>1.0</td><td>0.0</td><td>1.0</td><td>0.0</td><td>1.0</td><td>0.0</td><td>41.76</td></tr>\n",
       "<tr><td>404034409</td><td>0</td><td>53.27283</td><td>-27.87812</td><td>4.5501</td><td>0.0009</td><td>2</td><td>47.96</td><td>9.63</td><td>-19.404</td><td>0.041</td><td>42.38</td><td>0.45</td><td>343.6</td><td>49.72</td><td>139.07</td><td>53.26</td><td>0.24</td><td>0.07</td><td>1.56</td><td>0.13</td><td>0.48</td><td>0.06</td><td>0.23</td><td>0.046</td><td>43.018</td></tr>\n",
       "<tr><td>404036412</td><td>0</td><td>53.28065</td><td>-27.867</td><td>4.6546</td><td>0.0043</td><td>3</td><td>188.96</td><td>19.74</td><td>-19.58</td><td>0.037</td><td>43.05</td><td>0.23</td><td>0.0</td><td>0.0</td><td>239.48</td><td>20.57</td><td>0.24</td><td>0.02</td><td>0.57</td><td>0.1</td><td>0.79</td><td>0.2</td><td>0.907</td><td>0.095</td><td>43.092</td></tr>\n",
       "<tr><td>404037413</td><td>0</td><td>53.27796</td><td>-27.87246</td><td>4.6802</td><td>0.0054</td><td>2</td><td>51.39</td><td>11.19</td><td>-19.999</td><td>0.02</td><td>42.65</td><td>0.5</td><td>0.0</td><td>0.0</td><td>292.38</td><td>82.14</td><td>0.27</td><td>0.1</td><td>4.4</td><td>0.18</td><td>0.47</td><td>0.02</td><td>0.247</td><td>0.054</td><td>43.257</td></tr>\n",
       "<tr><td>404038414</td><td>0</td><td>53.26364</td><td>-27.87471</td><td>4.7735</td><td>0.0039</td><td>1</td><td>71.93</td><td>0.0</td><td>-18.228</td><td>0.0</td><td>42.09</td><td>0.89</td><td>0.0</td><td>0.0</td><td>178.26</td><td>71.48</td><td>0.27</td><td>0.1</td><td>1.0</td><td>0.0</td><td>1.0</td><td>0.0</td><td>0.345</td><td>0.0</td><td>42.552</td></tr>\n",
       "<tr><td>404039415</td><td>0</td><td>53.26348</td><td>-27.87292</td><td>4.7842</td><td>0.0028</td><td>1</td><td>170.73</td><td>0.0</td><td>-16.632</td><td>0.0</td><td>41.83</td><td>1.57</td><td>0.0</td><td>0.0</td><td>109.85</td><td>87.32</td><td>0.28</td><td>0.11</td><td>1.8</td><td>0.27</td><td>0.32</td><td>0.16</td><td>0.82</td><td>0.0</td><td>41.916</td></tr>\n",
       "</table></div>"
      ],
      "text/plain": [
       "<QTable length=1920>\n",
       "    ID    I17ID  RAdeg     DEdeg   ... f_esc_Lya e_f_esc_Lya logLLya_int \n",
       "                  deg       deg    ...                       dex(erg / s)\n",
       "  int64   int64 float64   float64  ...  float64    float64     float64   \n",
       "--------- ----- -------- --------- ... --------- ----------- ------------\n",
       "   100628  1240 53.13779 -27.79553 ...     0.095       0.014       42.972\n",
       "   150686  3658 53.14888 -27.80989 ...     0.397       0.146       42.001\n",
       "   160687  2582 53.15514 -27.76235 ...     0.641        0.14       42.183\n",
       "   180689  2377  53.1512 -27.76754 ...     0.317       0.081       42.279\n",
       "   240899  2178 53.14876 -27.77169 ...     0.227       0.053       42.394\n",
       "   250900  7085 53.13323 -27.78672 ...     0.375       0.039       42.696\n",
       "      ...   ...      ...       ... ...       ...         ...          ...\n",
       "404028319     0 53.28152 -27.86737 ...       1.0         0.0        41.76\n",
       "404034409     0 53.27283 -27.87812 ...      0.23       0.046       43.018\n",
       "404036412     0 53.28065   -27.867 ...     0.907       0.095       43.092\n",
       "404037413     0 53.27796 -27.87246 ...     0.247       0.054       43.257\n",
       "404038414     0 53.26364 -27.87471 ...     0.345         0.0       42.552\n",
       "404039415     0 53.26348 -27.87292 ...      0.82         0.0       41.916"
      ]
     },
     "execution_count": 7,
     "metadata": {},
     "output_type": "execute_result"
    }
   ],
   "source": [
    "# Luminsoidad Lyman alpha intríseca (propia del objeto)\n",
    "tableb1['logLLya_int'] = np.round(np.log10(10**tableb1['logLLya'].value/tableb1['f_esc_Lya']),3)*u.dex(u.erg/u.s)\n",
    "tableb1"
   ]
  },
  {
   "cell_type": "markdown",
   "id": "b70c6972-e281-4526-82f6-352a0f1d0be6",
   "metadata": {},
   "source": [
    "### 3.1. Erros in intrinsic Ly$\\alpha$ photons\n",
    "\n",
    "El error viene dado por:\n",
    "\n",
    "$$\n",
    "\\begin{equation}\n",
    "    \\Delta L_{Ly\\alpha,int} = \\sqrt{\\left(\\frac{\\Delta L_{Ly\\alpha,obs}}{f_{esc,Ly\\alpha}}\\right)^2 + \\left(\\frac{L_{Ly\\alpha,obs}} {f_{esc,Ly\\alpha}^2}\\Delta f_{esc,Ly\\alpha}\\right)^2}\n",
    "\\end{equation}\n",
    "$$\n",
    "\n",
    "donde\n",
    "\n",
    "$$\n",
    "\\begin{equation}\n",
    "    \\Delta L_{Ly\\alpha,obs} = \\Delta log_{10}(L_{Ly\\alpha,obs}) \\cdot L_{Ly\\alpha,int} \\cdot Ln(10) = \\Delta log_{10}(L_{Ly\\alpha,obs}) \\cdot 10^{log_{10}({L_{Ly\\alpha,obs}})} \\cdot Ln(10)\n",
    "\\end{equation}\n",
    "$$"
   ]
  },
  {
   "cell_type": "code",
   "execution_count": 8,
   "id": "c65c57f2-5bf5-4a2f-9041-f705339b4972",
   "metadata": {},
   "outputs": [
    {
     "data": {
      "text/html": [
       "<div><i>QTable length=1920</i>\n",
       "<table id=\"table125202794941744\" class=\"table-striped table-bordered table-condensed\">\n",
       "<thead><tr><th>ID</th><th>I17ID</th><th>RAdeg</th><th>DEdeg</th><th>z</th><th>e_z</th><th>Conf</th><th>EW0</th><th>e_EW0</th><th>MUV</th><th>e_MUV</th><th>logLLya</th><th>e_logLLya</th><th>Peaksep</th><th>e_Peaksep</th><th>FWHM</th><th>e_FWHM</th><th>Asym</th><th>e_Asym</th><th>Re</th><th>e_Re</th><th>axisratio</th><th>e_axisratio</th><th>f_esc_Lya</th><th>e_f_esc_Lya</th><th>logLLya_int</th><th>e_logLLya_int</th></tr></thead>\n",
       "<thead><tr><th></th><th></th><th>deg</th><th>deg</th><th></th><th></th><th></th><th>Angstrom</th><th>Angstrom</th><th>mag</th><th>mag</th><th>dex(erg / s)</th><th>dex(erg / s)</th><th>km / s</th><th>km / s</th><th>km / s</th><th>km / s</th><th></th><th></th><th>kpc</th><th>kpc</th><th></th><th></th><th></th><th></th><th>dex(erg / s)</th><th>dex(erg / s)</th></tr></thead>\n",
       "<thead><tr><th>int64</th><th>int64</th><th>float64</th><th>float64</th><th>float64</th><th>float64</th><th>int64</th><th>float64</th><th>float64</th><th>float64</th><th>float64</th><th>float64</th><th>float64</th><th>float64</th><th>float64</th><th>float64</th><th>float64</th><th>float64</th><th>float64</th><th>float64</th><th>float64</th><th>float64</th><th>float64</th><th>float64</th><th>float64</th><th>float64</th><th>float64</th></tr></thead>\n",
       "<tr><td>100628</td><td>1240</td><td>53.13779</td><td>-27.79553</td><td>2.9167</td><td>0.0008</td><td>3</td><td>19.77</td><td>2.98</td><td>-19.29</td><td>0.041</td><td>41.95</td><td>0.34</td><td>472.86</td><td>80.99</td><td>290.54</td><td>52.02</td><td>0.13</td><td>0.05</td><td>10.74</td><td>0.43</td><td>0.28</td><td>0.01</td><td>0.095</td><td>0.014</td><td>42.972</td><td>0.161</td></tr>\n",
       "<tr><td>150686</td><td>3658</td><td>53.14888</td><td>-27.80989</td><td>2.9271</td><td>0.0112</td><td>2</td><td>82.65</td><td>30.32</td><td>-16.846</td><td>0.298</td><td>41.6</td><td>0.55</td><td>0.0</td><td>0.0</td><td>166.53</td><td>102.32</td><td>-0.05</td><td>0.12</td><td>0.91</td><td>0.48</td><td>1.0</td><td>0.0</td><td>0.397</td><td>0.146</td><td>42.001</td><td>0.288</td></tr>\n",
       "<tr><td>160687</td><td>2582</td><td>53.15514</td><td>-27.76235</td><td>2.9273</td><td>0.0008</td><td>3</td><td>133.46</td><td>29.23</td><td>-17.297</td><td>0.2</td><td>41.99</td><td>0.27</td><td>442.75</td><td>84.14</td><td>280.66</td><td>57.69</td><td>0.16</td><td>0.05</td><td>1.0</td><td>0.0</td><td>1.0</td><td>0.0</td><td>0.641</td><td>0.14</td><td>42.183</td><td>0.151</td></tr>\n",
       "<tr><td>180689</td><td>2377</td><td>53.1512</td><td>-27.76754</td><td>2.9266</td><td>0.0008</td><td>2</td><td>66.08</td><td>16.79</td><td>-17.555</td><td>0.147</td><td>41.78</td><td>0.49</td><td>421.1</td><td>72.27</td><td>308.81</td><td>106.24</td><td>0.21</td><td>0.09</td><td>1.7</td><td>0.3</td><td>0.73</td><td>0.17</td><td>0.317</td><td>0.081</td><td>42.279</td><td>0.24</td></tr>\n",
       "<tr><td>240899</td><td>2178</td><td>53.14876</td><td>-27.77169</td><td>2.944</td><td>0.003</td><td>2</td><td>47.19</td><td>11.05</td><td>-17.827</td><td>0.134</td><td>41.75</td><td>0.46</td><td>0.0</td><td>0.0</td><td>192.34</td><td>60.22</td><td>0.17</td><td>0.06</td><td>0.79</td><td>0.13</td><td>1.0</td><td>0.0</td><td>0.227</td><td>0.053</td><td>42.394</td><td>0.224</td></tr>\n",
       "<tr><td>250900</td><td>7085</td><td>53.13323</td><td>-27.78672</td><td>2.9419</td><td>0.0013</td><td>3</td><td>78.08</td><td>8.07</td><td>-18.585</td><td>0.077</td><td>42.27</td><td>0.17</td><td>910.89</td><td>140.7</td><td>358.34</td><td>28.36</td><td>0.18</td><td>0.02</td><td>2.51</td><td>0.14</td><td>0.58</td><td>0.05</td><td>0.375</td><td>0.039</td><td>42.696</td><td>0.086</td></tr>\n",
       "<tr><td>...</td><td>...</td><td>...</td><td>...</td><td>...</td><td>...</td><td>...</td><td>...</td><td>...</td><td>...</td><td>...</td><td>...</td><td>...</td><td>...</td><td>...</td><td>...</td><td>...</td><td>...</td><td>...</td><td>...</td><td>...</td><td>...</td><td>...</td><td>...</td><td>...</td><td>...</td><td>...</td></tr>\n",
       "<tr><td>404028319</td><td>0</td><td>53.28152</td><td>-27.86737</td><td>3.8978</td><td>0.003</td><td>1</td><td>235.49</td><td>0.0</td><td>-16.108</td><td>0.0</td><td>41.76</td><td>1.68</td><td>0.0</td><td>0.0</td><td>78.24</td><td>217.77</td><td>-0.21</td><td>0.21</td><td>1.0</td><td>0.0</td><td>1.0</td><td>0.0</td><td>1.0</td><td>0.0</td><td>41.76</td><td>0.73</td></tr>\n",
       "<tr><td>404034409</td><td>0</td><td>53.27283</td><td>-27.87812</td><td>4.5501</td><td>0.0009</td><td>2</td><td>47.96</td><td>9.63</td><td>-19.404</td><td>0.041</td><td>42.38</td><td>0.45</td><td>343.6</td><td>49.72</td><td>139.07</td><td>53.26</td><td>0.24</td><td>0.07</td><td>1.56</td><td>0.13</td><td>0.48</td><td>0.06</td><td>0.23</td><td>0.046</td><td>43.018</td><td>0.214</td></tr>\n",
       "<tr><td>404036412</td><td>0</td><td>53.28065</td><td>-27.867</td><td>4.6546</td><td>0.0043</td><td>3</td><td>188.96</td><td>19.74</td><td>-19.58</td><td>0.037</td><td>43.05</td><td>0.23</td><td>0.0</td><td>0.0</td><td>239.48</td><td>20.57</td><td>0.24</td><td>0.02</td><td>0.57</td><td>0.1</td><td>0.79</td><td>0.2</td><td>0.907</td><td>0.095</td><td>43.092</td><td>0.11</td></tr>\n",
       "<tr><td>404037413</td><td>0</td><td>53.27796</td><td>-27.87246</td><td>4.6802</td><td>0.0054</td><td>2</td><td>51.39</td><td>11.19</td><td>-19.999</td><td>0.02</td><td>42.65</td><td>0.5</td><td>0.0</td><td>0.0</td><td>292.38</td><td>82.14</td><td>0.27</td><td>0.1</td><td>4.4</td><td>0.18</td><td>0.47</td><td>0.02</td><td>0.247</td><td>0.054</td><td>43.257</td><td>0.237</td></tr>\n",
       "<tr><td>404038414</td><td>0</td><td>53.26364</td><td>-27.87471</td><td>4.7735</td><td>0.0039</td><td>1</td><td>71.93</td><td>0.0</td><td>-18.228</td><td>0.0</td><td>42.09</td><td>0.89</td><td>0.0</td><td>0.0</td><td>178.26</td><td>71.48</td><td>0.27</td><td>0.1</td><td>1.0</td><td>0.0</td><td>1.0</td><td>0.0</td><td>0.345</td><td>0.0</td><td>42.552</td><td>0.387</td></tr>\n",
       "<tr><td>404039415</td><td>0</td><td>53.26348</td><td>-27.87292</td><td>4.7842</td><td>0.0028</td><td>1</td><td>170.73</td><td>0.0</td><td>-16.632</td><td>0.0</td><td>41.83</td><td>1.57</td><td>0.0</td><td>0.0</td><td>109.85</td><td>87.32</td><td>0.28</td><td>0.11</td><td>1.8</td><td>0.27</td><td>0.32</td><td>0.16</td><td>0.82</td><td>0.0</td><td>41.916</td><td>0.682</td></tr>\n",
       "</table></div>"
      ],
      "text/plain": [
       "<QTable length=1920>\n",
       "    ID    I17ID  RAdeg     DEdeg   ... e_f_esc_Lya logLLya_int  e_logLLya_int\n",
       "                  deg       deg    ...             dex(erg / s)  dex(erg / s)\n",
       "  int64   int64 float64   float64  ...   float64     float64       float64   \n",
       "--------- ----- -------- --------- ... ----------- ------------ -------------\n",
       "   100628  1240 53.13779 -27.79553 ...       0.014       42.972         0.161\n",
       "   150686  3658 53.14888 -27.80989 ...       0.146       42.001         0.288\n",
       "   160687  2582 53.15514 -27.76235 ...        0.14       42.183         0.151\n",
       "   180689  2377  53.1512 -27.76754 ...       0.081       42.279          0.24\n",
       "   240899  2178 53.14876 -27.77169 ...       0.053       42.394         0.224\n",
       "   250900  7085 53.13323 -27.78672 ...       0.039       42.696         0.086\n",
       "      ...   ...      ...       ... ...         ...          ...           ...\n",
       "404028319     0 53.28152 -27.86737 ...         0.0        41.76          0.73\n",
       "404034409     0 53.27283 -27.87812 ...       0.046       43.018         0.214\n",
       "404036412     0 53.28065   -27.867 ...       0.095       43.092          0.11\n",
       "404037413     0 53.27796 -27.87246 ...       0.054       43.257         0.237\n",
       "404038414     0 53.26364 -27.87471 ...         0.0       42.552         0.387\n",
       "404039415     0 53.26348 -27.87292 ...         0.0       41.916         0.682"
      ]
     },
     "execution_count": 8,
     "metadata": {},
     "output_type": "execute_result"
    }
   ],
   "source": [
    "# Error en la luminsoidad Lyman alpha intríseca (propia del objeto)\n",
    "tableb1['e_logLLya_int'] = np.round((np.sqrt((tableb1['e_logLLya'].value*10**tableb1['logLLya'].value/tableb1['f_esc_Lya'])**2+(10**tableb1['logLLya'].value*tableb1['e_f_esc_Lya']/tableb1['f_esc_Lya']**2)**2)/10**tableb1['logLLya_int'].value),3)\n",
    "tableb1['e_logLLya_int'] = np.round(tableb1['e_logLLya_int'] * (1/np.log(10)),3) *u.dex(u.erg/u.s)\n",
    "tableb1"
   ]
  },
  {
   "cell_type": "markdown",
   "id": "8e4b358d-d8f3-4a43-acf0-4f3116d794d1",
   "metadata": {},
   "source": [
    "## 4. Number of ionizing photons $N_{ion}$\n",
    "\n",
    "Con los parámetros calculados, es el momento de calcular el número de fotones ionizantes, es decir, el número de fotones con $\\lambda < 912$ Å (límite de Lyman). Utilizamos la siguiente expresión,\n",
    "\n",
    "$$\n",
    "\\begin{equation}\n",
    "    L_{Ly\\alpha,int} = 1.19 \\cdot 10^{-11} N_{ion}\n",
    "\\end{equation}\n",
    "$$\n",
    "\n",
    "asumiendo las condiciones del caso B de Osterbrock y Telectrónica~10.000 K (la normal en regiones ionizadas). Nótese que estamos abusando de notación y $N_{ion}$ = $N_{ion, L\\alpha,int}$. "
   ]
  },
  {
   "cell_type": "code",
   "execution_count": 9,
   "id": "29605147-1f6e-47f6-884f-3b80854dc378",
   "metadata": {},
   "outputs": [
    {
     "data": {
      "text/html": [
       "<div><i>QTable length=1920</i>\n",
       "<table id=\"table125202794941744\" class=\"table-striped table-bordered table-condensed\">\n",
       "<thead><tr><th>ID</th><th>I17ID</th><th>RAdeg</th><th>DEdeg</th><th>z</th><th>e_z</th><th>Conf</th><th>EW0</th><th>e_EW0</th><th>MUV</th><th>e_MUV</th><th>logLLya</th><th>e_logLLya</th><th>Peaksep</th><th>e_Peaksep</th><th>FWHM</th><th>e_FWHM</th><th>Asym</th><th>e_Asym</th><th>Re</th><th>e_Re</th><th>axisratio</th><th>e_axisratio</th><th>f_esc_Lya</th><th>e_f_esc_Lya</th><th>logLLya_int</th><th>e_logLLya_int</th><th>logN_ion</th></tr></thead>\n",
       "<thead><tr><th></th><th></th><th>deg</th><th>deg</th><th></th><th></th><th></th><th>Angstrom</th><th>Angstrom</th><th>mag</th><th>mag</th><th>dex(erg / s)</th><th>dex(erg / s)</th><th>km / s</th><th>km / s</th><th>km / s</th><th>km / s</th><th></th><th></th><th>kpc</th><th>kpc</th><th></th><th></th><th></th><th></th><th>dex(erg / s)</th><th>dex(erg / s)</th><th>dex(1 / s)</th></tr></thead>\n",
       "<thead><tr><th>int64</th><th>int64</th><th>float64</th><th>float64</th><th>float64</th><th>float64</th><th>int64</th><th>float64</th><th>float64</th><th>float64</th><th>float64</th><th>float64</th><th>float64</th><th>float64</th><th>float64</th><th>float64</th><th>float64</th><th>float64</th><th>float64</th><th>float64</th><th>float64</th><th>float64</th><th>float64</th><th>float64</th><th>float64</th><th>float64</th><th>float64</th><th>float64</th></tr></thead>\n",
       "<tr><td>100628</td><td>1240</td><td>53.13779</td><td>-27.79553</td><td>2.9167</td><td>0.0008</td><td>3</td><td>19.77</td><td>2.98</td><td>-19.29</td><td>0.041</td><td>41.95</td><td>0.34</td><td>472.86</td><td>80.99</td><td>290.54</td><td>52.02</td><td>0.13</td><td>0.05</td><td>10.74</td><td>0.43</td><td>0.28</td><td>0.01</td><td>0.095</td><td>0.014</td><td>42.972</td><td>0.161</td><td>53.896</td></tr>\n",
       "<tr><td>150686</td><td>3658</td><td>53.14888</td><td>-27.80989</td><td>2.9271</td><td>0.0112</td><td>2</td><td>82.65</td><td>30.32</td><td>-16.846</td><td>0.298</td><td>41.6</td><td>0.55</td><td>0.0</td><td>0.0</td><td>166.53</td><td>102.32</td><td>-0.05</td><td>0.12</td><td>0.91</td><td>0.48</td><td>1.0</td><td>0.0</td><td>0.397</td><td>0.146</td><td>42.001</td><td>0.288</td><td>52.925</td></tr>\n",
       "<tr><td>160687</td><td>2582</td><td>53.15514</td><td>-27.76235</td><td>2.9273</td><td>0.0008</td><td>3</td><td>133.46</td><td>29.23</td><td>-17.297</td><td>0.2</td><td>41.99</td><td>0.27</td><td>442.75</td><td>84.14</td><td>280.66</td><td>57.69</td><td>0.16</td><td>0.05</td><td>1.0</td><td>0.0</td><td>1.0</td><td>0.0</td><td>0.641</td><td>0.14</td><td>42.183</td><td>0.151</td><td>53.107</td></tr>\n",
       "<tr><td>180689</td><td>2377</td><td>53.1512</td><td>-27.76754</td><td>2.9266</td><td>0.0008</td><td>2</td><td>66.08</td><td>16.79</td><td>-17.555</td><td>0.147</td><td>41.78</td><td>0.49</td><td>421.1</td><td>72.27</td><td>308.81</td><td>106.24</td><td>0.21</td><td>0.09</td><td>1.7</td><td>0.3</td><td>0.73</td><td>0.17</td><td>0.317</td><td>0.081</td><td>42.279</td><td>0.24</td><td>53.203</td></tr>\n",
       "<tr><td>240899</td><td>2178</td><td>53.14876</td><td>-27.77169</td><td>2.944</td><td>0.003</td><td>2</td><td>47.19</td><td>11.05</td><td>-17.827</td><td>0.134</td><td>41.75</td><td>0.46</td><td>0.0</td><td>0.0</td><td>192.34</td><td>60.22</td><td>0.17</td><td>0.06</td><td>0.79</td><td>0.13</td><td>1.0</td><td>0.0</td><td>0.227</td><td>0.053</td><td>42.394</td><td>0.224</td><td>53.318</td></tr>\n",
       "<tr><td>250900</td><td>7085</td><td>53.13323</td><td>-27.78672</td><td>2.9419</td><td>0.0013</td><td>3</td><td>78.08</td><td>8.07</td><td>-18.585</td><td>0.077</td><td>42.27</td><td>0.17</td><td>910.89</td><td>140.7</td><td>358.34</td><td>28.36</td><td>0.18</td><td>0.02</td><td>2.51</td><td>0.14</td><td>0.58</td><td>0.05</td><td>0.375</td><td>0.039</td><td>42.696</td><td>0.086</td><td>53.62</td></tr>\n",
       "<tr><td>...</td><td>...</td><td>...</td><td>...</td><td>...</td><td>...</td><td>...</td><td>...</td><td>...</td><td>...</td><td>...</td><td>...</td><td>...</td><td>...</td><td>...</td><td>...</td><td>...</td><td>...</td><td>...</td><td>...</td><td>...</td><td>...</td><td>...</td><td>...</td><td>...</td><td>...</td><td>...</td><td>...</td></tr>\n",
       "<tr><td>404028319</td><td>0</td><td>53.28152</td><td>-27.86737</td><td>3.8978</td><td>0.003</td><td>1</td><td>235.49</td><td>0.0</td><td>-16.108</td><td>0.0</td><td>41.76</td><td>1.68</td><td>0.0</td><td>0.0</td><td>78.24</td><td>217.77</td><td>-0.21</td><td>0.21</td><td>1.0</td><td>0.0</td><td>1.0</td><td>0.0</td><td>1.0</td><td>0.0</td><td>41.76</td><td>0.73</td><td>52.684</td></tr>\n",
       "<tr><td>404034409</td><td>0</td><td>53.27283</td><td>-27.87812</td><td>4.5501</td><td>0.0009</td><td>2</td><td>47.96</td><td>9.63</td><td>-19.404</td><td>0.041</td><td>42.38</td><td>0.45</td><td>343.6</td><td>49.72</td><td>139.07</td><td>53.26</td><td>0.24</td><td>0.07</td><td>1.56</td><td>0.13</td><td>0.48</td><td>0.06</td><td>0.23</td><td>0.046</td><td>43.018</td><td>0.214</td><td>53.942</td></tr>\n",
       "<tr><td>404036412</td><td>0</td><td>53.28065</td><td>-27.867</td><td>4.6546</td><td>0.0043</td><td>3</td><td>188.96</td><td>19.74</td><td>-19.58</td><td>0.037</td><td>43.05</td><td>0.23</td><td>0.0</td><td>0.0</td><td>239.48</td><td>20.57</td><td>0.24</td><td>0.02</td><td>0.57</td><td>0.1</td><td>0.79</td><td>0.2</td><td>0.907</td><td>0.095</td><td>43.092</td><td>0.11</td><td>54.016</td></tr>\n",
       "<tr><td>404037413</td><td>0</td><td>53.27796</td><td>-27.87246</td><td>4.6802</td><td>0.0054</td><td>2</td><td>51.39</td><td>11.19</td><td>-19.999</td><td>0.02</td><td>42.65</td><td>0.5</td><td>0.0</td><td>0.0</td><td>292.38</td><td>82.14</td><td>0.27</td><td>0.1</td><td>4.4</td><td>0.18</td><td>0.47</td><td>0.02</td><td>0.247</td><td>0.054</td><td>43.257</td><td>0.237</td><td>54.181</td></tr>\n",
       "<tr><td>404038414</td><td>0</td><td>53.26364</td><td>-27.87471</td><td>4.7735</td><td>0.0039</td><td>1</td><td>71.93</td><td>0.0</td><td>-18.228</td><td>0.0</td><td>42.09</td><td>0.89</td><td>0.0</td><td>0.0</td><td>178.26</td><td>71.48</td><td>0.27</td><td>0.1</td><td>1.0</td><td>0.0</td><td>1.0</td><td>0.0</td><td>0.345</td><td>0.0</td><td>42.552</td><td>0.387</td><td>53.476</td></tr>\n",
       "<tr><td>404039415</td><td>0</td><td>53.26348</td><td>-27.87292</td><td>4.7842</td><td>0.0028</td><td>1</td><td>170.73</td><td>0.0</td><td>-16.632</td><td>0.0</td><td>41.83</td><td>1.57</td><td>0.0</td><td>0.0</td><td>109.85</td><td>87.32</td><td>0.28</td><td>0.11</td><td>1.8</td><td>0.27</td><td>0.32</td><td>0.16</td><td>0.82</td><td>0.0</td><td>41.916</td><td>0.682</td><td>52.84</td></tr>\n",
       "</table></div>"
      ],
      "text/plain": [
       "<QTable length=1920>\n",
       "    ID    I17ID  RAdeg     DEdeg   ... logLLya_int  e_logLLya_int  logN_ion \n",
       "                  deg       deg    ... dex(erg / s)  dex(erg / s) dex(1 / s)\n",
       "  int64   int64 float64   float64  ...   float64       float64     float64  \n",
       "--------- ----- -------- --------- ... ------------ ------------- ----------\n",
       "   100628  1240 53.13779 -27.79553 ...       42.972         0.161     53.896\n",
       "   150686  3658 53.14888 -27.80989 ...       42.001         0.288     52.925\n",
       "   160687  2582 53.15514 -27.76235 ...       42.183         0.151     53.107\n",
       "   180689  2377  53.1512 -27.76754 ...       42.279          0.24     53.203\n",
       "   240899  2178 53.14876 -27.77169 ...       42.394         0.224     53.318\n",
       "   250900  7085 53.13323 -27.78672 ...       42.696         0.086      53.62\n",
       "      ...   ...      ...       ... ...          ...           ...        ...\n",
       "404028319     0 53.28152 -27.86737 ...        41.76          0.73     52.684\n",
       "404034409     0 53.27283 -27.87812 ...       43.018         0.214     53.942\n",
       "404036412     0 53.28065   -27.867 ...       43.092          0.11     54.016\n",
       "404037413     0 53.27796 -27.87246 ...       43.257         0.237     54.181\n",
       "404038414     0 53.26364 -27.87471 ...       42.552         0.387     53.476\n",
       "404039415     0 53.26348 -27.87292 ...       41.916         0.682      52.84"
      ]
     },
     "execution_count": 9,
     "metadata": {},
     "output_type": "execute_result"
    }
   ],
   "source": [
    "# Numero de fotones ionizantes\n",
    "tableb1['logN_ion'] = np.round(np.log10(10**tableb1['logLLya_int'].value / (1.19*10**(-11))),3)*u.dex(1/u.s)\n",
    "tableb1"
   ]
  },
  {
   "cell_type": "markdown",
   "id": "43b2cf5e-e216-4b9b-a580-41130b0c82ed",
   "metadata": {},
   "source": [
    "### 4.1 Errors in number of ionizing photons $N_{ion}$\n",
    "\n",
    "Calculamos los errores en el número de fotones ionizantes como\n",
    "\n",
    "$$\n",
    "\\begin{equation}\n",
    "    \\Delta N_{ion} = \\frac{\\Delta L_{Ly\\alpha,int}}{1.19 \\cdot 10^{-11}}\n",
    "\\end{equation}\n",
    "$$"
   ]
  },
  {
   "cell_type": "code",
   "execution_count": 10,
   "id": "897b44c4-6ac2-4ff5-9609-9700d822cf30",
   "metadata": {},
   "outputs": [
    {
     "data": {
      "text/html": [
       "<div><i>QTable length=1920</i>\n",
       "<table id=\"table125202794941744\" class=\"table-striped table-bordered table-condensed\">\n",
       "<thead><tr><th>ID</th><th>I17ID</th><th>RAdeg</th><th>DEdeg</th><th>z</th><th>e_z</th><th>Conf</th><th>EW0</th><th>e_EW0</th><th>MUV</th><th>e_MUV</th><th>logLLya</th><th>e_logLLya</th><th>Peaksep</th><th>e_Peaksep</th><th>FWHM</th><th>e_FWHM</th><th>Asym</th><th>e_Asym</th><th>Re</th><th>e_Re</th><th>axisratio</th><th>e_axisratio</th><th>f_esc_Lya</th><th>e_f_esc_Lya</th><th>logLLya_int</th><th>e_logLLya_int</th><th>logN_ion</th><th>e_logN_ion</th></tr></thead>\n",
       "<thead><tr><th></th><th></th><th>deg</th><th>deg</th><th></th><th></th><th></th><th>Angstrom</th><th>Angstrom</th><th>mag</th><th>mag</th><th>dex(erg / s)</th><th>dex(erg / s)</th><th>km / s</th><th>km / s</th><th>km / s</th><th>km / s</th><th></th><th></th><th>kpc</th><th>kpc</th><th></th><th></th><th></th><th></th><th>dex(erg / s)</th><th>dex(erg / s)</th><th>dex(1 / s)</th><th>dex(1 / s)</th></tr></thead>\n",
       "<thead><tr><th>int64</th><th>int64</th><th>float64</th><th>float64</th><th>float64</th><th>float64</th><th>int64</th><th>float64</th><th>float64</th><th>float64</th><th>float64</th><th>float64</th><th>float64</th><th>float64</th><th>float64</th><th>float64</th><th>float64</th><th>float64</th><th>float64</th><th>float64</th><th>float64</th><th>float64</th><th>float64</th><th>float64</th><th>float64</th><th>float64</th><th>float64</th><th>float64</th><th>float64</th></tr></thead>\n",
       "<tr><td>100628</td><td>1240</td><td>53.13779</td><td>-27.79553</td><td>2.9167</td><td>0.0008</td><td>3</td><td>19.77</td><td>2.98</td><td>-19.29</td><td>0.041</td><td>41.95</td><td>0.34</td><td>472.86</td><td>80.99</td><td>290.54</td><td>52.02</td><td>0.13</td><td>0.05</td><td>10.74</td><td>0.43</td><td>0.28</td><td>0.01</td><td>0.095</td><td>0.014</td><td>42.972</td><td>0.161</td><td>53.896</td><td>0.07</td></tr>\n",
       "<tr><td>150686</td><td>3658</td><td>53.14888</td><td>-27.80989</td><td>2.9271</td><td>0.0112</td><td>2</td><td>82.65</td><td>30.32</td><td>-16.846</td><td>0.298</td><td>41.6</td><td>0.55</td><td>0.0</td><td>0.0</td><td>166.53</td><td>102.32</td><td>-0.05</td><td>0.12</td><td>0.91</td><td>0.48</td><td>1.0</td><td>0.0</td><td>0.397</td><td>0.146</td><td>42.001</td><td>0.288</td><td>52.925</td><td>0.125</td></tr>\n",
       "<tr><td>160687</td><td>2582</td><td>53.15514</td><td>-27.76235</td><td>2.9273</td><td>0.0008</td><td>3</td><td>133.46</td><td>29.23</td><td>-17.297</td><td>0.2</td><td>41.99</td><td>0.27</td><td>442.75</td><td>84.14</td><td>280.66</td><td>57.69</td><td>0.16</td><td>0.05</td><td>1.0</td><td>0.0</td><td>1.0</td><td>0.0</td><td>0.641</td><td>0.14</td><td>42.183</td><td>0.151</td><td>53.107</td><td>0.066</td></tr>\n",
       "<tr><td>180689</td><td>2377</td><td>53.1512</td><td>-27.76754</td><td>2.9266</td><td>0.0008</td><td>2</td><td>66.08</td><td>16.79</td><td>-17.555</td><td>0.147</td><td>41.78</td><td>0.49</td><td>421.1</td><td>72.27</td><td>308.81</td><td>106.24</td><td>0.21</td><td>0.09</td><td>1.7</td><td>0.3</td><td>0.73</td><td>0.17</td><td>0.317</td><td>0.081</td><td>42.279</td><td>0.24</td><td>53.203</td><td>0.104</td></tr>\n",
       "<tr><td>240899</td><td>2178</td><td>53.14876</td><td>-27.77169</td><td>2.944</td><td>0.003</td><td>2</td><td>47.19</td><td>11.05</td><td>-17.827</td><td>0.134</td><td>41.75</td><td>0.46</td><td>0.0</td><td>0.0</td><td>192.34</td><td>60.22</td><td>0.17</td><td>0.06</td><td>0.79</td><td>0.13</td><td>1.0</td><td>0.0</td><td>0.227</td><td>0.053</td><td>42.394</td><td>0.224</td><td>53.318</td><td>0.097</td></tr>\n",
       "<tr><td>250900</td><td>7085</td><td>53.13323</td><td>-27.78672</td><td>2.9419</td><td>0.0013</td><td>3</td><td>78.08</td><td>8.07</td><td>-18.585</td><td>0.077</td><td>42.27</td><td>0.17</td><td>910.89</td><td>140.7</td><td>358.34</td><td>28.36</td><td>0.18</td><td>0.02</td><td>2.51</td><td>0.14</td><td>0.58</td><td>0.05</td><td>0.375</td><td>0.039</td><td>42.696</td><td>0.086</td><td>53.62</td><td>0.037</td></tr>\n",
       "<tr><td>...</td><td>...</td><td>...</td><td>...</td><td>...</td><td>...</td><td>...</td><td>...</td><td>...</td><td>...</td><td>...</td><td>...</td><td>...</td><td>...</td><td>...</td><td>...</td><td>...</td><td>...</td><td>...</td><td>...</td><td>...</td><td>...</td><td>...</td><td>...</td><td>...</td><td>...</td><td>...</td><td>...</td><td>...</td></tr>\n",
       "<tr><td>404028319</td><td>0</td><td>53.28152</td><td>-27.86737</td><td>3.8978</td><td>0.003</td><td>1</td><td>235.49</td><td>0.0</td><td>-16.108</td><td>0.0</td><td>41.76</td><td>1.68</td><td>0.0</td><td>0.0</td><td>78.24</td><td>217.77</td><td>-0.21</td><td>0.21</td><td>1.0</td><td>0.0</td><td>1.0</td><td>0.0</td><td>1.0</td><td>0.0</td><td>41.76</td><td>0.73</td><td>52.684</td><td>0.317</td></tr>\n",
       "<tr><td>404034409</td><td>0</td><td>53.27283</td><td>-27.87812</td><td>4.5501</td><td>0.0009</td><td>2</td><td>47.96</td><td>9.63</td><td>-19.404</td><td>0.041</td><td>42.38</td><td>0.45</td><td>343.6</td><td>49.72</td><td>139.07</td><td>53.26</td><td>0.24</td><td>0.07</td><td>1.56</td><td>0.13</td><td>0.48</td><td>0.06</td><td>0.23</td><td>0.046</td><td>43.018</td><td>0.214</td><td>53.942</td><td>0.093</td></tr>\n",
       "<tr><td>404036412</td><td>0</td><td>53.28065</td><td>-27.867</td><td>4.6546</td><td>0.0043</td><td>3</td><td>188.96</td><td>19.74</td><td>-19.58</td><td>0.037</td><td>43.05</td><td>0.23</td><td>0.0</td><td>0.0</td><td>239.48</td><td>20.57</td><td>0.24</td><td>0.02</td><td>0.57</td><td>0.1</td><td>0.79</td><td>0.2</td><td>0.907</td><td>0.095</td><td>43.092</td><td>0.11</td><td>54.016</td><td>0.048</td></tr>\n",
       "<tr><td>404037413</td><td>0</td><td>53.27796</td><td>-27.87246</td><td>4.6802</td><td>0.0054</td><td>2</td><td>51.39</td><td>11.19</td><td>-19.999</td><td>0.02</td><td>42.65</td><td>0.5</td><td>0.0</td><td>0.0</td><td>292.38</td><td>82.14</td><td>0.27</td><td>0.1</td><td>4.4</td><td>0.18</td><td>0.47</td><td>0.02</td><td>0.247</td><td>0.054</td><td>43.257</td><td>0.237</td><td>54.181</td><td>0.103</td></tr>\n",
       "<tr><td>404038414</td><td>0</td><td>53.26364</td><td>-27.87471</td><td>4.7735</td><td>0.0039</td><td>1</td><td>71.93</td><td>0.0</td><td>-18.228</td><td>0.0</td><td>42.09</td><td>0.89</td><td>0.0</td><td>0.0</td><td>178.26</td><td>71.48</td><td>0.27</td><td>0.1</td><td>1.0</td><td>0.0</td><td>1.0</td><td>0.0</td><td>0.345</td><td>0.0</td><td>42.552</td><td>0.387</td><td>53.476</td><td>0.168</td></tr>\n",
       "<tr><td>404039415</td><td>0</td><td>53.26348</td><td>-27.87292</td><td>4.7842</td><td>0.0028</td><td>1</td><td>170.73</td><td>0.0</td><td>-16.632</td><td>0.0</td><td>41.83</td><td>1.57</td><td>0.0</td><td>0.0</td><td>109.85</td><td>87.32</td><td>0.28</td><td>0.11</td><td>1.8</td><td>0.27</td><td>0.32</td><td>0.16</td><td>0.82</td><td>0.0</td><td>41.916</td><td>0.682</td><td>52.84</td><td>0.297</td></tr>\n",
       "</table></div>"
      ],
      "text/plain": [
       "<QTable length=1920>\n",
       "    ID    I17ID  RAdeg     DEdeg   ... e_logLLya_int  logN_ion  e_logN_ion\n",
       "                  deg       deg    ...  dex(erg / s) dex(1 / s) dex(1 / s)\n",
       "  int64   int64 float64   float64  ...    float64     float64    float64  \n",
       "--------- ----- -------- --------- ... ------------- ---------- ----------\n",
       "   100628  1240 53.13779 -27.79553 ...         0.161     53.896       0.07\n",
       "   150686  3658 53.14888 -27.80989 ...         0.288     52.925      0.125\n",
       "   160687  2582 53.15514 -27.76235 ...         0.151     53.107      0.066\n",
       "   180689  2377  53.1512 -27.76754 ...          0.24     53.203      0.104\n",
       "   240899  2178 53.14876 -27.77169 ...         0.224     53.318      0.097\n",
       "   250900  7085 53.13323 -27.78672 ...         0.086      53.62      0.037\n",
       "      ...   ...      ...       ... ...           ...        ...        ...\n",
       "404028319     0 53.28152 -27.86737 ...          0.73     52.684      0.317\n",
       "404034409     0 53.27283 -27.87812 ...         0.214     53.942      0.093\n",
       "404036412     0 53.28065   -27.867 ...          0.11     54.016      0.048\n",
       "404037413     0 53.27796 -27.87246 ...         0.237     54.181      0.103\n",
       "404038414     0 53.26364 -27.87471 ...         0.387     53.476      0.168\n",
       "404039415     0 53.26348 -27.87292 ...         0.682      52.84      0.297"
      ]
     },
     "execution_count": 10,
     "metadata": {},
     "output_type": "execute_result"
    }
   ],
   "source": [
    "# Error en el número de fotones ionizantes\n",
    "tableb1['e_logN_ion'] = np.round((tableb1['e_logLLya_int'].value*10**tableb1['logLLya_int'].value / (1.19*10**(-11))/(10**tableb1['logN_ion'].value)),3)\n",
    "tableb1['e_logN_ion'] = np.round(tableb1['e_logN_ion'] * (1/np.log(10)),3) * u.dex(1/u.s)\n",
    "tableb1"
   ]
  },
  {
   "cell_type": "markdown",
   "id": "9d25a790-da2c-44ad-9fa3-cec21572638c",
   "metadata": {},
   "source": [
    "## 5. Continuum luminosity $L_{1200}$\n",
    "\n",
    "A continuación, calculamos la luminosidad en el continuo de 1200 Å utilizando la definción de ancho equivalente: \n",
    "\n",
    "$$\n",
    "\\begin{equation}\n",
    "    EW_0 = \\frac{L_{Ly_\\alpha,obs}}{L_{1200}}\n",
    "\\end{equation}\n",
    "$$"
   ]
  },
  {
   "cell_type": "code",
   "execution_count": 11,
   "id": "3493c40a-4a63-4eeb-bc0e-b51f98d24bbb",
   "metadata": {},
   "outputs": [
    {
     "data": {
      "text/html": [
       "<div><i>QTable length=1920</i>\n",
       "<table id=\"table125202794941744\" class=\"table-striped table-bordered table-condensed\">\n",
       "<thead><tr><th>ID</th><th>I17ID</th><th>RAdeg</th><th>DEdeg</th><th>z</th><th>e_z</th><th>Conf</th><th>EW0</th><th>e_EW0</th><th>MUV</th><th>e_MUV</th><th>logLLya</th><th>e_logLLya</th><th>Peaksep</th><th>e_Peaksep</th><th>FWHM</th><th>e_FWHM</th><th>Asym</th><th>e_Asym</th><th>Re</th><th>e_Re</th><th>axisratio</th><th>e_axisratio</th><th>f_esc_Lya</th><th>e_f_esc_Lya</th><th>logLLya_int</th><th>e_logLLya_int</th><th>logN_ion</th><th>e_logN_ion</th><th>logL1200</th></tr></thead>\n",
       "<thead><tr><th></th><th></th><th>deg</th><th>deg</th><th></th><th></th><th></th><th>Angstrom</th><th>Angstrom</th><th>mag</th><th>mag</th><th>dex(erg / s)</th><th>dex(erg / s)</th><th>km / s</th><th>km / s</th><th>km / s</th><th>km / s</th><th></th><th></th><th>kpc</th><th>kpc</th><th></th><th></th><th></th><th></th><th>dex(erg / s)</th><th>dex(erg / s)</th><th>dex(1 / s)</th><th>dex(1 / s)</th><th>dex(erg / (Angstrom s))</th></tr></thead>\n",
       "<thead><tr><th>int64</th><th>int64</th><th>float64</th><th>float64</th><th>float64</th><th>float64</th><th>int64</th><th>float64</th><th>float64</th><th>float64</th><th>float64</th><th>float64</th><th>float64</th><th>float64</th><th>float64</th><th>float64</th><th>float64</th><th>float64</th><th>float64</th><th>float64</th><th>float64</th><th>float64</th><th>float64</th><th>float64</th><th>float64</th><th>float64</th><th>float64</th><th>float64</th><th>float64</th><th>float64</th></tr></thead>\n",
       "<tr><td>100628</td><td>1240</td><td>53.13779</td><td>-27.79553</td><td>2.9167</td><td>0.0008</td><td>3</td><td>19.77</td><td>2.98</td><td>-19.29</td><td>0.041</td><td>41.95</td><td>0.34</td><td>472.86</td><td>80.99</td><td>290.54</td><td>52.02</td><td>0.13</td><td>0.05</td><td>10.74</td><td>0.43</td><td>0.28</td><td>0.01</td><td>0.095</td><td>0.014</td><td>42.972</td><td>0.161</td><td>53.896</td><td>0.07</td><td>40.654</td></tr>\n",
       "<tr><td>150686</td><td>3658</td><td>53.14888</td><td>-27.80989</td><td>2.9271</td><td>0.0112</td><td>2</td><td>82.65</td><td>30.32</td><td>-16.846</td><td>0.298</td><td>41.6</td><td>0.55</td><td>0.0</td><td>0.0</td><td>166.53</td><td>102.32</td><td>-0.05</td><td>0.12</td><td>0.91</td><td>0.48</td><td>1.0</td><td>0.0</td><td>0.397</td><td>0.146</td><td>42.001</td><td>0.288</td><td>52.925</td><td>0.125</td><td>39.683</td></tr>\n",
       "<tr><td>160687</td><td>2582</td><td>53.15514</td><td>-27.76235</td><td>2.9273</td><td>0.0008</td><td>3</td><td>133.46</td><td>29.23</td><td>-17.297</td><td>0.2</td><td>41.99</td><td>0.27</td><td>442.75</td><td>84.14</td><td>280.66</td><td>57.69</td><td>0.16</td><td>0.05</td><td>1.0</td><td>0.0</td><td>1.0</td><td>0.0</td><td>0.641</td><td>0.14</td><td>42.183</td><td>0.151</td><td>53.107</td><td>0.066</td><td>39.865</td></tr>\n",
       "<tr><td>180689</td><td>2377</td><td>53.1512</td><td>-27.76754</td><td>2.9266</td><td>0.0008</td><td>2</td><td>66.08</td><td>16.79</td><td>-17.555</td><td>0.147</td><td>41.78</td><td>0.49</td><td>421.1</td><td>72.27</td><td>308.81</td><td>106.24</td><td>0.21</td><td>0.09</td><td>1.7</td><td>0.3</td><td>0.73</td><td>0.17</td><td>0.317</td><td>0.081</td><td>42.279</td><td>0.24</td><td>53.203</td><td>0.104</td><td>39.96</td></tr>\n",
       "<tr><td>240899</td><td>2178</td><td>53.14876</td><td>-27.77169</td><td>2.944</td><td>0.003</td><td>2</td><td>47.19</td><td>11.05</td><td>-17.827</td><td>0.134</td><td>41.75</td><td>0.46</td><td>0.0</td><td>0.0</td><td>192.34</td><td>60.22</td><td>0.17</td><td>0.06</td><td>0.79</td><td>0.13</td><td>1.0</td><td>0.0</td><td>0.227</td><td>0.053</td><td>42.394</td><td>0.224</td><td>53.318</td><td>0.097</td><td>40.076</td></tr>\n",
       "<tr><td>250900</td><td>7085</td><td>53.13323</td><td>-27.78672</td><td>2.9419</td><td>0.0013</td><td>3</td><td>78.08</td><td>8.07</td><td>-18.585</td><td>0.077</td><td>42.27</td><td>0.17</td><td>910.89</td><td>140.7</td><td>358.34</td><td>28.36</td><td>0.18</td><td>0.02</td><td>2.51</td><td>0.14</td><td>0.58</td><td>0.05</td><td>0.375</td><td>0.039</td><td>42.696</td><td>0.086</td><td>53.62</td><td>0.037</td><td>40.377</td></tr>\n",
       "<tr><td>...</td><td>...</td><td>...</td><td>...</td><td>...</td><td>...</td><td>...</td><td>...</td><td>...</td><td>...</td><td>...</td><td>...</td><td>...</td><td>...</td><td>...</td><td>...</td><td>...</td><td>...</td><td>...</td><td>...</td><td>...</td><td>...</td><td>...</td><td>...</td><td>...</td><td>...</td><td>...</td><td>...</td><td>...</td><td>...</td></tr>\n",
       "<tr><td>404028319</td><td>0</td><td>53.28152</td><td>-27.86737</td><td>3.8978</td><td>0.003</td><td>1</td><td>235.49</td><td>0.0</td><td>-16.108</td><td>0.0</td><td>41.76</td><td>1.68</td><td>0.0</td><td>0.0</td><td>78.24</td><td>217.77</td><td>-0.21</td><td>0.21</td><td>1.0</td><td>0.0</td><td>1.0</td><td>0.0</td><td>1.0</td><td>0.0</td><td>41.76</td><td>0.73</td><td>52.684</td><td>0.317</td><td>39.388</td></tr>\n",
       "<tr><td>404034409</td><td>0</td><td>53.27283</td><td>-27.87812</td><td>4.5501</td><td>0.0009</td><td>2</td><td>47.96</td><td>9.63</td><td>-19.404</td><td>0.041</td><td>42.38</td><td>0.45</td><td>343.6</td><td>49.72</td><td>139.07</td><td>53.26</td><td>0.24</td><td>0.07</td><td>1.56</td><td>0.13</td><td>0.48</td><td>0.06</td><td>0.23</td><td>0.046</td><td>43.018</td><td>0.214</td><td>53.942</td><td>0.093</td><td>40.699</td></tr>\n",
       "<tr><td>404036412</td><td>0</td><td>53.28065</td><td>-27.867</td><td>4.6546</td><td>0.0043</td><td>3</td><td>188.96</td><td>19.74</td><td>-19.58</td><td>0.037</td><td>43.05</td><td>0.23</td><td>0.0</td><td>0.0</td><td>239.48</td><td>20.57</td><td>0.24</td><td>0.02</td><td>0.57</td><td>0.1</td><td>0.79</td><td>0.2</td><td>0.907</td><td>0.095</td><td>43.092</td><td>0.11</td><td>54.016</td><td>0.048</td><td>40.774</td></tr>\n",
       "<tr><td>404037413</td><td>0</td><td>53.27796</td><td>-27.87246</td><td>4.6802</td><td>0.0054</td><td>2</td><td>51.39</td><td>11.19</td><td>-19.999</td><td>0.02</td><td>42.65</td><td>0.5</td><td>0.0</td><td>0.0</td><td>292.38</td><td>82.14</td><td>0.27</td><td>0.1</td><td>4.4</td><td>0.18</td><td>0.47</td><td>0.02</td><td>0.247</td><td>0.054</td><td>43.257</td><td>0.237</td><td>54.181</td><td>0.103</td><td>40.939</td></tr>\n",
       "<tr><td>404038414</td><td>0</td><td>53.26364</td><td>-27.87471</td><td>4.7735</td><td>0.0039</td><td>1</td><td>71.93</td><td>0.0</td><td>-18.228</td><td>0.0</td><td>42.09</td><td>0.89</td><td>0.0</td><td>0.0</td><td>178.26</td><td>71.48</td><td>0.27</td><td>0.1</td><td>1.0</td><td>0.0</td><td>1.0</td><td>0.0</td><td>0.345</td><td>0.0</td><td>42.552</td><td>0.387</td><td>53.476</td><td>0.168</td><td>40.233</td></tr>\n",
       "<tr><td>404039415</td><td>0</td><td>53.26348</td><td>-27.87292</td><td>4.7842</td><td>0.0028</td><td>1</td><td>170.73</td><td>0.0</td><td>-16.632</td><td>0.0</td><td>41.83</td><td>1.57</td><td>0.0</td><td>0.0</td><td>109.85</td><td>87.32</td><td>0.28</td><td>0.11</td><td>1.8</td><td>0.27</td><td>0.32</td><td>0.16</td><td>0.82</td><td>0.0</td><td>41.916</td><td>0.682</td><td>52.84</td><td>0.297</td><td>39.598</td></tr>\n",
       "</table></div>"
      ],
      "text/plain": [
       "<QTable length=1920>\n",
       "    ID    I17ID  RAdeg   ...  logN_ion  e_logN_ion         logL1200       \n",
       "                  deg    ... dex(1 / s) dex(1 / s) dex(erg / (Angstrom s))\n",
       "  int64   int64 float64  ...  float64    float64           float64        \n",
       "--------- ----- -------- ... ---------- ---------- -----------------------\n",
       "   100628  1240 53.13779 ...     53.896       0.07                  40.654\n",
       "   150686  3658 53.14888 ...     52.925      0.125                  39.683\n",
       "   160687  2582 53.15514 ...     53.107      0.066                  39.865\n",
       "   180689  2377  53.1512 ...     53.203      0.104                   39.96\n",
       "   240899  2178 53.14876 ...     53.318      0.097                  40.076\n",
       "   250900  7085 53.13323 ...      53.62      0.037                  40.377\n",
       "      ...   ...      ... ...        ...        ...                     ...\n",
       "404028319     0 53.28152 ...     52.684      0.317                  39.388\n",
       "404034409     0 53.27283 ...     53.942      0.093                  40.699\n",
       "404036412     0 53.28065 ...     54.016      0.048                  40.774\n",
       "404037413     0 53.27796 ...     54.181      0.103                  40.939\n",
       "404038414     0 53.26364 ...     53.476      0.168                  40.233\n",
       "404039415     0 53.26348 ...      52.84      0.297                  39.598"
      ]
     },
     "execution_count": 11,
     "metadata": {},
     "output_type": "execute_result"
    }
   ],
   "source": [
    "# Luminosidad en el continua 1200\n",
    "tableb1['logL1200'] = np.round(np.log10(10**tableb1['logLLya'].value / tableb1['EW0'].value),3)*u.dex(u.erg/u.s/u.AA)\n",
    "tableb1"
   ]
  },
  {
   "cell_type": "markdown",
   "id": "f9b3e8da-0685-4f80-a6f8-8ea84ec643b4",
   "metadata": {},
   "source": [
    "### 5.1 Errors in continuum luminosity $L_{1200}$\n",
    "\n",
    "Estimamos sus errors por medio de\n",
    "\n",
    "$$\n",
    "\\begin{equation}\n",
    "    \\Delta L_{1200} = \\sqrt{\\left(\\frac{\\Delta L_{Ly\\alpha,obs}}{EW_0}\\right)^2 + \\left(\\frac{L_{Ly\\alpha,obs}} {EW_0^2}\\Delta EW_0\\right)^2} \n",
    "\\end{equation}\n",
    "$$\n"
   ]
  },
  {
   "cell_type": "code",
   "execution_count": 12,
   "id": "57b445c2-db01-4b8c-8a89-d2990d23d5fa",
   "metadata": {},
   "outputs": [
    {
     "data": {
      "text/html": [
       "<div><i>QTable length=1920</i>\n",
       "<table id=\"table125202794941744\" class=\"table-striped table-bordered table-condensed\">\n",
       "<thead><tr><th>ID</th><th>I17ID</th><th>RAdeg</th><th>DEdeg</th><th>z</th><th>e_z</th><th>Conf</th><th>EW0</th><th>e_EW0</th><th>MUV</th><th>e_MUV</th><th>logLLya</th><th>e_logLLya</th><th>Peaksep</th><th>e_Peaksep</th><th>FWHM</th><th>e_FWHM</th><th>Asym</th><th>e_Asym</th><th>Re</th><th>e_Re</th><th>axisratio</th><th>e_axisratio</th><th>f_esc_Lya</th><th>e_f_esc_Lya</th><th>logLLya_int</th><th>e_logLLya_int</th><th>logN_ion</th><th>e_logN_ion</th><th>logL1200</th><th>e_logL1200</th></tr></thead>\n",
       "<thead><tr><th></th><th></th><th>deg</th><th>deg</th><th></th><th></th><th></th><th>Angstrom</th><th>Angstrom</th><th>mag</th><th>mag</th><th>dex(erg / s)</th><th>dex(erg / s)</th><th>km / s</th><th>km / s</th><th>km / s</th><th>km / s</th><th></th><th></th><th>kpc</th><th>kpc</th><th></th><th></th><th></th><th></th><th>dex(erg / s)</th><th>dex(erg / s)</th><th>dex(1 / s)</th><th>dex(1 / s)</th><th>dex(erg / (Angstrom s))</th><th>dex(erg / (Angstrom s))</th></tr></thead>\n",
       "<thead><tr><th>int64</th><th>int64</th><th>float64</th><th>float64</th><th>float64</th><th>float64</th><th>int64</th><th>float64</th><th>float64</th><th>float64</th><th>float64</th><th>float64</th><th>float64</th><th>float64</th><th>float64</th><th>float64</th><th>float64</th><th>float64</th><th>float64</th><th>float64</th><th>float64</th><th>float64</th><th>float64</th><th>float64</th><th>float64</th><th>float64</th><th>float64</th><th>float64</th><th>float64</th><th>float64</th><th>float64</th></tr></thead>\n",
       "<tr><td>100628</td><td>1240</td><td>53.13779</td><td>-27.79553</td><td>2.9167</td><td>0.0008</td><td>3</td><td>19.77</td><td>2.98</td><td>-19.29</td><td>0.041</td><td>41.95</td><td>0.34</td><td>472.86</td><td>80.99</td><td>290.54</td><td>52.02</td><td>0.13</td><td>0.05</td><td>10.74</td><td>0.43</td><td>0.28</td><td>0.01</td><td>0.095</td><td>0.014</td><td>42.972</td><td>0.161</td><td>53.896</td><td>0.07</td><td>40.654</td><td>0.162</td></tr>\n",
       "<tr><td>150686</td><td>3658</td><td>53.14888</td><td>-27.80989</td><td>2.9271</td><td>0.0112</td><td>2</td><td>82.65</td><td>30.32</td><td>-16.846</td><td>0.298</td><td>41.6</td><td>0.55</td><td>0.0</td><td>0.0</td><td>166.53</td><td>102.32</td><td>-0.05</td><td>0.12</td><td>0.91</td><td>0.48</td><td>1.0</td><td>0.0</td><td>0.397</td><td>0.146</td><td>42.001</td><td>0.288</td><td>52.925</td><td>0.125</td><td>39.683</td><td>0.287</td></tr>\n",
       "<tr><td>160687</td><td>2582</td><td>53.15514</td><td>-27.76235</td><td>2.9273</td><td>0.0008</td><td>3</td><td>133.46</td><td>29.23</td><td>-17.297</td><td>0.2</td><td>41.99</td><td>0.27</td><td>442.75</td><td>84.14</td><td>280.66</td><td>57.69</td><td>0.16</td><td>0.05</td><td>1.0</td><td>0.0</td><td>1.0</td><td>0.0</td><td>0.641</td><td>0.14</td><td>42.183</td><td>0.151</td><td>53.107</td><td>0.066</td><td>39.865</td><td>0.151</td></tr>\n",
       "<tr><td>180689</td><td>2377</td><td>53.1512</td><td>-27.76754</td><td>2.9266</td><td>0.0008</td><td>2</td><td>66.08</td><td>16.79</td><td>-17.555</td><td>0.147</td><td>41.78</td><td>0.49</td><td>421.1</td><td>72.27</td><td>308.81</td><td>106.24</td><td>0.21</td><td>0.09</td><td>1.7</td><td>0.3</td><td>0.73</td><td>0.17</td><td>0.317</td><td>0.081</td><td>42.279</td><td>0.24</td><td>53.203</td><td>0.104</td><td>39.96</td><td>0.24</td></tr>\n",
       "<tr><td>240899</td><td>2178</td><td>53.14876</td><td>-27.77169</td><td>2.944</td><td>0.003</td><td>2</td><td>47.19</td><td>11.05</td><td>-17.827</td><td>0.134</td><td>41.75</td><td>0.46</td><td>0.0</td><td>0.0</td><td>192.34</td><td>60.22</td><td>0.17</td><td>0.06</td><td>0.79</td><td>0.13</td><td>1.0</td><td>0.0</td><td>0.227</td><td>0.053</td><td>42.394</td><td>0.224</td><td>53.318</td><td>0.097</td><td>40.076</td><td>0.224</td></tr>\n",
       "<tr><td>250900</td><td>7085</td><td>53.13323</td><td>-27.78672</td><td>2.9419</td><td>0.0013</td><td>3</td><td>78.08</td><td>8.07</td><td>-18.585</td><td>0.077</td><td>42.27</td><td>0.17</td><td>910.89</td><td>140.7</td><td>358.34</td><td>28.36</td><td>0.18</td><td>0.02</td><td>2.51</td><td>0.14</td><td>0.58</td><td>0.05</td><td>0.375</td><td>0.039</td><td>42.696</td><td>0.086</td><td>53.62</td><td>0.037</td><td>40.377</td><td>0.086</td></tr>\n",
       "<tr><td>...</td><td>...</td><td>...</td><td>...</td><td>...</td><td>...</td><td>...</td><td>...</td><td>...</td><td>...</td><td>...</td><td>...</td><td>...</td><td>...</td><td>...</td><td>...</td><td>...</td><td>...</td><td>...</td><td>...</td><td>...</td><td>...</td><td>...</td><td>...</td><td>...</td><td>...</td><td>...</td><td>...</td><td>...</td><td>...</td><td>...</td></tr>\n",
       "<tr><td>404028319</td><td>0</td><td>53.28152</td><td>-27.86737</td><td>3.8978</td><td>0.003</td><td>1</td><td>235.49</td><td>0.0</td><td>-16.108</td><td>0.0</td><td>41.76</td><td>1.68</td><td>0.0</td><td>0.0</td><td>78.24</td><td>217.77</td><td>-0.21</td><td>0.21</td><td>1.0</td><td>0.0</td><td>1.0</td><td>0.0</td><td>1.0</td><td>0.0</td><td>41.76</td><td>0.73</td><td>52.684</td><td>0.317</td><td>39.388</td><td>0.73</td></tr>\n",
       "<tr><td>404034409</td><td>0</td><td>53.27283</td><td>-27.87812</td><td>4.5501</td><td>0.0009</td><td>2</td><td>47.96</td><td>9.63</td><td>-19.404</td><td>0.041</td><td>42.38</td><td>0.45</td><td>343.6</td><td>49.72</td><td>139.07</td><td>53.26</td><td>0.24</td><td>0.07</td><td>1.56</td><td>0.13</td><td>0.48</td><td>0.06</td><td>0.23</td><td>0.046</td><td>43.018</td><td>0.214</td><td>53.942</td><td>0.093</td><td>40.699</td><td>0.214</td></tr>\n",
       "<tr><td>404036412</td><td>0</td><td>53.28065</td><td>-27.867</td><td>4.6546</td><td>0.0043</td><td>3</td><td>188.96</td><td>19.74</td><td>-19.58</td><td>0.037</td><td>43.05</td><td>0.23</td><td>0.0</td><td>0.0</td><td>239.48</td><td>20.57</td><td>0.24</td><td>0.02</td><td>0.57</td><td>0.1</td><td>0.79</td><td>0.2</td><td>0.907</td><td>0.095</td><td>43.092</td><td>0.11</td><td>54.016</td><td>0.048</td><td>40.774</td><td>0.109</td></tr>\n",
       "<tr><td>404037413</td><td>0</td><td>53.27796</td><td>-27.87246</td><td>4.6802</td><td>0.0054</td><td>2</td><td>51.39</td><td>11.19</td><td>-19.999</td><td>0.02</td><td>42.65</td><td>0.5</td><td>0.0</td><td>0.0</td><td>292.38</td><td>82.14</td><td>0.27</td><td>0.1</td><td>4.4</td><td>0.18</td><td>0.47</td><td>0.02</td><td>0.247</td><td>0.054</td><td>43.257</td><td>0.237</td><td>54.181</td><td>0.103</td><td>40.939</td><td>0.237</td></tr>\n",
       "<tr><td>404038414</td><td>0</td><td>53.26364</td><td>-27.87471</td><td>4.7735</td><td>0.0039</td><td>1</td><td>71.93</td><td>0.0</td><td>-18.228</td><td>0.0</td><td>42.09</td><td>0.89</td><td>0.0</td><td>0.0</td><td>178.26</td><td>71.48</td><td>0.27</td><td>0.1</td><td>1.0</td><td>0.0</td><td>1.0</td><td>0.0</td><td>0.345</td><td>0.0</td><td>42.552</td><td>0.387</td><td>53.476</td><td>0.168</td><td>40.233</td><td>0.387</td></tr>\n",
       "<tr><td>404039415</td><td>0</td><td>53.26348</td><td>-27.87292</td><td>4.7842</td><td>0.0028</td><td>1</td><td>170.73</td><td>0.0</td><td>-16.632</td><td>0.0</td><td>41.83</td><td>1.57</td><td>0.0</td><td>0.0</td><td>109.85</td><td>87.32</td><td>0.28</td><td>0.11</td><td>1.8</td><td>0.27</td><td>0.32</td><td>0.16</td><td>0.82</td><td>0.0</td><td>41.916</td><td>0.682</td><td>52.84</td><td>0.297</td><td>39.598</td><td>0.681</td></tr>\n",
       "</table></div>"
      ],
      "text/plain": [
       "<QTable length=1920>\n",
       "    ID    I17ID  RAdeg   ...         logL1200               e_logL1200      \n",
       "                  deg    ... dex(erg / (Angstrom s)) dex(erg / (Angstrom s))\n",
       "  int64   int64 float64  ...         float64                 float64        \n",
       "--------- ----- -------- ... ----------------------- -----------------------\n",
       "   100628  1240 53.13779 ...                  40.654                   0.162\n",
       "   150686  3658 53.14888 ...                  39.683                   0.287\n",
       "   160687  2582 53.15514 ...                  39.865                   0.151\n",
       "   180689  2377  53.1512 ...                   39.96                    0.24\n",
       "   240899  2178 53.14876 ...                  40.076                   0.224\n",
       "   250900  7085 53.13323 ...                  40.377                   0.086\n",
       "      ...   ...      ... ...                     ...                     ...\n",
       "404028319     0 53.28152 ...                  39.388                    0.73\n",
       "404034409     0 53.27283 ...                  40.699                   0.214\n",
       "404036412     0 53.28065 ...                  40.774                   0.109\n",
       "404037413     0 53.27796 ...                  40.939                   0.237\n",
       "404038414     0 53.26364 ...                  40.233                   0.387\n",
       "404039415     0 53.26348 ...                  39.598                   0.681"
      ]
     },
     "execution_count": 12,
     "metadata": {},
     "output_type": "execute_result"
    }
   ],
   "source": [
    "# Error en la luminosidad en el continuo 1200\n",
    "tableb1['e_logL1200'] = np.round(np.sqrt((tableb1['e_logLLya'].value*10**tableb1['logLLya'].value/tableb1['EW0'].value)**2+(10**tableb1['logLLya'].value*tableb1['e_EW0'].value/tableb1['EW0'].value**2)**2)/10**tableb1['logL1200'].value,3)\n",
    "tableb1['e_logL1200'] = np.round(tableb1['e_logL1200'] * (1/np.log(10)),3) * u.dex(u.erg/u.s/u.AA)\n",
    "tableb1\n"
   ]
  },
  {
   "cell_type": "markdown",
   "id": "5764c21a-8bcf-4ae8-8504-8563527e6a9c",
   "metadata": {},
   "source": [
    "## Appendix A: Saving data\n",
    "\n",
    "Si se ejecuta el siguiente código, guardaremos y sobreescribiremo los datos. Nótese que lo guardamos en formato ecsv (formato profesional para astrofísica)"
   ]
  },
  {
   "cell_type": "code",
   "execution_count": 13,
   "id": "9124b87d-cc5e-43df-ab02-26ec32953e27",
   "metadata": {},
   "outputs": [],
   "source": [
    "ascii.write(tableb1, 'tableb1_Kerutt22_v1.dat', format='ecsv', overwrite=True)  "
   ]
  }
 ],
 "metadata": {
  "kernelspec": {
   "display_name": "Python 3 (ipykernel)",
   "language": "python",
   "name": "python3"
  },
  "language_info": {
   "codemirror_mode": {
    "name": "ipython",
    "version": 3
   },
   "file_extension": ".py",
   "mimetype": "text/x-python",
   "name": "python",
   "nbconvert_exporter": "python",
   "pygments_lexer": "ipython3",
   "version": "3.10.12"
  }
 },
 "nbformat": 4,
 "nbformat_minor": 5
}
