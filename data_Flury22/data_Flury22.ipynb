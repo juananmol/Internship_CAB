{
 "cells": [
  {
   "cell_type": "markdown",
   "id": "0d452b44-e9ed-4ee7-8313-764f6134b052",
   "metadata": {},
   "source": [
    "# Prácticas ESAC: Flury 2022 Data\n",
    "\n",
    "1. LAEs Data: Flury 2022\n",
    "2. Ly$\\alpha$ luminosity\n",
    "3. Escape fraction of Ly$\\alpha$ photons: $f_{esc,Ly\\alpha}$\n",
    "4. Intrinsic Ly$\\alpha$ photons\n",
    "5. Number of ionizing photons $N_{ion}$\n",
    "\n",
    "   Appendix A: Saving data\n",
    "\n",
    "$\\textit{Juan A. Molina-Calzada}$"
   ]
  },
  {
   "cell_type": "code",
   "execution_count": 1,
   "id": "c694ba2a-6b0a-4aad-9b96-3310fc0e5876",
   "metadata": {},
   "outputs": [],
   "source": [
    "# Packages\n",
    "from astropy.table import QTable, join, unique\n",
    "from astropy.io import ascii\n",
    "import astropy.units as u\n",
    "import astropy.cosmology.units as cu\n",
    "from astropy.cosmology import FlatLambdaCDM\n",
    "import matplotlib.pyplot as plt\n",
    "import numpy as np\n",
    "import smplotlib\n"
   ]
  },
  {
   "cell_type": "markdown",
   "id": "75b826e6-2796-48b5-be4b-77a90a5b9505",
   "metadata": {},
   "source": [
    "## 1. LAEs Data: Flury 2022\n",
    "\n",
    "Leemos los datos de la tabla B1 de Kerutt et al. (2022). Cada fila se corresponde con una LAE."
   ]
  },
  {
   "cell_type": "code",
   "execution_count": 2,
   "id": "319ee8e6-df60-4da7-9a20-155707bfc762",
   "metadata": {},
   "outputs": [],
   "source": [
    "# Data LAEs\n",
    "table5 = QTable.read('table5_Flury22.txt', format = 'ascii', delimiter = ' ')\n",
    "table1 = QTable.read('table1_Flury22.txt', format = 'ascii', delimiter = ' ')\n",
    "table1_5 = unique(join(table1, table5, keys = 'ID'), keys = 'ID') # fusionamos table5 y tabl1 (nos interesa tener z en table5)"
   ]
  },
  {
   "cell_type": "markdown",
   "id": "9a13a77d-839a-4f6c-ae2a-693165a7bc32",
   "metadata": {},
   "source": [
    "### 1.1. Distances calculation\n",
    "\n",
    "Antes de empezar a trabajar con la línea de $Ly\\alpha$, nos es necesario conocer las distancias de las galaxias a estudiar. Como conocemos su redshift, asumiendo un modelo cosmológico de $H_0 = 70 \\, \\text{km s}^{-1} \\, \\text{Mpc}^{-1}, \\, \\Omega_m = 0.3, \\, \\Omega_\\Lambda = 0.7$, podemos estimar la distancia.\n"
   ]
  },
  {
   "cell_type": "code",
   "execution_count": 3,
   "id": "039c7589-b303-4263-949b-6b427c25c4a5",
   "metadata": {},
   "outputs": [],
   "source": [
    "# Comoslogia asumida\n",
    "H0 = 70 \n",
    "Om0 = 0.3\n",
    "cosmo = FlatLambdaCDM(H0, Om0)\n",
    "\n",
    "distance = np.empty_like(table1_5['z'])\n",
    "\n",
    "# Pasamos de redshift z a distancia en Mpc\n",
    "for i in range(len(table1_5['z'])):\n",
    "    distance[i] = cosmo.comoving_distance(table1_5['z'][i]).to(u.Mpc).value\n",
    "\n",
    "table1_5['distance'] = np.round(distance,3)*u.Mpc"
   ]
  },
  {
   "cell_type": "markdown",
   "id": "a003bb8e-dc37-4de6-b428-78900a27b0f0",
   "metadata": {},
   "source": [
    "### 1.2. Continuum luminosity $L_{1200}$"
   ]
  },
  {
   "cell_type": "markdown",
   "id": "72e7f98b-a2de-43f9-9352-567dd139c742",
   "metadata": {},
   "source": [
    "A continuación, nos falta por conocer la luminosidad en el continuo $L_{1200}$. En este caso, dados los datos de la tabla, sólo conocemos el flujo f_{1100}. No obstante, podemos hacer la siguiente aproximación\n",
    "\n",
    "$$\n",
    "\\begin{equation}\n",
    "    f_{1200} \\simeq f_{1100} = \\frac{L_{1200}}{4\\pi d^2}\n",
    "\\end{equation}\n",
    "$$\n",
    "\n",
    "utilizando la distancia calculada a partir del redshift z anteriormente."
   ]
  },
  {
   "cell_type": "code",
   "execution_count": 4,
   "id": "a61c074c-a586-4946-a78c-220b0af74850",
   "metadata": {},
   "outputs": [],
   "source": [
    "# Calculamos la luminosidad en el continua (L_1200)\n",
    "L1200 = np.round(table1_5['f1100'] *4 * np.pi * table1_5['distance']**2,2).to(u.erg/u.s/u.AA)\n",
    "table1_5['logL1200'] = np.round(np.log10(L1200.value),3)*u.dex(u.erg/u.s/u.AA)"
   ]
  },
  {
   "cell_type": "markdown",
   "id": "3fb97764-6447-43a8-ae13-7fcc45d7171c",
   "metadata": {},
   "source": [
    "Estimamos también sus errores como\n",
    "\n",
    "$$\n",
    "\\begin{equation}\n",
    "    \\Delta L_{1200} = 4\\pi d^2 \\Delta f_{1200}\n",
    "\\end{equation}\n",
    "$$\n",
    "\n",
    "donde $\\Delta f_{1200}$ tiene dos incertidumbres dados los datos de la Tabla 5 de Flury22, una incertidumbre inferior, e_f1100, y otra superior, E_f1100."
   ]
  },
  {
   "cell_type": "code",
   "execution_count": 5,
   "id": "a14efd6c-6206-4a4e-82c1-a3375f04af39",
   "metadata": {},
   "outputs": [
    {
     "data": {
      "text/html": [
       "<div><i>QTable length=66</i>\n",
       "<table id=\"table135147717293152\" class=\"table-striped table-bordered table-condensed\">\n",
       "<thead><tr><th>ID</th><th>RAdeg</th><th>DEdeg</th><th>z</th><th>Visit</th><th>Date</th><th>Exp</th><th>Num</th><th>M1500</th><th>e_M1500</th><th>r50</th><th>e_r50</th><th>beta1200</th><th>e_beta1200</th><th>f1100</th><th>e_f1100</th><th>E_f1100</th><th>EWLya</th><th>e_EWLya</th><th>logSFR</th><th>e_logSFR</th><th>distance</th><th>logL1200</th><th>e_logL1200</th><th>E_logL1200</th></tr></thead>\n",
       "<thead><tr><th></th><th>deg</th><th>deg</th><th></th><th></th><th></th><th>s</th><th></th><th>mag</th><th>mag</th><th>kpc</th><th>kpc</th><th></th><th></th><th>1e-19 W / (nm m2)</th><th>1e-19 W / (nm m2)</th><th>1e-19 W / (nm m2)</th><th>0.1 nm</th><th>0.1 nm</th><th>dex(Msun / yr)</th><th>dex(Msun / yr)</th><th>Mpc</th><th>dex(erg / (Angstrom s))</th><th>dex(erg / (Angstrom s))</th><th>dex(erg / (Angstrom s))</th></tr></thead>\n",
       "<thead><tr><th>str14</th><th>float64</th><th>float64</th><th>float64</th><th>str6</th><th>str10</th><th>float64</th><th>int64</th><th>float64</th><th>float64</th><th>float64</th><th>float64</th><th>float64</th><th>float64</th><th>float64</th><th>float64</th><th>float64</th><th>float64</th><th>float64</th><th>float64</th><th>float64</th><th>float64</th><th>float64</th><th>float64</th><th>float64</th></tr></thead>\n",
       "<tr><td>J003601+003307</td><td>9.002641</td><td>0.552006</td><td>0.3479</td><td>ldxe08</td><td>2019-09-25</td><td>3980.384</td><td>13</td><td>-18.527</td><td>0.095</td><td>0.445</td><td>0.148</td><td>-2.9</td><td>0.328</td><td>6.445</td><td>0.381</td><td>0.418</td><td>93.9</td><td>9.33</td><td>0.038</td><td>0.028</td><td>1368.012</td><td>40.159</td><td>0.026</td><td>0.028</td></tr>\n",
       "<tr><td>J004743+015440</td><td>11.928487</td><td>1.911086</td><td>0.3535</td><td>ldxe42</td><td>2019-07-29</td><td>1495.904</td><td>9</td><td>-20.732</td><td>0.103</td><td>0.618</td><td>0.145</td><td>-2.38</td><td>0.298</td><td>38.611</td><td>2.507</td><td>2.787</td><td>41.526</td><td>4.427</td><td>1.363</td><td>0.031</td><td>1388.004</td><td>40.949</td><td>0.028</td><td>0.031</td></tr>\n",
       "<tr><td>J011309+000223</td><td>18.286905</td><td>0.039839</td><td>0.3062</td><td>ldxez5</td><td>2019-08-03</td><td>1363.904</td><td>13</td><td>-20.268</td><td>0.118</td><td>0.627</td><td>0.133</td><td>-1.99</td><td>0.253</td><td>36.421</td><td>3.649</td><td>2.623</td><td>31.291</td><td>3.56</td><td>1.203</td><td>0.031</td><td>1217.134</td><td>40.81</td><td>0.043</td><td>0.031</td></tr>\n",
       "<tr><td>J012217+052044</td><td>20.569425</td><td>5.345561</td><td>0.3656</td><td>ldxe05</td><td>2019-09-20</td><td>3780.32</td><td>15</td><td>-20.143</td><td>0.096</td><td>0.713</td><td>0.151</td><td>-1.609</td><td>0.274</td><td>23.193</td><td>1.595</td><td>1.427</td><td>70.616</td><td>6.793</td><td>0.915</td><td>0.027</td><td>1430.981</td><td>40.755</td><td>0.03</td><td>0.026</td></tr>\n",
       "<tr><td>J012910+145935</td><td>22.2923</td><td>14.992967</td><td>0.28</td><td>ldxe53</td><td>2019-06-11</td><td>1568.032</td><td>5</td><td>-20.439</td><td>0.089</td><td>0.636</td><td>0.127</td><td>-1.672</td><td>0.205</td><td>50.705</td><td>3.6</td><td>2.979</td><td>39.593</td><td>4.84</td><td>1.354</td><td>0.026</td><td>1120.513</td><td>40.882</td><td>0.031</td><td>0.026</td></tr>\n",
       "<tr><td>J072326+414608</td><td>110.856661</td><td>41.768828</td><td>0.2969</td><td>ldxe66</td><td>2019-09-05</td><td>3894.304</td><td>12</td><td>-19.907</td><td>0.08</td><td>0.437</td><td>0.129</td><td>-1.22</td><td>0.174</td><td>23.56</td><td>1.893</td><td>3.198</td><td>49.995</td><td>4.421</td><td>1.184</td><td>0.06</td><td>1182.999</td><td>40.596</td><td>0.035</td><td>0.059</td></tr>\n",
       "<tr><td>...</td><td>...</td><td>...</td><td>...</td><td>...</td><td>...</td><td>...</td><td>...</td><td>...</td><td>...</td><td>...</td><td>...</td><td>...</td><td>...</td><td>...</td><td>...</td><td>...</td><td>...</td><td>...</td><td>...</td><td>...</td><td>...</td><td>...</td><td>...</td><td>...</td></tr>\n",
       "<tr><td>J154050+572442</td><td>235.209141</td><td>57.411647</td><td>0.2944</td><td>ldxe25</td><td>2019-07-12</td><td>1768.032</td><td>16</td><td>-21.279</td><td>0.045</td><td>0.946</td><td>0.135</td><td>-1.433</td><td>0.117</td><td>80.832</td><td>2.415</td><td>2.382</td><td>8.113</td><td>1.368</td><td>1.873</td><td>0.013</td><td>1173.792</td><td>41.125</td><td>0.013</td><td>0.013</td></tr>\n",
       "<tr><td>J155945+403325</td><td>239.935726</td><td>40.557025</td><td>0.2268</td><td>ldxew7</td><td>2019-11-27</td><td>4051.136</td><td>13</td><td>-20.106</td><td>0.034</td><td>0.42</td><td>0.106</td><td>-1.696</td><td>0.069</td><td>60.638</td><td>3.398</td><td>2.709</td><td>43.432</td><td>3.443</td><td>1.121</td><td>0.019</td><td>919.965</td><td>40.788</td><td>0.024</td><td>0.02</td></tr>\n",
       "<tr><td>J160437+081959</td><td>241.152768</td><td>8.333086</td><td>0.3123</td><td>ldxe07</td><td>2020-01-20</td><td>5741.088</td><td>9</td><td>-19.388</td><td>0.167</td><td>0.556</td><td>0.134</td><td>0.593</td><td>0.287</td><td>11.95</td><td>0.715</td><td>0.815</td><td>67.179</td><td>5.878</td><td>1.226</td><td>0.03</td><td>1239.427</td><td>40.342</td><td>0.026</td><td>0.03</td></tr>\n",
       "<tr><td>J164607+313054</td><td>251.527244</td><td>31.514861</td><td>0.2906</td><td>ldxe45</td><td>2019-09-01</td><td>4048.736</td><td>12</td><td>-20.24</td><td>0.055</td><td>0.45</td><td>0.126</td><td>-1.605</td><td>0.125</td><td>32.559</td><td>1.124</td><td>2.702</td><td>43.94</td><td>3.775</td><td>0.984</td><td>0.036</td><td>1159.774</td><td>40.719</td><td>0.015</td><td>0.036</td></tr>\n",
       "<tr><td>J164849+495751</td><td>252.205627</td><td>49.964128</td><td>0.3819</td><td>ldxe56</td><td>2019-08-19</td><td>3568.192</td><td>15</td><td>-19.797</td><td>0.213</td><td>1.444</td><td>0.176</td><td>-1.235</td><td>0.443</td><td>11.118</td><td>0.906</td><td>1.062</td><td>97.229</td><td>9.263</td><td>1.44</td><td>0.042</td><td>1488.407</td><td>40.469</td><td>0.036</td><td>0.042</td></tr>\n",
       "<tr><td>J172010+542133</td><td>260.040925</td><td>54.3592</td><td>0.2938</td><td>ldxew5</td><td>2019-12-03</td><td>3956.672</td><td>12</td><td>-19.517</td><td>0.066</td><td>0.921</td><td>0.143</td><td>-1.941</td><td>0.173</td><td>23.314</td><td>1.297</td><td>1.911</td><td>48.745</td><td>4.595</td><td>0.673</td><td>0.036</td><td>1171.581</td><td>40.583</td><td>0.024</td><td>0.036</td></tr>\n",
       "</table></div>"
      ],
      "text/plain": [
       "<QTable length=66>\n",
       "      ID         RAdeg    ...        e_logL1200              E_logL1200      \n",
       "                  deg     ... dex(erg / (Angstrom s)) dex(erg / (Angstrom s))\n",
       "    str14       float64   ...         float64                 float64        \n",
       "-------------- ---------- ... ----------------------- -----------------------\n",
       "J003601+003307   9.002641 ...                   0.026                   0.028\n",
       "J004743+015440  11.928487 ...                   0.028                   0.031\n",
       "J011309+000223  18.286905 ...                   0.043                   0.031\n",
       "J012217+052044  20.569425 ...                    0.03                   0.026\n",
       "J012910+145935    22.2923 ...                   0.031                   0.026\n",
       "J072326+414608 110.856661 ...                   0.035                   0.059\n",
       "           ...        ... ...                     ...                     ...\n",
       "J154050+572442 235.209141 ...                   0.013                   0.013\n",
       "J155945+403325 239.935726 ...                   0.024                    0.02\n",
       "J160437+081959 241.152768 ...                   0.026                    0.03\n",
       "J164607+313054 251.527244 ...                   0.015                   0.036\n",
       "J164849+495751 252.205627 ...                   0.036                   0.042\n",
       "J172010+542133 260.040925 ...                   0.024                   0.036"
      ]
     },
     "execution_count": 5,
     "metadata": {},
     "output_type": "execute_result"
    }
   ],
   "source": [
    "# Incertidumbre inferior\n",
    "e_logL1200 = (4 * np.pi * table1_5['distance']**2 * table1_5['e_f1100']).to(u.erg/u.s/u.AA) / (10**table1_5['logL1200'].value)\n",
    "table1_5['e_logL1200'] = np.round(e_logL1200.value,3)\n",
    "table1_5['e_logL1200'] = np.round(table1_5['e_logL1200'] * (1/np.log(10)),3)*u.dex(u.erg/u.s/u.AA)\n",
    "\n",
    "# Incertidumbre superior\n",
    "E_logL1200 = (4 * np.pi * table1_5['distance']**2 * table1_5['E_f1100']).to(u.erg/u.s/u.AA) / (10**table1_5['logL1200'].value)\n",
    "table1_5['E_logL1200'] = np.round(E_logL1200.value,3)\n",
    "table1_5['E_logL1200'] = np.round(table1_5['E_logL1200'] * (1/np.log(10)),3)*u.dex(u.erg/u.s/u.AA)\n",
    "\n",
    "table1_5"
   ]
  },
  {
   "cell_type": "markdown",
   "id": "4467d102-99b4-4a3e-bb22-16357af50314",
   "metadata": {},
   "source": [
    "Ya tenemos todos los datos disponibles para continuar con los cálculos análogos a los realizados con los datos de Kerutt22."
   ]
  },
  {
   "cell_type": "markdown",
   "id": "e1c2d383-b9bf-4d7e-ad6a-59acb56bf396",
   "metadata": {},
   "source": [
    "## 2. Ly$\\alpha$ luminosity\n",
    "\n",
    "Conocida la anchura equivalente y la luminosidad en el continuo, podemos estimar la luminosidad de la línea Lyman alpha com\n",
    "\n",
    "$$\n",
    "\\begin{equation}\n",
    "     L_{Ly_\\alpha,obs} = L_{1200} \\cdot EW_0\n",
    "\\end{equation}\n",
    "$$\n",
    "\n",
    "donde \n",
    "\n",
    "$$\n",
    "\\begin{equation}\n",
    "    L_{Ly\\alpha,i} = 10^{log_{10}({L_{Ly\\alpha,i}})}\n",
    "\\end{equation}\n",
    "$$"
   ]
  },
  {
   "cell_type": "code",
   "execution_count": 6,
   "id": "fbb6e27f-c956-4415-8207-43ce682fade5",
   "metadata": {},
   "outputs": [
    {
     "data": {
      "text/html": [
       "<div><i>QTable length=66</i>\n",
       "<table id=\"table135147717293152\" class=\"table-striped table-bordered table-condensed\">\n",
       "<thead><tr><th>ID</th><th>RAdeg</th><th>DEdeg</th><th>z</th><th>Visit</th><th>Date</th><th>Exp</th><th>Num</th><th>M1500</th><th>e_M1500</th><th>r50</th><th>e_r50</th><th>beta1200</th><th>e_beta1200</th><th>f1100</th><th>e_f1100</th><th>E_f1100</th><th>EWLya</th><th>e_EWLya</th><th>logSFR</th><th>e_logSFR</th><th>distance</th><th>logL1200</th><th>e_logL1200</th><th>E_logL1200</th><th>logLLya</th></tr></thead>\n",
       "<thead><tr><th></th><th>deg</th><th>deg</th><th></th><th></th><th></th><th>s</th><th></th><th>mag</th><th>mag</th><th>kpc</th><th>kpc</th><th></th><th></th><th>1e-19 W / (nm m2)</th><th>1e-19 W / (nm m2)</th><th>1e-19 W / (nm m2)</th><th>0.1 nm</th><th>0.1 nm</th><th>dex(Msun / yr)</th><th>dex(Msun / yr)</th><th>Mpc</th><th>dex(erg / (Angstrom s))</th><th>dex(erg / (Angstrom s))</th><th>dex(erg / (Angstrom s))</th><th>dex(erg / s)</th></tr></thead>\n",
       "<thead><tr><th>str14</th><th>float64</th><th>float64</th><th>float64</th><th>str6</th><th>str10</th><th>float64</th><th>int64</th><th>float64</th><th>float64</th><th>float64</th><th>float64</th><th>float64</th><th>float64</th><th>float64</th><th>float64</th><th>float64</th><th>float64</th><th>float64</th><th>float64</th><th>float64</th><th>float64</th><th>float64</th><th>float64</th><th>float64</th><th>float64</th></tr></thead>\n",
       "<tr><td>J003601+003307</td><td>9.002641</td><td>0.552006</td><td>0.3479</td><td>ldxe08</td><td>2019-09-25</td><td>3980.384</td><td>13</td><td>-18.527</td><td>0.095</td><td>0.445</td><td>0.148</td><td>-2.9</td><td>0.328</td><td>6.445</td><td>0.381</td><td>0.418</td><td>93.9</td><td>9.33</td><td>0.038</td><td>0.028</td><td>1368.012</td><td>40.159</td><td>0.026</td><td>0.028</td><td>42.132</td></tr>\n",
       "<tr><td>J004743+015440</td><td>11.928487</td><td>1.911086</td><td>0.3535</td><td>ldxe42</td><td>2019-07-29</td><td>1495.904</td><td>9</td><td>-20.732</td><td>0.103</td><td>0.618</td><td>0.145</td><td>-2.38</td><td>0.298</td><td>38.611</td><td>2.507</td><td>2.787</td><td>41.526</td><td>4.427</td><td>1.363</td><td>0.031</td><td>1388.004</td><td>40.949</td><td>0.028</td><td>0.031</td><td>42.567</td></tr>\n",
       "<tr><td>J011309+000223</td><td>18.286905</td><td>0.039839</td><td>0.3062</td><td>ldxez5</td><td>2019-08-03</td><td>1363.904</td><td>13</td><td>-20.268</td><td>0.118</td><td>0.627</td><td>0.133</td><td>-1.99</td><td>0.253</td><td>36.421</td><td>3.649</td><td>2.623</td><td>31.291</td><td>3.56</td><td>1.203</td><td>0.031</td><td>1217.134</td><td>40.81</td><td>0.043</td><td>0.031</td><td>42.305</td></tr>\n",
       "<tr><td>J012217+052044</td><td>20.569425</td><td>5.345561</td><td>0.3656</td><td>ldxe05</td><td>2019-09-20</td><td>3780.32</td><td>15</td><td>-20.143</td><td>0.096</td><td>0.713</td><td>0.151</td><td>-1.609</td><td>0.274</td><td>23.193</td><td>1.595</td><td>1.427</td><td>70.616</td><td>6.793</td><td>0.915</td><td>0.027</td><td>1430.981</td><td>40.755</td><td>0.03</td><td>0.026</td><td>42.604</td></tr>\n",
       "<tr><td>J012910+145935</td><td>22.2923</td><td>14.992967</td><td>0.28</td><td>ldxe53</td><td>2019-06-11</td><td>1568.032</td><td>5</td><td>-20.439</td><td>0.089</td><td>0.636</td><td>0.127</td><td>-1.672</td><td>0.205</td><td>50.705</td><td>3.6</td><td>2.979</td><td>39.593</td><td>4.84</td><td>1.354</td><td>0.026</td><td>1120.513</td><td>40.882</td><td>0.031</td><td>0.026</td><td>42.48</td></tr>\n",
       "<tr><td>J072326+414608</td><td>110.856661</td><td>41.768828</td><td>0.2969</td><td>ldxe66</td><td>2019-09-05</td><td>3894.304</td><td>12</td><td>-19.907</td><td>0.08</td><td>0.437</td><td>0.129</td><td>-1.22</td><td>0.174</td><td>23.56</td><td>1.893</td><td>3.198</td><td>49.995</td><td>4.421</td><td>1.184</td><td>0.06</td><td>1182.999</td><td>40.596</td><td>0.035</td><td>0.059</td><td>42.295</td></tr>\n",
       "<tr><td>...</td><td>...</td><td>...</td><td>...</td><td>...</td><td>...</td><td>...</td><td>...</td><td>...</td><td>...</td><td>...</td><td>...</td><td>...</td><td>...</td><td>...</td><td>...</td><td>...</td><td>...</td><td>...</td><td>...</td><td>...</td><td>...</td><td>...</td><td>...</td><td>...</td><td>...</td></tr>\n",
       "<tr><td>J154050+572442</td><td>235.209141</td><td>57.411647</td><td>0.2944</td><td>ldxe25</td><td>2019-07-12</td><td>1768.032</td><td>16</td><td>-21.279</td><td>0.045</td><td>0.946</td><td>0.135</td><td>-1.433</td><td>0.117</td><td>80.832</td><td>2.415</td><td>2.382</td><td>8.113</td><td>1.368</td><td>1.873</td><td>0.013</td><td>1173.792</td><td>41.125</td><td>0.013</td><td>0.013</td><td>42.034</td></tr>\n",
       "<tr><td>J155945+403325</td><td>239.935726</td><td>40.557025</td><td>0.2268</td><td>ldxew7</td><td>2019-11-27</td><td>4051.136</td><td>13</td><td>-20.106</td><td>0.034</td><td>0.42</td><td>0.106</td><td>-1.696</td><td>0.069</td><td>60.638</td><td>3.398</td><td>2.709</td><td>43.432</td><td>3.443</td><td>1.121</td><td>0.019</td><td>919.965</td><td>40.788</td><td>0.024</td><td>0.02</td><td>42.426</td></tr>\n",
       "<tr><td>J160437+081959</td><td>241.152768</td><td>8.333086</td><td>0.3123</td><td>ldxe07</td><td>2020-01-20</td><td>5741.088</td><td>9</td><td>-19.388</td><td>0.167</td><td>0.556</td><td>0.134</td><td>0.593</td><td>0.287</td><td>11.95</td><td>0.715</td><td>0.815</td><td>67.179</td><td>5.878</td><td>1.226</td><td>0.03</td><td>1239.427</td><td>40.342</td><td>0.026</td><td>0.03</td><td>42.169</td></tr>\n",
       "<tr><td>J164607+313054</td><td>251.527244</td><td>31.514861</td><td>0.2906</td><td>ldxe45</td><td>2019-09-01</td><td>4048.736</td><td>12</td><td>-20.24</td><td>0.055</td><td>0.45</td><td>0.126</td><td>-1.605</td><td>0.125</td><td>32.559</td><td>1.124</td><td>2.702</td><td>43.94</td><td>3.775</td><td>0.984</td><td>0.036</td><td>1159.774</td><td>40.719</td><td>0.015</td><td>0.036</td><td>42.362</td></tr>\n",
       "<tr><td>J164849+495751</td><td>252.205627</td><td>49.964128</td><td>0.3819</td><td>ldxe56</td><td>2019-08-19</td><td>3568.192</td><td>15</td><td>-19.797</td><td>0.213</td><td>1.444</td><td>0.176</td><td>-1.235</td><td>0.443</td><td>11.118</td><td>0.906</td><td>1.062</td><td>97.229</td><td>9.263</td><td>1.44</td><td>0.042</td><td>1488.407</td><td>40.469</td><td>0.036</td><td>0.042</td><td>42.457</td></tr>\n",
       "<tr><td>J172010+542133</td><td>260.040925</td><td>54.3592</td><td>0.2938</td><td>ldxew5</td><td>2019-12-03</td><td>3956.672</td><td>12</td><td>-19.517</td><td>0.066</td><td>0.921</td><td>0.143</td><td>-1.941</td><td>0.173</td><td>23.314</td><td>1.297</td><td>1.911</td><td>48.745</td><td>4.595</td><td>0.673</td><td>0.036</td><td>1171.581</td><td>40.583</td><td>0.024</td><td>0.036</td><td>42.271</td></tr>\n",
       "</table></div>"
      ],
      "text/plain": [
       "<QTable length=66>\n",
       "      ID         RAdeg      DEdeg   ...        E_logL1200         logLLya   \n",
       "                  deg        deg    ... dex(erg / (Angstrom s)) dex(erg / s)\n",
       "    str14       float64    float64  ...         float64           float64   \n",
       "-------------- ---------- --------- ... ----------------------- ------------\n",
       "J003601+003307   9.002641  0.552006 ...                   0.028       42.132\n",
       "J004743+015440  11.928487  1.911086 ...                   0.031       42.567\n",
       "J011309+000223  18.286905  0.039839 ...                   0.031       42.305\n",
       "J012217+052044  20.569425  5.345561 ...                   0.026       42.604\n",
       "J012910+145935    22.2923 14.992967 ...                   0.026        42.48\n",
       "J072326+414608 110.856661 41.768828 ...                   0.059       42.295\n",
       "           ...        ...       ... ...                     ...          ...\n",
       "J154050+572442 235.209141 57.411647 ...                   0.013       42.034\n",
       "J155945+403325 239.935726 40.557025 ...                    0.02       42.426\n",
       "J160437+081959 241.152768  8.333086 ...                    0.03       42.169\n",
       "J164607+313054 251.527244 31.514861 ...                   0.036       42.362\n",
       "J164849+495751 252.205627 49.964128 ...                   0.042       42.457\n",
       "J172010+542133 260.040925   54.3592 ...                   0.036       42.271"
      ]
     },
     "execution_count": 6,
     "metadata": {},
     "output_type": "execute_result"
    }
   ],
   "source": [
    "# Luminosidad Lyman alpha\n",
    "table1_5['logLLya'] = np.round(np.log10(10**table1_5['logL1200'].value * table1_5['EWLya'].value),3) * u.dex(u.erg/u.s)\n",
    "table1_5"
   ]
  },
  {
   "cell_type": "markdown",
   "id": "46687ca2-1791-4159-9679-6a5230544c13",
   "metadata": {},
   "source": [
    "### 2.1. Error in Ly$\\alpha$ luminosity\n",
    "\n",
    "Estimamos los errores en la luminosidad de Lyman alpha como\n",
    "\n",
    "$$\n",
    "\\begin{equation}\n",
    "    \\Delta L_{Ly\\alpha, obs} \\equiv \\Delta L_{Ly\\alpha} = \\sqrt{ \\left(\\Delta L_{1200} \\cdot EW_0 \\right)^2 + \\left( L_{1200} \\cdot \\Delta EW_0 \\right)^2}.\n",
    "\\end{equation}\n",
    "$$\n",
    "\n",
    "donde\n",
    "\n",
    "$$\n",
    "\\begin{equation}\n",
    "    \\Delta log(x) = \\frac{\\Delta x}{x}\n",
    "\\end{equation}\n",
    "$$"
   ]
  },
  {
   "cell_type": "code",
   "execution_count": 7,
   "id": "a5e2780b-5171-49aa-bae5-eecffdedcfe0",
   "metadata": {},
   "outputs": [
    {
     "data": {
      "text/html": [
       "<div><i>QTable length=66</i>\n",
       "<table id=\"table135147717293152\" class=\"table-striped table-bordered table-condensed\">\n",
       "<thead><tr><th>ID</th><th>RAdeg</th><th>DEdeg</th><th>z</th><th>Visit</th><th>Date</th><th>Exp</th><th>Num</th><th>M1500</th><th>e_M1500</th><th>r50</th><th>e_r50</th><th>beta1200</th><th>e_beta1200</th><th>f1100</th><th>e_f1100</th><th>E_f1100</th><th>EWLya</th><th>e_EWLya</th><th>logSFR</th><th>e_logSFR</th><th>distance</th><th>logL1200</th><th>e_logL1200</th><th>E_logL1200</th><th>logLLya</th><th>e_logLLya</th><th>E_logLLya</th></tr></thead>\n",
       "<thead><tr><th></th><th>deg</th><th>deg</th><th></th><th></th><th></th><th>s</th><th></th><th>mag</th><th>mag</th><th>kpc</th><th>kpc</th><th></th><th></th><th>1e-19 W / (nm m2)</th><th>1e-19 W / (nm m2)</th><th>1e-19 W / (nm m2)</th><th>0.1 nm</th><th>0.1 nm</th><th>dex(Msun / yr)</th><th>dex(Msun / yr)</th><th>Mpc</th><th>dex(erg / (Angstrom s))</th><th>dex(erg / (Angstrom s))</th><th>dex(erg / (Angstrom s))</th><th>dex(erg / s)</th><th>dex(erg / s)</th><th>dex(erg / s)</th></tr></thead>\n",
       "<thead><tr><th>str14</th><th>float64</th><th>float64</th><th>float64</th><th>str6</th><th>str10</th><th>float64</th><th>int64</th><th>float64</th><th>float64</th><th>float64</th><th>float64</th><th>float64</th><th>float64</th><th>float64</th><th>float64</th><th>float64</th><th>float64</th><th>float64</th><th>float64</th><th>float64</th><th>float64</th><th>float64</th><th>float64</th><th>float64</th><th>float64</th><th>float64</th><th>float64</th></tr></thead>\n",
       "<tr><td>J003601+003307</td><td>9.002641</td><td>0.552006</td><td>0.3479</td><td>ldxe08</td><td>2019-09-25</td><td>3980.384</td><td>13</td><td>-18.527</td><td>0.095</td><td>0.445</td><td>0.148</td><td>-2.9</td><td>0.328</td><td>6.445</td><td>0.381</td><td>0.418</td><td>93.9</td><td>9.33</td><td>0.038</td><td>0.028</td><td>1368.012</td><td>40.159</td><td>0.026</td><td>0.028</td><td>42.132</td><td>0.045</td><td>0.045</td></tr>\n",
       "<tr><td>J004743+015440</td><td>11.928487</td><td>1.911086</td><td>0.3535</td><td>ldxe42</td><td>2019-07-29</td><td>1495.904</td><td>9</td><td>-20.732</td><td>0.103</td><td>0.618</td><td>0.145</td><td>-2.38</td><td>0.298</td><td>38.611</td><td>2.507</td><td>2.787</td><td>41.526</td><td>4.427</td><td>1.363</td><td>0.031</td><td>1388.004</td><td>40.949</td><td>0.028</td><td>0.031</td><td>42.567</td><td>0.048</td><td>0.048</td></tr>\n",
       "<tr><td>J011309+000223</td><td>18.286905</td><td>0.039839</td><td>0.3062</td><td>ldxez5</td><td>2019-08-03</td><td>1363.904</td><td>13</td><td>-20.268</td><td>0.118</td><td>0.627</td><td>0.133</td><td>-1.99</td><td>0.253</td><td>36.421</td><td>3.649</td><td>2.623</td><td>31.291</td><td>3.56</td><td>1.203</td><td>0.031</td><td>1217.134</td><td>40.81</td><td>0.043</td><td>0.031</td><td>42.305</td><td>0.053</td><td>0.051</td></tr>\n",
       "<tr><td>J012217+052044</td><td>20.569425</td><td>5.345561</td><td>0.3656</td><td>ldxe05</td><td>2019-09-20</td><td>3780.32</td><td>15</td><td>-20.143</td><td>0.096</td><td>0.713</td><td>0.151</td><td>-1.609</td><td>0.274</td><td>23.193</td><td>1.595</td><td>1.427</td><td>70.616</td><td>6.793</td><td>0.915</td><td>0.027</td><td>1430.981</td><td>40.755</td><td>0.03</td><td>0.026</td><td>42.604</td><td>0.044</td><td>0.043</td></tr>\n",
       "<tr><td>J012910+145935</td><td>22.2923</td><td>14.992967</td><td>0.28</td><td>ldxe53</td><td>2019-06-11</td><td>1568.032</td><td>5</td><td>-20.439</td><td>0.089</td><td>0.636</td><td>0.127</td><td>-1.672</td><td>0.205</td><td>50.705</td><td>3.6</td><td>2.979</td><td>39.593</td><td>4.84</td><td>1.354</td><td>0.026</td><td>1120.513</td><td>40.882</td><td>0.031</td><td>0.026</td><td>42.48</td><td>0.055</td><td>0.054</td></tr>\n",
       "<tr><td>J072326+414608</td><td>110.856661</td><td>41.768828</td><td>0.2969</td><td>ldxe66</td><td>2019-09-05</td><td>3894.304</td><td>12</td><td>-19.907</td><td>0.08</td><td>0.437</td><td>0.129</td><td>-1.22</td><td>0.174</td><td>23.56</td><td>1.893</td><td>3.198</td><td>49.995</td><td>4.421</td><td>1.184</td><td>0.06</td><td>1182.999</td><td>40.596</td><td>0.035</td><td>0.059</td><td>42.295</td><td>0.041</td><td>0.046</td></tr>\n",
       "<tr><td>...</td><td>...</td><td>...</td><td>...</td><td>...</td><td>...</td><td>...</td><td>...</td><td>...</td><td>...</td><td>...</td><td>...</td><td>...</td><td>...</td><td>...</td><td>...</td><td>...</td><td>...</td><td>...</td><td>...</td><td>...</td><td>...</td><td>...</td><td>...</td><td>...</td><td>...</td><td>...</td><td>...</td></tr>\n",
       "<tr><td>J154050+572442</td><td>235.209141</td><td>57.411647</td><td>0.2944</td><td>ldxe25</td><td>2019-07-12</td><td>1768.032</td><td>16</td><td>-21.279</td><td>0.045</td><td>0.946</td><td>0.135</td><td>-1.433</td><td>0.117</td><td>80.832</td><td>2.415</td><td>2.382</td><td>8.113</td><td>1.368</td><td>1.873</td><td>0.013</td><td>1173.792</td><td>41.125</td><td>0.013</td><td>0.013</td><td>42.034</td><td>0.073</td><td>0.073</td></tr>\n",
       "<tr><td>J155945+403325</td><td>239.935726</td><td>40.557025</td><td>0.2268</td><td>ldxew7</td><td>2019-11-27</td><td>4051.136</td><td>13</td><td>-20.106</td><td>0.034</td><td>0.42</td><td>0.106</td><td>-1.696</td><td>0.069</td><td>60.638</td><td>3.398</td><td>2.709</td><td>43.432</td><td>3.443</td><td>1.121</td><td>0.019</td><td>919.965</td><td>40.788</td><td>0.024</td><td>0.02</td><td>42.426</td><td>0.036</td><td>0.036</td></tr>\n",
       "<tr><td>J160437+081959</td><td>241.152768</td><td>8.333086</td><td>0.3123</td><td>ldxe07</td><td>2020-01-20</td><td>5741.088</td><td>9</td><td>-19.388</td><td>0.167</td><td>0.556</td><td>0.134</td><td>0.593</td><td>0.287</td><td>11.95</td><td>0.715</td><td>0.815</td><td>67.179</td><td>5.878</td><td>1.226</td><td>0.03</td><td>1239.427</td><td>40.342</td><td>0.026</td><td>0.03</td><td>42.169</td><td>0.04</td><td>0.04</td></tr>\n",
       "<tr><td>J164607+313054</td><td>251.527244</td><td>31.514861</td><td>0.2906</td><td>ldxe45</td><td>2019-09-01</td><td>4048.736</td><td>12</td><td>-20.24</td><td>0.055</td><td>0.45</td><td>0.126</td><td>-1.605</td><td>0.125</td><td>32.559</td><td>1.124</td><td>2.702</td><td>43.94</td><td>3.775</td><td>0.984</td><td>0.036</td><td>1159.774</td><td>40.719</td><td>0.015</td><td>0.036</td><td>42.362</td><td>0.038</td><td>0.04</td></tr>\n",
       "<tr><td>J164849+495751</td><td>252.205627</td><td>49.964128</td><td>0.3819</td><td>ldxe56</td><td>2019-08-19</td><td>3568.192</td><td>15</td><td>-19.797</td><td>0.213</td><td>1.444</td><td>0.176</td><td>-1.235</td><td>0.443</td><td>11.118</td><td>0.906</td><td>1.062</td><td>97.229</td><td>9.263</td><td>1.44</td><td>0.042</td><td>1488.407</td><td>40.469</td><td>0.036</td><td>0.042</td><td>42.457</td><td>0.044</td><td>0.045</td></tr>\n",
       "<tr><td>J172010+542133</td><td>260.040925</td><td>54.3592</td><td>0.2938</td><td>ldxew5</td><td>2019-12-03</td><td>3956.672</td><td>12</td><td>-19.517</td><td>0.066</td><td>0.921</td><td>0.143</td><td>-1.941</td><td>0.173</td><td>23.314</td><td>1.297</td><td>1.911</td><td>48.745</td><td>4.595</td><td>0.673</td><td>0.036</td><td>1171.581</td><td>40.583</td><td>0.024</td><td>0.036</td><td>42.271</td><td>0.042</td><td>0.044</td></tr>\n",
       "</table></div>"
      ],
      "text/plain": [
       "<QTable length=66>\n",
       "      ID         RAdeg      DEdeg   ...   logLLya     e_logLLya    E_logLLya  \n",
       "                  deg        deg    ... dex(erg / s) dex(erg / s) dex(erg / s)\n",
       "    str14       float64    float64  ...   float64      float64      float64   \n",
       "-------------- ---------- --------- ... ------------ ------------ ------------\n",
       "J003601+003307   9.002641  0.552006 ...       42.132        0.045        0.045\n",
       "J004743+015440  11.928487  1.911086 ...       42.567        0.048        0.048\n",
       "J011309+000223  18.286905  0.039839 ...       42.305        0.053        0.051\n",
       "J012217+052044  20.569425  5.345561 ...       42.604        0.044        0.043\n",
       "J012910+145935    22.2923 14.992967 ...        42.48        0.055        0.054\n",
       "J072326+414608 110.856661 41.768828 ...       42.295        0.041        0.046\n",
       "           ...        ...       ... ...          ...          ...          ...\n",
       "J154050+572442 235.209141 57.411647 ...       42.034        0.073        0.073\n",
       "J155945+403325 239.935726 40.557025 ...       42.426        0.036        0.036\n",
       "J160437+081959 241.152768  8.333086 ...       42.169         0.04         0.04\n",
       "J164607+313054 251.527244 31.514861 ...       42.362        0.038         0.04\n",
       "J164849+495751 252.205627 49.964128 ...       42.457        0.044        0.045\n",
       "J172010+542133 260.040925   54.3592 ...       42.271        0.042        0.044"
      ]
     },
     "execution_count": 7,
     "metadata": {},
     "output_type": "execute_result"
    }
   ],
   "source": [
    "# Error en la luminosidad Lyman alpha\n",
    "table1_5['e_logLLya'] = np.round((np.sqrt((table1_5['e_logL1200'].value * 10**table1_5['logL1200'].value * table1_5['EWLya'].value)**2 + (10**table1_5['logL1200'].value * table1_5['e_EWLya'].value)**2))/(10**table1_5['logLLya'].value),3)\n",
    "table1_5['e_logLLya'] = np.round(table1_5['e_logLLya'] * (1/np.log(10)),3)*u.dex(u.erg/u.s)\n",
    "\n",
    "table1_5['E_logLLya'] = np.round((np.sqrt((table1_5['E_logL1200'].value * 10**table1_5['logL1200'].value * table1_5['EWLya'].value)**2 + (10**table1_5['logL1200'].value * table1_5['e_EWLya'].value)**2))/(10**table1_5['logLLya'].value),3)\n",
    "table1_5['E_logLLya'] = np.round(table1_5['E_logLLya'] * (1/np.log(10)),3)*u.dex(u.erg/u.s)\n",
    "\n",
    "table1_5"
   ]
  },
  {
   "cell_type": "markdown",
   "id": "60e6384c-508d-4ee3-a1b5-4b92a44770b2",
   "metadata": {},
   "source": [
    "## 3. Escape fraction of Ly$\\alpha$ photons: $f_{esc,Ly\\alpha}$\n",
    "\n",
    "Calculamos la fracción de escape de fotones Lyman alpha en función de la anchura equivalente (EW) para corroboral la relacion obtenida por Sobral et al. (2019). Nótese que la relación de Sobral sólo se cumple para 0<EW<200A.\n",
    "\n",
    "$$\n",
    "\\begin{equation}\n",
    "    f_{esc,Ly\\alpha} = 0.0048(\\pm 0.0007)EW_0 \\pm 0.05\n",
    "\\end{equation}\n",
    "$$"
   ]
  },
  {
   "cell_type": "code",
   "execution_count": 8,
   "id": "58a14eee-d54a-4ec1-a721-7e0c53b918fc",
   "metadata": {},
   "outputs": [
    {
     "data": {
      "text/html": [
       "<div><i>QTable length=66</i>\n",
       "<table id=\"table135147717293152\" class=\"table-striped table-bordered table-condensed\">\n",
       "<thead><tr><th>ID</th><th>RAdeg</th><th>DEdeg</th><th>z</th><th>Visit</th><th>Date</th><th>Exp</th><th>Num</th><th>M1500</th><th>e_M1500</th><th>r50</th><th>e_r50</th><th>beta1200</th><th>e_beta1200</th><th>f1100</th><th>e_f1100</th><th>E_f1100</th><th>EWLya</th><th>e_EWLya</th><th>logSFR</th><th>e_logSFR</th><th>distance</th><th>logL1200</th><th>e_logL1200</th><th>E_logL1200</th><th>logLLya</th><th>e_logLLya</th><th>E_logLLya</th><th>f_esc_Lya</th></tr></thead>\n",
       "<thead><tr><th></th><th>deg</th><th>deg</th><th></th><th></th><th></th><th>s</th><th></th><th>mag</th><th>mag</th><th>kpc</th><th>kpc</th><th></th><th></th><th>1e-19 W / (nm m2)</th><th>1e-19 W / (nm m2)</th><th>1e-19 W / (nm m2)</th><th>0.1 nm</th><th>0.1 nm</th><th>dex(Msun / yr)</th><th>dex(Msun / yr)</th><th>Mpc</th><th>dex(erg / (Angstrom s))</th><th>dex(erg / (Angstrom s))</th><th>dex(erg / (Angstrom s))</th><th>dex(erg / s)</th><th>dex(erg / s)</th><th>dex(erg / s)</th><th></th></tr></thead>\n",
       "<thead><tr><th>str14</th><th>float64</th><th>float64</th><th>float64</th><th>str6</th><th>str10</th><th>float64</th><th>int64</th><th>float64</th><th>float64</th><th>float64</th><th>float64</th><th>float64</th><th>float64</th><th>float64</th><th>float64</th><th>float64</th><th>float64</th><th>float64</th><th>float64</th><th>float64</th><th>float64</th><th>float64</th><th>float64</th><th>float64</th><th>float64</th><th>float64</th><th>float64</th><th>float64</th></tr></thead>\n",
       "<tr><td>J003601+003307</td><td>9.002641</td><td>0.552006</td><td>0.3479</td><td>ldxe08</td><td>2019-09-25</td><td>3980.384</td><td>13</td><td>-18.527</td><td>0.095</td><td>0.445</td><td>0.148</td><td>-2.9</td><td>0.328</td><td>6.445</td><td>0.381</td><td>0.418</td><td>93.9</td><td>9.33</td><td>0.038</td><td>0.028</td><td>1368.012</td><td>40.159</td><td>0.026</td><td>0.028</td><td>42.132</td><td>0.045</td><td>0.045</td><td>0.451</td></tr>\n",
       "<tr><td>J004743+015440</td><td>11.928487</td><td>1.911086</td><td>0.3535</td><td>ldxe42</td><td>2019-07-29</td><td>1495.904</td><td>9</td><td>-20.732</td><td>0.103</td><td>0.618</td><td>0.145</td><td>-2.38</td><td>0.298</td><td>38.611</td><td>2.507</td><td>2.787</td><td>41.526</td><td>4.427</td><td>1.363</td><td>0.031</td><td>1388.004</td><td>40.949</td><td>0.028</td><td>0.031</td><td>42.567</td><td>0.048</td><td>0.048</td><td>0.199</td></tr>\n",
       "<tr><td>J011309+000223</td><td>18.286905</td><td>0.039839</td><td>0.3062</td><td>ldxez5</td><td>2019-08-03</td><td>1363.904</td><td>13</td><td>-20.268</td><td>0.118</td><td>0.627</td><td>0.133</td><td>-1.99</td><td>0.253</td><td>36.421</td><td>3.649</td><td>2.623</td><td>31.291</td><td>3.56</td><td>1.203</td><td>0.031</td><td>1217.134</td><td>40.81</td><td>0.043</td><td>0.031</td><td>42.305</td><td>0.053</td><td>0.051</td><td>0.15</td></tr>\n",
       "<tr><td>J012217+052044</td><td>20.569425</td><td>5.345561</td><td>0.3656</td><td>ldxe05</td><td>2019-09-20</td><td>3780.32</td><td>15</td><td>-20.143</td><td>0.096</td><td>0.713</td><td>0.151</td><td>-1.609</td><td>0.274</td><td>23.193</td><td>1.595</td><td>1.427</td><td>70.616</td><td>6.793</td><td>0.915</td><td>0.027</td><td>1430.981</td><td>40.755</td><td>0.03</td><td>0.026</td><td>42.604</td><td>0.044</td><td>0.043</td><td>0.339</td></tr>\n",
       "<tr><td>J012910+145935</td><td>22.2923</td><td>14.992967</td><td>0.28</td><td>ldxe53</td><td>2019-06-11</td><td>1568.032</td><td>5</td><td>-20.439</td><td>0.089</td><td>0.636</td><td>0.127</td><td>-1.672</td><td>0.205</td><td>50.705</td><td>3.6</td><td>2.979</td><td>39.593</td><td>4.84</td><td>1.354</td><td>0.026</td><td>1120.513</td><td>40.882</td><td>0.031</td><td>0.026</td><td>42.48</td><td>0.055</td><td>0.054</td><td>0.19</td></tr>\n",
       "<tr><td>J072326+414608</td><td>110.856661</td><td>41.768828</td><td>0.2969</td><td>ldxe66</td><td>2019-09-05</td><td>3894.304</td><td>12</td><td>-19.907</td><td>0.08</td><td>0.437</td><td>0.129</td><td>-1.22</td><td>0.174</td><td>23.56</td><td>1.893</td><td>3.198</td><td>49.995</td><td>4.421</td><td>1.184</td><td>0.06</td><td>1182.999</td><td>40.596</td><td>0.035</td><td>0.059</td><td>42.295</td><td>0.041</td><td>0.046</td><td>0.24</td></tr>\n",
       "<tr><td>...</td><td>...</td><td>...</td><td>...</td><td>...</td><td>...</td><td>...</td><td>...</td><td>...</td><td>...</td><td>...</td><td>...</td><td>...</td><td>...</td><td>...</td><td>...</td><td>...</td><td>...</td><td>...</td><td>...</td><td>...</td><td>...</td><td>...</td><td>...</td><td>...</td><td>...</td><td>...</td><td>...</td><td>...</td></tr>\n",
       "<tr><td>J154050+572442</td><td>235.209141</td><td>57.411647</td><td>0.2944</td><td>ldxe25</td><td>2019-07-12</td><td>1768.032</td><td>16</td><td>-21.279</td><td>0.045</td><td>0.946</td><td>0.135</td><td>-1.433</td><td>0.117</td><td>80.832</td><td>2.415</td><td>2.382</td><td>8.113</td><td>1.368</td><td>1.873</td><td>0.013</td><td>1173.792</td><td>41.125</td><td>0.013</td><td>0.013</td><td>42.034</td><td>0.073</td><td>0.073</td><td>0.039</td></tr>\n",
       "<tr><td>J155945+403325</td><td>239.935726</td><td>40.557025</td><td>0.2268</td><td>ldxew7</td><td>2019-11-27</td><td>4051.136</td><td>13</td><td>-20.106</td><td>0.034</td><td>0.42</td><td>0.106</td><td>-1.696</td><td>0.069</td><td>60.638</td><td>3.398</td><td>2.709</td><td>43.432</td><td>3.443</td><td>1.121</td><td>0.019</td><td>919.965</td><td>40.788</td><td>0.024</td><td>0.02</td><td>42.426</td><td>0.036</td><td>0.036</td><td>0.208</td></tr>\n",
       "<tr><td>J160437+081959</td><td>241.152768</td><td>8.333086</td><td>0.3123</td><td>ldxe07</td><td>2020-01-20</td><td>5741.088</td><td>9</td><td>-19.388</td><td>0.167</td><td>0.556</td><td>0.134</td><td>0.593</td><td>0.287</td><td>11.95</td><td>0.715</td><td>0.815</td><td>67.179</td><td>5.878</td><td>1.226</td><td>0.03</td><td>1239.427</td><td>40.342</td><td>0.026</td><td>0.03</td><td>42.169</td><td>0.04</td><td>0.04</td><td>0.322</td></tr>\n",
       "<tr><td>J164607+313054</td><td>251.527244</td><td>31.514861</td><td>0.2906</td><td>ldxe45</td><td>2019-09-01</td><td>4048.736</td><td>12</td><td>-20.24</td><td>0.055</td><td>0.45</td><td>0.126</td><td>-1.605</td><td>0.125</td><td>32.559</td><td>1.124</td><td>2.702</td><td>43.94</td><td>3.775</td><td>0.984</td><td>0.036</td><td>1159.774</td><td>40.719</td><td>0.015</td><td>0.036</td><td>42.362</td><td>0.038</td><td>0.04</td><td>0.211</td></tr>\n",
       "<tr><td>J164849+495751</td><td>252.205627</td><td>49.964128</td><td>0.3819</td><td>ldxe56</td><td>2019-08-19</td><td>3568.192</td><td>15</td><td>-19.797</td><td>0.213</td><td>1.444</td><td>0.176</td><td>-1.235</td><td>0.443</td><td>11.118</td><td>0.906</td><td>1.062</td><td>97.229</td><td>9.263</td><td>1.44</td><td>0.042</td><td>1488.407</td><td>40.469</td><td>0.036</td><td>0.042</td><td>42.457</td><td>0.044</td><td>0.045</td><td>0.467</td></tr>\n",
       "<tr><td>J172010+542133</td><td>260.040925</td><td>54.3592</td><td>0.2938</td><td>ldxew5</td><td>2019-12-03</td><td>3956.672</td><td>12</td><td>-19.517</td><td>0.066</td><td>0.921</td><td>0.143</td><td>-1.941</td><td>0.173</td><td>23.314</td><td>1.297</td><td>1.911</td><td>48.745</td><td>4.595</td><td>0.673</td><td>0.036</td><td>1171.581</td><td>40.583</td><td>0.024</td><td>0.036</td><td>42.271</td><td>0.042</td><td>0.044</td><td>0.234</td></tr>\n",
       "</table></div>"
      ],
      "text/plain": [
       "<QTable length=66>\n",
       "      ID         RAdeg      DEdeg   ...  e_logLLya    E_logLLya   f_esc_Lya\n",
       "                  deg        deg    ... dex(erg / s) dex(erg / s)          \n",
       "    str14       float64    float64  ...   float64      float64     float64 \n",
       "-------------- ---------- --------- ... ------------ ------------ ---------\n",
       "J003601+003307   9.002641  0.552006 ...        0.045        0.045     0.451\n",
       "J004743+015440  11.928487  1.911086 ...        0.048        0.048     0.199\n",
       "J011309+000223  18.286905  0.039839 ...        0.053        0.051      0.15\n",
       "J012217+052044  20.569425  5.345561 ...        0.044        0.043     0.339\n",
       "J012910+145935    22.2923 14.992967 ...        0.055        0.054      0.19\n",
       "J072326+414608 110.856661 41.768828 ...        0.041        0.046      0.24\n",
       "           ...        ...       ... ...          ...          ...       ...\n",
       "J154050+572442 235.209141 57.411647 ...        0.073        0.073     0.039\n",
       "J155945+403325 239.935726 40.557025 ...        0.036        0.036     0.208\n",
       "J160437+081959 241.152768  8.333086 ...         0.04         0.04     0.322\n",
       "J164607+313054 251.527244 31.514861 ...        0.038         0.04     0.211\n",
       "J164849+495751 252.205627 49.964128 ...        0.044        0.045     0.467\n",
       "J172010+542133 260.040925   54.3592 ...        0.042        0.044     0.234"
      ]
     },
     "execution_count": 8,
     "metadata": {},
     "output_type": "execute_result"
    }
   ],
   "source": [
    "# Fracción de escape (Sobral)\n",
    "f_esc_Lya = []\n",
    "\n",
    "for i in range(len(table1_5['EWLya'])):\n",
    "    if 0 <= table1_5['EWLya'][i].value <= 200:\n",
    "        f_esc_Lya.append(0.0048*table1_5['EWLya'][i].value)\n",
    "    else:\n",
    "        f_esc_Lya.append(1)\n",
    "\n",
    "# Add new columns with f_esc_Lya\n",
    "table1_5['f_esc_Lya'] = np.round(f_esc_Lya,3)\n",
    "table1_5"
   ]
  },
  {
   "cell_type": "markdown",
   "id": "d2e9ef7b-6140-473f-8fb3-d1b34a68cfca",
   "metadata": {},
   "source": [
    "### 3.1. Errors in fraction of Ly$\\alpha$ photons\n",
    "\n",
    "Calculamos ahora los errores de la función de escape de Lyman alpha acorde a la relación de Sobral et al. (2019).\n",
    "\n",
    "$$\n",
    "\\begin{equation}\n",
    "    \\Delta f_{esc,Ly\\alpha} = 0.0048(\\pm 0.0007)\\Delta EW_0\n",
    "\\end{equation}\n",
    "$$"
   ]
  },
  {
   "cell_type": "code",
   "execution_count": 9,
   "id": "a40330c3-6efc-43d0-a6ce-4d43833f5289",
   "metadata": {},
   "outputs": [
    {
     "data": {
      "text/html": [
       "<div><i>QTable length=66</i>\n",
       "<table id=\"table135147717293152\" class=\"table-striped table-bordered table-condensed\">\n",
       "<thead><tr><th>ID</th><th>RAdeg</th><th>DEdeg</th><th>z</th><th>Visit</th><th>Date</th><th>Exp</th><th>Num</th><th>M1500</th><th>e_M1500</th><th>r50</th><th>e_r50</th><th>beta1200</th><th>e_beta1200</th><th>f1100</th><th>e_f1100</th><th>E_f1100</th><th>EWLya</th><th>e_EWLya</th><th>logSFR</th><th>e_logSFR</th><th>distance</th><th>logL1200</th><th>e_logL1200</th><th>E_logL1200</th><th>logLLya</th><th>e_logLLya</th><th>E_logLLya</th><th>f_esc_Lya</th><th>e_f_esc_Lya</th></tr></thead>\n",
       "<thead><tr><th></th><th>deg</th><th>deg</th><th></th><th></th><th></th><th>s</th><th></th><th>mag</th><th>mag</th><th>kpc</th><th>kpc</th><th></th><th></th><th>1e-19 W / (nm m2)</th><th>1e-19 W / (nm m2)</th><th>1e-19 W / (nm m2)</th><th>0.1 nm</th><th>0.1 nm</th><th>dex(Msun / yr)</th><th>dex(Msun / yr)</th><th>Mpc</th><th>dex(erg / (Angstrom s))</th><th>dex(erg / (Angstrom s))</th><th>dex(erg / (Angstrom s))</th><th>dex(erg / s)</th><th>dex(erg / s)</th><th>dex(erg / s)</th><th></th><th></th></tr></thead>\n",
       "<thead><tr><th>str14</th><th>float64</th><th>float64</th><th>float64</th><th>str6</th><th>str10</th><th>float64</th><th>int64</th><th>float64</th><th>float64</th><th>float64</th><th>float64</th><th>float64</th><th>float64</th><th>float64</th><th>float64</th><th>float64</th><th>float64</th><th>float64</th><th>float64</th><th>float64</th><th>float64</th><th>float64</th><th>float64</th><th>float64</th><th>float64</th><th>float64</th><th>float64</th><th>float64</th><th>float64</th></tr></thead>\n",
       "<tr><td>J003601+003307</td><td>9.002641</td><td>0.552006</td><td>0.3479</td><td>ldxe08</td><td>2019-09-25</td><td>3980.384</td><td>13</td><td>-18.527</td><td>0.095</td><td>0.445</td><td>0.148</td><td>-2.9</td><td>0.328</td><td>6.445</td><td>0.381</td><td>0.418</td><td>93.9</td><td>9.33</td><td>0.038</td><td>0.028</td><td>1368.012</td><td>40.159</td><td>0.026</td><td>0.028</td><td>42.132</td><td>0.045</td><td>0.045</td><td>0.451</td><td>0.045</td></tr>\n",
       "<tr><td>J004743+015440</td><td>11.928487</td><td>1.911086</td><td>0.3535</td><td>ldxe42</td><td>2019-07-29</td><td>1495.904</td><td>9</td><td>-20.732</td><td>0.103</td><td>0.618</td><td>0.145</td><td>-2.38</td><td>0.298</td><td>38.611</td><td>2.507</td><td>2.787</td><td>41.526</td><td>4.427</td><td>1.363</td><td>0.031</td><td>1388.004</td><td>40.949</td><td>0.028</td><td>0.031</td><td>42.567</td><td>0.048</td><td>0.048</td><td>0.199</td><td>0.021</td></tr>\n",
       "<tr><td>J011309+000223</td><td>18.286905</td><td>0.039839</td><td>0.3062</td><td>ldxez5</td><td>2019-08-03</td><td>1363.904</td><td>13</td><td>-20.268</td><td>0.118</td><td>0.627</td><td>0.133</td><td>-1.99</td><td>0.253</td><td>36.421</td><td>3.649</td><td>2.623</td><td>31.291</td><td>3.56</td><td>1.203</td><td>0.031</td><td>1217.134</td><td>40.81</td><td>0.043</td><td>0.031</td><td>42.305</td><td>0.053</td><td>0.051</td><td>0.15</td><td>0.017</td></tr>\n",
       "<tr><td>J012217+052044</td><td>20.569425</td><td>5.345561</td><td>0.3656</td><td>ldxe05</td><td>2019-09-20</td><td>3780.32</td><td>15</td><td>-20.143</td><td>0.096</td><td>0.713</td><td>0.151</td><td>-1.609</td><td>0.274</td><td>23.193</td><td>1.595</td><td>1.427</td><td>70.616</td><td>6.793</td><td>0.915</td><td>0.027</td><td>1430.981</td><td>40.755</td><td>0.03</td><td>0.026</td><td>42.604</td><td>0.044</td><td>0.043</td><td>0.339</td><td>0.033</td></tr>\n",
       "<tr><td>J012910+145935</td><td>22.2923</td><td>14.992967</td><td>0.28</td><td>ldxe53</td><td>2019-06-11</td><td>1568.032</td><td>5</td><td>-20.439</td><td>0.089</td><td>0.636</td><td>0.127</td><td>-1.672</td><td>0.205</td><td>50.705</td><td>3.6</td><td>2.979</td><td>39.593</td><td>4.84</td><td>1.354</td><td>0.026</td><td>1120.513</td><td>40.882</td><td>0.031</td><td>0.026</td><td>42.48</td><td>0.055</td><td>0.054</td><td>0.19</td><td>0.023</td></tr>\n",
       "<tr><td>J072326+414608</td><td>110.856661</td><td>41.768828</td><td>0.2969</td><td>ldxe66</td><td>2019-09-05</td><td>3894.304</td><td>12</td><td>-19.907</td><td>0.08</td><td>0.437</td><td>0.129</td><td>-1.22</td><td>0.174</td><td>23.56</td><td>1.893</td><td>3.198</td><td>49.995</td><td>4.421</td><td>1.184</td><td>0.06</td><td>1182.999</td><td>40.596</td><td>0.035</td><td>0.059</td><td>42.295</td><td>0.041</td><td>0.046</td><td>0.24</td><td>0.021</td></tr>\n",
       "<tr><td>...</td><td>...</td><td>...</td><td>...</td><td>...</td><td>...</td><td>...</td><td>...</td><td>...</td><td>...</td><td>...</td><td>...</td><td>...</td><td>...</td><td>...</td><td>...</td><td>...</td><td>...</td><td>...</td><td>...</td><td>...</td><td>...</td><td>...</td><td>...</td><td>...</td><td>...</td><td>...</td><td>...</td><td>...</td><td>...</td></tr>\n",
       "<tr><td>J154050+572442</td><td>235.209141</td><td>57.411647</td><td>0.2944</td><td>ldxe25</td><td>2019-07-12</td><td>1768.032</td><td>16</td><td>-21.279</td><td>0.045</td><td>0.946</td><td>0.135</td><td>-1.433</td><td>0.117</td><td>80.832</td><td>2.415</td><td>2.382</td><td>8.113</td><td>1.368</td><td>1.873</td><td>0.013</td><td>1173.792</td><td>41.125</td><td>0.013</td><td>0.013</td><td>42.034</td><td>0.073</td><td>0.073</td><td>0.039</td><td>0.007</td></tr>\n",
       "<tr><td>J155945+403325</td><td>239.935726</td><td>40.557025</td><td>0.2268</td><td>ldxew7</td><td>2019-11-27</td><td>4051.136</td><td>13</td><td>-20.106</td><td>0.034</td><td>0.42</td><td>0.106</td><td>-1.696</td><td>0.069</td><td>60.638</td><td>3.398</td><td>2.709</td><td>43.432</td><td>3.443</td><td>1.121</td><td>0.019</td><td>919.965</td><td>40.788</td><td>0.024</td><td>0.02</td><td>42.426</td><td>0.036</td><td>0.036</td><td>0.208</td><td>0.017</td></tr>\n",
       "<tr><td>J160437+081959</td><td>241.152768</td><td>8.333086</td><td>0.3123</td><td>ldxe07</td><td>2020-01-20</td><td>5741.088</td><td>9</td><td>-19.388</td><td>0.167</td><td>0.556</td><td>0.134</td><td>0.593</td><td>0.287</td><td>11.95</td><td>0.715</td><td>0.815</td><td>67.179</td><td>5.878</td><td>1.226</td><td>0.03</td><td>1239.427</td><td>40.342</td><td>0.026</td><td>0.03</td><td>42.169</td><td>0.04</td><td>0.04</td><td>0.322</td><td>0.028</td></tr>\n",
       "<tr><td>J164607+313054</td><td>251.527244</td><td>31.514861</td><td>0.2906</td><td>ldxe45</td><td>2019-09-01</td><td>4048.736</td><td>12</td><td>-20.24</td><td>0.055</td><td>0.45</td><td>0.126</td><td>-1.605</td><td>0.125</td><td>32.559</td><td>1.124</td><td>2.702</td><td>43.94</td><td>3.775</td><td>0.984</td><td>0.036</td><td>1159.774</td><td>40.719</td><td>0.015</td><td>0.036</td><td>42.362</td><td>0.038</td><td>0.04</td><td>0.211</td><td>0.018</td></tr>\n",
       "<tr><td>J164849+495751</td><td>252.205627</td><td>49.964128</td><td>0.3819</td><td>ldxe56</td><td>2019-08-19</td><td>3568.192</td><td>15</td><td>-19.797</td><td>0.213</td><td>1.444</td><td>0.176</td><td>-1.235</td><td>0.443</td><td>11.118</td><td>0.906</td><td>1.062</td><td>97.229</td><td>9.263</td><td>1.44</td><td>0.042</td><td>1488.407</td><td>40.469</td><td>0.036</td><td>0.042</td><td>42.457</td><td>0.044</td><td>0.045</td><td>0.467</td><td>0.044</td></tr>\n",
       "<tr><td>J172010+542133</td><td>260.040925</td><td>54.3592</td><td>0.2938</td><td>ldxew5</td><td>2019-12-03</td><td>3956.672</td><td>12</td><td>-19.517</td><td>0.066</td><td>0.921</td><td>0.143</td><td>-1.941</td><td>0.173</td><td>23.314</td><td>1.297</td><td>1.911</td><td>48.745</td><td>4.595</td><td>0.673</td><td>0.036</td><td>1171.581</td><td>40.583</td><td>0.024</td><td>0.036</td><td>42.271</td><td>0.042</td><td>0.044</td><td>0.234</td><td>0.022</td></tr>\n",
       "</table></div>"
      ],
      "text/plain": [
       "<QTable length=66>\n",
       "      ID         RAdeg      DEdeg   ...  E_logLLya   f_esc_Lya e_f_esc_Lya\n",
       "                  deg        deg    ... dex(erg / s)                      \n",
       "    str14       float64    float64  ...   float64     float64    float64  \n",
       "-------------- ---------- --------- ... ------------ --------- -----------\n",
       "J003601+003307   9.002641  0.552006 ...        0.045     0.451       0.045\n",
       "J004743+015440  11.928487  1.911086 ...        0.048     0.199       0.021\n",
       "J011309+000223  18.286905  0.039839 ...        0.051      0.15       0.017\n",
       "J012217+052044  20.569425  5.345561 ...        0.043     0.339       0.033\n",
       "J012910+145935    22.2923 14.992967 ...        0.054      0.19       0.023\n",
       "J072326+414608 110.856661 41.768828 ...        0.046      0.24       0.021\n",
       "           ...        ...       ... ...          ...       ...         ...\n",
       "J154050+572442 235.209141 57.411647 ...        0.073     0.039       0.007\n",
       "J155945+403325 239.935726 40.557025 ...        0.036     0.208       0.017\n",
       "J160437+081959 241.152768  8.333086 ...         0.04     0.322       0.028\n",
       "J164607+313054 251.527244 31.514861 ...         0.04     0.211       0.018\n",
       "J164849+495751 252.205627 49.964128 ...        0.045     0.467       0.044\n",
       "J172010+542133 260.040925   54.3592 ...        0.044     0.234       0.022"
      ]
     },
     "execution_count": 9,
     "metadata": {},
     "output_type": "execute_result"
    }
   ],
   "source": [
    "# Calculation of f_esc_Lya for all LAEs\n",
    "e_f_esc_Lya = []\n",
    "\n",
    "for i in range(len(table1_5['EWLya'])):\n",
    "    if 0 <= table1_5['EWLya'][i].value <= 200:\n",
    "        e_f_esc_Lya.append(0.0048*table1_5['e_EWLya'][i].value)\n",
    "    else:\n",
    "        e_f_esc_Lya.append(0)\n",
    "\n",
    "# Add new columns with e_f_esc_Lya\n",
    "table1_5['e_f_esc_Lya'] = np.round(e_f_esc_Lya,3)\n",
    "table1_5"
   ]
  },
  {
   "cell_type": "markdown",
   "id": "c29d62e6-b2ad-4216-829e-2874ca2e6c7d",
   "metadata": {},
   "source": [
    "## 4. Intrinsic Ly$\\alpha$ photons\n",
    "\n",
    "A continuación, calculamos la luminosidad de la línea de Lyman alpha a partir de la definición de función de escape:\n",
    "\n",
    "$$\n",
    "\\begin{equation}\n",
    "    f_{esc,Ly\\alpha} = \\frac{L_{Ly\\alpha,obs}}{L_{Ly\\alpha,int}}\n",
    "\\end{equation}\n",
    "$$\n",
    "\n",
    "donde \n",
    "\n",
    "$$\n",
    "\\begin{equation}\n",
    "    L_{Ly\\alpha,i} = 10^{log_{10}({L_{Ly\\alpha,i}})}\n",
    "\\end{equation}\n",
    "$$"
   ]
  },
  {
   "cell_type": "code",
   "execution_count": 10,
   "id": "6223bc02-b46b-4e73-8425-bca4dd0d4c0b",
   "metadata": {},
   "outputs": [
    {
     "data": {
      "text/html": [
       "<div><i>QTable length=66</i>\n",
       "<table id=\"table135147717293152\" class=\"table-striped table-bordered table-condensed\">\n",
       "<thead><tr><th>ID</th><th>RAdeg</th><th>DEdeg</th><th>z</th><th>Visit</th><th>Date</th><th>Exp</th><th>Num</th><th>M1500</th><th>e_M1500</th><th>r50</th><th>e_r50</th><th>beta1200</th><th>e_beta1200</th><th>f1100</th><th>e_f1100</th><th>E_f1100</th><th>EWLya</th><th>e_EWLya</th><th>logSFR</th><th>e_logSFR</th><th>distance</th><th>logL1200</th><th>e_logL1200</th><th>E_logL1200</th><th>logLLya</th><th>e_logLLya</th><th>E_logLLya</th><th>f_esc_Lya</th><th>e_f_esc_Lya</th><th>logLLya_int</th></tr></thead>\n",
       "<thead><tr><th></th><th>deg</th><th>deg</th><th></th><th></th><th></th><th>s</th><th></th><th>mag</th><th>mag</th><th>kpc</th><th>kpc</th><th></th><th></th><th>1e-19 W / (nm m2)</th><th>1e-19 W / (nm m2)</th><th>1e-19 W / (nm m2)</th><th>0.1 nm</th><th>0.1 nm</th><th>dex(Msun / yr)</th><th>dex(Msun / yr)</th><th>Mpc</th><th>dex(erg / (Angstrom s))</th><th>dex(erg / (Angstrom s))</th><th>dex(erg / (Angstrom s))</th><th>dex(erg / s)</th><th>dex(erg / s)</th><th>dex(erg / s)</th><th></th><th></th><th>dex(erg / s)</th></tr></thead>\n",
       "<thead><tr><th>str14</th><th>float64</th><th>float64</th><th>float64</th><th>str6</th><th>str10</th><th>float64</th><th>int64</th><th>float64</th><th>float64</th><th>float64</th><th>float64</th><th>float64</th><th>float64</th><th>float64</th><th>float64</th><th>float64</th><th>float64</th><th>float64</th><th>float64</th><th>float64</th><th>float64</th><th>float64</th><th>float64</th><th>float64</th><th>float64</th><th>float64</th><th>float64</th><th>float64</th><th>float64</th><th>float64</th></tr></thead>\n",
       "<tr><td>J003601+003307</td><td>9.002641</td><td>0.552006</td><td>0.3479</td><td>ldxe08</td><td>2019-09-25</td><td>3980.384</td><td>13</td><td>-18.527</td><td>0.095</td><td>0.445</td><td>0.148</td><td>-2.9</td><td>0.328</td><td>6.445</td><td>0.381</td><td>0.418</td><td>93.9</td><td>9.33</td><td>0.038</td><td>0.028</td><td>1368.012</td><td>40.159</td><td>0.026</td><td>0.028</td><td>42.132</td><td>0.045</td><td>0.045</td><td>0.451</td><td>0.045</td><td>42.478</td></tr>\n",
       "<tr><td>J004743+015440</td><td>11.928487</td><td>1.911086</td><td>0.3535</td><td>ldxe42</td><td>2019-07-29</td><td>1495.904</td><td>9</td><td>-20.732</td><td>0.103</td><td>0.618</td><td>0.145</td><td>-2.38</td><td>0.298</td><td>38.611</td><td>2.507</td><td>2.787</td><td>41.526</td><td>4.427</td><td>1.363</td><td>0.031</td><td>1388.004</td><td>40.949</td><td>0.028</td><td>0.031</td><td>42.567</td><td>0.048</td><td>0.048</td><td>0.199</td><td>0.021</td><td>43.268</td></tr>\n",
       "<tr><td>J011309+000223</td><td>18.286905</td><td>0.039839</td><td>0.3062</td><td>ldxez5</td><td>2019-08-03</td><td>1363.904</td><td>13</td><td>-20.268</td><td>0.118</td><td>0.627</td><td>0.133</td><td>-1.99</td><td>0.253</td><td>36.421</td><td>3.649</td><td>2.623</td><td>31.291</td><td>3.56</td><td>1.203</td><td>0.031</td><td>1217.134</td><td>40.81</td><td>0.043</td><td>0.031</td><td>42.305</td><td>0.053</td><td>0.051</td><td>0.15</td><td>0.017</td><td>43.129</td></tr>\n",
       "<tr><td>J012217+052044</td><td>20.569425</td><td>5.345561</td><td>0.3656</td><td>ldxe05</td><td>2019-09-20</td><td>3780.32</td><td>15</td><td>-20.143</td><td>0.096</td><td>0.713</td><td>0.151</td><td>-1.609</td><td>0.274</td><td>23.193</td><td>1.595</td><td>1.427</td><td>70.616</td><td>6.793</td><td>0.915</td><td>0.027</td><td>1430.981</td><td>40.755</td><td>0.03</td><td>0.026</td><td>42.604</td><td>0.044</td><td>0.043</td><td>0.339</td><td>0.033</td><td>43.074</td></tr>\n",
       "<tr><td>J012910+145935</td><td>22.2923</td><td>14.992967</td><td>0.28</td><td>ldxe53</td><td>2019-06-11</td><td>1568.032</td><td>5</td><td>-20.439</td><td>0.089</td><td>0.636</td><td>0.127</td><td>-1.672</td><td>0.205</td><td>50.705</td><td>3.6</td><td>2.979</td><td>39.593</td><td>4.84</td><td>1.354</td><td>0.026</td><td>1120.513</td><td>40.882</td><td>0.031</td><td>0.026</td><td>42.48</td><td>0.055</td><td>0.054</td><td>0.19</td><td>0.023</td><td>43.201</td></tr>\n",
       "<tr><td>J072326+414608</td><td>110.856661</td><td>41.768828</td><td>0.2969</td><td>ldxe66</td><td>2019-09-05</td><td>3894.304</td><td>12</td><td>-19.907</td><td>0.08</td><td>0.437</td><td>0.129</td><td>-1.22</td><td>0.174</td><td>23.56</td><td>1.893</td><td>3.198</td><td>49.995</td><td>4.421</td><td>1.184</td><td>0.06</td><td>1182.999</td><td>40.596</td><td>0.035</td><td>0.059</td><td>42.295</td><td>0.041</td><td>0.046</td><td>0.24</td><td>0.021</td><td>42.915</td></tr>\n",
       "<tr><td>...</td><td>...</td><td>...</td><td>...</td><td>...</td><td>...</td><td>...</td><td>...</td><td>...</td><td>...</td><td>...</td><td>...</td><td>...</td><td>...</td><td>...</td><td>...</td><td>...</td><td>...</td><td>...</td><td>...</td><td>...</td><td>...</td><td>...</td><td>...</td><td>...</td><td>...</td><td>...</td><td>...</td><td>...</td><td>...</td><td>...</td></tr>\n",
       "<tr><td>J154050+572442</td><td>235.209141</td><td>57.411647</td><td>0.2944</td><td>ldxe25</td><td>2019-07-12</td><td>1768.032</td><td>16</td><td>-21.279</td><td>0.045</td><td>0.946</td><td>0.135</td><td>-1.433</td><td>0.117</td><td>80.832</td><td>2.415</td><td>2.382</td><td>8.113</td><td>1.368</td><td>1.873</td><td>0.013</td><td>1173.792</td><td>41.125</td><td>0.013</td><td>0.013</td><td>42.034</td><td>0.073</td><td>0.073</td><td>0.039</td><td>0.007</td><td>43.443</td></tr>\n",
       "<tr><td>J155945+403325</td><td>239.935726</td><td>40.557025</td><td>0.2268</td><td>ldxew7</td><td>2019-11-27</td><td>4051.136</td><td>13</td><td>-20.106</td><td>0.034</td><td>0.42</td><td>0.106</td><td>-1.696</td><td>0.069</td><td>60.638</td><td>3.398</td><td>2.709</td><td>43.432</td><td>3.443</td><td>1.121</td><td>0.019</td><td>919.965</td><td>40.788</td><td>0.024</td><td>0.02</td><td>42.426</td><td>0.036</td><td>0.036</td><td>0.208</td><td>0.017</td><td>43.108</td></tr>\n",
       "<tr><td>J160437+081959</td><td>241.152768</td><td>8.333086</td><td>0.3123</td><td>ldxe07</td><td>2020-01-20</td><td>5741.088</td><td>9</td><td>-19.388</td><td>0.167</td><td>0.556</td><td>0.134</td><td>0.593</td><td>0.287</td><td>11.95</td><td>0.715</td><td>0.815</td><td>67.179</td><td>5.878</td><td>1.226</td><td>0.03</td><td>1239.427</td><td>40.342</td><td>0.026</td><td>0.03</td><td>42.169</td><td>0.04</td><td>0.04</td><td>0.322</td><td>0.028</td><td>42.661</td></tr>\n",
       "<tr><td>J164607+313054</td><td>251.527244</td><td>31.514861</td><td>0.2906</td><td>ldxe45</td><td>2019-09-01</td><td>4048.736</td><td>12</td><td>-20.24</td><td>0.055</td><td>0.45</td><td>0.126</td><td>-1.605</td><td>0.125</td><td>32.559</td><td>1.124</td><td>2.702</td><td>43.94</td><td>3.775</td><td>0.984</td><td>0.036</td><td>1159.774</td><td>40.719</td><td>0.015</td><td>0.036</td><td>42.362</td><td>0.038</td><td>0.04</td><td>0.211</td><td>0.018</td><td>43.038</td></tr>\n",
       "<tr><td>J164849+495751</td><td>252.205627</td><td>49.964128</td><td>0.3819</td><td>ldxe56</td><td>2019-08-19</td><td>3568.192</td><td>15</td><td>-19.797</td><td>0.213</td><td>1.444</td><td>0.176</td><td>-1.235</td><td>0.443</td><td>11.118</td><td>0.906</td><td>1.062</td><td>97.229</td><td>9.263</td><td>1.44</td><td>0.042</td><td>1488.407</td><td>40.469</td><td>0.036</td><td>0.042</td><td>42.457</td><td>0.044</td><td>0.045</td><td>0.467</td><td>0.044</td><td>42.788</td></tr>\n",
       "<tr><td>J172010+542133</td><td>260.040925</td><td>54.3592</td><td>0.2938</td><td>ldxew5</td><td>2019-12-03</td><td>3956.672</td><td>12</td><td>-19.517</td><td>0.066</td><td>0.921</td><td>0.143</td><td>-1.941</td><td>0.173</td><td>23.314</td><td>1.297</td><td>1.911</td><td>48.745</td><td>4.595</td><td>0.673</td><td>0.036</td><td>1171.581</td><td>40.583</td><td>0.024</td><td>0.036</td><td>42.271</td><td>0.042</td><td>0.044</td><td>0.234</td><td>0.022</td><td>42.902</td></tr>\n",
       "</table></div>"
      ],
      "text/plain": [
       "<QTable length=66>\n",
       "      ID         RAdeg      DEdeg   ... f_esc_Lya e_f_esc_Lya logLLya_int \n",
       "                  deg        deg    ...                       dex(erg / s)\n",
       "    str14       float64    float64  ...  float64    float64     float64   \n",
       "-------------- ---------- --------- ... --------- ----------- ------------\n",
       "J003601+003307   9.002641  0.552006 ...     0.451       0.045       42.478\n",
       "J004743+015440  11.928487  1.911086 ...     0.199       0.021       43.268\n",
       "J011309+000223  18.286905  0.039839 ...      0.15       0.017       43.129\n",
       "J012217+052044  20.569425  5.345561 ...     0.339       0.033       43.074\n",
       "J012910+145935    22.2923 14.992967 ...      0.19       0.023       43.201\n",
       "J072326+414608 110.856661 41.768828 ...      0.24       0.021       42.915\n",
       "           ...        ...       ... ...       ...         ...          ...\n",
       "J154050+572442 235.209141 57.411647 ...     0.039       0.007       43.443\n",
       "J155945+403325 239.935726 40.557025 ...     0.208       0.017       43.108\n",
       "J160437+081959 241.152768  8.333086 ...     0.322       0.028       42.661\n",
       "J164607+313054 251.527244 31.514861 ...     0.211       0.018       43.038\n",
       "J164849+495751 252.205627 49.964128 ...     0.467       0.044       42.788\n",
       "J172010+542133 260.040925   54.3592 ...     0.234       0.022       42.902"
      ]
     },
     "execution_count": 10,
     "metadata": {},
     "output_type": "execute_result"
    }
   ],
   "source": [
    "# Luminosidad intríseca (propia del objeto) de Lyman alpha\n",
    "table1_5['logLLya_int'] = np.round(np.log10(10**table1_5['logLLya'].value/table1_5['f_esc_Lya']),3)*u.dex(u.erg/u.s)\n",
    "table1_5"
   ]
  },
  {
   "cell_type": "markdown",
   "id": "084d9003-0d37-43d8-ab70-8e876fa58268",
   "metadata": {},
   "source": [
    "### 4.1. Erros in intrinsic Ly$\\alpha$ photons\n",
    "\n",
    "El error viene dado por:\n",
    "\n",
    "$$\n",
    "\\begin{equation}\n",
    "    \\Delta L_{Ly\\alpha,int} = \\sqrt{\\left(\\frac{\\Delta L_{Ly\\alpha,obs}}{f_{esc,Ly\\alpha}}\\right)^2 + \\left(\\frac{L_{Ly\\alpha,obs}} {f_{esc,Ly\\alpha}^2}\\Delta f_{esc,Ly\\alpha}\\right)^2}\n",
    "\\end{equation}\n",
    "$$\n",
    "\n",
    "donde\n",
    "\n",
    "$$\n",
    "\\begin{equation}\n",
    "    \\Delta L_{Ly\\alpha,obs} = \\Delta log_{10}(L_{Ly\\alpha,obs}) \\cdot L_{Ly\\alpha,int} = \\Delta log_{10}(L_{Ly\\alpha,obs}) \\cdot 10^{log_{10}({L_{Ly\\alpha,obs}})}\n",
    "\\end{equation}\n",
    "$$"
   ]
  },
  {
   "cell_type": "code",
   "execution_count": 11,
   "id": "08bae0cd-9b15-44b2-b56b-056b3ecab4af",
   "metadata": {},
   "outputs": [
    {
     "data": {
      "text/html": [
       "<div><i>QTable length=66</i>\n",
       "<table id=\"table135147717293152\" class=\"table-striped table-bordered table-condensed\">\n",
       "<thead><tr><th>ID</th><th>RAdeg</th><th>DEdeg</th><th>z</th><th>Visit</th><th>Date</th><th>Exp</th><th>Num</th><th>M1500</th><th>e_M1500</th><th>r50</th><th>e_r50</th><th>beta1200</th><th>e_beta1200</th><th>f1100</th><th>e_f1100</th><th>E_f1100</th><th>EWLya</th><th>e_EWLya</th><th>logSFR</th><th>e_logSFR</th><th>distance</th><th>logL1200</th><th>e_logL1200</th><th>E_logL1200</th><th>logLLya</th><th>e_logLLya</th><th>E_logLLya</th><th>f_esc_Lya</th><th>e_f_esc_Lya</th><th>logLLya_int</th><th>e_logLLya_int</th><th>E_logLLya_int</th></tr></thead>\n",
       "<thead><tr><th></th><th>deg</th><th>deg</th><th></th><th></th><th></th><th>s</th><th></th><th>mag</th><th>mag</th><th>kpc</th><th>kpc</th><th></th><th></th><th>1e-19 W / (nm m2)</th><th>1e-19 W / (nm m2)</th><th>1e-19 W / (nm m2)</th><th>0.1 nm</th><th>0.1 nm</th><th>dex(Msun / yr)</th><th>dex(Msun / yr)</th><th>Mpc</th><th>dex(erg / (Angstrom s))</th><th>dex(erg / (Angstrom s))</th><th>dex(erg / (Angstrom s))</th><th>dex(erg / s)</th><th>dex(erg / s)</th><th>dex(erg / s)</th><th></th><th></th><th>dex(erg / s)</th><th>dex(erg / s)</th><th>dex(erg / s)</th></tr></thead>\n",
       "<thead><tr><th>str14</th><th>float64</th><th>float64</th><th>float64</th><th>str6</th><th>str10</th><th>float64</th><th>int64</th><th>float64</th><th>float64</th><th>float64</th><th>float64</th><th>float64</th><th>float64</th><th>float64</th><th>float64</th><th>float64</th><th>float64</th><th>float64</th><th>float64</th><th>float64</th><th>float64</th><th>float64</th><th>float64</th><th>float64</th><th>float64</th><th>float64</th><th>float64</th><th>float64</th><th>float64</th><th>float64</th><th>float64</th><th>float64</th></tr></thead>\n",
       "<tr><td>J003601+003307</td><td>9.002641</td><td>0.552006</td><td>0.3479</td><td>ldxe08</td><td>2019-09-25</td><td>3980.384</td><td>13</td><td>-18.527</td><td>0.095</td><td>0.445</td><td>0.148</td><td>-2.9</td><td>0.328</td><td>6.445</td><td>0.381</td><td>0.418</td><td>93.9</td><td>9.33</td><td>0.038</td><td>0.028</td><td>1368.012</td><td>40.159</td><td>0.026</td><td>0.028</td><td>42.132</td><td>0.045</td><td>0.045</td><td>0.451</td><td>0.045</td><td>42.478</td><td>0.047</td><td>0.047</td></tr>\n",
       "<tr><td>J004743+015440</td><td>11.928487</td><td>1.911086</td><td>0.3535</td><td>ldxe42</td><td>2019-07-29</td><td>1495.904</td><td>9</td><td>-20.732</td><td>0.103</td><td>0.618</td><td>0.145</td><td>-2.38</td><td>0.298</td><td>38.611</td><td>2.507</td><td>2.787</td><td>41.526</td><td>4.427</td><td>1.363</td><td>0.031</td><td>1388.004</td><td>40.949</td><td>0.028</td><td>0.031</td><td>42.567</td><td>0.048</td><td>0.048</td><td>0.199</td><td>0.021</td><td>43.268</td><td>0.05</td><td>0.05</td></tr>\n",
       "<tr><td>J011309+000223</td><td>18.286905</td><td>0.039839</td><td>0.3062</td><td>ldxez5</td><td>2019-08-03</td><td>1363.904</td><td>13</td><td>-20.268</td><td>0.118</td><td>0.627</td><td>0.133</td><td>-1.99</td><td>0.253</td><td>36.421</td><td>3.649</td><td>2.623</td><td>31.291</td><td>3.56</td><td>1.203</td><td>0.031</td><td>1217.134</td><td>40.81</td><td>0.043</td><td>0.031</td><td>42.305</td><td>0.053</td><td>0.051</td><td>0.15</td><td>0.017</td><td>43.129</td><td>0.054</td><td>0.054</td></tr>\n",
       "<tr><td>J012217+052044</td><td>20.569425</td><td>5.345561</td><td>0.3656</td><td>ldxe05</td><td>2019-09-20</td><td>3780.32</td><td>15</td><td>-20.143</td><td>0.096</td><td>0.713</td><td>0.151</td><td>-1.609</td><td>0.274</td><td>23.193</td><td>1.595</td><td>1.427</td><td>70.616</td><td>6.793</td><td>0.915</td><td>0.027</td><td>1430.981</td><td>40.755</td><td>0.03</td><td>0.026</td><td>42.604</td><td>0.044</td><td>0.043</td><td>0.339</td><td>0.033</td><td>43.074</td><td>0.046</td><td>0.046</td></tr>\n",
       "<tr><td>J012910+145935</td><td>22.2923</td><td>14.992967</td><td>0.28</td><td>ldxe53</td><td>2019-06-11</td><td>1568.032</td><td>5</td><td>-20.439</td><td>0.089</td><td>0.636</td><td>0.127</td><td>-1.672</td><td>0.205</td><td>50.705</td><td>3.6</td><td>2.979</td><td>39.593</td><td>4.84</td><td>1.354</td><td>0.026</td><td>1120.513</td><td>40.882</td><td>0.031</td><td>0.026</td><td>42.48</td><td>0.055</td><td>0.054</td><td>0.19</td><td>0.023</td><td>43.201</td><td>0.058</td><td>0.058</td></tr>\n",
       "<tr><td>J072326+414608</td><td>110.856661</td><td>41.768828</td><td>0.2969</td><td>ldxe66</td><td>2019-09-05</td><td>3894.304</td><td>12</td><td>-19.907</td><td>0.08</td><td>0.437</td><td>0.129</td><td>-1.22</td><td>0.174</td><td>23.56</td><td>1.893</td><td>3.198</td><td>49.995</td><td>4.421</td><td>1.184</td><td>0.06</td><td>1182.999</td><td>40.596</td><td>0.035</td><td>0.059</td><td>42.295</td><td>0.041</td><td>0.046</td><td>0.24</td><td>0.021</td><td>42.915</td><td>0.042</td><td>0.043</td></tr>\n",
       "<tr><td>...</td><td>...</td><td>...</td><td>...</td><td>...</td><td>...</td><td>...</td><td>...</td><td>...</td><td>...</td><td>...</td><td>...</td><td>...</td><td>...</td><td>...</td><td>...</td><td>...</td><td>...</td><td>...</td><td>...</td><td>...</td><td>...</td><td>...</td><td>...</td><td>...</td><td>...</td><td>...</td><td>...</td><td>...</td><td>...</td><td>...</td><td>...</td><td>...</td></tr>\n",
       "<tr><td>J154050+572442</td><td>235.209141</td><td>57.411647</td><td>0.2944</td><td>ldxe25</td><td>2019-07-12</td><td>1768.032</td><td>16</td><td>-21.279</td><td>0.045</td><td>0.946</td><td>0.135</td><td>-1.433</td><td>0.117</td><td>80.832</td><td>2.415</td><td>2.382</td><td>8.113</td><td>1.368</td><td>1.873</td><td>0.013</td><td>1173.792</td><td>41.125</td><td>0.013</td><td>0.013</td><td>42.034</td><td>0.073</td><td>0.073</td><td>0.039</td><td>0.007</td><td>43.443</td><td>0.084</td><td>0.084</td></tr>\n",
       "<tr><td>J155945+403325</td><td>239.935726</td><td>40.557025</td><td>0.2268</td><td>ldxew7</td><td>2019-11-27</td><td>4051.136</td><td>13</td><td>-20.106</td><td>0.034</td><td>0.42</td><td>0.106</td><td>-1.696</td><td>0.069</td><td>60.638</td><td>3.398</td><td>2.709</td><td>43.432</td><td>3.443</td><td>1.121</td><td>0.019</td><td>919.965</td><td>40.788</td><td>0.024</td><td>0.02</td><td>42.426</td><td>0.036</td><td>0.036</td><td>0.208</td><td>0.017</td><td>43.108</td><td>0.039</td><td>0.039</td></tr>\n",
       "<tr><td>J160437+081959</td><td>241.152768</td><td>8.333086</td><td>0.3123</td><td>ldxe07</td><td>2020-01-20</td><td>5741.088</td><td>9</td><td>-19.388</td><td>0.167</td><td>0.556</td><td>0.134</td><td>0.593</td><td>0.287</td><td>11.95</td><td>0.715</td><td>0.815</td><td>67.179</td><td>5.878</td><td>1.226</td><td>0.03</td><td>1239.427</td><td>40.342</td><td>0.026</td><td>0.03</td><td>42.169</td><td>0.04</td><td>0.04</td><td>0.322</td><td>0.028</td><td>42.661</td><td>0.042</td><td>0.042</td></tr>\n",
       "<tr><td>J164607+313054</td><td>251.527244</td><td>31.514861</td><td>0.2906</td><td>ldxe45</td><td>2019-09-01</td><td>4048.736</td><td>12</td><td>-20.24</td><td>0.055</td><td>0.45</td><td>0.126</td><td>-1.605</td><td>0.125</td><td>32.559</td><td>1.124</td><td>2.702</td><td>43.94</td><td>3.775</td><td>0.984</td><td>0.036</td><td>1159.774</td><td>40.719</td><td>0.015</td><td>0.036</td><td>42.362</td><td>0.038</td><td>0.04</td><td>0.211</td><td>0.018</td><td>43.038</td><td>0.04</td><td>0.041</td></tr>\n",
       "<tr><td>J164849+495751</td><td>252.205627</td><td>49.964128</td><td>0.3819</td><td>ldxe56</td><td>2019-08-19</td><td>3568.192</td><td>15</td><td>-19.797</td><td>0.213</td><td>1.444</td><td>0.176</td><td>-1.235</td><td>0.443</td><td>11.118</td><td>0.906</td><td>1.062</td><td>97.229</td><td>9.263</td><td>1.44</td><td>0.042</td><td>1488.407</td><td>40.469</td><td>0.036</td><td>0.042</td><td>42.457</td><td>0.044</td><td>0.045</td><td>0.467</td><td>0.044</td><td>42.788</td><td>0.045</td><td>0.045</td></tr>\n",
       "<tr><td>J172010+542133</td><td>260.040925</td><td>54.3592</td><td>0.2938</td><td>ldxew5</td><td>2019-12-03</td><td>3956.672</td><td>12</td><td>-19.517</td><td>0.066</td><td>0.921</td><td>0.143</td><td>-1.941</td><td>0.173</td><td>23.314</td><td>1.297</td><td>1.911</td><td>48.745</td><td>4.595</td><td>0.673</td><td>0.036</td><td>1171.581</td><td>40.583</td><td>0.024</td><td>0.036</td><td>42.271</td><td>0.042</td><td>0.044</td><td>0.234</td><td>0.022</td><td>42.902</td><td>0.045</td><td>0.045</td></tr>\n",
       "</table></div>"
      ],
      "text/plain": [
       "<QTable length=66>\n",
       "      ID         RAdeg      DEdeg   ... e_logLLya_int E_logLLya_int\n",
       "                  deg        deg    ...  dex(erg / s)  dex(erg / s)\n",
       "    str14       float64    float64  ...    float64       float64   \n",
       "-------------- ---------- --------- ... ------------- -------------\n",
       "J003601+003307   9.002641  0.552006 ...         0.047         0.047\n",
       "J004743+015440  11.928487  1.911086 ...          0.05          0.05\n",
       "J011309+000223  18.286905  0.039839 ...         0.054         0.054\n",
       "J012217+052044  20.569425  5.345561 ...         0.046         0.046\n",
       "J012910+145935    22.2923 14.992967 ...         0.058         0.058\n",
       "J072326+414608 110.856661 41.768828 ...         0.042         0.043\n",
       "           ...        ...       ... ...           ...           ...\n",
       "J154050+572442 235.209141 57.411647 ...         0.084         0.084\n",
       "J155945+403325 239.935726 40.557025 ...         0.039         0.039\n",
       "J160437+081959 241.152768  8.333086 ...         0.042         0.042\n",
       "J164607+313054 251.527244 31.514861 ...          0.04         0.041\n",
       "J164849+495751 252.205627 49.964128 ...         0.045         0.045\n",
       "J172010+542133 260.040925   54.3592 ...         0.045         0.045"
      ]
     },
     "execution_count": 11,
     "metadata": {},
     "output_type": "execute_result"
    }
   ],
   "source": [
    "# Error en la luminsoidad Lyman alpha intríseca (propia del objeto)\n",
    "table1_5['e_logLLya_int'] = np.round(np.sqrt((table1_5['e_logLLya'].value*10**table1_5['logLLya'].value/table1_5['f_esc_Lya'])**2+(10**table1_5['logLLya'].value*table1_5['e_f_esc_Lya']/table1_5['f_esc_Lya']**2)**2)/10**table1_5['logLLya_int'].value,3)\n",
    "table1_5['e_logLLya_int'] = np.round(table1_5['e_logLLya_int'] * (1/np.log(10)),3)*u.dex(u.erg/u.s)\n",
    "                                 \n",
    "table1_5['E_logLLya_int'] = np.round(np.sqrt((table1_5['E_logLLya'].value*10**table1_5['logLLya'].value/table1_5['f_esc_Lya'])**2+(10**table1_5['logLLya'].value*table1_5['e_f_esc_Lya']/table1_5['f_esc_Lya']**2)**2)/10**table1_5['logLLya_int'].value,3)\n",
    "table1_5['E_logLLya_int'] = np.round(table1_5['E_logLLya_int'] * (1/np.log(10)),3)*u.dex(u.erg/u.s)\n",
    "\n",
    "table1_5"
   ]
  },
  {
   "cell_type": "markdown",
   "id": "17c0630c-7f9b-4b60-917c-37058c05a923",
   "metadata": {},
   "source": [
    "## 5. Number of ionizing photons $N_{ion}$\n",
    "\n",
    "Con los parámetros calculados, es el momento de calcular el número de fotones ionizantes, es decir, el número de fotones con $\\lambda < 912$ Å (límite de Lyman). Utilizamos la siguiente expresión,\n",
    "\n",
    "$$\n",
    "\\begin{equation}\n",
    "    L_{Ly\\alpha,int} = 1.19 \\cdot 10^{-11} N_{ion}\n",
    "\\end{equation}\n",
    "$$\n",
    "\n",
    "asumiendo las condiciones del caso B de Osterbrock y Telectrónica~10.000 K (la normal en regiones ionizadas). Nótese que estamos abusando de notación y $N_{ion}$ = $N_{ion, L\\alpha,int}$. "
   ]
  },
  {
   "cell_type": "code",
   "execution_count": 12,
   "id": "4b010ced-0c36-46db-bed2-8618be1e8d35",
   "metadata": {},
   "outputs": [
    {
     "data": {
      "text/html": [
       "<div><i>QTable length=66</i>\n",
       "<table id=\"table135147717293152\" class=\"table-striped table-bordered table-condensed\">\n",
       "<thead><tr><th>ID</th><th>RAdeg</th><th>DEdeg</th><th>z</th><th>Visit</th><th>Date</th><th>Exp</th><th>Num</th><th>M1500</th><th>e_M1500</th><th>r50</th><th>e_r50</th><th>beta1200</th><th>e_beta1200</th><th>f1100</th><th>e_f1100</th><th>E_f1100</th><th>EWLya</th><th>e_EWLya</th><th>logSFR</th><th>e_logSFR</th><th>distance</th><th>logL1200</th><th>e_logL1200</th><th>E_logL1200</th><th>logLLya</th><th>e_logLLya</th><th>E_logLLya</th><th>f_esc_Lya</th><th>e_f_esc_Lya</th><th>logLLya_int</th><th>e_logLLya_int</th><th>E_logLLya_int</th><th>logN_ion</th></tr></thead>\n",
       "<thead><tr><th></th><th>deg</th><th>deg</th><th></th><th></th><th></th><th>s</th><th></th><th>mag</th><th>mag</th><th>kpc</th><th>kpc</th><th></th><th></th><th>1e-19 W / (nm m2)</th><th>1e-19 W / (nm m2)</th><th>1e-19 W / (nm m2)</th><th>0.1 nm</th><th>0.1 nm</th><th>dex(Msun / yr)</th><th>dex(Msun / yr)</th><th>Mpc</th><th>dex(erg / (Angstrom s))</th><th>dex(erg / (Angstrom s))</th><th>dex(erg / (Angstrom s))</th><th>dex(erg / s)</th><th>dex(erg / s)</th><th>dex(erg / s)</th><th></th><th></th><th>dex(erg / s)</th><th>dex(erg / s)</th><th>dex(erg / s)</th><th>dex(1 / s)</th></tr></thead>\n",
       "<thead><tr><th>str14</th><th>float64</th><th>float64</th><th>float64</th><th>str6</th><th>str10</th><th>float64</th><th>int64</th><th>float64</th><th>float64</th><th>float64</th><th>float64</th><th>float64</th><th>float64</th><th>float64</th><th>float64</th><th>float64</th><th>float64</th><th>float64</th><th>float64</th><th>float64</th><th>float64</th><th>float64</th><th>float64</th><th>float64</th><th>float64</th><th>float64</th><th>float64</th><th>float64</th><th>float64</th><th>float64</th><th>float64</th><th>float64</th><th>float64</th></tr></thead>\n",
       "<tr><td>J003601+003307</td><td>9.002641</td><td>0.552006</td><td>0.3479</td><td>ldxe08</td><td>2019-09-25</td><td>3980.384</td><td>13</td><td>-18.527</td><td>0.095</td><td>0.445</td><td>0.148</td><td>-2.9</td><td>0.328</td><td>6.445</td><td>0.381</td><td>0.418</td><td>93.9</td><td>9.33</td><td>0.038</td><td>0.028</td><td>1368.012</td><td>40.159</td><td>0.026</td><td>0.028</td><td>42.132</td><td>0.045</td><td>0.045</td><td>0.451</td><td>0.045</td><td>42.478</td><td>0.047</td><td>0.047</td><td>53.402</td></tr>\n",
       "<tr><td>J004743+015440</td><td>11.928487</td><td>1.911086</td><td>0.3535</td><td>ldxe42</td><td>2019-07-29</td><td>1495.904</td><td>9</td><td>-20.732</td><td>0.103</td><td>0.618</td><td>0.145</td><td>-2.38</td><td>0.298</td><td>38.611</td><td>2.507</td><td>2.787</td><td>41.526</td><td>4.427</td><td>1.363</td><td>0.031</td><td>1388.004</td><td>40.949</td><td>0.028</td><td>0.031</td><td>42.567</td><td>0.048</td><td>0.048</td><td>0.199</td><td>0.021</td><td>43.268</td><td>0.05</td><td>0.05</td><td>54.192</td></tr>\n",
       "<tr><td>J011309+000223</td><td>18.286905</td><td>0.039839</td><td>0.3062</td><td>ldxez5</td><td>2019-08-03</td><td>1363.904</td><td>13</td><td>-20.268</td><td>0.118</td><td>0.627</td><td>0.133</td><td>-1.99</td><td>0.253</td><td>36.421</td><td>3.649</td><td>2.623</td><td>31.291</td><td>3.56</td><td>1.203</td><td>0.031</td><td>1217.134</td><td>40.81</td><td>0.043</td><td>0.031</td><td>42.305</td><td>0.053</td><td>0.051</td><td>0.15</td><td>0.017</td><td>43.129</td><td>0.054</td><td>0.054</td><td>54.053</td></tr>\n",
       "<tr><td>J012217+052044</td><td>20.569425</td><td>5.345561</td><td>0.3656</td><td>ldxe05</td><td>2019-09-20</td><td>3780.32</td><td>15</td><td>-20.143</td><td>0.096</td><td>0.713</td><td>0.151</td><td>-1.609</td><td>0.274</td><td>23.193</td><td>1.595</td><td>1.427</td><td>70.616</td><td>6.793</td><td>0.915</td><td>0.027</td><td>1430.981</td><td>40.755</td><td>0.03</td><td>0.026</td><td>42.604</td><td>0.044</td><td>0.043</td><td>0.339</td><td>0.033</td><td>43.074</td><td>0.046</td><td>0.046</td><td>53.998</td></tr>\n",
       "<tr><td>J012910+145935</td><td>22.2923</td><td>14.992967</td><td>0.28</td><td>ldxe53</td><td>2019-06-11</td><td>1568.032</td><td>5</td><td>-20.439</td><td>0.089</td><td>0.636</td><td>0.127</td><td>-1.672</td><td>0.205</td><td>50.705</td><td>3.6</td><td>2.979</td><td>39.593</td><td>4.84</td><td>1.354</td><td>0.026</td><td>1120.513</td><td>40.882</td><td>0.031</td><td>0.026</td><td>42.48</td><td>0.055</td><td>0.054</td><td>0.19</td><td>0.023</td><td>43.201</td><td>0.058</td><td>0.058</td><td>54.125</td></tr>\n",
       "<tr><td>J072326+414608</td><td>110.856661</td><td>41.768828</td><td>0.2969</td><td>ldxe66</td><td>2019-09-05</td><td>3894.304</td><td>12</td><td>-19.907</td><td>0.08</td><td>0.437</td><td>0.129</td><td>-1.22</td><td>0.174</td><td>23.56</td><td>1.893</td><td>3.198</td><td>49.995</td><td>4.421</td><td>1.184</td><td>0.06</td><td>1182.999</td><td>40.596</td><td>0.035</td><td>0.059</td><td>42.295</td><td>0.041</td><td>0.046</td><td>0.24</td><td>0.021</td><td>42.915</td><td>0.042</td><td>0.043</td><td>53.839</td></tr>\n",
       "<tr><td>...</td><td>...</td><td>...</td><td>...</td><td>...</td><td>...</td><td>...</td><td>...</td><td>...</td><td>...</td><td>...</td><td>...</td><td>...</td><td>...</td><td>...</td><td>...</td><td>...</td><td>...</td><td>...</td><td>...</td><td>...</td><td>...</td><td>...</td><td>...</td><td>...</td><td>...</td><td>...</td><td>...</td><td>...</td><td>...</td><td>...</td><td>...</td><td>...</td><td>...</td></tr>\n",
       "<tr><td>J154050+572442</td><td>235.209141</td><td>57.411647</td><td>0.2944</td><td>ldxe25</td><td>2019-07-12</td><td>1768.032</td><td>16</td><td>-21.279</td><td>0.045</td><td>0.946</td><td>0.135</td><td>-1.433</td><td>0.117</td><td>80.832</td><td>2.415</td><td>2.382</td><td>8.113</td><td>1.368</td><td>1.873</td><td>0.013</td><td>1173.792</td><td>41.125</td><td>0.013</td><td>0.013</td><td>42.034</td><td>0.073</td><td>0.073</td><td>0.039</td><td>0.007</td><td>43.443</td><td>0.084</td><td>0.084</td><td>54.367</td></tr>\n",
       "<tr><td>J155945+403325</td><td>239.935726</td><td>40.557025</td><td>0.2268</td><td>ldxew7</td><td>2019-11-27</td><td>4051.136</td><td>13</td><td>-20.106</td><td>0.034</td><td>0.42</td><td>0.106</td><td>-1.696</td><td>0.069</td><td>60.638</td><td>3.398</td><td>2.709</td><td>43.432</td><td>3.443</td><td>1.121</td><td>0.019</td><td>919.965</td><td>40.788</td><td>0.024</td><td>0.02</td><td>42.426</td><td>0.036</td><td>0.036</td><td>0.208</td><td>0.017</td><td>43.108</td><td>0.039</td><td>0.039</td><td>54.032</td></tr>\n",
       "<tr><td>J160437+081959</td><td>241.152768</td><td>8.333086</td><td>0.3123</td><td>ldxe07</td><td>2020-01-20</td><td>5741.088</td><td>9</td><td>-19.388</td><td>0.167</td><td>0.556</td><td>0.134</td><td>0.593</td><td>0.287</td><td>11.95</td><td>0.715</td><td>0.815</td><td>67.179</td><td>5.878</td><td>1.226</td><td>0.03</td><td>1239.427</td><td>40.342</td><td>0.026</td><td>0.03</td><td>42.169</td><td>0.04</td><td>0.04</td><td>0.322</td><td>0.028</td><td>42.661</td><td>0.042</td><td>0.042</td><td>53.585</td></tr>\n",
       "<tr><td>J164607+313054</td><td>251.527244</td><td>31.514861</td><td>0.2906</td><td>ldxe45</td><td>2019-09-01</td><td>4048.736</td><td>12</td><td>-20.24</td><td>0.055</td><td>0.45</td><td>0.126</td><td>-1.605</td><td>0.125</td><td>32.559</td><td>1.124</td><td>2.702</td><td>43.94</td><td>3.775</td><td>0.984</td><td>0.036</td><td>1159.774</td><td>40.719</td><td>0.015</td><td>0.036</td><td>42.362</td><td>0.038</td><td>0.04</td><td>0.211</td><td>0.018</td><td>43.038</td><td>0.04</td><td>0.041</td><td>53.962</td></tr>\n",
       "<tr><td>J164849+495751</td><td>252.205627</td><td>49.964128</td><td>0.3819</td><td>ldxe56</td><td>2019-08-19</td><td>3568.192</td><td>15</td><td>-19.797</td><td>0.213</td><td>1.444</td><td>0.176</td><td>-1.235</td><td>0.443</td><td>11.118</td><td>0.906</td><td>1.062</td><td>97.229</td><td>9.263</td><td>1.44</td><td>0.042</td><td>1488.407</td><td>40.469</td><td>0.036</td><td>0.042</td><td>42.457</td><td>0.044</td><td>0.045</td><td>0.467</td><td>0.044</td><td>42.788</td><td>0.045</td><td>0.045</td><td>53.712</td></tr>\n",
       "<tr><td>J172010+542133</td><td>260.040925</td><td>54.3592</td><td>0.2938</td><td>ldxew5</td><td>2019-12-03</td><td>3956.672</td><td>12</td><td>-19.517</td><td>0.066</td><td>0.921</td><td>0.143</td><td>-1.941</td><td>0.173</td><td>23.314</td><td>1.297</td><td>1.911</td><td>48.745</td><td>4.595</td><td>0.673</td><td>0.036</td><td>1171.581</td><td>40.583</td><td>0.024</td><td>0.036</td><td>42.271</td><td>0.042</td><td>0.044</td><td>0.234</td><td>0.022</td><td>42.902</td><td>0.045</td><td>0.045</td><td>53.826</td></tr>\n",
       "</table></div>"
      ],
      "text/plain": [
       "<QTable length=66>\n",
       "      ID         RAdeg      DEdeg   ... e_logLLya_int E_logLLya_int  logN_ion \n",
       "                  deg        deg    ...  dex(erg / s)  dex(erg / s) dex(1 / s)\n",
       "    str14       float64    float64  ...    float64       float64     float64  \n",
       "-------------- ---------- --------- ... ------------- ------------- ----------\n",
       "J003601+003307   9.002641  0.552006 ...         0.047         0.047     53.402\n",
       "J004743+015440  11.928487  1.911086 ...          0.05          0.05     54.192\n",
       "J011309+000223  18.286905  0.039839 ...         0.054         0.054     54.053\n",
       "J012217+052044  20.569425  5.345561 ...         0.046         0.046     53.998\n",
       "J012910+145935    22.2923 14.992967 ...         0.058         0.058     54.125\n",
       "J072326+414608 110.856661 41.768828 ...         0.042         0.043     53.839\n",
       "           ...        ...       ... ...           ...           ...        ...\n",
       "J154050+572442 235.209141 57.411647 ...         0.084         0.084     54.367\n",
       "J155945+403325 239.935726 40.557025 ...         0.039         0.039     54.032\n",
       "J160437+081959 241.152768  8.333086 ...         0.042         0.042     53.585\n",
       "J164607+313054 251.527244 31.514861 ...          0.04         0.041     53.962\n",
       "J164849+495751 252.205627 49.964128 ...         0.045         0.045     53.712\n",
       "J172010+542133 260.040925   54.3592 ...         0.045         0.045     53.826"
      ]
     },
     "execution_count": 12,
     "metadata": {},
     "output_type": "execute_result"
    }
   ],
   "source": [
    "# Numero de fotones ionizantes\n",
    "table1_5['logN_ion'] = np.round(np.log10(10**table1_5['logLLya_int'].value / (1.19*10**(-11))),3)*u.dex(1/u.s)\n",
    "table1_5"
   ]
  },
  {
   "cell_type": "markdown",
   "id": "d1e2cc88-92e7-4923-8583-3af17369f15d",
   "metadata": {},
   "source": [
    "### 5.1 Errors in number of ionizing photons $N_{ion}$\n",
    "\n",
    "Calculamos los errores en el número de fotones ionizantes como\n",
    "\n",
    "$$\n",
    "\\begin{equation}\n",
    "    \\Delta N_{ion} = \\frac{\\Delta L_{Ly\\alpha,int}}{1.19 \\cdot 10^{-11}}\n",
    "\\end{equation}\n",
    "$$\n"
   ]
  },
  {
   "cell_type": "code",
   "execution_count": 13,
   "id": "b69b3f55-6a38-4341-880b-4e208bb5cfa6",
   "metadata": {},
   "outputs": [
    {
     "data": {
      "text/html": [
       "<div><i>QTable length=66</i>\n",
       "<table id=\"table135147717293152\" class=\"table-striped table-bordered table-condensed\">\n",
       "<thead><tr><th>ID</th><th>RAdeg</th><th>DEdeg</th><th>z</th><th>Visit</th><th>Date</th><th>Exp</th><th>Num</th><th>M1500</th><th>e_M1500</th><th>r50</th><th>e_r50</th><th>beta1200</th><th>e_beta1200</th><th>f1100</th><th>e_f1100</th><th>E_f1100</th><th>EWLya</th><th>e_EWLya</th><th>logSFR</th><th>e_logSFR</th><th>distance</th><th>logL1200</th><th>e_logL1200</th><th>E_logL1200</th><th>logLLya</th><th>e_logLLya</th><th>E_logLLya</th><th>f_esc_Lya</th><th>e_f_esc_Lya</th><th>logLLya_int</th><th>e_logLLya_int</th><th>E_logLLya_int</th><th>logN_ion</th><th>e_logN_ion</th><th>E_logN_ion</th></tr></thead>\n",
       "<thead><tr><th></th><th>deg</th><th>deg</th><th></th><th></th><th></th><th>s</th><th></th><th>mag</th><th>mag</th><th>kpc</th><th>kpc</th><th></th><th></th><th>1e-19 W / (nm m2)</th><th>1e-19 W / (nm m2)</th><th>1e-19 W / (nm m2)</th><th>0.1 nm</th><th>0.1 nm</th><th>dex(Msun / yr)</th><th>dex(Msun / yr)</th><th>Mpc</th><th>dex(erg / (Angstrom s))</th><th>dex(erg / (Angstrom s))</th><th>dex(erg / (Angstrom s))</th><th>dex(erg / s)</th><th>dex(erg / s)</th><th>dex(erg / s)</th><th></th><th></th><th>dex(erg / s)</th><th>dex(erg / s)</th><th>dex(erg / s)</th><th>dex(1 / s)</th><th>dex(1 / s)</th><th>dex(1 / s)</th></tr></thead>\n",
       "<thead><tr><th>str14</th><th>float64</th><th>float64</th><th>float64</th><th>str6</th><th>str10</th><th>float64</th><th>int64</th><th>float64</th><th>float64</th><th>float64</th><th>float64</th><th>float64</th><th>float64</th><th>float64</th><th>float64</th><th>float64</th><th>float64</th><th>float64</th><th>float64</th><th>float64</th><th>float64</th><th>float64</th><th>float64</th><th>float64</th><th>float64</th><th>float64</th><th>float64</th><th>float64</th><th>float64</th><th>float64</th><th>float64</th><th>float64</th><th>float64</th><th>float64</th><th>float64</th></tr></thead>\n",
       "<tr><td>J003601+003307</td><td>9.002641</td><td>0.552006</td><td>0.3479</td><td>ldxe08</td><td>2019-09-25</td><td>3980.384</td><td>13</td><td>-18.527</td><td>0.095</td><td>0.445</td><td>0.148</td><td>-2.9</td><td>0.328</td><td>6.445</td><td>0.381</td><td>0.418</td><td>93.9</td><td>9.33</td><td>0.038</td><td>0.028</td><td>1368.012</td><td>40.159</td><td>0.026</td><td>0.028</td><td>42.132</td><td>0.045</td><td>0.045</td><td>0.451</td><td>0.045</td><td>42.478</td><td>0.047</td><td>0.047</td><td>53.402</td><td>0.02</td><td>0.02</td></tr>\n",
       "<tr><td>J004743+015440</td><td>11.928487</td><td>1.911086</td><td>0.3535</td><td>ldxe42</td><td>2019-07-29</td><td>1495.904</td><td>9</td><td>-20.732</td><td>0.103</td><td>0.618</td><td>0.145</td><td>-2.38</td><td>0.298</td><td>38.611</td><td>2.507</td><td>2.787</td><td>41.526</td><td>4.427</td><td>1.363</td><td>0.031</td><td>1388.004</td><td>40.949</td><td>0.028</td><td>0.031</td><td>42.567</td><td>0.048</td><td>0.048</td><td>0.199</td><td>0.021</td><td>43.268</td><td>0.05</td><td>0.05</td><td>54.192</td><td>0.022</td><td>0.022</td></tr>\n",
       "<tr><td>J011309+000223</td><td>18.286905</td><td>0.039839</td><td>0.3062</td><td>ldxez5</td><td>2019-08-03</td><td>1363.904</td><td>13</td><td>-20.268</td><td>0.118</td><td>0.627</td><td>0.133</td><td>-1.99</td><td>0.253</td><td>36.421</td><td>3.649</td><td>2.623</td><td>31.291</td><td>3.56</td><td>1.203</td><td>0.031</td><td>1217.134</td><td>40.81</td><td>0.043</td><td>0.031</td><td>42.305</td><td>0.053</td><td>0.051</td><td>0.15</td><td>0.017</td><td>43.129</td><td>0.054</td><td>0.054</td><td>54.053</td><td>0.023</td><td>0.023</td></tr>\n",
       "<tr><td>J012217+052044</td><td>20.569425</td><td>5.345561</td><td>0.3656</td><td>ldxe05</td><td>2019-09-20</td><td>3780.32</td><td>15</td><td>-20.143</td><td>0.096</td><td>0.713</td><td>0.151</td><td>-1.609</td><td>0.274</td><td>23.193</td><td>1.595</td><td>1.427</td><td>70.616</td><td>6.793</td><td>0.915</td><td>0.027</td><td>1430.981</td><td>40.755</td><td>0.03</td><td>0.026</td><td>42.604</td><td>0.044</td><td>0.043</td><td>0.339</td><td>0.033</td><td>43.074</td><td>0.046</td><td>0.046</td><td>53.998</td><td>0.02</td><td>0.02</td></tr>\n",
       "<tr><td>J012910+145935</td><td>22.2923</td><td>14.992967</td><td>0.28</td><td>ldxe53</td><td>2019-06-11</td><td>1568.032</td><td>5</td><td>-20.439</td><td>0.089</td><td>0.636</td><td>0.127</td><td>-1.672</td><td>0.205</td><td>50.705</td><td>3.6</td><td>2.979</td><td>39.593</td><td>4.84</td><td>1.354</td><td>0.026</td><td>1120.513</td><td>40.882</td><td>0.031</td><td>0.026</td><td>42.48</td><td>0.055</td><td>0.054</td><td>0.19</td><td>0.023</td><td>43.201</td><td>0.058</td><td>0.058</td><td>54.125</td><td>0.025</td><td>0.025</td></tr>\n",
       "<tr><td>J072326+414608</td><td>110.856661</td><td>41.768828</td><td>0.2969</td><td>ldxe66</td><td>2019-09-05</td><td>3894.304</td><td>12</td><td>-19.907</td><td>0.08</td><td>0.437</td><td>0.129</td><td>-1.22</td><td>0.174</td><td>23.56</td><td>1.893</td><td>3.198</td><td>49.995</td><td>4.421</td><td>1.184</td><td>0.06</td><td>1182.999</td><td>40.596</td><td>0.035</td><td>0.059</td><td>42.295</td><td>0.041</td><td>0.046</td><td>0.24</td><td>0.021</td><td>42.915</td><td>0.042</td><td>0.043</td><td>53.839</td><td>0.018</td><td>0.019</td></tr>\n",
       "<tr><td>...</td><td>...</td><td>...</td><td>...</td><td>...</td><td>...</td><td>...</td><td>...</td><td>...</td><td>...</td><td>...</td><td>...</td><td>...</td><td>...</td><td>...</td><td>...</td><td>...</td><td>...</td><td>...</td><td>...</td><td>...</td><td>...</td><td>...</td><td>...</td><td>...</td><td>...</td><td>...</td><td>...</td><td>...</td><td>...</td><td>...</td><td>...</td><td>...</td><td>...</td><td>...</td><td>...</td></tr>\n",
       "<tr><td>J154050+572442</td><td>235.209141</td><td>57.411647</td><td>0.2944</td><td>ldxe25</td><td>2019-07-12</td><td>1768.032</td><td>16</td><td>-21.279</td><td>0.045</td><td>0.946</td><td>0.135</td><td>-1.433</td><td>0.117</td><td>80.832</td><td>2.415</td><td>2.382</td><td>8.113</td><td>1.368</td><td>1.873</td><td>0.013</td><td>1173.792</td><td>41.125</td><td>0.013</td><td>0.013</td><td>42.034</td><td>0.073</td><td>0.073</td><td>0.039</td><td>0.007</td><td>43.443</td><td>0.084</td><td>0.084</td><td>54.367</td><td>0.036</td><td>0.036</td></tr>\n",
       "<tr><td>J155945+403325</td><td>239.935726</td><td>40.557025</td><td>0.2268</td><td>ldxew7</td><td>2019-11-27</td><td>4051.136</td><td>13</td><td>-20.106</td><td>0.034</td><td>0.42</td><td>0.106</td><td>-1.696</td><td>0.069</td><td>60.638</td><td>3.398</td><td>2.709</td><td>43.432</td><td>3.443</td><td>1.121</td><td>0.019</td><td>919.965</td><td>40.788</td><td>0.024</td><td>0.02</td><td>42.426</td><td>0.036</td><td>0.036</td><td>0.208</td><td>0.017</td><td>43.108</td><td>0.039</td><td>0.039</td><td>54.032</td><td>0.017</td><td>0.017</td></tr>\n",
       "<tr><td>J160437+081959</td><td>241.152768</td><td>8.333086</td><td>0.3123</td><td>ldxe07</td><td>2020-01-20</td><td>5741.088</td><td>9</td><td>-19.388</td><td>0.167</td><td>0.556</td><td>0.134</td><td>0.593</td><td>0.287</td><td>11.95</td><td>0.715</td><td>0.815</td><td>67.179</td><td>5.878</td><td>1.226</td><td>0.03</td><td>1239.427</td><td>40.342</td><td>0.026</td><td>0.03</td><td>42.169</td><td>0.04</td><td>0.04</td><td>0.322</td><td>0.028</td><td>42.661</td><td>0.042</td><td>0.042</td><td>53.585</td><td>0.018</td><td>0.018</td></tr>\n",
       "<tr><td>J164607+313054</td><td>251.527244</td><td>31.514861</td><td>0.2906</td><td>ldxe45</td><td>2019-09-01</td><td>4048.736</td><td>12</td><td>-20.24</td><td>0.055</td><td>0.45</td><td>0.126</td><td>-1.605</td><td>0.125</td><td>32.559</td><td>1.124</td><td>2.702</td><td>43.94</td><td>3.775</td><td>0.984</td><td>0.036</td><td>1159.774</td><td>40.719</td><td>0.015</td><td>0.036</td><td>42.362</td><td>0.038</td><td>0.04</td><td>0.211</td><td>0.018</td><td>43.038</td><td>0.04</td><td>0.041</td><td>53.962</td><td>0.017</td><td>0.018</td></tr>\n",
       "<tr><td>J164849+495751</td><td>252.205627</td><td>49.964128</td><td>0.3819</td><td>ldxe56</td><td>2019-08-19</td><td>3568.192</td><td>15</td><td>-19.797</td><td>0.213</td><td>1.444</td><td>0.176</td><td>-1.235</td><td>0.443</td><td>11.118</td><td>0.906</td><td>1.062</td><td>97.229</td><td>9.263</td><td>1.44</td><td>0.042</td><td>1488.407</td><td>40.469</td><td>0.036</td><td>0.042</td><td>42.457</td><td>0.044</td><td>0.045</td><td>0.467</td><td>0.044</td><td>42.788</td><td>0.045</td><td>0.045</td><td>53.712</td><td>0.02</td><td>0.02</td></tr>\n",
       "<tr><td>J172010+542133</td><td>260.040925</td><td>54.3592</td><td>0.2938</td><td>ldxew5</td><td>2019-12-03</td><td>3956.672</td><td>12</td><td>-19.517</td><td>0.066</td><td>0.921</td><td>0.143</td><td>-1.941</td><td>0.173</td><td>23.314</td><td>1.297</td><td>1.911</td><td>48.745</td><td>4.595</td><td>0.673</td><td>0.036</td><td>1171.581</td><td>40.583</td><td>0.024</td><td>0.036</td><td>42.271</td><td>0.042</td><td>0.044</td><td>0.234</td><td>0.022</td><td>42.902</td><td>0.045</td><td>0.045</td><td>53.826</td><td>0.02</td><td>0.02</td></tr>\n",
       "</table></div>"
      ],
      "text/plain": [
       "<QTable length=66>\n",
       "      ID         RAdeg      DEdeg   ...  logN_ion  e_logN_ion E_logN_ion\n",
       "                  deg        deg    ... dex(1 / s) dex(1 / s) dex(1 / s)\n",
       "    str14       float64    float64  ...  float64    float64    float64  \n",
       "-------------- ---------- --------- ... ---------- ---------- ----------\n",
       "J003601+003307   9.002641  0.552006 ...     53.402       0.02       0.02\n",
       "J004743+015440  11.928487  1.911086 ...     54.192      0.022      0.022\n",
       "J011309+000223  18.286905  0.039839 ...     54.053      0.023      0.023\n",
       "J012217+052044  20.569425  5.345561 ...     53.998       0.02       0.02\n",
       "J012910+145935    22.2923 14.992967 ...     54.125      0.025      0.025\n",
       "J072326+414608 110.856661 41.768828 ...     53.839      0.018      0.019\n",
       "           ...        ...       ... ...        ...        ...        ...\n",
       "J154050+572442 235.209141 57.411647 ...     54.367      0.036      0.036\n",
       "J155945+403325 239.935726 40.557025 ...     54.032      0.017      0.017\n",
       "J160437+081959 241.152768  8.333086 ...     53.585      0.018      0.018\n",
       "J164607+313054 251.527244 31.514861 ...     53.962      0.017      0.018\n",
       "J164849+495751 252.205627 49.964128 ...     53.712       0.02       0.02\n",
       "J172010+542133 260.040925   54.3592 ...     53.826       0.02       0.02"
      ]
     },
     "execution_count": 13,
     "metadata": {},
     "output_type": "execute_result"
    }
   ],
   "source": [
    "# Error en el número de fotones ionizantes\n",
    "table1_5['e_logN_ion'] = np.round((table1_5['e_logLLya_int'].value*10**table1_5['logLLya_int'].value / (1.19*10**(-11)))/(10**table1_5['logN_ion'].value),3)\n",
    "table1_5['e_logN_ion'] = np.round(table1_5['e_logN_ion'] * (1/np.log(10)),3)*u.dex(1/u.s)\n",
    "\n",
    "table1_5['E_logN_ion'] = np.round((table1_5['E_logLLya_int'].value*10**table1_5['logLLya_int'].value / (1.19*10**(-11)))/(10**table1_5['logN_ion'].value),3)\n",
    "table1_5['E_logN_ion'] = np.round(table1_5['E_logN_ion'] * (1/np.log(10)),3)*u.dex(1/u.s)\n",
    "\n",
    "table1_5"
   ]
  },
  {
   "cell_type": "markdown",
   "id": "5764c21a-8bcf-4ae8-8504-8563527e6a9c",
   "metadata": {},
   "source": [
    "## Appendix A: Saving data\n",
    "\n",
    "Si se ejecuta el siguiente código, guardaremos y sobreescribiremo los datos. Nótese que lo guardamos en formato ecsv (formato profesional para astrofísica)"
   ]
  },
  {
   "cell_type": "code",
   "execution_count": 14,
   "id": "9124b87d-cc5e-43df-ab02-26ec32953e27",
   "metadata": {},
   "outputs": [],
   "source": [
    "ascii.write(table1_5, 'table1_5_Flury22_v1.dat', format='ecsv', overwrite=True)  \n"
   ]
  }
 ],
 "metadata": {
  "kernelspec": {
   "display_name": "Python 3 (ipykernel)",
   "language": "python",
   "name": "python3"
  },
  "language_info": {
   "codemirror_mode": {
    "name": "ipython",
    "version": 3
   },
   "file_extension": ".py",
   "mimetype": "text/x-python",
   "name": "python",
   "nbconvert_exporter": "python",
   "pygments_lexer": "ipython3",
   "version": "3.10.12"
  }
 },
 "nbformat": 4,
 "nbformat_minor": 5
}
